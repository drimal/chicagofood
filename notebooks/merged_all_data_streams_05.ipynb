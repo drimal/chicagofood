{
 "cells": [
  {
   "cell_type": "code",
   "execution_count": 63,
   "metadata": {},
   "outputs": [],
   "source": [
    "#important libraries\n",
    "%matplotlib inline\n",
    "import sys\n",
    "import os\n",
    "import re\n",
    "import time\n",
    "import json\n",
    "import warnings\n",
    "warnings.filterwarnings('ignore')\n",
    "import numpy as np\n",
    "import matplotlib.pyplot as plt\n",
    "import pandas as pd\n",
    "import seaborn as sns\n",
    "sns.set(rc={'figure.figsize':(12, 6),\"font.size\":20,\"axes.titlesize\":20,\"axes.labelsize\":20},style=\"darkgrid\")\n",
    "import matplotlib.dates as mdates\n",
    "from datetime import datetime, date, time, timedelta\n",
    "from geopy import distance\n",
    "import geopy.distance\n",
    "from sklearn.ensemble import GradientBoostingClassifier  #GBM algorithm\n",
    "from sklearn.tree import DecisionTreeClassifier\n",
    "import xgboost as xgb\n",
    "from sklearn.model_selection import RandomizedSearchCV\n",
    "from sklearn.ensemble import RandomForestClassifier\n",
    "from sklearn.linear_model import LogisticRegression\n",
    "from sklearn.linear_model import SGDClassifier\n",
    "from sklearn.model_selection import train_test_split\n",
    "from sklearn.model_selection import GridSearchCV\n",
    "from sklearn import metrics\n",
    "from sklearn.model_selection import cross_val_score\n",
    "from sklearn.preprocessing import LabelEncoder"
   ]
  },
  {
   "cell_type": "code",
   "execution_count": 64,
   "metadata": {},
   "outputs": [],
   "source": [
    "food_data = pd.read_csv('../data/processed/food_data_processed.csv',\n",
    "                        parse_dates=['inspection_date'])\n",
    "weather_data = pd.read_csv('../data/processed/weather_data_processed.csv',\n",
    "                           parse_dates=['DATE'])\n",
    "burglary = pd.read_csv('../data/processed/burglary_data_processed.csv',\n",
    "                       parse_dates=['event_date', 'date'])\n",
    "sanitation = pd.read_csv(\n",
    "    '../data/processed/service_request_data_processed.csv',\n",
    "    parse_dates=['created_date'])\n",
    "date_cols = [\n",
    "    'expiration_date', 'license_start_date',\n",
    "    'application_requirements_complete', 'date_issued',\n",
    "    'license_status_change_date'\n",
    "]\n",
    "business = pd.read_csv('../data/processed/business_data_processed.csv',\n",
    "                       parse_dates=date_cols)"
   ]
  },
  {
   "cell_type": "code",
   "execution_count": 65,
   "metadata": {},
   "outputs": [
    {
     "name": "stdout",
     "output_type": "stream",
     "text": [
      "(8234, 29)\n",
      "(924, 8)\n",
      "(8234, 37)\n"
     ]
    }
   ],
   "source": [
    "#merge inspection and weather data by Date\n",
    "print(food_data.shape)\n",
    "print(weather_data.shape)\n",
    "food_data = pd.merge(left=food_data, right=weather_data, left_on='inspection_date', right_on='DATE')\n",
    "print(food_data.shape)"
   ]
  },
  {
   "cell_type": "code",
   "execution_count": 66,
   "metadata": {},
   "outputs": [
    {
     "name": "stdout",
     "output_type": "stream",
     "text": [
      "(12701, 17)\n",
      "(7450, 54)\n"
     ]
    }
   ],
   "source": [
    "#Now merge inspection and business licenses by lincese number\n",
    "print(business.shape)\n",
    "food_business = pd.merge(left=food_data,\n",
    "                         right=business,\n",
    "                         left_on='license',\n",
    "                         right_on='license_number',\n",
    "                         validate='1:m')\n",
    "food_business.sort_values('inspection_date', inplace=True)\n",
    "print(food_business.shape)"
   ]
  },
  {
   "cell_type": "code",
   "execution_count": 73,
   "metadata": {},
   "outputs": [
    {
     "name": "stdout",
     "output_type": "stream",
     "text": [
      "New pandarallel memory created - Size: 2000 MB\n",
      "Pandarallel will run on 4 workers\n"
     ]
    }
   ],
   "source": [
    "from pandarallel import pandarallel\n",
    "pandarallel.initialize()\n",
    "\n",
    "\n",
    "def get_distance(a_lat, a_lng, b_lat, b_lng):\n",
    "    R = 3956  # earth radius in miles\n",
    "    a_lat = np.radians(a_lat)\n",
    "    a_lng = np.radians(a_lng)\n",
    "    b_lat = np.radians(b_lat)\n",
    "    b_lng = np.radians(b_lng)\n",
    "    d_lat = b_lat - a_lat\n",
    "    d_lng = b_lng - a_lng\n",
    "\n",
    "    d_lat_sq = np.sin(d_lat / 2)**2\n",
    "    d_lng_sq = np.sin(d_lng / 2)**2\n",
    "\n",
    "    a = d_lat_sq + np.cos(a_lat) * np.cos(b_lat) * d_lng_sq\n",
    "    c = 2 * np.arctan2(np.sqrt(a), np.sqrt(1 - a))\n",
    "\n",
    "    return R * c  # returns distance between a and b in mile\n",
    "\n",
    "def count_burglaries(row):\n",
    "    df = burglary.copy(deep=True)\n",
    "    time_window = 30\n",
    "    distance_window = 1\n",
    "    df = df[(df['date'] >\n",
    "             (row['inspection_date'] - pd.Timedelta(days=time_window)))\n",
    "            & (df['date'] < (row['inspection_date']))]\n",
    "    #df['d_time'] = (row['inspection_date'] - df['date']).dt.days\n",
    "    #df = df[(df['d_time'] < 0) & (df['d_time'] >= -time_window)]\n",
    "    df['distance'] = get_distance(row['latitude'], row['longitude'],\n",
    "                                  df['latitude'].values,\n",
    "                                  df['longitude'].values)\n",
    "    dfNew = df[df['distance'] < distance_window]\n",
    "    return dfNew.shape[0]\n",
    "\n",
    "\n",
    "def count_sanitation_complaints(row):\n",
    "    df = sanitation.copy(deep=True)\n",
    "    time_window = 30\n",
    "    distance_window = 1\n",
    "    #df['d_time'] = (row['inspection_date'] - df['created_date']).dt.days\n",
    "    #df = df[(df['d_time'] < 0) & (df['d_time'] >= -time_window)]\n",
    "    df = df[(df['created_date'] >\n",
    "             (row['inspection_date'] - pd.Timedelta(days=time_window)))\n",
    "            & (df['created_date'] < (row['inspection_date']))]\n",
    "    df['distance'] = get_distance(row['latitude'], row['longitude'],\n",
    "                                  df['latitude'].values,\n",
    "                                  df['longitude'].values)\n",
    "    dfNew = df[df['distance'] < distance_window]\n",
    "\n",
    "    return dfNew.shape[0]\n",
    "    #complaints = dfNew['sr_short_code'].value_counts()\n",
    "    #comp_dict = {\"sewer\": complaints[0] , \"sanitation\": complaints[1], \"rodent\": complaints[2], \"garbage\": complaints[3]}\n",
    "    #return comp_dict"
   ]
  },
  {
   "cell_type": "code",
   "execution_count": 69,
   "metadata": {},
   "outputs": [
    {
     "name": "stdout",
     "output_type": "stream",
     "text": [
      "3min 4s ± 1.15 s per loop (mean ± std. dev. of 7 runs, 1 loop each)\n"
     ]
    }
   ],
   "source": [
    "%timeit food_business['burglaries_last_month'] = food_business.parallel_apply(count_burglaries, axis=1)"
   ]
  },
  {
   "cell_type": "code",
   "execution_count": 74,
   "metadata": {},
   "outputs": [
    {
     "name": "stdout",
     "output_type": "stream",
     "text": [
      "6min 9s ± 2min 14s per loop (mean ± std. dev. of 7 runs, 1 loop each)\n"
     ]
    }
   ],
   "source": [
    "%timeit food_business['burglaries_last_month'] = food_business.parallel_apply(count_sanitation_complaints, axis=1)"
   ]
  },
  {
   "cell_type": "code",
   "execution_count": null,
   "metadata": {},
   "outputs": [],
   "source": [
    "food_business.isna().sum()"
   ]
  },
  {
   "cell_type": "code",
   "execution_count": null,
   "metadata": {},
   "outputs": [],
   "source": [
    "#food_business = food_business[~food_business['neighborhood'].isna()]\n",
    "food_business = pd.concat([food_business, pd.get_dummies(food_business['neighborhood'], prefix='town')],axis=1)"
   ]
  }
 ],
 "metadata": {
  "hide_input": false,
  "kernelspec": {
   "display_name": "Python 3",
   "language": "python",
   "name": "python3"
  },
  "language_info": {
   "codemirror_mode": {
    "name": "ipython",
    "version": 3
   },
   "file_extension": ".py",
   "mimetype": "text/x-python",
   "name": "python",
   "nbconvert_exporter": "python",
   "pygments_lexer": "ipython3",
   "version": "3.7.3"
  },
  "toc": {
   "base_numbering": 1,
   "nav_menu": {},
   "number_sections": true,
   "sideBar": true,
   "skip_h1_title": false,
   "title_cell": "Table of Contents",
   "title_sidebar": "Contents",
   "toc_cell": false,
   "toc_position": {},
   "toc_section_display": true,
   "toc_window_display": false
  }
 },
 "nbformat": 4,
 "nbformat_minor": 2
}

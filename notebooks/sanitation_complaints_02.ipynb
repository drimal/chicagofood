{
 "cells": [
  {
   "cell_type": "markdown",
   "metadata": {},
   "source": [
    "## Nearby Sanitation complaints in the neighborhood via 311 service requests"
   ]
  },
  {
   "cell_type": "code",
   "execution_count": 10,
   "metadata": {},
   "outputs": [],
   "source": [
    "#important libraries\n",
    "%matplotlib inline\n",
    "import warnings\n",
    "warnings.filterwarnings('ignore')\n",
    "import pandas as pd\n",
    "import seaborn as sns\n",
    "import matplotlib.pyplot as plt\n",
    "import json\n",
    "sns.set(rc={'figure.figsize':(12, 6),\"font.size\":20,\"axes.titlesize\":20,\"axes.labelsize\":20},style=\"darkgrid\")"
   ]
  },
  {
   "cell_type": "code",
   "execution_count": 11,
   "metadata": {},
   "outputs": [],
   "source": [
    "garbage_prior_july18 = pd.read_json(\n",
    "    '../data/raw/garbagedata_prior_to_july2018.json',\n",
    "    convert_dates=['completion_date', 'creation_date'])\n",
    "sanitation_prior_july18 = pd.read_json(\n",
    "    '../data/raw/sanitationdata_prior_to_july2018.json',\n",
    "    convert_dates=['completion_date', 'creation_date'])\n",
    "rodent_prior_july18 = pd.read_json(\n",
    "    '../data/raw/rodentdata_prior_to_july2018.json',\n",
    "    convert_dates=['completion_date', 'creation_date'])\n",
    "#combining them all \n",
    "service_prior_july18 = pd.concat(\n",
    "    [garbage_prior_july18, sanitation_prior_july18, rodent_prior_july18],\n",
    "    ignore_index=True)"
   ]
  },
  {
   "cell_type": "code",
   "execution_count": 12,
   "metadata": {},
   "outputs": [
    {
     "name": "stdout",
     "output_type": "stream",
     "text": [
      "<class 'pandas.core.frame.DataFrame'>\n",
      "RangeIndex: 171570 entries, 0 to 171569\n",
      "Data columns (total 23 columns):\n",
      "community_area                                171569 non-null float64\n",
      "completion_date                               171475 non-null datetime64[ns]\n",
      "creation_date                                 171570 non-null datetime64[ns]\n",
      "current_activity                              122963 non-null object\n",
      "latitude                                      171545 non-null float64\n",
      "location                                      171545 non-null object\n",
      "longitude                                     171545 non-null float64\n",
      "most_recent_action                            122863 non-null object\n",
      "number_of_black_carts_delivered               59300 non-null float64\n",
      "number_of_premises_baited                     63961 non-null float64\n",
      "number_of_premises_with_garbage               64034 non-null float64\n",
      "number_of_premises_with_rats                  64103 non-null float64\n",
      "police_district                               171569 non-null float64\n",
      "service_request_number                        171570 non-null object\n",
      "ssa                                           9447 non-null float64\n",
      "status                                        171570 non-null object\n",
      "street_address                                171570 non-null object\n",
      "type_of_service_request                       171570 non-null object\n",
      "ward                                          171569 non-null float64\n",
      "what_is_the_nature_of_this_code_violation_    28514 non-null object\n",
      "x_coordinate                                  171561 non-null float64\n",
      "y_coordinate                                  171561 non-null float64\n",
      "zip_code                                      171191 non-null float64\n",
      "dtypes: datetime64[ns](2), float64(13), object(8)\n",
      "memory usage: 30.1+ MB\n"
     ]
    }
   ],
   "source": [
    "service_prior_july18.info()"
   ]
  },
  {
   "cell_type": "code",
   "execution_count": 13,
   "metadata": {},
   "outputs": [],
   "source": [
    "###Take only relevant columns\n",
    "service_prior_july18 = service_prior_july18[[\n",
    "    'creation_date', 'latitude', 'longitude', 'completion_date',\n",
    "    'type_of_service_request'\n",
    "]]\n",
    "service_prior_july18.sort_values('creation_date', inplace=True)\n",
    "service_prior_july18.rename(columns={\n",
    "    'creation_date': 'created_date',\n",
    "    'completion_date': 'closed_date',\n",
    "    'type_of_service_request': 'sr_type'\n",
    "},\n",
    "                            inplace=True)"
   ]
  },
  {
   "cell_type": "code",
   "execution_count": 14,
   "metadata": {},
   "outputs": [
    {
     "data": {
      "text/html": [
       "<div>\n",
       "<style scoped>\n",
       "    .dataframe tbody tr th:only-of-type {\n",
       "        vertical-align: middle;\n",
       "    }\n",
       "\n",
       "    .dataframe tbody tr th {\n",
       "        vertical-align: top;\n",
       "    }\n",
       "\n",
       "    .dataframe thead th {\n",
       "        text-align: right;\n",
       "    }\n",
       "</style>\n",
       "<table border=\"1\" class=\"dataframe\">\n",
       "  <thead>\n",
       "    <tr style=\"text-align: right;\">\n",
       "      <th></th>\n",
       "      <th>created_date</th>\n",
       "      <th>latitude</th>\n",
       "      <th>longitude</th>\n",
       "      <th>closed_date</th>\n",
       "      <th>sr_type</th>\n",
       "    </tr>\n",
       "  </thead>\n",
       "  <tbody>\n",
       "    <tr>\n",
       "      <th>59440</th>\n",
       "      <td>2017-01-02</td>\n",
       "      <td>41.855265</td>\n",
       "      <td>-87.715250</td>\n",
       "      <td>2017-04-04</td>\n",
       "      <td>Garbage Cart Black Maintenance/Replacement</td>\n",
       "    </tr>\n",
       "    <tr>\n",
       "      <th>166051</th>\n",
       "      <td>2017-01-02</td>\n",
       "      <td>41.789780</td>\n",
       "      <td>-87.669330</td>\n",
       "      <td>2017-01-04</td>\n",
       "      <td>Rodent Baiting/Rat Complaint</td>\n",
       "    </tr>\n",
       "    <tr>\n",
       "      <th>143893</th>\n",
       "      <td>2017-01-02</td>\n",
       "      <td>41.777431</td>\n",
       "      <td>-87.795033</td>\n",
       "      <td>2017-01-03</td>\n",
       "      <td>Rodent Baiting/Rat Complaint</td>\n",
       "    </tr>\n",
       "    <tr>\n",
       "      <th>90143</th>\n",
       "      <td>2017-01-02</td>\n",
       "      <td>41.905160</td>\n",
       "      <td>-87.706864</td>\n",
       "      <td>2017-01-04</td>\n",
       "      <td>Sanitation Code Violation</td>\n",
       "    </tr>\n",
       "    <tr>\n",
       "      <th>61920</th>\n",
       "      <td>2017-01-02</td>\n",
       "      <td>41.795555</td>\n",
       "      <td>-87.670555</td>\n",
       "      <td>2017-04-17</td>\n",
       "      <td>Garbage Cart Black Maintenance/Replacement</td>\n",
       "    </tr>\n",
       "  </tbody>\n",
       "</table>\n",
       "</div>"
      ],
      "text/plain": [
       "       created_date   latitude  longitude closed_date  \\\n",
       "59440    2017-01-02  41.855265 -87.715250  2017-04-04   \n",
       "166051   2017-01-02  41.789780 -87.669330  2017-01-04   \n",
       "143893   2017-01-02  41.777431 -87.795033  2017-01-03   \n",
       "90143    2017-01-02  41.905160 -87.706864  2017-01-04   \n",
       "61920    2017-01-02  41.795555 -87.670555  2017-04-17   \n",
       "\n",
       "                                           sr_type  \n",
       "59440   Garbage Cart Black Maintenance/Replacement  \n",
       "166051                Rodent Baiting/Rat Complaint  \n",
       "143893                Rodent Baiting/Rat Complaint  \n",
       "90143                    Sanitation Code Violation  \n",
       "61920   Garbage Cart Black Maintenance/Replacement  "
      ]
     },
     "execution_count": 14,
     "metadata": {},
     "output_type": "execute_result"
    }
   ],
   "source": [
    "service_prior_july18.head()"
   ]
  },
  {
   "cell_type": "code",
   "execution_count": 15,
   "metadata": {},
   "outputs": [
    {
     "data": {
      "text/html": [
       "<div>\n",
       "<style scoped>\n",
       "    .dataframe tbody tr th:only-of-type {\n",
       "        vertical-align: middle;\n",
       "    }\n",
       "\n",
       "    .dataframe tbody tr th {\n",
       "        vertical-align: top;\n",
       "    }\n",
       "\n",
       "    .dataframe thead th {\n",
       "        text-align: right;\n",
       "    }\n",
       "</style>\n",
       "<table border=\"1\" class=\"dataframe\">\n",
       "  <thead>\n",
       "    <tr style=\"text-align: right;\">\n",
       "      <th></th>\n",
       "      <th>city</th>\n",
       "      <th>closed_date</th>\n",
       "      <th>community_area</th>\n",
       "      <th>created_date</th>\n",
       "      <th>created_day_of_week</th>\n",
       "      <th>created_hour</th>\n",
       "      <th>created_month</th>\n",
       "      <th>duplicate</th>\n",
       "      <th>electrical_district</th>\n",
       "      <th>electricity_grid</th>\n",
       "      <th>...</th>\n",
       "      <th>status</th>\n",
       "      <th>street_address</th>\n",
       "      <th>street_direction</th>\n",
       "      <th>street_name</th>\n",
       "      <th>street_number</th>\n",
       "      <th>street_type</th>\n",
       "      <th>ward</th>\n",
       "      <th>x_coordinate</th>\n",
       "      <th>y_coordinate</th>\n",
       "      <th>zip_code</th>\n",
       "    </tr>\n",
       "  </thead>\n",
       "  <tbody>\n",
       "    <tr>\n",
       "      <th>0</th>\n",
       "      <td>None</td>\n",
       "      <td>2019-06-17 07:08:53</td>\n",
       "      <td>NaN</td>\n",
       "      <td>2019-03-13 14:10:42</td>\n",
       "      <td>4</td>\n",
       "      <td>14</td>\n",
       "      <td>3</td>\n",
       "      <td>False</td>\n",
       "      <td>NaN</td>\n",
       "      <td>None</td>\n",
       "      <td>...</td>\n",
       "      <td>Completed</td>\n",
       "      <td>1510 S Lincoln ST</td>\n",
       "      <td>S</td>\n",
       "      <td>Lincoln</td>\n",
       "      <td>1510</td>\n",
       "      <td>ST</td>\n",
       "      <td>NaN</td>\n",
       "      <td>NaN</td>\n",
       "      <td>NaN</td>\n",
       "      <td>60064</td>\n",
       "    </tr>\n",
       "    <tr>\n",
       "      <th>1</th>\n",
       "      <td>None</td>\n",
       "      <td>NaT</td>\n",
       "      <td>NaN</td>\n",
       "      <td>2019-03-30 12:26:14</td>\n",
       "      <td>7</td>\n",
       "      <td>12</td>\n",
       "      <td>3</td>\n",
       "      <td>False</td>\n",
       "      <td>NaN</td>\n",
       "      <td>None</td>\n",
       "      <td>...</td>\n",
       "      <td>Open</td>\n",
       "      <td>12500 S NORMAL AVE</td>\n",
       "      <td>S</td>\n",
       "      <td>NORMAL</td>\n",
       "      <td>12500</td>\n",
       "      <td>AVE</td>\n",
       "      <td>NaN</td>\n",
       "      <td>NaN</td>\n",
       "      <td>NaN</td>\n",
       "      <td>None</td>\n",
       "    </tr>\n",
       "    <tr>\n",
       "      <th>10</th>\n",
       "      <td>None</td>\n",
       "      <td>2019-06-25 04:43:04</td>\n",
       "      <td>NaN</td>\n",
       "      <td>2019-03-21 11:39:21</td>\n",
       "      <td>5</td>\n",
       "      <td>11</td>\n",
       "      <td>3</td>\n",
       "      <td>False</td>\n",
       "      <td>NaN</td>\n",
       "      <td>None</td>\n",
       "      <td>...</td>\n",
       "      <td>Completed</td>\n",
       "      <td>9001 W 87 ST</td>\n",
       "      <td>W</td>\n",
       "      <td>87</td>\n",
       "      <td>9001</td>\n",
       "      <td>ST</td>\n",
       "      <td>NaN</td>\n",
       "      <td>NaN</td>\n",
       "      <td>NaN</td>\n",
       "      <td>60620</td>\n",
       "    </tr>\n",
       "  </tbody>\n",
       "</table>\n",
       "<p>3 rows × 37 columns</p>\n",
       "</div>"
      ],
      "text/plain": [
       "    city         closed_date  community_area        created_date  \\\n",
       "0   None 2019-06-17 07:08:53             NaN 2019-03-13 14:10:42   \n",
       "1   None                 NaT             NaN 2019-03-30 12:26:14   \n",
       "10  None 2019-06-25 04:43:04             NaN 2019-03-21 11:39:21   \n",
       "\n",
       "    created_day_of_week  created_hour  created_month  duplicate  \\\n",
       "0                     4            14              3      False   \n",
       "1                     7            12              3      False   \n",
       "10                    5            11              3      False   \n",
       "\n",
       "    electrical_district electricity_grid  ...     status      street_address  \\\n",
       "0                   NaN             None  ...  Completed   1510 S Lincoln ST   \n",
       "1                   NaN             None  ...       Open  12500 S NORMAL AVE   \n",
       "10                  NaN             None  ...  Completed        9001 W 87 ST   \n",
       "\n",
       "    street_direction street_name street_number  street_type ward x_coordinate  \\\n",
       "0                  S     Lincoln          1510           ST  NaN          NaN   \n",
       "1                  S      NORMAL         12500          AVE  NaN          NaN   \n",
       "10                 W          87          9001           ST  NaN          NaN   \n",
       "\n",
       "    y_coordinate  zip_code  \n",
       "0            NaN     60064  \n",
       "1            NaN      None  \n",
       "10           NaN     60620  \n",
       "\n",
       "[3 rows x 37 columns]"
      ]
     },
     "execution_count": 15,
     "metadata": {},
     "output_type": "execute_result"
    }
   ],
   "source": [
    "service_data = pd.read_json(\n",
    "    '../data/raw/servicedata.json',\n",
    "    convert_dates=['closed_date', 'created_date', 'last_modified_date'])\n",
    "service_data.head(3)"
   ]
  },
  {
   "cell_type": "code",
   "execution_count": 16,
   "metadata": {},
   "outputs": [
    {
     "data": {
      "text/plain": [
       "Garbage Cart Maintenance             48844\n",
       "Rodent Baiting/Rat Complaint         42423\n",
       "Sanitation Code Violation            15909\n",
       "Sewer Cleaning Inspection Request    15802\n",
       "Name: sr_type, dtype: int64"
      ]
     },
     "execution_count": 16,
     "metadata": {},
     "output_type": "execute_result"
    }
   ],
   "source": [
    "service_data['sr_type'].value_counts()"
   ]
  },
  {
   "cell_type": "code",
   "execution_count": 17,
   "metadata": {},
   "outputs": [
    {
     "data": {
      "text/plain": [
       "Garbage Cart Maintenance             48844\n",
       "Rodent Baiting/Rat Complaint         42423\n",
       "Sanitation Code Violation            15909\n",
       "Sewer Cleaning Inspection Request    15802\n",
       "Name: sr_type, dtype: int64"
      ]
     },
     "execution_count": 17,
     "metadata": {},
     "output_type": "execute_result"
    }
   ],
   "source": [
    "service_data['sr_type'].value_counts()"
   ]
  },
  {
   "cell_type": "code",
   "execution_count": 18,
   "metadata": {},
   "outputs": [
    {
     "name": "stdout",
     "output_type": "stream",
     "text": [
      " So there are 278746 rows and 6 columns in the data\n"
     ]
    }
   ],
   "source": [
    "service_data = service_data[service_data['sr_short_code'] != 'CHECKFOR']\n",
    "service_data = service_data[[\n",
    "    'created_date', 'latitude', 'longitude', 'closed_date', 'sr_type',\n",
    "    'duplicate'\n",
    "]]\n",
    "service_data = pd.concat([service_data, service_prior_july18],\n",
    "                         ignore_index=True)\n",
    "sr_type_map = {\n",
    "    \"sr_type\": {\n",
    "        \"Garbage Cart Black Maintenance/Replacement\":\n",
    "        \"Garbage Cart Maintenance\"\n",
    "    }\n",
    "}\n",
    "service_data.replace(sr_type_map, inplace=True)\n",
    "shape = service_data.shape\n",
    "print(\" So there are %d rows and %d columns in the data\" %\n",
    "      (shape[0], shape[1]))"
   ]
  },
  {
   "cell_type": "code",
   "execution_count": 19,
   "metadata": {},
   "outputs": [
    {
     "name": "stdout",
     "output_type": "stream",
     "text": [
      "<class 'pandas.core.frame.DataFrame'>\n",
      "RangeIndex: 278746 entries, 0 to 278745\n",
      "Data columns (total 6 columns):\n",
      "closed_date     274884 non-null datetime64[ns]\n",
      "created_date    278746 non-null datetime64[ns]\n",
      "duplicate       107176 non-null object\n",
      "latitude        278401 non-null float64\n",
      "longitude       278401 non-null float64\n",
      "sr_type         278746 non-null object\n",
      "dtypes: datetime64[ns](2), float64(2), object(2)\n",
      "memory usage: 12.8+ MB\n",
      "None\n"
     ]
    }
   ],
   "source": [
    "print(service_data.info())"
   ]
  },
  {
   "cell_type": "markdown",
   "metadata": {},
   "source": [
    "I now want to count number of these incidents around the business and within some prespecified time. We can optimize the distance and the time windows but for the first pass study, I am just foucsing on within 5 miles radii and the 7 days before the inspection date. "
   ]
  },
  {
   "cell_type": "code",
   "execution_count": 20,
   "metadata": {},
   "outputs": [
    {
     "name": "stdout",
     "output_type": "stream",
     "text": [
      "Garbage Cart Maintenance        120745\n",
      "Rodent Baiting/Rat Complaint    107575\n",
      "Sanitation Code Violation        44214\n",
      "Name: sr_type, dtype: int64\n"
     ]
    }
   ],
   "source": [
    "service_data['latitude'].fillna(service_data['latitude'].mode()[0],\n",
    "                                inplace=True)\n",
    "service_data['longitude'].fillna(service_data['longitude'].mode()[0],\n",
    "                                 inplace=True)\n",
    "service_data = service_data[service_data['duplicate'] != True]\n",
    "print(service_data.sr_type.value_counts())"
   ]
  },
  {
   "cell_type": "code",
   "execution_count": 21,
   "metadata": {},
   "outputs": [
    {
     "data": {
      "image/png": "[encoded data removed]",
      "text/plain": [
       "<Figure size 864x432 with 1 Axes>"
      ]
     },
     "metadata": {},
     "output_type": "display_data"
    }
   ],
   "source": [
    "ax = sns.countplot(x='sr_type', data=service_data)\n",
    "plt.title(\"Type of Service Request\")\n",
    "plt.show()"
   ]
  },
  {
   "cell_type": "code",
   "execution_count": 23,
   "metadata": {},
   "outputs": [
    {
     "data": {
      "text/plain": [
       "<matplotlib.axes._subplots.AxesSubplot at 0x1a1e8277f0>"
      ]
     },
     "execution_count": 23,
     "metadata": {},
     "output_type": "execute_result"
    },
    {
     "data": {
      "image/png": "[encoded data removed]",
      "text/plain": [
       "<Figure size 864x432 with 1 Axes>"
      ]
     },
     "metadata": {},
     "output_type": "display_data"
    }
   ],
   "source": [
    "service_data[\"sr_type\"] = service_data[\"sr_type\"].astype('category').cat.codes\n",
    "service_data['created_date'].hist(bins = 32)"
   ]
  },
  {
   "cell_type": "code",
   "execution_count": 24,
   "metadata": {},
   "outputs": [],
   "source": [
    "service_data.sort_values(by='created_date', inplace=True)\n",
    "service_data = service_data[['created_date','latitude', 'longitude']]"
   ]
  },
  {
   "cell_type": "code",
   "execution_count": 27,
   "metadata": {},
   "outputs": [],
   "source": [
    "service_data.to_csv('../data/processed/service_request_data_processed.csv')"
   ]
  },
  {
   "cell_type": "code",
   "execution_count": null,
   "metadata": {},
   "outputs": [],
   "source": []
  }
 ],
 "metadata": {
  "hide_input": false,
  "kernelspec": {
   "display_name": "Python 3",
   "language": "python",
   "name": "python3"
  },
  "language_info": {
   "codemirror_mode": {
    "name": "ipython",
    "version": 3
   },
   "file_extension": ".py",
   "mimetype": "text/x-python",
   "name": "python",
   "nbconvert_exporter": "python",
   "pygments_lexer": "ipython3",
   "version": "3.7.3"
  },
  "toc": {
   "base_numbering": 1,
   "nav_menu": {},
   "number_sections": true,
   "sideBar": true,
   "skip_h1_title": false,
   "title_cell": "Table of Contents",
   "title_sidebar": "Contents",
   "toc_cell": false,
   "toc_position": {},
   "toc_section_display": true,
   "toc_window_display": false
  }
 },
 "nbformat": 4,
 "nbformat_minor": 2
}

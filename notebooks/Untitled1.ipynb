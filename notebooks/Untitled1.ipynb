{
 "cells": [
  {
   "cell_type": "code",
   "execution_count": 54,
   "metadata": {},
   "outputs": [
    {
     "name": "stdout",
     "output_type": "stream",
     "text": [
      "[(1, 4), (4, -9), (7, 12), (9, -4), (15, 7)]\n"
     ]
    }
   ],
   "source": [
    "array = [1, 4, 2, -2, -9, 10, 2, 12, 2, -4, -4, -4, -4, 2, 6, 7]\n",
    "peak = array[0]\n",
    "index = 0\n",
    "output = []  # array of tuples\n",
    "\n",
    "for x in range(1, len(array)):\n",
    "    if (array[x] * array[x - 1] > 0):\n",
    "        if peak < 0 and array[x] < peak:\n",
    "            peak = array[x]\n",
    "            index = x\n",
    "        if peak >= 0 and array[x] > peak:\n",
    "            peak = array[x]\n",
    "            index = x\n",
    "    else:\n",
    "        output.append((index, peak))\n",
    "        peak = array[x]\n",
    "        index = x\n",
    "output.append((index, peak))\n",
    "print(output)"
   ]
  },
  {
   "cell_type": "code",
   "execution_count": null,
   "metadata": {},
   "outputs": [],
   "source": [
    "#if index == prev_index and peak == prev_peak:\n",
    "#    pass\n",
    "#else:\n",
    "#prev_index = index\n",
    "#prev_peak = peak\n",
    "#if index == prev_index and peak == prev_peak:\n",
    "#    pass\n",
    "#else:\n",
    "#prev_index = index\n",
    "#prev_peak = peak"
   ]
  },
  {
   "cell_type": "code",
   "execution_count": 43,
   "metadata": {},
   "outputs": [
    {
     "name": "stdout",
     "output_type": "stream",
     "text": [
      "[(1, 4), (4, -9), (7, 12), (9, -4)]\n"
     ]
    }
   ],
   "source": [
    "array = [1, 4, 2, -2, -9, 10, 2, 12, 2, -4, -4, -4, -4, 2, 6, 7]\n",
    "\n",
    "peak = array[0]\n",
    "index = 0\n",
    "output = []  # array of tuples\n",
    "\n",
    "for x in range(1, len(array) - 1):\n",
    "    if (array[x] * array[x - 1] > 0):\n",
    "        if peak < 0 and array[x] < peak:\n",
    "            peak = array[x]\n",
    "            index = x\n",
    "            #output.append((index, peak))\n",
    "        if peak >= 0 and array[x] > peak:\n",
    "            peak = array[x]\n",
    "            index = x\n",
    "            #output.append((index, peak))\n",
    "    else:\n",
    "        output.append((index, peak))\n",
    "        peak = array[x]\n",
    "        index = x\n",
    "\n",
    "print(output)"
   ]
  },
  {
   "cell_type": "code",
   "execution_count": null,
   "metadata": {},
   "outputs": [],
   "source": []
  }
 ],
 "metadata": {
  "hide_input": false,
  "kernelspec": {
   "display_name": "Python 3",
   "language": "python",
   "name": "python3"
  },
  "language_info": {
   "codemirror_mode": {
    "name": "ipython",
    "version": 3
   },
   "file_extension": ".py",
   "mimetype": "text/x-python",
   "name": "python",
   "nbconvert_exporter": "python",
   "pygments_lexer": "ipython3",
   "version": "3.7.3"
  },
  "toc": {
   "base_numbering": 1,
   "nav_menu": {},
   "number_sections": true,
   "sideBar": true,
   "skip_h1_title": false,
   "title_cell": "Table of Contents",
   "title_sidebar": "Contents",
   "toc_cell": false,
   "toc_position": {},
   "toc_section_display": true,
   "toc_window_display": false
  }
 },
 "nbformat": 4,
 "nbformat_minor": 2
}

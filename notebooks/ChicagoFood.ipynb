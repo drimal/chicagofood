{
 "cells": [
  {
   "cell_type": "markdown",
   "metadata": {},
   "source": [
    "## Modeling Critical Food Violation by Food Establishments in the City of Chicago"
   ]
  },
  {
   "cell_type": "markdown",
   "metadata": {},
   "source": [
    "## Project Plan\n",
    " - Project Goal\n",
    " - Dataset and features\n",
    " - Exploratory data analysis (EDA) \n",
    " - Patterns, insights, pecularities of data\n",
    " - Data preprocessing\n",
    " - Feature engineering and description\n",
    " - Cross-validation, hyperparameter tuning\n",
    " - Validation and learning curves\n",
    " - Prediction for hold-out and test samples\n",
    " - Model evaluation with metrics description\n",
    " - Conclusions\n"
   ]
  },
  {
   "cell_type": "markdown",
   "metadata": {},
   "source": [
    "### Project Goal\n",
    "The goal of this project is to model the vilolations by the food establishments in the city of chicago. "
   ]
  },
  {
   "cell_type": "markdown",
   "metadata": {},
   "source": [
    "### Data Set and Features  \n",
    "We used city of Chicago's Socrata Open Data (SODA) API to acess food inspection data for first 3 months of 2019. In addition to the food inspection data, we are using burglary/crime, 311 sanitation complaints, businesss license data as well."
   ]
  },
  {
   "cell_type": "markdown",
   "metadata": {},
   "source": [
    "## Exploratory Data Analysis "
   ]
  },
  {
   "cell_type": "code",
   "execution_count": 1,
   "metadata": {},
   "outputs": [],
   "source": [
    "#important libraries\n",
    "%matplotlib inline\n",
    "import warnings\n",
    "warnings.filterwarnings('ignore')\n",
    "import pandas as pd\n",
    "import seaborn as sns\n",
    "import matplotlib.pyplot as plt\n",
    "import json\n",
    "sns.set(rc={'figure.figsize':(12, 6),\"font.size\":20,\"axes.titlesize\":20,\"axes.labelsize\":20},style=\"darkgrid\")\n",
    "import matplotlib.dates as mdates\n",
    "import re\n",
    "from datetime import datetime, timedelta\n",
    "import time\n",
    "from datetime import datetime, date, time, timedelta\n"
   ]
  },
  {
   "cell_type": "code",
   "execution_count": 2,
   "metadata": {},
   "outputs": [],
   "source": [
    "food_data = pd.read_json('../data/raw/food-inspection.json', convert_dates = ['inspection_date'])"
   ]
  },
  {
   "cell_type": "code",
   "execution_count": 3,
   "metadata": {},
   "outputs": [
    {
     "data": {
      "text/html": [
       "<div>\n",
       "<style scoped>\n",
       "    .dataframe tbody tr th:only-of-type {\n",
       "        vertical-align: middle;\n",
       "    }\n",
       "\n",
       "    .dataframe tbody tr th {\n",
       "        vertical-align: top;\n",
       "    }\n",
       "\n",
       "    .dataframe thead th {\n",
       "        text-align: right;\n",
       "    }\n",
       "</style>\n",
       "<table border=\"1\" class=\"dataframe\">\n",
       "  <thead>\n",
       "    <tr style=\"text-align: right;\">\n",
       "      <th></th>\n",
       "      <th>address</th>\n",
       "      <th>aka_name</th>\n",
       "      <th>city</th>\n",
       "      <th>dba_name</th>\n",
       "      <th>facility_type</th>\n",
       "      <th>inspection_date</th>\n",
       "      <th>inspection_id</th>\n",
       "      <th>inspection_type</th>\n",
       "      <th>latitude</th>\n",
       "      <th>license_</th>\n",
       "      <th>location</th>\n",
       "      <th>longitude</th>\n",
       "      <th>results</th>\n",
       "      <th>risk</th>\n",
       "      <th>state</th>\n",
       "      <th>violations</th>\n",
       "      <th>zip</th>\n",
       "    </tr>\n",
       "  </thead>\n",
       "  <tbody>\n",
       "    <tr>\n",
       "      <th>0</th>\n",
       "      <td>1958 W CHICAGO AVE</td>\n",
       "      <td>SUBWAY</td>\n",
       "      <td>CHICAGO</td>\n",
       "      <td>SUBWAY</td>\n",
       "      <td>Restaurant</td>\n",
       "      <td>2019-01-22</td>\n",
       "      <td>2252942</td>\n",
       "      <td>Canvass</td>\n",
       "      <td>41.896023</td>\n",
       "      <td>1677083</td>\n",
       "      <td>{'type': 'Point', 'coordinates': [-87.67699521...</td>\n",
       "      <td>-87.676995</td>\n",
       "      <td>Pass w/ Conditions</td>\n",
       "      <td>Risk 1 (High)</td>\n",
       "      <td>IL</td>\n",
       "      <td>3. MANAGEMENT, FOOD EMPLOYEE AND CONDITIONAL E...</td>\n",
       "      <td>60622.0</td>\n",
       "    </tr>\n",
       "    <tr>\n",
       "      <th>1</th>\n",
       "      <td>4503-4505 N KEDZIE AVE</td>\n",
       "      <td>EL ORIGINAL GALLO BRAVO</td>\n",
       "      <td>CHICAGO</td>\n",
       "      <td>EL ORIGINAL GALLO BRAVO</td>\n",
       "      <td>Restaurant</td>\n",
       "      <td>2019-01-11</td>\n",
       "      <td>2252352</td>\n",
       "      <td>Canvass</td>\n",
       "      <td>41.963157</td>\n",
       "      <td>2368636</td>\n",
       "      <td>{'type': 'Point', 'coordinates': [-87.70815959...</td>\n",
       "      <td>-87.708160</td>\n",
       "      <td>Out of Business</td>\n",
       "      <td>Risk 1 (High)</td>\n",
       "      <td>IL</td>\n",
       "      <td>None</td>\n",
       "      <td>60625.0</td>\n",
       "    </tr>\n",
       "  </tbody>\n",
       "</table>\n",
       "</div>"
      ],
      "text/plain": [
       "                   address                 aka_name     city  \\\n",
       "0      1958 W CHICAGO AVE                    SUBWAY  CHICAGO   \n",
       "1  4503-4505 N KEDZIE AVE   EL ORIGINAL GALLO BRAVO  CHICAGO   \n",
       "\n",
       "                  dba_name facility_type inspection_date  inspection_id  \\\n",
       "0                   SUBWAY    Restaurant      2019-01-22        2252942   \n",
       "1  EL ORIGINAL GALLO BRAVO    Restaurant      2019-01-11        2252352   \n",
       "\n",
       "  inspection_type   latitude  license_  \\\n",
       "0         Canvass  41.896023   1677083   \n",
       "1         Canvass  41.963157   2368636   \n",
       "\n",
       "                                            location  longitude  \\\n",
       "0  {'type': 'Point', 'coordinates': [-87.67699521... -87.676995   \n",
       "1  {'type': 'Point', 'coordinates': [-87.70815959... -87.708160   \n",
       "\n",
       "              results           risk state  \\\n",
       "0  Pass w/ Conditions  Risk 1 (High)    IL   \n",
       "1     Out of Business  Risk 1 (High)    IL   \n",
       "\n",
       "                                          violations      zip  \n",
       "0  3. MANAGEMENT, FOOD EMPLOYEE AND CONDITIONAL E...  60622.0  \n",
       "1                                               None  60625.0  "
      ]
     },
     "execution_count": 3,
     "metadata": {},
     "output_type": "execute_result"
    }
   ],
   "source": [
    "food_data.head(2)"
   ]
  },
  {
   "cell_type": "code",
   "execution_count": 4,
   "metadata": {},
   "outputs": [
    {
     "name": "stdout",
     "output_type": "stream",
     "text": [
      " So there are 4315 rows and 17 columns in the data\n"
     ]
    }
   ],
   "source": [
    "shape = food_data.shape\n",
    "print(\" So there are %d rows and %d columns in the data\" % (shape[0], shape[1]))"
   ]
  },
  {
   "cell_type": "code",
   "execution_count": 5,
   "metadata": {},
   "outputs": [
    {
     "name": "stdout",
     "output_type": "stream",
     "text": [
      "<class 'pandas.core.frame.DataFrame'>\n",
      "Int64Index: 4315 entries, 0 to 999\n",
      "Data columns (total 17 columns):\n",
      "address            4315 non-null object\n",
      "aka_name           4289 non-null object\n",
      "city               4310 non-null object\n",
      "dba_name           4315 non-null object\n",
      "facility_type      4276 non-null object\n",
      "inspection_date    4315 non-null datetime64[ns]\n",
      "inspection_id      4315 non-null int64\n",
      "inspection_type    4315 non-null object\n",
      "latitude           4295 non-null float64\n",
      "license_           4315 non-null int64\n",
      "location           4295 non-null object\n",
      "longitude          4295 non-null float64\n",
      "results            4315 non-null object\n",
      "risk               4311 non-null object\n",
      "state              4314 non-null object\n",
      "violations         3344 non-null object\n",
      "zip                4311 non-null float64\n",
      "dtypes: datetime64[ns](1), float64(3), int64(2), object(11)\n",
      "memory usage: 606.8+ KB\n"
     ]
    }
   ],
   "source": [
    "#what's in the data? \n",
    "food_data.info()"
   ]
  },
  {
   "cell_type": "code",
   "execution_count": 6,
   "metadata": {},
   "outputs": [
    {
     "data": {
      "text/html": [
       "<div>\n",
       "<style scoped>\n",
       "    .dataframe tbody tr th:only-of-type {\n",
       "        vertical-align: middle;\n",
       "    }\n",
       "\n",
       "    .dataframe tbody tr th {\n",
       "        vertical-align: top;\n",
       "    }\n",
       "\n",
       "    .dataframe thead th {\n",
       "        text-align: right;\n",
       "    }\n",
       "</style>\n",
       "<table border=\"1\" class=\"dataframe\">\n",
       "  <thead>\n",
       "    <tr style=\"text-align: right;\">\n",
       "      <th></th>\n",
       "      <th>inspection_id</th>\n",
       "      <th>latitude</th>\n",
       "      <th>license_</th>\n",
       "      <th>longitude</th>\n",
       "      <th>zip</th>\n",
       "    </tr>\n",
       "  </thead>\n",
       "  <tbody>\n",
       "    <tr>\n",
       "      <th>count</th>\n",
       "      <td>4.315000e+03</td>\n",
       "      <td>4295.000000</td>\n",
       "      <td>4.315000e+03</td>\n",
       "      <td>4295.000000</td>\n",
       "      <td>4311.000000</td>\n",
       "    </tr>\n",
       "    <tr>\n",
       "      <th>mean</th>\n",
       "      <td>2.264776e+06</td>\n",
       "      <td>41.885686</td>\n",
       "      <td>1.861125e+06</td>\n",
       "      <td>-87.682541</td>\n",
       "      <td>60630.407098</td>\n",
       "    </tr>\n",
       "    <tr>\n",
       "      <th>std</th>\n",
       "      <td>1.366153e+04</td>\n",
       "      <td>0.083692</td>\n",
       "      <td>9.684546e+05</td>\n",
       "      <td>0.057104</td>\n",
       "      <td>27.049660</td>\n",
       "    </tr>\n",
       "    <tr>\n",
       "      <th>min</th>\n",
       "      <td>2.015566e+06</td>\n",
       "      <td>41.653637</td>\n",
       "      <td>0.000000e+00</td>\n",
       "      <td>-87.914428</td>\n",
       "      <td>60018.000000</td>\n",
       "    </tr>\n",
       "    <tr>\n",
       "      <th>25%</th>\n",
       "      <td>2.253036e+06</td>\n",
       "      <td>41.848736</td>\n",
       "      <td>1.531966e+06</td>\n",
       "      <td>-87.713291</td>\n",
       "      <td>60615.000000</td>\n",
       "    </tr>\n",
       "    <tr>\n",
       "      <th>50%</th>\n",
       "      <td>2.262125e+06</td>\n",
       "      <td>41.895615</td>\n",
       "      <td>2.271575e+06</td>\n",
       "      <td>-87.674668</td>\n",
       "      <td>60629.000000</td>\n",
       "    </tr>\n",
       "    <tr>\n",
       "      <th>75%</th>\n",
       "      <td>2.279264e+06</td>\n",
       "      <td>41.945976</td>\n",
       "      <td>2.560618e+06</td>\n",
       "      <td>-87.641278</td>\n",
       "      <td>60646.000000</td>\n",
       "    </tr>\n",
       "    <tr>\n",
       "      <th>max</th>\n",
       "      <td>2.282717e+06</td>\n",
       "      <td>42.021064</td>\n",
       "      <td>3.808890e+06</td>\n",
       "      <td>-87.527970</td>\n",
       "      <td>60827.000000</td>\n",
       "    </tr>\n",
       "  </tbody>\n",
       "</table>\n",
       "</div>"
      ],
      "text/plain": [
       "       inspection_id     latitude      license_    longitude           zip\n",
       "count   4.315000e+03  4295.000000  4.315000e+03  4295.000000   4311.000000\n",
       "mean    2.264776e+06    41.885686  1.861125e+06   -87.682541  60630.407098\n",
       "std     1.366153e+04     0.083692  9.684546e+05     0.057104     27.049660\n",
       "min     2.015566e+06    41.653637  0.000000e+00   -87.914428  60018.000000\n",
       "25%     2.253036e+06    41.848736  1.531966e+06   -87.713291  60615.000000\n",
       "50%     2.262125e+06    41.895615  2.271575e+06   -87.674668  60629.000000\n",
       "75%     2.279264e+06    41.945976  2.560618e+06   -87.641278  60646.000000\n",
       "max     2.282717e+06    42.021064  3.808890e+06   -87.527970  60827.000000"
      ]
     },
     "execution_count": 6,
     "metadata": {},
     "output_type": "execute_result"
    }
   ],
   "source": [
    "#simple statistics \n",
    "food_data.describe()"
   ]
  },
  {
   "cell_type": "code",
   "execution_count": 7,
   "metadata": {},
   "outputs": [],
   "source": [
    "def count_critical_violations(violations):\n",
    "    non_critical_violations_count = 0\n",
    "    critical_violations_count = 0\n",
    "    minor_violations_count = 0\n",
    "    try:\n",
    "        x = violations.split('|')\n",
    "        codes = []\n",
    "        for violation in x:\n",
    "            match = int(re.search(r'\\d+', violation).group(0))\n",
    "            codes.append(match)\n",
    "        for code in codes:\n",
    "            if code > 0 and code < 15:\n",
    "                minor_violations_count += 1\n",
    "            elif code > 15 and code < 30:\n",
    "                non_critical_violations_count += 1\n",
    "            else:\n",
    "                critical_violations_count += 1\n",
    "        return [minor_violations_count, non_critical_violations_count, critical_violations_count]\n",
    "        #return(critical_violations_count)\n",
    "    except:\n",
    "        return [0]    "
   ]
  },
  {
   "cell_type": "code",
   "execution_count": 8,
   "metadata": {},
   "outputs": [],
   "source": [
    "food_data['violations_list'] = food_data['violations'].apply(lambda x: count_critical_violations(x))\n",
    "food_data['minor_violations'] = food_data['violations_list'].apply(lambda x : x[0])\n",
    "food_data['non_critical_violations'] = food_data['violations_list'].apply(lambda x : x[1] if len(x) > 1 else 0)\n",
    "food_data['critical_violations'] = food_data['violations_list'].apply(lambda x : x[2] if len(x) > 1 else 0)"
   ]
  },
  {
   "cell_type": "code",
   "execution_count": 9,
   "metadata": {},
   "outputs": [
    {
     "data": {
      "text/html": [
       "<div>\n",
       "<style scoped>\n",
       "    .dataframe tbody tr th:only-of-type {\n",
       "        vertical-align: middle;\n",
       "    }\n",
       "\n",
       "    .dataframe tbody tr th {\n",
       "        vertical-align: top;\n",
       "    }\n",
       "\n",
       "    .dataframe thead th {\n",
       "        text-align: right;\n",
       "    }\n",
       "</style>\n",
       "<table border=\"1\" class=\"dataframe\">\n",
       "  <thead>\n",
       "    <tr style=\"text-align: right;\">\n",
       "      <th></th>\n",
       "      <th>address</th>\n",
       "      <th>aka_name</th>\n",
       "      <th>city</th>\n",
       "      <th>dba_name</th>\n",
       "      <th>facility_type</th>\n",
       "      <th>inspection_date</th>\n",
       "      <th>inspection_id</th>\n",
       "      <th>inspection_type</th>\n",
       "      <th>latitude</th>\n",
       "      <th>license_</th>\n",
       "      <th>location</th>\n",
       "      <th>longitude</th>\n",
       "      <th>results</th>\n",
       "      <th>risk</th>\n",
       "      <th>state</th>\n",
       "      <th>violations</th>\n",
       "      <th>zip</th>\n",
       "      <th>violations_list</th>\n",
       "      <th>minor_violations</th>\n",
       "      <th>non_critical_violations</th>\n",
       "      <th>critical_violations</th>\n",
       "    </tr>\n",
       "  </thead>\n",
       "  <tbody>\n",
       "    <tr>\n",
       "      <th>0</th>\n",
       "      <td>1958 W CHICAGO AVE</td>\n",
       "      <td>SUBWAY</td>\n",
       "      <td>CHICAGO</td>\n",
       "      <td>SUBWAY</td>\n",
       "      <td>Restaurant</td>\n",
       "      <td>2019-01-22</td>\n",
       "      <td>2252942</td>\n",
       "      <td>Canvass</td>\n",
       "      <td>41.896023</td>\n",
       "      <td>1677083</td>\n",
       "      <td>{'type': 'Point', 'coordinates': [-87.67699521...</td>\n",
       "      <td>-87.676995</td>\n",
       "      <td>Pass w/ Conditions</td>\n",
       "      <td>Risk 1 (High)</td>\n",
       "      <td>IL</td>\n",
       "      <td>3. MANAGEMENT, FOOD EMPLOYEE AND CONDITIONAL E...</td>\n",
       "      <td>60622.0</td>\n",
       "      <td>[1, 1, 4]</td>\n",
       "      <td>1</td>\n",
       "      <td>1</td>\n",
       "      <td>4</td>\n",
       "    </tr>\n",
       "    <tr>\n",
       "      <th>1</th>\n",
       "      <td>4503-4505 N KEDZIE AVE</td>\n",
       "      <td>EL ORIGINAL GALLO BRAVO</td>\n",
       "      <td>CHICAGO</td>\n",
       "      <td>EL ORIGINAL GALLO BRAVO</td>\n",
       "      <td>Restaurant</td>\n",
       "      <td>2019-01-11</td>\n",
       "      <td>2252352</td>\n",
       "      <td>Canvass</td>\n",
       "      <td>41.963157</td>\n",
       "      <td>2368636</td>\n",
       "      <td>{'type': 'Point', 'coordinates': [-87.70815959...</td>\n",
       "      <td>-87.708160</td>\n",
       "      <td>Out of Business</td>\n",
       "      <td>Risk 1 (High)</td>\n",
       "      <td>IL</td>\n",
       "      <td>None</td>\n",
       "      <td>60625.0</td>\n",
       "      <td>[0]</td>\n",
       "      <td>0</td>\n",
       "      <td>0</td>\n",
       "      <td>0</td>\n",
       "    </tr>\n",
       "  </tbody>\n",
       "</table>\n",
       "</div>"
      ],
      "text/plain": [
       "                   address                 aka_name     city  \\\n",
       "0      1958 W CHICAGO AVE                    SUBWAY  CHICAGO   \n",
       "1  4503-4505 N KEDZIE AVE   EL ORIGINAL GALLO BRAVO  CHICAGO   \n",
       "\n",
       "                  dba_name facility_type inspection_date  inspection_id  \\\n",
       "0                   SUBWAY    Restaurant      2019-01-22        2252942   \n",
       "1  EL ORIGINAL GALLO BRAVO    Restaurant      2019-01-11        2252352   \n",
       "\n",
       "  inspection_type   latitude  license_  \\\n",
       "0         Canvass  41.896023   1677083   \n",
       "1         Canvass  41.963157   2368636   \n",
       "\n",
       "                                            location  longitude  \\\n",
       "0  {'type': 'Point', 'coordinates': [-87.67699521... -87.676995   \n",
       "1  {'type': 'Point', 'coordinates': [-87.70815959... -87.708160   \n",
       "\n",
       "              results           risk state  \\\n",
       "0  Pass w/ Conditions  Risk 1 (High)    IL   \n",
       "1     Out of Business  Risk 1 (High)    IL   \n",
       "\n",
       "                                          violations      zip violations_list  \\\n",
       "0  3. MANAGEMENT, FOOD EMPLOYEE AND CONDITIONAL E...  60622.0       [1, 1, 4]   \n",
       "1                                               None  60625.0             [0]   \n",
       "\n",
       "   minor_violations  non_critical_violations  critical_violations  \n",
       "0                 1                        1                    4  \n",
       "1                 0                        0                    0  "
      ]
     },
     "execution_count": 9,
     "metadata": {},
     "output_type": "execute_result"
    }
   ],
   "source": [
    "food_data.head(2)"
   ]
  },
  {
   "cell_type": "markdown",
   "metadata": {},
   "source": [
    "#### Let's drop some redudant and unnecessary columns from the dataframe and also clean up column_names."
   ]
  },
  {
   "cell_type": "code",
   "execution_count": 10,
   "metadata": {},
   "outputs": [],
   "source": [
    "food_data = food_data.drop(['violations_list', 'location', 'violations', 'zip', 'state'], axis=1)\n",
    "food_data.rename(columns={'license_':'license'}, inplace=True)"
   ]
  },
  {
   "cell_type": "code",
   "execution_count": 11,
   "metadata": {},
   "outputs": [
    {
     "data": {
      "text/html": [
       "<div>\n",
       "<style scoped>\n",
       "    .dataframe tbody tr th:only-of-type {\n",
       "        vertical-align: middle;\n",
       "    }\n",
       "\n",
       "    .dataframe tbody tr th {\n",
       "        vertical-align: top;\n",
       "    }\n",
       "\n",
       "    .dataframe thead th {\n",
       "        text-align: right;\n",
       "    }\n",
       "</style>\n",
       "<table border=\"1\" class=\"dataframe\">\n",
       "  <thead>\n",
       "    <tr style=\"text-align: right;\">\n",
       "      <th></th>\n",
       "      <th>address</th>\n",
       "      <th>aka_name</th>\n",
       "      <th>city</th>\n",
       "      <th>dba_name</th>\n",
       "      <th>facility_type</th>\n",
       "      <th>inspection_date</th>\n",
       "      <th>inspection_id</th>\n",
       "      <th>inspection_type</th>\n",
       "      <th>latitude</th>\n",
       "      <th>license</th>\n",
       "      <th>longitude</th>\n",
       "      <th>results</th>\n",
       "      <th>risk</th>\n",
       "      <th>minor_violations</th>\n",
       "      <th>non_critical_violations</th>\n",
       "      <th>critical_violations</th>\n",
       "    </tr>\n",
       "  </thead>\n",
       "  <tbody>\n",
       "    <tr>\n",
       "      <th>0</th>\n",
       "      <td>1958 W CHICAGO AVE</td>\n",
       "      <td>SUBWAY</td>\n",
       "      <td>CHICAGO</td>\n",
       "      <td>SUBWAY</td>\n",
       "      <td>Restaurant</td>\n",
       "      <td>2019-01-22</td>\n",
       "      <td>2252942</td>\n",
       "      <td>Canvass</td>\n",
       "      <td>41.896023</td>\n",
       "      <td>1677083</td>\n",
       "      <td>-87.676995</td>\n",
       "      <td>Pass w/ Conditions</td>\n",
       "      <td>Risk 1 (High)</td>\n",
       "      <td>1</td>\n",
       "      <td>1</td>\n",
       "      <td>4</td>\n",
       "    </tr>\n",
       "    <tr>\n",
       "      <th>1</th>\n",
       "      <td>4503-4505 N KEDZIE AVE</td>\n",
       "      <td>EL ORIGINAL GALLO BRAVO</td>\n",
       "      <td>CHICAGO</td>\n",
       "      <td>EL ORIGINAL GALLO BRAVO</td>\n",
       "      <td>Restaurant</td>\n",
       "      <td>2019-01-11</td>\n",
       "      <td>2252352</td>\n",
       "      <td>Canvass</td>\n",
       "      <td>41.963157</td>\n",
       "      <td>2368636</td>\n",
       "      <td>-87.708160</td>\n",
       "      <td>Out of Business</td>\n",
       "      <td>Risk 1 (High)</td>\n",
       "      <td>0</td>\n",
       "      <td>0</td>\n",
       "      <td>0</td>\n",
       "    </tr>\n",
       "  </tbody>\n",
       "</table>\n",
       "</div>"
      ],
      "text/plain": [
       "                   address                 aka_name     city  \\\n",
       "0      1958 W CHICAGO AVE                    SUBWAY  CHICAGO   \n",
       "1  4503-4505 N KEDZIE AVE   EL ORIGINAL GALLO BRAVO  CHICAGO   \n",
       "\n",
       "                  dba_name facility_type inspection_date  inspection_id  \\\n",
       "0                   SUBWAY    Restaurant      2019-01-22        2252942   \n",
       "1  EL ORIGINAL GALLO BRAVO    Restaurant      2019-01-11        2252352   \n",
       "\n",
       "  inspection_type   latitude  license  longitude             results  \\\n",
       "0         Canvass  41.896023  1677083 -87.676995  Pass w/ Conditions   \n",
       "1         Canvass  41.963157  2368636 -87.708160     Out of Business   \n",
       "\n",
       "            risk  minor_violations  non_critical_violations  \\\n",
       "0  Risk 1 (High)                 1                        1   \n",
       "1  Risk 1 (High)                 0                        0   \n",
       "\n",
       "   critical_violations  \n",
       "0                    4  \n",
       "1                    0  "
      ]
     },
     "execution_count": 11,
     "metadata": {},
     "output_type": "execute_result"
    }
   ],
   "source": [
    "food_data.head(2)"
   ]
  },
  {
   "cell_type": "markdown",
   "metadata": {},
   "source": [
    "#### Let's see the frequency of these inspections. "
   ]
  },
  {
   "cell_type": "code",
   "execution_count": 12,
   "metadata": {},
   "outputs": [
    {
     "data": {
      "text/plain": [
       "[<matplotlib.lines.Line2D at 0x1a28ee2d68>,\n",
       " <matplotlib.lines.Line2D at 0x1a28e996d8>]"
      ]
     },
     "execution_count": 12,
     "metadata": {},
     "output_type": "execute_result"
    },
    {
     "data": {
      "text/plain": [
       "Text(0.5, 0, 'Inspection Date')"
      ]
     },
     "execution_count": 12,
     "metadata": {},
     "output_type": "execute_result"
    },
    {
     "data": {
      "text/plain": [
       "Text(0, 0.5, 'Number of Inspections')"
      ]
     },
     "execution_count": 12,
     "metadata": {},
     "output_type": "execute_result"
    },
    {
     "data": {
      "text/plain": [
       "Text(0.5, 1.0, 'Daily Inspections')"
      ]
     },
     "execution_count": 12,
     "metadata": {},
     "output_type": "execute_result"
    },
    {
     "data": {
      "image/png": "[encoded data removed]",
      "text/plain": [
       "<Figure size 864x360 with 1 Axes>"
      ]
     },
     "metadata": {
      "needs_background": "light"
     },
     "output_type": "display_data"
    }
   ],
   "source": [
    "per_day = pd.DataFrame()\n",
    "per_day =  food_data[['inspection_date', 'inspection_id']]\n",
    "per_day = per_day.set_index(pd.to_datetime(per_day['inspection_date']))\n",
    "per_day = per_day.resample('D').count()\n",
    "plt.rcParams['figure.figsize'] = 12,5\n",
    "fig, ax = plt.subplots()\n",
    "fig.autofmt_xdate()\n",
    "#\n",
    "ax.xaxis.set_major_locator(mdates.MonthLocator())\n",
    "ax.xaxis.set_minor_locator(mdates.DayLocator())\n",
    "monthFmt = mdates.DateFormatter('%Y-%b')\n",
    "ax.xaxis.set_major_formatter(monthFmt)\n",
    "\n",
    "plt.plot(per_day.index, per_day, 'b-')\n",
    "plt.xlabel('Inspection Date')\n",
    "plt.ylabel('Number of Inspections', color='b')\n",
    "plt.title('Daily Inspections')\n",
    "plt.show()"
   ]
  },
  {
   "cell_type": "code",
   "execution_count": 13,
   "metadata": {},
   "outputs": [
    {
     "name": "stdout",
     "output_type": "stream",
     "text": [
      "3259 unique facilites were inspected during the period\n"
     ]
    }
   ],
   "source": [
    "print(\"%s unique facilites were inspected during the period\" %food_data['license'].nunique())"
   ]
  },
  {
   "cell_type": "markdown",
   "metadata": {},
   "source": [
    "### Let's look at the results of these inspection more closely: \n",
    "A facility can either pass, pass with conditions or fail. Following is an excerpt from the dataset documentation page:\n",
    "\n",
    "\"Establishments receiving a ‘pass’ were found to have no critical or serious violations (violation number 1-14 and 15-29, respectively). Establishments receiving a ‘pass with conditions’ were found to have critical or serious violations, but these were corrected during the inspection. Establishments receiving a ‘fail’ were found to have critical or serious violations that were not correctable during the inspection. An establishment receiving a ‘fail’ does not necessarily mean the establishment’s licensed is suspended. Establishments found to be out of business or not located are indicated as such\"."
   ]
  },
  {
   "cell_type": "code",
   "execution_count": 14,
   "metadata": {},
   "outputs": [
    {
     "data": {
      "text/plain": [
       "Pass w/ Conditions    1957\n",
       "Pass                   951\n",
       "Fail                   806\n",
       "Out of Business        261\n",
       "No Entry               216\n",
       "Not Ready              124\n",
       "Name: results, dtype: int64"
      ]
     },
     "execution_count": 14,
     "metadata": {},
     "output_type": "execute_result"
    }
   ],
   "source": [
    "food_data['results'].value_counts()"
   ]
  },
  {
   "cell_type": "code",
   "execution_count": 16,
   "metadata": {},
   "outputs": [
    {
     "data": {
      "text/plain": [
       "Text(0.5, 1.0, 'Result of Inspections')"
      ]
     },
     "execution_count": 16,
     "metadata": {},
     "output_type": "execute_result"
    },
    {
     "data": {
      "image/png": "[encoded data removed]",
      "text/plain": [
       "<Figure size 864x360 with 1 Axes>"
      ]
     },
     "metadata": {
      "needs_background": "light"
     },
     "output_type": "display_data"
    }
   ],
   "source": [
    "ax = sns.countplot(x=\"results\", data=food_data)\n",
    "plt.title(\"Result of Inspections\")\n",
    "plt.show()"
   ]
  },
  {
   "cell_type": "markdown",
   "metadata": {},
   "source": [
    "### Let's convert results in to categorical variable first and the we will filter out non-relevant categories like 'Out of Business', 'Not Ready' and 'No Entry' facilities. "
   ]
  },
  {
   "cell_type": "code",
   "execution_count": 17,
   "metadata": {},
   "outputs": [
    {
     "name": "stdout",
     "output_type": "stream",
     "text": [
      "int64\n"
     ]
    }
   ],
   "source": [
    "results_conv = {\"results\" : {\"Fail\" : 0, \"Pass\" : 1, \"Pass w/ Conditions\" : 1, \"Out of Business\": 2, \"No Entry\": 3 , \"Not Ready\": 4}}\n",
    "food_data.replace(results_conv, inplace=True)\n",
    "print(food_data.results.dtype)"
   ]
  },
  {
   "cell_type": "code",
   "execution_count": 18,
   "metadata": {},
   "outputs": [],
   "source": [
    "food_data = food_data[food_data['results'] < 2]"
   ]
  },
  {
   "cell_type": "code",
   "execution_count": 19,
   "metadata": {},
   "outputs": [
    {
     "data": {
      "text/plain": [
       "Text(0.5, 1.0, 'Result of Inspections')"
      ]
     },
     "execution_count": 19,
     "metadata": {},
     "output_type": "execute_result"
    },
    {
     "data": {
      "image/png": "[encoded data removed]",
      "text/plain": [
       "<Figure size 864x360 with 1 Axes>"
      ]
     },
     "metadata": {
      "needs_background": "light"
     },
     "output_type": "display_data"
    }
   ],
   "source": [
    "ax = sns.countplot(x=\"results\", data=food_data)\n",
    "plt.title(\"Result of Inspections\")\n",
    "plt.show()"
   ]
  },
  {
   "cell_type": "code",
   "execution_count": 20,
   "metadata": {},
   "outputs": [
    {
     "data": {
      "text/plain": [
       "Text(0.5, 1.0, 'Distribution of Critical Violations')"
      ]
     },
     "execution_count": 20,
     "metadata": {},
     "output_type": "execute_result"
    },
    {
     "data": {
      "image/png": "[encoded data removed]",
      "text/plain": [
       "<Figure size 864x360 with 1 Axes>"
      ]
     },
     "metadata": {
      "needs_background": "light"
     },
     "output_type": "display_data"
    }
   ],
   "source": [
    "ax = sns.countplot(x=\"critical_violations\", hue = 'results', data=food_data)\n",
    "plt.title(\"Distribution of Critical Violations\")\n",
    "plt.show()"
   ]
  },
  {
   "cell_type": "markdown",
   "metadata": {},
   "source": [
    "This clearly shows more the number of critical violations, more the failure rate.  "
   ]
  },
  {
   "cell_type": "markdown",
   "metadata": {},
   "source": [
    "###  Inspection type: \n",
    "According to the dataset description, an inspection can be of the following types:\n",
    "\n",
    "1) Canvass : The most common type of inspection performed at a frequency relative to the risk of the establishment\n",
    "\n",
    "2) Consultation: when the inspection is done at the request of the owner prior to the opening of the establishment\n",
    "\n",
    "3) Complaint: when the inspection is done in response to a complaint against the establishment\n",
    "\n",
    "4) license : when the inspection is done as a requirement for the establishment to receive its license to operate\n",
    "\n",
    "5) suspect food poisoning : when the inspection is done in response to one or more persons claiming to have gotten ill as a result of eating at the establishment (a specific type of complaint based inspection)\n",
    "\n",
    "6) Task-force inspection: when an inspection of a bar or tavern is done.\n",
    "\n",
    "7) Re-inspections:  Occurs for most types of these inspections and are indicated as such.pe\n",
    "\n"
   ]
  },
  {
   "cell_type": "code",
   "execution_count": 21,
   "metadata": {},
   "outputs": [
    {
     "data": {
      "text/plain": [
       "Canvass                                   1953\n",
       "License                                    530\n",
       "Canvass Re-Inspection                      474\n",
       "Complaint                                  346\n",
       "License Re-Inspection                      188\n",
       "Complaint Re-Inspection                    153\n",
       "Short Form Complaint                        29\n",
       "Suspected Food Poisoning                    23\n",
       "Recent Inspection                           11\n",
       "Suspected Food Poisoning Re-inspection       6\n",
       "Consultation                                 1\n",
       "Name: inspection_type, dtype: int64"
      ]
     },
     "execution_count": 21,
     "metadata": {},
     "output_type": "execute_result"
    }
   ],
   "source": [
    "food_data['inspection_type'].value_counts()"
   ]
  },
  {
   "cell_type": "markdown",
   "metadata": {},
   "source": [
    "#### A picture speaks thousands numbers, right ? Let's look at these numbers as count plots. "
   ]
  },
  {
   "cell_type": "code",
   "execution_count": 22,
   "metadata": {
    "scrolled": true
   },
   "outputs": [
    {
     "data": {
      "text/plain": [
       "<Figure size 864x432 with 0 Axes>"
      ]
     },
     "execution_count": 22,
     "metadata": {},
     "output_type": "execute_result"
    },
    {
     "data": {
      "text/plain": [
       "Text(0.5, 1.0, 'Result of Inspections')"
      ]
     },
     "execution_count": 22,
     "metadata": {},
     "output_type": "execute_result"
    },
    {
     "data": {
      "image/png": "[encoded data removed]",
      "text/plain": [
       "<Figure size 864x432 with 1 Axes>"
      ]
     },
     "metadata": {
      "needs_background": "light"
     },
     "output_type": "display_data"
    }
   ],
   "source": [
    "plt.figure(figsize=(12, 6))\n",
    "ax = sns.countplot(y=\"inspection_type\", data=food_data)\n",
    "plt.title(\"Result of Inspections\")\n",
    "plt.show()"
   ]
  },
  {
   "cell_type": "markdown",
   "metadata": {},
   "source": [
    "#### Since our goal is here to model the failure in random canvas, we are going to focus on canvass inspections only. "
   ]
  },
  {
   "cell_type": "code",
   "execution_count": 23,
   "metadata": {},
   "outputs": [],
   "source": [
    "food_data = food_data[food_data['inspection_type'] == 'Canvass']"
   ]
  },
  {
   "cell_type": "code",
   "execution_count": 24,
   "metadata": {},
   "outputs": [],
   "source": [
    "#food_data = food_data[(food_data['results']== 1) | (food_data['results']== 2) ]"
   ]
  },
  {
   "cell_type": "code",
   "execution_count": 25,
   "metadata": {},
   "outputs": [
    {
     "name": "stdout",
     "output_type": "stream",
     "text": [
      "33 different types of food establishment facilities were inspected during the period and 1 different types of inpsections were conducted during the period.\n"
     ]
    }
   ],
   "source": [
    "print(\"%d different types of food establishment facilities were inspected during the period and %d different types of inpsections were conducted during the period.\"% \n",
    "(food_data['facility_type'].nunique(), food_data['inspection_type'].nunique()))"
   ]
  },
  {
   "cell_type": "code",
   "execution_count": 26,
   "metadata": {},
   "outputs": [
    {
     "data": {
      "text/plain": [
       "<Figure size 936x936 with 0 Axes>"
      ]
     },
     "execution_count": 26,
     "metadata": {},
     "output_type": "execute_result"
    },
    {
     "data": {
      "text/plain": [
       "Restaurant                         1297\n",
       "School                              454\n",
       "Grocery Store                        94\n",
       "Long Term Care                       21\n",
       "Children's Services Facility         18\n",
       "Bakery                               15\n",
       "Catering                              9\n",
       "Daycare Above and Under 2 Years       6\n",
       "Golden Diner                          6\n",
       "Daycare (2 - 6 Years)                 5\n",
       "Name: facility_type, dtype: int64"
      ]
     },
     "execution_count": 26,
     "metadata": {},
     "output_type": "execute_result"
    },
    {
     "data": {
      "text/plain": [
       "<Figure size 936x936 with 0 Axes>"
      ]
     },
     "metadata": {},
     "output_type": "display_data"
    }
   ],
   "source": [
    "plt.figure(figsize=(13, 13))\n",
    "food_data['facility_type'].value_counts()[0:10]"
   ]
  },
  {
   "cell_type": "code",
   "execution_count": 29,
   "metadata": {},
   "outputs": [
    {
     "data": {
      "text/plain": [
       "Text(0.5, 1.0, 'Types of Facilities Inspected')"
      ]
     },
     "execution_count": 29,
     "metadata": {},
     "output_type": "execute_result"
    },
    {
     "data": {
      "image/png": "[encoded data removed]",
      "text/plain": [
       "<Figure size 864x360 with 1 Axes>"
      ]
     },
     "metadata": {
      "needs_background": "light"
     },
     "output_type": "display_data"
    }
   ],
   "source": [
    "# Setting anything other than Restaurants, Grocery store and School to other types\n",
    "ftype = lambda x: \"Other\" if x not in ['Restaurant', 'Grocery Store', 'School'] else x\n",
    "food_data['facility_type'] = food_data['facility_type'].map(ftype)\n",
    "ax = sns.countplot(y=\"facility_type\", data=food_data)\n",
    "plt.title(\"Types of Facilities Inspected\")\n",
    "plt.show()"
   ]
  },
  {
   "cell_type": "markdown",
   "metadata": {},
   "source": [
    "### Risk categories: \n",
    "    \n",
    "Each establishment is categorized as to its risk of adversely affecting the public’s health:\n",
    "\n",
    " 1: High\n",
    "\n",
    " 2: Medium \n",
    "\n",
    " 3: Low \n",
    "\n",
    "The frequency of inspection is tied to this risk, with risk 1 establishments inspected most frequently and risk 3 least frequently."
   ]
  },
  {
   "cell_type": "code",
   "execution_count": 30,
   "metadata": {},
   "outputs": [
    {
     "data": {
      "text/plain": [
       "<Figure size 864x576 with 0 Axes>"
      ]
     },
     "execution_count": 30,
     "metadata": {},
     "output_type": "execute_result"
    },
    {
     "data": {
      "text/plain": [
       "Risk 1 (High)      1817\n",
       "Risk 2 (Medium)     121\n",
       "Risk 3 (Low)         15\n",
       "Name: risk, dtype: int64"
      ]
     },
     "execution_count": 30,
     "metadata": {},
     "output_type": "execute_result"
    },
    {
     "data": {
      "text/plain": [
       "Text(0.5, 1.0, 'Risk')"
      ]
     },
     "execution_count": 30,
     "metadata": {},
     "output_type": "execute_result"
    },
    {
     "data": {
      "image/png": "[encoded data removed]",
      "text/plain": [
       "<Figure size 864x576 with 1 Axes>"
      ]
     },
     "metadata": {
      "needs_background": "light"
     },
     "output_type": "display_data"
    }
   ],
   "source": [
    "plt.figure(figsize=(12, 8))\n",
    "food_data['risk'].value_counts()[0:10]\n",
    "ax = sns.countplot(y=\"risk\", data=food_data)\n",
    "plt.title(\"Risk\")\n",
    "plt.show()"
   ]
  },
  {
   "cell_type": "markdown",
   "metadata": {},
   "source": [
    "## Label Encoding categorical variables:\n",
    "\n",
    "There are couple different ways of label encoding categorical variables.\n",
    "\n",
    "1) First method is to replace those variables with a dictionary involving key and value pairs of the variables to be encoded. \n",
    "\n",
    "2) Another method is to change their type as categorical variable. Let's convert inspection_type for example as as categorical variable. "
   ]
  },
  {
   "cell_type": "code",
   "execution_count": 31,
   "metadata": {},
   "outputs": [],
   "source": [
    "#food_data[\"inspection_type\"] = food_data[\"inspection_type\"].astype('category')\n",
    "food_data[\"facility_type\"] = food_data[\"facility_type\"].astype('category')\n",
    "food_data[\"risk\"] = food_data[\"risk\"].astype('category')\n",
    "#food_data[\"inspection_type_cat\"] = food_data[\"inspection_type\"].cat.codes\n",
    "food_data[\"facility_type_cat\"] = food_data[\"facility_type\"].cat.codes\n",
    "food_data[\"risk_type_cat\"] = food_data[\"risk\"].cat.codes"
   ]
  },
  {
   "cell_type": "markdown",
   "metadata": {},
   "source": [
    "#### I want to see look these establishments in the map. For plotting, let's divide them into pass and fail data frames."
   ]
  },
  {
   "cell_type": "code",
   "execution_count": 33,
   "metadata": {},
   "outputs": [],
   "source": [
    "pass_inspection = food_data[(food_data['results']== 1)]\n",
    "fail_inspection = food_data[food_data['results']== 0]"
   ]
  },
  {
   "cell_type": "markdown",
   "metadata": {},
   "source": [
    "### Let's utilize plotly and mapbox to display these restaurants in a map:"
   ]
  },
  {
   "cell_type": "code",
   "execution_count": 34,
   "metadata": {},
   "outputs": [
    {
     "name": "stdout",
     "output_type": "stream",
     "text": [
      "High five! You successfully sent some data to your account on plotly. View your plot in your browser at https://plot.ly/~dipakrimal/0 or inside your plot.ly account where it is named 'Chicago'\n"
     ]
    },
    {
     "name": "stderr",
     "output_type": "stream",
     "text": [
      "/anaconda3/lib/python3.7/site-packages/IPython/core/display.py:689: UserWarning:\n",
      "\n",
      "Consider using IPython.display.IFrame instead\n",
      "\n"
     ]
    },
    {
     "data": {
      "text/html": [
       "<iframe id=\"igraph\" scrolling=\"no\" style=\"border:none;\" seamless=\"seamless\" src=\"https://plot.ly/~dipakrimal/0.embed\" height=\"800px\" width=\"600px\"></iframe>"
      ],
      "text/plain": [
       "<plotly.tools.PlotlyDisplay object>"
      ]
     },
     "execution_count": 34,
     "metadata": {},
     "output_type": "execute_result"
    }
   ],
   "source": [
    "import plotly.plotly as py\n",
    "import plotly.graph_objs as go\n",
    "mapbox_access_token = \"pk.eyJ1IjoiZGlwYWtyaW1hbCIsImEiOiJjanR0NHp5Z3gxOGVtNGVsbHIxOGI3ZmV6In0.bmrI81LR7L441sUKqDeKmw\"\n",
    "\n",
    "data_pass = [\n",
    "    go.Scattermapbox(\n",
    "        lat=pass_inspection['latitude'],\n",
    "        lon=pass_inspection['longitude'],\n",
    "        mode='markers',\n",
    "        marker=go.scattermapbox.Marker(\n",
    "            size=12,\n",
    "            color='rgb(50, 200, 55)',\n",
    "            opacity=0.7\n",
    "        ),\n",
    "        text = pass_inspection['dba_name']  + ' <br> Pass ',\n",
    "        hoverinfo='text'\n",
    "    ),\n",
    "    go.Scattermapbox(\n",
    "        lat=fail_inspection['latitude'],\n",
    "        lon=fail_inspection['longitude'],\n",
    "        mode='markers',\n",
    "        marker=go.scattermapbox.Marker(\n",
    "            size=12, \n",
    "            color='rgb(255, 0, 0)',\n",
    "            opacity=0.7\n",
    "        ),\n",
    "         text = fail_inspection['dba_name'] + ' <br> Fail ',\n",
    "         hoverinfo='text'\n",
    "    )   \n",
    "]\n",
    "\n",
    "layout = go.Layout(\n",
    "    title = \"Chicago Food Insepections\",\n",
    "    width=600,\n",
    "    height=800,\n",
    "    showlegend=False,\n",
    "    hovermode='closest',\n",
    "    mapbox=go.layout.Mapbox(\n",
    "        accesstoken=mapbox_access_token,\n",
    "        bearing=0,\n",
    "        center=go.layout.mapbox.Center(\n",
    "            lat=41.9,\n",
    "            lon=-87.7\n",
    "        ),\n",
    "        pitch=10,\n",
    "        zoom=9,\n",
    "        style='outdoors'\n",
    "    ),\n",
    ")\n",
    "\n",
    "fig = go.Figure(data=data_pass, layout=layout)\n",
    "\n",
    "py.iplot(fig, filename='Chicago')"
   ]
  },
  {
   "cell_type": "code",
   "execution_count": 35,
   "metadata": {},
   "outputs": [
    {
     "data": {
      "text/html": [
       "<div>\n",
       "<style scoped>\n",
       "    .dataframe tbody tr th:only-of-type {\n",
       "        vertical-align: middle;\n",
       "    }\n",
       "\n",
       "    .dataframe tbody tr th {\n",
       "        vertical-align: top;\n",
       "    }\n",
       "\n",
       "    .dataframe thead th {\n",
       "        text-align: right;\n",
       "    }\n",
       "</style>\n",
       "<table border=\"1\" class=\"dataframe\">\n",
       "  <thead>\n",
       "    <tr style=\"text-align: right;\">\n",
       "      <th></th>\n",
       "      <th>address</th>\n",
       "      <th>aka_name</th>\n",
       "      <th>city</th>\n",
       "      <th>dba_name</th>\n",
       "      <th>facility_type</th>\n",
       "      <th>inspection_date</th>\n",
       "      <th>inspection_id</th>\n",
       "      <th>inspection_type</th>\n",
       "      <th>latitude</th>\n",
       "      <th>license</th>\n",
       "      <th>longitude</th>\n",
       "      <th>results</th>\n",
       "      <th>risk</th>\n",
       "      <th>minor_violations</th>\n",
       "      <th>non_critical_violations</th>\n",
       "      <th>critical_violations</th>\n",
       "      <th>facility_type_cat</th>\n",
       "      <th>risk_type_cat</th>\n",
       "    </tr>\n",
       "  </thead>\n",
       "  <tbody>\n",
       "    <tr>\n",
       "      <th>0</th>\n",
       "      <td>1958 W CHICAGO AVE</td>\n",
       "      <td>SUBWAY</td>\n",
       "      <td>CHICAGO</td>\n",
       "      <td>SUBWAY</td>\n",
       "      <td>Restaurant</td>\n",
       "      <td>2019-01-22</td>\n",
       "      <td>2252942</td>\n",
       "      <td>Canvass</td>\n",
       "      <td>41.896023</td>\n",
       "      <td>1677083</td>\n",
       "      <td>-87.676995</td>\n",
       "      <td>1</td>\n",
       "      <td>Risk 1 (High)</td>\n",
       "      <td>1</td>\n",
       "      <td>1</td>\n",
       "      <td>4</td>\n",
       "      <td>2</td>\n",
       "      <td>0</td>\n",
       "    </tr>\n",
       "    <tr>\n",
       "      <th>1003</th>\n",
       "      <td>606 S STATE ST</td>\n",
       "      <td>Jones Academy High School</td>\n",
       "      <td>CHICAGO</td>\n",
       "      <td>Jones Academy High School</td>\n",
       "      <td>School</td>\n",
       "      <td>2019-01-10</td>\n",
       "      <td>2252303</td>\n",
       "      <td>Canvass</td>\n",
       "      <td>41.874419</td>\n",
       "      <td>2132</td>\n",
       "      <td>-87.627755</td>\n",
       "      <td>1</td>\n",
       "      <td>Risk 1 (High)</td>\n",
       "      <td>2</td>\n",
       "      <td>0</td>\n",
       "      <td>1</td>\n",
       "      <td>3</td>\n",
       "      <td>0</td>\n",
       "    </tr>\n",
       "    <tr>\n",
       "      <th>1004</th>\n",
       "      <td>4646 N MARINE DR</td>\n",
       "      <td>LOUIS A. WEISS MEMORIAL HOSPITAL</td>\n",
       "      <td>CHICAGO</td>\n",
       "      <td>LOUIS A. WEISS MEMORIAL HOSPITAL</td>\n",
       "      <td>Restaurant</td>\n",
       "      <td>2019-02-21</td>\n",
       "      <td>2268322</td>\n",
       "      <td>Canvass</td>\n",
       "      <td>41.966860</td>\n",
       "      <td>1249761</td>\n",
       "      <td>-87.649135</td>\n",
       "      <td>0</td>\n",
       "      <td>Risk 1 (High)</td>\n",
       "      <td>0</td>\n",
       "      <td>1</td>\n",
       "      <td>9</td>\n",
       "      <td>2</td>\n",
       "      <td>0</td>\n",
       "    </tr>\n",
       "    <tr>\n",
       "      <th>1005</th>\n",
       "      <td>3141 W JACKSON BLVD</td>\n",
       "      <td>ALAIN LOCKE CHARTER ACADEMY</td>\n",
       "      <td>CHICAGO</td>\n",
       "      <td>ALAIN LOCKE CHARTER ACADEMY</td>\n",
       "      <td>School</td>\n",
       "      <td>2019-02-21</td>\n",
       "      <td>2268270</td>\n",
       "      <td>Canvass</td>\n",
       "      <td>41.877221</td>\n",
       "      <td>2206680</td>\n",
       "      <td>-87.705241</td>\n",
       "      <td>1</td>\n",
       "      <td>Risk 1 (High)</td>\n",
       "      <td>0</td>\n",
       "      <td>0</td>\n",
       "      <td>2</td>\n",
       "      <td>3</td>\n",
       "      <td>0</td>\n",
       "    </tr>\n",
       "    <tr>\n",
       "      <th>1006</th>\n",
       "      <td>1852 W NORTH AVE</td>\n",
       "      <td>THE PASTA BOWL</td>\n",
       "      <td>CHICAGO</td>\n",
       "      <td>THE PASTA BOWL</td>\n",
       "      <td>Restaurant</td>\n",
       "      <td>2019-02-11</td>\n",
       "      <td>2261851</td>\n",
       "      <td>Canvass</td>\n",
       "      <td>41.910639</td>\n",
       "      <td>2374782</td>\n",
       "      <td>-87.674707</td>\n",
       "      <td>1</td>\n",
       "      <td>Risk 1 (High)</td>\n",
       "      <td>3</td>\n",
       "      <td>0</td>\n",
       "      <td>8</td>\n",
       "      <td>2</td>\n",
       "      <td>0</td>\n",
       "    </tr>\n",
       "  </tbody>\n",
       "</table>\n",
       "</div>"
      ],
      "text/plain": [
       "                   address                          aka_name     city  \\\n",
       "0      1958 W CHICAGO AVE                             SUBWAY  CHICAGO   \n",
       "1003       606 S STATE ST          Jones Academy High School  CHICAGO   \n",
       "1004     4646 N MARINE DR   LOUIS A. WEISS MEMORIAL HOSPITAL  CHICAGO   \n",
       "1005  3141 W JACKSON BLVD        ALAIN LOCKE CHARTER ACADEMY  CHICAGO   \n",
       "1006     1852 W NORTH AVE                     THE PASTA BOWL  CHICAGO   \n",
       "\n",
       "                              dba_name facility_type inspection_date  \\\n",
       "0                               SUBWAY    Restaurant      2019-01-22   \n",
       "1003         Jones Academy High School        School      2019-01-10   \n",
       "1004  LOUIS A. WEISS MEMORIAL HOSPITAL    Restaurant      2019-02-21   \n",
       "1005       ALAIN LOCKE CHARTER ACADEMY        School      2019-02-21   \n",
       "1006                    THE PASTA BOWL    Restaurant      2019-02-11   \n",
       "\n",
       "      inspection_id inspection_type   latitude  license  longitude  results  \\\n",
       "0           2252942         Canvass  41.896023  1677083 -87.676995        1   \n",
       "1003        2252303         Canvass  41.874419     2132 -87.627755        1   \n",
       "1004        2268322         Canvass  41.966860  1249761 -87.649135        0   \n",
       "1005        2268270         Canvass  41.877221  2206680 -87.705241        1   \n",
       "1006        2261851         Canvass  41.910639  2374782 -87.674707        1   \n",
       "\n",
       "               risk  minor_violations  non_critical_violations  \\\n",
       "0     Risk 1 (High)                 1                        1   \n",
       "1003  Risk 1 (High)                 2                        0   \n",
       "1004  Risk 1 (High)                 0                        1   \n",
       "1005  Risk 1 (High)                 0                        0   \n",
       "1006  Risk 1 (High)                 3                        0   \n",
       "\n",
       "      critical_violations  facility_type_cat  risk_type_cat  \n",
       "0                       4                  2              0  \n",
       "1003                    1                  3              0  \n",
       "1004                    9                  2              0  \n",
       "1005                    2                  3              0  \n",
       "1006                    8                  2              0  "
      ]
     },
     "execution_count": 35,
     "metadata": {},
     "output_type": "execute_result"
    }
   ],
   "source": [
    "food_data.head(5)"
   ]
  },
  {
   "cell_type": "code",
   "execution_count": null,
   "metadata": {},
   "outputs": [],
   "source": []
  },
  {
   "cell_type": "markdown",
   "metadata": {},
   "source": [
    "#### I also want to use Yelp's rating and comments ( for some sort of sentiment analysis if possible) in my model. So let's see if that is feasible. To start with, I am focusing only on the restaurants (category) that failed in the inspection. Also note taht yelp caps 5000 API calls per per day so I chose to focus on failed restaurants only. "
   ]
  },
  {
   "cell_type": "code",
   "execution_count": 38,
   "metadata": {},
   "outputs": [],
   "source": [
    "res_fail = fail_inspection[fail_inspection['facility_type_cat'] == 2]"
   ]
  },
  {
   "cell_type": "markdown",
   "metadata": {},
   "source": [
    "### Let's write some functions to use Yelp API. "
   ]
  },
  {
   "cell_type": "code",
   "execution_count": 39,
   "metadata": {},
   "outputs": [],
   "source": [
    "# yelp authorization ( Need to hide this ! )\n",
    "import requests\n",
    "api_key='skulWTrlVslLqkj5vY7u9fJErIOi-FB1prbAhB4ftwLLBSN5CarHecqiOPET6gVDOUhiEfvMD5O8tn--Evkbdn0MujX5Lncp5TNPNw_rzT_pAHtW0qIBC0pPgcqrXHYx' \n",
    "headers = {'Authorization': 'Bearer %s' % api_key,}"
   ]
  },
  {
   "cell_type": "code",
   "execution_count": 40,
   "metadata": {},
   "outputs": [],
   "source": [
    "# find business match using business name (aka_name dba(doing business as name) \n",
    "def get_business_match(name, address, city=\"Chicago\", state='IL', country='US'):\n",
    "    params = {}\n",
    "    params[\"name\"] = name \n",
    "    params[\"address1\"] = address\n",
    "    params[\"city\"] = 'Chicago'\n",
    "    params[\"state\"] = 'IL'\n",
    "    params[\"country\"] = 'US'\n",
    "    \n",
    "    request = requests.get(\"https://api.yelp.com/v3/businesses/matches\",headers=headers,params=params)\n",
    "    #Transforms the JSON API response into a Python dictionary\n",
    "    data = request.json()\n",
    "    try:\n",
    "        return data['businesses'][0]['id']\n",
    "    except:\n",
    "        return 0"
   ]
  },
  {
   "cell_type": "code",
   "execution_count": 41,
   "metadata": {},
   "outputs": [],
   "source": [
    "## pull ratings and reviews of the matched businesses.\n",
    "\n",
    "def get_reviews(business_id):\n",
    "    query = \"https://api.yelp.com/v3/businesses/%s/reviews\" %business_id\n",
    "    try:\n",
    "        request = requests.get(query, headers=headers)\n",
    "        data = request.json()\n",
    "        return data\n",
    "    except:\n",
    "        ValueError(\"This business doesn't have any reviews\")\n",
    "        \n",
    "def get_rating(business_id):\n",
    "    try:\n",
    "        query = \"https://api.yelp.com/v3/businesses/%s\" %business_id\n",
    "        request = requests.get(query, headers=headers)\n",
    "        data = request.json()\n",
    "        return data[\"rating\"]\n",
    "    except:\n",
    "        return 9999"
   ]
  },
  {
   "cell_type": "code",
   "execution_count": 42,
   "metadata": {},
   "outputs": [],
   "source": [
    "def get_business_rating(name, address, city=\"Chicago\", state='IL', country='US'):\n",
    "    params = {}\n",
    "    params[\"name\"] = name \n",
    "    params[\"address1\"] = address\n",
    "    params[\"city\"] = 'Chicago'\n",
    "    params[\"state\"] = 'IL'\n",
    "    params[\"country\"] = 'US'\n",
    "    \n",
    "    request = requests.get(\"https://api.yelp.com/v3/businesses/matches\",headers=headers,params=params)\n",
    "    #Transforms the JSON API response into a Python dictionary\n",
    "    data = request.json()\n",
    "    try:\n",
    "        return get_rating(['businesses'][0]['id'])\n",
    "        \n",
    "    except:\n",
    "        return 9999"
   ]
  },
  {
   "cell_type": "markdown",
   "metadata": {},
   "source": [
    "### Let's pull the information from the failed restaurants. "
   ]
  },
  {
   "cell_type": "code",
   "execution_count": 43,
   "metadata": {},
   "outputs": [
    {
     "data": {
      "text/plain": [
       "<matplotlib.axes._subplots.AxesSubplot at 0x1a28938c88>"
      ]
     },
     "execution_count": 43,
     "metadata": {},
     "output_type": "execute_result"
    },
    {
     "data": {
      "image/png": "[encoded data removed]",
      "text/plain": [
       "<Figure size 864x360 with 1 Axes>"
      ]
     },
     "metadata": {
      "needs_background": "light"
     },
     "output_type": "display_data"
    }
   ],
   "source": [
    "res_fail['yelp_id'] = res_fail.apply(lambda x: get_business_match(x['aka_name'], x['address']), axis=1)\n",
    "res_fail['rating'] = res_fail.apply(lambda x: get_rating(x[\"yelp_id\"]), axis=1)\n",
    "res_fail[res_fail['rating'] < 6]['rating'].hist()"
   ]
  },
  {
   "cell_type": "markdown",
   "metadata": {},
   "source": [
    "That is encouraging! Looks like we can factor in those yelp ratings in our model. The mean rating has a peak at 4 even for failed restaurants but there is also a significant tail at the lower end of the spectrum. I may end of using it but I will have to set up a cronjob to make daily api calls for all these businesses."
   ]
  },
  {
   "cell_type": "markdown",
   "metadata": {},
   "source": [
    "## Burglary Data\n",
    "Is there any connection with the crime and food inspection failures? May be ! For now, I am focusing on the burgalaries only. The burglary data is the chicago's crime data filtered for burgalaries only (in the same time window i.e. first 3 months of 2019). "
   ]
  },
  {
   "cell_type": "code",
   "execution_count": 50,
   "metadata": {},
   "outputs": [],
   "source": [
    "burglary = pd.read_json('../data/raw/burglary.json', convert_dates = ['date'])"
   ]
  },
  {
   "cell_type": "code",
   "execution_count": 51,
   "metadata": {},
   "outputs": [
    {
     "data": {
      "text/html": [
       "<div>\n",
       "<style scoped>\n",
       "    .dataframe tbody tr th:only-of-type {\n",
       "        vertical-align: middle;\n",
       "    }\n",
       "\n",
       "    .dataframe tbody tr th {\n",
       "        vertical-align: top;\n",
       "    }\n",
       "\n",
       "    .dataframe thead th {\n",
       "        text-align: right;\n",
       "    }\n",
       "</style>\n",
       "<table border=\"1\" class=\"dataframe\">\n",
       "  <thead>\n",
       "    <tr style=\"text-align: right;\">\n",
       "      <th></th>\n",
       "      <th>arrest</th>\n",
       "      <th>beat</th>\n",
       "      <th>block</th>\n",
       "      <th>case_number</th>\n",
       "      <th>community_area</th>\n",
       "      <th>date</th>\n",
       "      <th>description</th>\n",
       "      <th>district</th>\n",
       "      <th>domestic</th>\n",
       "      <th>fbi_code</th>\n",
       "      <th>id</th>\n",
       "      <th>iucr</th>\n",
       "      <th>latitude</th>\n",
       "      <th>location</th>\n",
       "      <th>location_description</th>\n",
       "      <th>longitude</th>\n",
       "      <th>primary_type</th>\n",
       "      <th>updated_on</th>\n",
       "      <th>ward</th>\n",
       "      <th>x_coordinate</th>\n",
       "      <th>y_coordinate</th>\n",
       "      <th>year</th>\n",
       "    </tr>\n",
       "  </thead>\n",
       "  <tbody>\n",
       "    <tr>\n",
       "      <th>0</th>\n",
       "      <td>False</td>\n",
       "      <td>1224</td>\n",
       "      <td>001XX N ABERDEEN ST</td>\n",
       "      <td>JC167066</td>\n",
       "      <td>28</td>\n",
       "      <td>2019-02-20 16:10:00</td>\n",
       "      <td>UNLAWFUL ENTRY</td>\n",
       "      <td>12</td>\n",
       "      <td>False</td>\n",
       "      <td>5</td>\n",
       "      <td>11607949</td>\n",
       "      <td>620</td>\n",
       "      <td>41.883405</td>\n",
       "      <td>{'type': 'Point', 'coordinates': [-87.65440995...</td>\n",
       "      <td>RESIDENCE</td>\n",
       "      <td>-87.654410</td>\n",
       "      <td>BURGLARY</td>\n",
       "      <td>2019-03-20T16:10:43.000</td>\n",
       "      <td>27</td>\n",
       "      <td>1169127.0</td>\n",
       "      <td>1900834.0</td>\n",
       "      <td>2019</td>\n",
       "    </tr>\n",
       "    <tr>\n",
       "      <th>1</th>\n",
       "      <td>True</td>\n",
       "      <td>2212</td>\n",
       "      <td>118XX S CAMPBELL AVE</td>\n",
       "      <td>JC105434</td>\n",
       "      <td>75</td>\n",
       "      <td>2019-01-05 04:00:00</td>\n",
       "      <td>FORCIBLE ENTRY</td>\n",
       "      <td>22</td>\n",
       "      <td>False</td>\n",
       "      <td>5</td>\n",
       "      <td>11557236</td>\n",
       "      <td>610</td>\n",
       "      <td>41.678287</td>\n",
       "      <td>{'type': 'Point', 'coordinates': [-87.68318270...</td>\n",
       "      <td>RESIDENCE-GARAGE</td>\n",
       "      <td>-87.683183</td>\n",
       "      <td>BURGLARY</td>\n",
       "      <td>2019-03-03T15:57:48.000</td>\n",
       "      <td>19</td>\n",
       "      <td>1161857.0</td>\n",
       "      <td>1826030.0</td>\n",
       "      <td>2019</td>\n",
       "    </tr>\n",
       "    <tr>\n",
       "      <th>10</th>\n",
       "      <td>False</td>\n",
       "      <td>332</td>\n",
       "      <td>067XX S EAST END AVE</td>\n",
       "      <td>JC174019</td>\n",
       "      <td>43</td>\n",
       "      <td>2019-03-01 17:00:00</td>\n",
       "      <td>FORCIBLE ENTRY</td>\n",
       "      <td>3</td>\n",
       "      <td>False</td>\n",
       "      <td>5</td>\n",
       "      <td>11613569</td>\n",
       "      <td>610</td>\n",
       "      <td>41.772468</td>\n",
       "      <td>{'type': 'Point', 'coordinates': [-87.58383864...</td>\n",
       "      <td>APARTMENT</td>\n",
       "      <td>-87.583839</td>\n",
       "      <td>BURGLARY</td>\n",
       "      <td>2019-03-08T16:36:43.000</td>\n",
       "      <td>5</td>\n",
       "      <td>1188697.0</td>\n",
       "      <td>1860569.0</td>\n",
       "      <td>2019</td>\n",
       "    </tr>\n",
       "    <tr>\n",
       "      <th>100</th>\n",
       "      <td>False</td>\n",
       "      <td>531</td>\n",
       "      <td>112XX S DR MARTIN LUTHER KING JR DR</td>\n",
       "      <td>JC108548</td>\n",
       "      <td>49</td>\n",
       "      <td>2019-01-03 08:00:00</td>\n",
       "      <td>FORCIBLE ENTRY</td>\n",
       "      <td>5</td>\n",
       "      <td>False</td>\n",
       "      <td>5</td>\n",
       "      <td>11559818</td>\n",
       "      <td>610</td>\n",
       "      <td>41.690368</td>\n",
       "      <td>{'type': 'Point', 'coordinates': [-87.61330642...</td>\n",
       "      <td>APARTMENT</td>\n",
       "      <td>-87.613306</td>\n",
       "      <td>BURGLARY</td>\n",
       "      <td>2019-01-10T15:16:50.000</td>\n",
       "      <td>9</td>\n",
       "      <td>1180909.0</td>\n",
       "      <td>1830584.0</td>\n",
       "      <td>2019</td>\n",
       "    </tr>\n",
       "    <tr>\n",
       "      <th>1000</th>\n",
       "      <td>False</td>\n",
       "      <td>1122</td>\n",
       "      <td>036XX W FRANKLIN BLVD</td>\n",
       "      <td>JC146723</td>\n",
       "      <td>23</td>\n",
       "      <td>2019-02-09 16:00:00</td>\n",
       "      <td>UNLAWFUL ENTRY</td>\n",
       "      <td>11</td>\n",
       "      <td>False</td>\n",
       "      <td>5</td>\n",
       "      <td>11591188</td>\n",
       "      <td>620</td>\n",
       "      <td>41.889952</td>\n",
       "      <td>{'type': 'Point', 'coordinates': [-87.71650033...</td>\n",
       "      <td>APARTMENT</td>\n",
       "      <td>-87.716500</td>\n",
       "      <td>BURGLARY</td>\n",
       "      <td>2019-02-16T16:06:44.000</td>\n",
       "      <td>27</td>\n",
       "      <td>1152202.0</td>\n",
       "      <td>1903092.0</td>\n",
       "      <td>2019</td>\n",
       "    </tr>\n",
       "  </tbody>\n",
       "</table>\n",
       "</div>"
      ],
      "text/plain": [
       "      arrest  beat                                block case_number  \\\n",
       "0      False  1224                  001XX N ABERDEEN ST    JC167066   \n",
       "1       True  2212                 118XX S CAMPBELL AVE    JC105434   \n",
       "10     False   332                 067XX S EAST END AVE    JC174019   \n",
       "100    False   531  112XX S DR MARTIN LUTHER KING JR DR    JC108548   \n",
       "1000   False  1122                036XX W FRANKLIN BLVD    JC146723   \n",
       "\n",
       "      community_area                date     description  district  domestic  \\\n",
       "0                 28 2019-02-20 16:10:00  UNLAWFUL ENTRY        12     False   \n",
       "1                 75 2019-01-05 04:00:00  FORCIBLE ENTRY        22     False   \n",
       "10                43 2019-03-01 17:00:00  FORCIBLE ENTRY         3     False   \n",
       "100               49 2019-01-03 08:00:00  FORCIBLE ENTRY         5     False   \n",
       "1000              23 2019-02-09 16:00:00  UNLAWFUL ENTRY        11     False   \n",
       "\n",
       "      fbi_code        id  iucr   latitude  \\\n",
       "0            5  11607949   620  41.883405   \n",
       "1            5  11557236   610  41.678287   \n",
       "10           5  11613569   610  41.772468   \n",
       "100          5  11559818   610  41.690368   \n",
       "1000         5  11591188   620  41.889952   \n",
       "\n",
       "                                               location location_description  \\\n",
       "0     {'type': 'Point', 'coordinates': [-87.65440995...            RESIDENCE   \n",
       "1     {'type': 'Point', 'coordinates': [-87.68318270...     RESIDENCE-GARAGE   \n",
       "10    {'type': 'Point', 'coordinates': [-87.58383864...            APARTMENT   \n",
       "100   {'type': 'Point', 'coordinates': [-87.61330642...            APARTMENT   \n",
       "1000  {'type': 'Point', 'coordinates': [-87.71650033...            APARTMENT   \n",
       "\n",
       "      longitude primary_type               updated_on  ward  x_coordinate  \\\n",
       "0    -87.654410     BURGLARY  2019-03-20T16:10:43.000    27     1169127.0   \n",
       "1    -87.683183     BURGLARY  2019-03-03T15:57:48.000    19     1161857.0   \n",
       "10   -87.583839     BURGLARY  2019-03-08T16:36:43.000     5     1188697.0   \n",
       "100  -87.613306     BURGLARY  2019-01-10T15:16:50.000     9     1180909.0   \n",
       "1000 -87.716500     BURGLARY  2019-02-16T16:06:44.000    27     1152202.0   \n",
       "\n",
       "      y_coordinate  year  \n",
       "0        1900834.0  2019  \n",
       "1        1826030.0  2019  \n",
       "10       1860569.0  2019  \n",
       "100      1830584.0  2019  \n",
       "1000     1903092.0  2019  "
      ]
     },
     "execution_count": 51,
     "metadata": {},
     "output_type": "execute_result"
    }
   ],
   "source": [
    "burglary.head()"
   ]
  },
  {
   "cell_type": "code",
   "execution_count": 52,
   "metadata": {},
   "outputs": [],
   "source": [
    "shape = burglary.shape"
   ]
  },
  {
   "cell_type": "code",
   "execution_count": 53,
   "metadata": {},
   "outputs": [
    {
     "name": "stdout",
     "output_type": "stream",
     "text": [
      " There are 2120 rows and 22 columns in the data\n"
     ]
    }
   ],
   "source": [
    "print(\" There are %d rows and %d columns in the data\" % (shape[0], shape[1]))"
   ]
  },
  {
   "cell_type": "code",
   "execution_count": 54,
   "metadata": {},
   "outputs": [
    {
     "name": "stdout",
     "output_type": "stream",
     "text": [
      "<class 'pandas.core.frame.DataFrame'>\n",
      "Int64Index: 2120 entries, 0 to 999\n",
      "Data columns (total 22 columns):\n",
      "arrest                  2120 non-null bool\n",
      "beat                    2120 non-null int64\n",
      "block                   2120 non-null object\n",
      "case_number             2120 non-null object\n",
      "community_area          2120 non-null int64\n",
      "date                    2120 non-null datetime64[ns]\n",
      "description             2120 non-null object\n",
      "district                2120 non-null int64\n",
      "domestic                2120 non-null bool\n",
      "fbi_code                2120 non-null int64\n",
      "id                      2120 non-null int64\n",
      "iucr                    2120 non-null int64\n",
      "latitude                2111 non-null float64\n",
      "location                2111 non-null object\n",
      "location_description    2120 non-null object\n",
      "longitude               2111 non-null float64\n",
      "primary_type            2120 non-null object\n",
      "updated_on              2120 non-null object\n",
      "ward                    2120 non-null int64\n",
      "x_coordinate            2111 non-null float64\n",
      "y_coordinate            2111 non-null float64\n",
      "year                    2120 non-null int64\n",
      "dtypes: bool(2), datetime64[ns](1), float64(4), int64(8), object(7)\n",
      "memory usage: 352.0+ KB\n"
     ]
    }
   ],
   "source": [
    "burglary.info()"
   ]
  },
  {
   "cell_type": "code",
   "execution_count": 55,
   "metadata": {},
   "outputs": [],
   "source": [
    "#burglary.groupby('district')['case_number'].hist()"
   ]
  },
  {
   "cell_type": "code",
   "execution_count": 299,
   "metadata": {},
   "outputs": [
    {
     "data": {
      "text/plain": [
       "district\n",
       "1      30\n",
       "2      79\n",
       "3     128\n",
       "4     133\n",
       "5      95\n",
       "6     136\n",
       "7      95\n",
       "8     163\n",
       "9     101\n",
       "10     80\n",
       "     ... \n",
       "14     97\n",
       "15     68\n",
       "16     80\n",
       "17     96\n",
       "18     53\n",
       "19    135\n",
       "20     44\n",
       "22     70\n",
       "24    108\n",
       "25    148\n",
       "Name: ward, Length: 22, dtype: int64"
      ]
     },
     "execution_count": 299,
     "metadata": {},
     "output_type": "execute_result"
    }
   ],
   "source": [
    "burglary.groupby('district')['ward'].count()"
   ]
  },
  {
   "cell_type": "code",
   "execution_count": 300,
   "metadata": {},
   "outputs": [
    {
     "data": {
      "text/plain": [
       "Text(0.5, 1.0, 'Burglaries by Ward')"
      ]
     },
     "execution_count": 300,
     "metadata": {},
     "output_type": "execute_result"
    },
    {
     "data": {
      "image/png": "[encoded data removed]",
      "text/plain": [
       "<Figure size 864x360 with 1 Axes>"
      ]
     },
     "metadata": {},
     "output_type": "display_data"
    }
   ],
   "source": [
    "ax = sns.countplot(x=\"ward\", data=burglary)\n",
    "plt.title(\"Burglaries by Ward\")\n",
    "plt.show()"
   ]
  },
  {
   "cell_type": "markdown",
   "metadata": {},
   "source": [
    "####  This is just a placeholder to associate these wards on the map, not the correct map yet. I am trying to make a similar map to show burglary statistics. \n",
    "![title](chicago_ward.jpg)"
   ]
  },
  {
   "cell_type": "code",
   "execution_count": 56,
   "metadata": {},
   "outputs": [],
   "source": [
    "burglary_per_day = pd.DataFrame()\n",
    "burglary_per_day =  burglary[['date', 'case_number']]\n",
    "burglary_per_day = burglary_per_day.set_index(pd.to_datetime(burglary_per_day['date']))\n",
    "burglary_per_day = burglary_per_day.resample('D').count()\n"
   ]
  },
  {
   "cell_type": "code",
   "execution_count": 57,
   "metadata": {},
   "outputs": [
    {
     "data": {
      "text/plain": [
       "[<matplotlib.lines.Line2D at 0x1a285a7b70>,\n",
       " <matplotlib.lines.Line2D at 0x1a2857c940>]"
      ]
     },
     "execution_count": 57,
     "metadata": {},
     "output_type": "execute_result"
    },
    {
     "data": {
      "text/plain": [
       "Text(0.5, 0, 'Date')"
      ]
     },
     "execution_count": 57,
     "metadata": {},
     "output_type": "execute_result"
    },
    {
     "data": {
      "text/plain": [
       "Text(0, 0.5, 'Number of Cases Reported')"
      ]
     },
     "execution_count": 57,
     "metadata": {},
     "output_type": "execute_result"
    },
    {
     "data": {
      "text/plain": [
       "Text(0.5, 1.0, 'Burglaries Reported')"
      ]
     },
     "execution_count": 57,
     "metadata": {},
     "output_type": "execute_result"
    },
    {
     "data": {
      "image/png": "[encoded data removed]",
      "text/plain": [
       "<Figure size 864x360 with 1 Axes>"
      ]
     },
     "metadata": {
      "needs_background": "light"
     },
     "output_type": "display_data"
    }
   ],
   "source": [
    "plt.rcParams['figure.figsize'] = 12,5\n",
    "fig, ax = plt.subplots()\n",
    "fig.autofmt_xdate()\n",
    "#\n",
    "ax.xaxis.set_major_locator(mdates.MonthLocator())\n",
    "ax.xaxis.set_minor_locator(mdates.DayLocator())\n",
    "monthFmt = mdates.DateFormatter('%Y-%b')\n",
    "ax.xaxis.set_major_formatter(monthFmt)\n",
    "\n",
    "plt.plot(burglary_per_day.index, burglary_per_day, 'r-')\n",
    "plt.xlabel('Date')\n",
    "plt.ylabel('Number of Cases Reported')\n",
    "plt.title('Burglaries Reported')\n",
    "plt.show()"
   ]
  },
  {
   "cell_type": "markdown",
   "metadata": {},
   "source": []
  },
  {
   "cell_type": "code",
   "execution_count": 58,
   "metadata": {},
   "outputs": [
    {
     "data": {
      "text/plain": [
       "'\\nimport plotly.plotly as py\\nimport plotly.figure_factory as ff\\nimport numpy as np\\nimport pandas as pd\\n\\naggs = [\"count\"]\\nagg = []\\nagg_func = []\\nfor i in range(0, len(aggs)):\\n    agg = dict(\\n        args=[\\'transforms[0].aggregations[0].func\\', aggs[i]],\\n        label=aggs[i],\\n        method=\\'restyle\\'\\n    )\\n    agg_func.append(agg)\\n\\n\\ncolorscale = [\\n    \\'rgb(193, 193, 193)\\',\\n    \\'rgb(239,239,239)\\',\\n    \\'rgb(195, 196, 222)\\',\\n    \\'rgb(144,148,194)\\',\\n    \\'rgb(101,104,168)\\',\\n    \\'rgb(65, 53, 132)\\'\\n]\\n\\nfig = ff.create_choropleth(\\n    fips=fips, values=values, scope=[\\'IL\\'],\\n    binning_endpoints=[14348, 63983, 134827, 426762, 2081313], colorscale=colorscale,\\n    county_outline={\\'color\\': \\'rgb(255,255,255)\\', \\'width\\': 0.5}, round_legend_values=True,\\n    legend_title=\\'Crimes by Ward\\', title=\\'Chicago IL\\'\\n)\\npy.iplot(fig, filename=\\'choropleth_crimes_by_ward_chicago\\')\\n'"
      ]
     },
     "execution_count": 58,
     "metadata": {},
     "output_type": "execute_result"
    }
   ],
   "source": [
    "'''\n",
    "import plotly.plotly as py\n",
    "import plotly.figure_factory as ff\n",
    "import numpy as np\n",
    "import pandas as pd\n",
    "\n",
    "aggs = [\"count\"]\n",
    "agg = []\n",
    "agg_func = []\n",
    "for i in range(0, len(aggs)):\n",
    "    agg = dict(\n",
    "        args=['transforms[0].aggregations[0].func', aggs[i]],\n",
    "        label=aggs[i],\n",
    "        method='restyle'\n",
    "    )\n",
    "    agg_func.append(agg)\n",
    "\n",
    "\n",
    "colorscale = [\n",
    "    'rgb(193, 193, 193)',\n",
    "    'rgb(239,239,239)',\n",
    "    'rgb(195, 196, 222)',\n",
    "    'rgb(144,148,194)',\n",
    "    'rgb(101,104,168)',\n",
    "    'rgb(65, 53, 132)'\n",
    "]\n",
    "\n",
    "fig = ff.create_choropleth(\n",
    "    fips=fips, values=values, scope=['IL'],\n",
    "    binning_endpoints=[14348, 63983, 134827, 426762, 2081313], colorscale=colorscale,\n",
    "    county_outline={'color': 'rgb(255,255,255)', 'width': 0.5}, round_legend_values=True,\n",
    "    legend_title='Crimes by Ward', title='Chicago IL'\n",
    ")\n",
    "py.iplot(fig, filename='choropleth_crimes_by_ward_chicago')\n",
    "'''"
   ]
  },
  {
   "cell_type": "code",
   "execution_count": null,
   "metadata": {},
   "outputs": [],
   "source": []
  },
  {
   "cell_type": "markdown",
   "metadata": {},
   "source": [
    "\n",
    "## Business License\n",
    "Data from business licenses. This will help us looking into licensing situation of the business whether there is tobaco/alcohol liscences or how that is related to the inspection failure. or may help answer if the businesses are more cleaner when they are close to duedate for license renewal?  "
   ]
  },
  {
   "cell_type": "code",
   "execution_count": 59,
   "metadata": {},
   "outputs": [],
   "source": [
    "business = pd.read_csv('../data/raw/Business_Licenses.csv', parse_dates = True)"
   ]
  },
  {
   "cell_type": "code",
   "execution_count": 60,
   "metadata": {},
   "outputs": [
    {
     "data": {
      "text/html": [
       "<div>\n",
       "<style scoped>\n",
       "    .dataframe tbody tr th:only-of-type {\n",
       "        vertical-align: middle;\n",
       "    }\n",
       "\n",
       "    .dataframe tbody tr th {\n",
       "        vertical-align: top;\n",
       "    }\n",
       "\n",
       "    .dataframe thead th {\n",
       "        text-align: right;\n",
       "    }\n",
       "</style>\n",
       "<table border=\"1\" class=\"dataframe\">\n",
       "  <thead>\n",
       "    <tr style=\"text-align: right;\">\n",
       "      <th></th>\n",
       "      <th>ID</th>\n",
       "      <th>LICENSE ID</th>\n",
       "      <th>ACCOUNT NUMBER</th>\n",
       "      <th>SITE NUMBER</th>\n",
       "      <th>LEGAL NAME</th>\n",
       "      <th>DOING BUSINESS AS NAME</th>\n",
       "      <th>ADDRESS</th>\n",
       "      <th>CITY</th>\n",
       "      <th>STATE</th>\n",
       "      <th>ZIP CODE</th>\n",
       "      <th>WARD</th>\n",
       "      <th>PRECINCT</th>\n",
       "      <th>WARD PRECINCT</th>\n",
       "      <th>POLICE DISTRICT</th>\n",
       "      <th>LICENSE CODE</th>\n",
       "      <th>...</th>\n",
       "      <th>APPLICATION TYPE</th>\n",
       "      <th>APPLICATION CREATED DATE</th>\n",
       "      <th>APPLICATION REQUIREMENTS COMPLETE</th>\n",
       "      <th>PAYMENT DATE</th>\n",
       "      <th>CONDITIONAL APPROVAL</th>\n",
       "      <th>LICENSE TERM START DATE</th>\n",
       "      <th>LICENSE TERM EXPIRATION DATE</th>\n",
       "      <th>LICENSE APPROVED FOR ISSUANCE</th>\n",
       "      <th>DATE ISSUED</th>\n",
       "      <th>LICENSE STATUS</th>\n",
       "      <th>LICENSE STATUS CHANGE DATE</th>\n",
       "      <th>SSA</th>\n",
       "      <th>LATITUDE</th>\n",
       "      <th>LONGITUDE</th>\n",
       "      <th>LOCATION</th>\n",
       "    </tr>\n",
       "  </thead>\n",
       "  <tbody>\n",
       "    <tr>\n",
       "      <th>0</th>\n",
       "      <td>22308-20060816</td>\n",
       "      <td>1723393</td>\n",
       "      <td>29481</td>\n",
       "      <td>1</td>\n",
       "      <td>BELL OIL TERMINAL INC</td>\n",
       "      <td>Bell Oil Terminal LLC</td>\n",
       "      <td>3741 S PULASKI RD  1</td>\n",
       "      <td>CHICAGO</td>\n",
       "      <td>IL</td>\n",
       "      <td>60623</td>\n",
       "      <td>14.0</td>\n",
       "      <td>NaN</td>\n",
       "      <td>14-</td>\n",
       "      <td>8.0</td>\n",
       "      <td>1010</td>\n",
       "      <td>...</td>\n",
       "      <td>RENEW</td>\n",
       "      <td>NaN</td>\n",
       "      <td>06/21/2006</td>\n",
       "      <td>08/10/2006</td>\n",
       "      <td>N</td>\n",
       "      <td>08/16/2006</td>\n",
       "      <td>08/15/2007</td>\n",
       "      <td>08/10/2006</td>\n",
       "      <td>08/11/2006</td>\n",
       "      <td>AAI</td>\n",
       "      <td>NaN</td>\n",
       "      <td>NaN</td>\n",
       "      <td>41.825320</td>\n",
       "      <td>-87.723960</td>\n",
       "      <td>(41.82531992987547, -87.72395999659746)</td>\n",
       "    </tr>\n",
       "    <tr>\n",
       "      <th>1</th>\n",
       "      <td>1620668-20160516</td>\n",
       "      <td>2455262</td>\n",
       "      <td>295026</td>\n",
       "      <td>1</td>\n",
       "      <td>BUCCI BIG &amp; TALL INC.</td>\n",
       "      <td>BUCCI BIG &amp; TALL INC.</td>\n",
       "      <td>558 W ROOSEVELT RD</td>\n",
       "      <td>CHICAGO</td>\n",
       "      <td>IL</td>\n",
       "      <td>60607</td>\n",
       "      <td>25.0</td>\n",
       "      <td>28.0</td>\n",
       "      <td>25-28</td>\n",
       "      <td>1.0</td>\n",
       "      <td>1010</td>\n",
       "      <td>...</td>\n",
       "      <td>RENEW</td>\n",
       "      <td>NaN</td>\n",
       "      <td>03/15/2016</td>\n",
       "      <td>05/18/2016</td>\n",
       "      <td>N</td>\n",
       "      <td>05/16/2016</td>\n",
       "      <td>05/15/2018</td>\n",
       "      <td>05/18/2016</td>\n",
       "      <td>08/30/2016</td>\n",
       "      <td>AAI</td>\n",
       "      <td>NaN</td>\n",
       "      <td>NaN</td>\n",
       "      <td>41.867339</td>\n",
       "      <td>-87.641590</td>\n",
       "      <td>(41.86733856638269, -87.64159005699716)</td>\n",
       "    </tr>\n",
       "    <tr>\n",
       "      <th>2</th>\n",
       "      <td>2368602-20160616</td>\n",
       "      <td>2460909</td>\n",
       "      <td>291461</td>\n",
       "      <td>3</td>\n",
       "      <td>PROJECT: VISION , INC.</td>\n",
       "      <td>PROJECT : VISION , INC</td>\n",
       "      <td>2301 S ARCHER AVE 1 1</td>\n",
       "      <td>CHICAGO</td>\n",
       "      <td>IL</td>\n",
       "      <td>60616</td>\n",
       "      <td>25.0</td>\n",
       "      <td>18.0</td>\n",
       "      <td>25-18</td>\n",
       "      <td>9.0</td>\n",
       "      <td>1625</td>\n",
       "      <td>...</td>\n",
       "      <td>RENEW</td>\n",
       "      <td>NaN</td>\n",
       "      <td>04/15/2016</td>\n",
       "      <td>06/21/2016</td>\n",
       "      <td>N</td>\n",
       "      <td>06/16/2016</td>\n",
       "      <td>06/15/2017</td>\n",
       "      <td>06/21/2016</td>\n",
       "      <td>06/22/2016</td>\n",
       "      <td>AAC</td>\n",
       "      <td>08/30/2016</td>\n",
       "      <td>NaN</td>\n",
       "      <td>41.850843</td>\n",
       "      <td>-87.638734</td>\n",
       "      <td>(41.85084294374687, -87.63873424399071)</td>\n",
       "    </tr>\n",
       "    <tr>\n",
       "      <th>3</th>\n",
       "      <td>2060891-20141016</td>\n",
       "      <td>2353257</td>\n",
       "      <td>357247</td>\n",
       "      <td>1</td>\n",
       "      <td>FOLASHADE'S CLEANING SERVICE INC.</td>\n",
       "      <td>FOLASHADE'S CLEANING SERVICE INC.</td>\n",
       "      <td>1965  BERNICE RD 1 1SW</td>\n",
       "      <td>LANSING</td>\n",
       "      <td>IL</td>\n",
       "      <td>60438</td>\n",
       "      <td>NaN</td>\n",
       "      <td>NaN</td>\n",
       "      <td>NaN</td>\n",
       "      <td>NaN</td>\n",
       "      <td>1010</td>\n",
       "      <td>...</td>\n",
       "      <td>RENEW</td>\n",
       "      <td>NaN</td>\n",
       "      <td>08/15/2014</td>\n",
       "      <td>04/01/2016</td>\n",
       "      <td>N</td>\n",
       "      <td>10/16/2014</td>\n",
       "      <td>10/15/2016</td>\n",
       "      <td>04/01/2016</td>\n",
       "      <td>04/01/2016</td>\n",
       "      <td>AAI</td>\n",
       "      <td>NaN</td>\n",
       "      <td>38.0</td>\n",
       "      <td>41.951316</td>\n",
       "      <td>-87.678586</td>\n",
       "      <td>(41.95131555606832, -87.67858578019546)</td>\n",
       "    </tr>\n",
       "    <tr>\n",
       "      <th>4</th>\n",
       "      <td>1144216-20070516</td>\n",
       "      <td>1804790</td>\n",
       "      <td>147</td>\n",
       "      <td>63</td>\n",
       "      <td>WALGREEN CO.</td>\n",
       "      <td>Walgreens # 05192</td>\n",
       "      <td>9148 S COMMERCIAL AVE 1ST</td>\n",
       "      <td>CHICAGO</td>\n",
       "      <td>IL</td>\n",
       "      <td>60617</td>\n",
       "      <td>10.0</td>\n",
       "      <td>25.0</td>\n",
       "      <td>10-25</td>\n",
       "      <td>4.0</td>\n",
       "      <td>1010</td>\n",
       "      <td>...</td>\n",
       "      <td>RENEW</td>\n",
       "      <td>NaN</td>\n",
       "      <td>03/23/2007</td>\n",
       "      <td>05/10/2007</td>\n",
       "      <td>N</td>\n",
       "      <td>05/16/2007</td>\n",
       "      <td>05/15/2008</td>\n",
       "      <td>05/10/2007</td>\n",
       "      <td>05/11/2007</td>\n",
       "      <td>AAI</td>\n",
       "      <td>NaN</td>\n",
       "      <td>5.0</td>\n",
       "      <td>41.728622</td>\n",
       "      <td>-87.551366</td>\n",
       "      <td>(41.72862173556932, -87.55136646594693)</td>\n",
       "    </tr>\n",
       "  </tbody>\n",
       "</table>\n",
       "<p>5 rows × 34 columns</p>\n",
       "</div>"
      ],
      "text/plain": [
       "                 ID  LICENSE ID  ACCOUNT NUMBER  SITE NUMBER  \\\n",
       "0    22308-20060816     1723393           29481            1   \n",
       "1  1620668-20160516     2455262          295026            1   \n",
       "2  2368602-20160616     2460909          291461            3   \n",
       "3  2060891-20141016     2353257          357247            1   \n",
       "4  1144216-20070516     1804790             147           63   \n",
       "\n",
       "                          LEGAL NAME             DOING BUSINESS AS NAME  \\\n",
       "0              BELL OIL TERMINAL INC              Bell Oil Terminal LLC   \n",
       "1              BUCCI BIG & TALL INC.              BUCCI BIG & TALL INC.   \n",
       "2             PROJECT: VISION , INC.             PROJECT : VISION , INC   \n",
       "3  FOLASHADE'S CLEANING SERVICE INC.  FOLASHADE'S CLEANING SERVICE INC.   \n",
       "4                       WALGREEN CO.                  Walgreens # 05192   \n",
       "\n",
       "                     ADDRESS     CITY STATE ZIP CODE  WARD  PRECINCT  \\\n",
       "0       3741 S PULASKI RD  1  CHICAGO    IL    60623  14.0       NaN   \n",
       "1         558 W ROOSEVELT RD  CHICAGO    IL    60607  25.0      28.0   \n",
       "2      2301 S ARCHER AVE 1 1  CHICAGO    IL    60616  25.0      18.0   \n",
       "3     1965  BERNICE RD 1 1SW  LANSING    IL    60438   NaN       NaN   \n",
       "4  9148 S COMMERCIAL AVE 1ST  CHICAGO    IL    60617  10.0      25.0   \n",
       "\n",
       "  WARD PRECINCT  POLICE DISTRICT  LICENSE CODE  \\\n",
       "0           14-              8.0          1010   \n",
       "1         25-28              1.0          1010   \n",
       "2         25-18              9.0          1625   \n",
       "3           NaN              NaN          1010   \n",
       "4         10-25              4.0          1010   \n",
       "\n",
       "                    ...                    APPLICATION TYPE  \\\n",
       "0                   ...                               RENEW   \n",
       "1                   ...                               RENEW   \n",
       "2                   ...                               RENEW   \n",
       "3                   ...                               RENEW   \n",
       "4                   ...                               RENEW   \n",
       "\n",
       "  APPLICATION CREATED DATE APPLICATION REQUIREMENTS COMPLETE  PAYMENT DATE  \\\n",
       "0                      NaN                        06/21/2006    08/10/2006   \n",
       "1                      NaN                        03/15/2016    05/18/2016   \n",
       "2                      NaN                        04/15/2016    06/21/2016   \n",
       "3                      NaN                        08/15/2014    04/01/2016   \n",
       "4                      NaN                        03/23/2007    05/10/2007   \n",
       "\n",
       "  CONDITIONAL APPROVAL LICENSE TERM START DATE LICENSE TERM EXPIRATION DATE  \\\n",
       "0                    N              08/16/2006                   08/15/2007   \n",
       "1                    N              05/16/2016                   05/15/2018   \n",
       "2                    N              06/16/2016                   06/15/2017   \n",
       "3                    N              10/16/2014                   10/15/2016   \n",
       "4                    N              05/16/2007                   05/15/2008   \n",
       "\n",
       "  LICENSE APPROVED FOR ISSUANCE DATE ISSUED LICENSE STATUS  \\\n",
       "0                    08/10/2006  08/11/2006            AAI   \n",
       "1                    05/18/2016  08/30/2016            AAI   \n",
       "2                    06/21/2016  06/22/2016            AAC   \n",
       "3                    04/01/2016  04/01/2016            AAI   \n",
       "4                    05/10/2007  05/11/2007            AAI   \n",
       "\n",
       "  LICENSE STATUS CHANGE DATE   SSA   LATITUDE  LONGITUDE  \\\n",
       "0                        NaN   NaN  41.825320 -87.723960   \n",
       "1                        NaN   NaN  41.867339 -87.641590   \n",
       "2                 08/30/2016   NaN  41.850843 -87.638734   \n",
       "3                        NaN  38.0  41.951316 -87.678586   \n",
       "4                        NaN   5.0  41.728622 -87.551366   \n",
       "\n",
       "                                  LOCATION  \n",
       "0  (41.82531992987547, -87.72395999659746)  \n",
       "1  (41.86733856638269, -87.64159005699716)  \n",
       "2  (41.85084294374687, -87.63873424399071)  \n",
       "3  (41.95131555606832, -87.67858578019546)  \n",
       "4  (41.72862173556932, -87.55136646594693)  \n",
       "\n",
       "[5 rows x 34 columns]"
      ]
     },
     "execution_count": 60,
     "metadata": {},
     "output_type": "execute_result"
    }
   ],
   "source": [
    "business.head()"
   ]
  },
  {
   "cell_type": "code",
   "execution_count": 61,
   "metadata": {},
   "outputs": [
    {
     "name": "stdout",
     "output_type": "stream",
     "text": [
      "<class 'pandas.core.frame.DataFrame'>\n",
      "RangeIndex: 966713 entries, 0 to 966712\n",
      "Data columns (total 34 columns):\n",
      "ID                                   966713 non-null object\n",
      "LICENSE ID                           966713 non-null int64\n",
      "ACCOUNT NUMBER                       966713 non-null int64\n",
      "SITE NUMBER                          966713 non-null int64\n",
      "LEGAL NAME                           966709 non-null object\n",
      "DOING BUSINESS AS NAME               966653 non-null object\n",
      "ADDRESS                              966713 non-null object\n",
      "CITY                                 966710 non-null object\n",
      "STATE                                966701 non-null object\n",
      "ZIP CODE                             966303 non-null object\n",
      "WARD                                 895565 non-null float64\n",
      "PRECINCT                             865973 non-null float64\n",
      "WARD PRECINCT                        895738 non-null object\n",
      "POLICE DISTRICT                      871348 non-null float64\n",
      "LICENSE CODE                         966713 non-null int64\n",
      "LICENSE DESCRIPTION                  966713 non-null object\n",
      "BUSINESS ACTIVITY ID                 435439 non-null object\n",
      "BUSINESS ACTIVITY                    435439 non-null object\n",
      "LICENSE NUMBER                       966712 non-null float64\n",
      "APPLICATION TYPE                     966713 non-null object\n",
      "APPLICATION CREATED DATE             224221 non-null object\n",
      "APPLICATION REQUIREMENTS COMPLETE    948408 non-null object\n",
      "PAYMENT DATE                         944747 non-null object\n",
      "CONDITIONAL APPROVAL                 966713 non-null object\n",
      "LICENSE TERM START DATE              964032 non-null object\n",
      "LICENSE TERM EXPIRATION DATE         966627 non-null object\n",
      "LICENSE APPROVED FOR ISSUANCE        919047 non-null object\n",
      "DATE ISSUED                          966713 non-null object\n",
      "LICENSE STATUS                       966713 non-null object\n",
      "LICENSE STATUS CHANGE DATE           66056 non-null object\n",
      "SSA                                  251089 non-null float64\n",
      "LATITUDE                             892622 non-null float64\n",
      "LONGITUDE                            892622 non-null float64\n",
      "LOCATION                             892622 non-null object\n",
      "dtypes: float64(7), int64(4), object(23)\n",
      "memory usage: 250.8+ MB\n"
     ]
    }
   ],
   "source": [
    "business.info()"
   ]
  },
  {
   "cell_type": "markdown",
   "metadata": {},
   "source": [
    "Whoa! There is alot of information in there! Now I am going to choose only a few columns which I think are more interesting."
   ]
  },
  {
   "cell_type": "code",
   "execution_count": 66,
   "metadata": {},
   "outputs": [],
   "source": [
    "columns_to_take = ['LICENSE ID', 'ID', 'LICENSE CODE', 'APPLICATION TYPE', 'LICENSE TERM EXPIRATION DATE', 'APPLICATION REQUIREMENTS COMPLETE','CONDITIONAL APPROVAL', 'BUSINESS ACTIVITY', 'DATE ISSUED', 'LICENSE STATUS CHANGE DATE' ]"
   ]
  },
  {
   "cell_type": "code",
   "execution_count": 67,
   "metadata": {},
   "outputs": [
    {
     "data": {
      "text/plain": [
       "['LICENSE ID',\n",
       " 'ID',\n",
       " 'LICENSE CODE',\n",
       " 'APPLICATION TYPE',\n",
       " 'LICENSE TERM EXPIRATION DATE',\n",
       " 'APPLICATION REQUIREMENTS COMPLETE',\n",
       " 'CONDITIONAL APPROVAL',\n",
       " 'BUSINESS ACTIVITY',\n",
       " 'DATE ISSUED',\n",
       " 'LICENSE STATUS CHANGE DATE']"
      ]
     },
     "execution_count": 67,
     "metadata": {},
     "output_type": "execute_result"
    }
   ],
   "source": [
    "columns_to_take"
   ]
  },
  {
   "cell_type": "code",
   "execution_count": 68,
   "metadata": {},
   "outputs": [],
   "source": [
    "business = business[columns_to_take]"
   ]
  },
  {
   "cell_type": "code",
   "execution_count": 69,
   "metadata": {},
   "outputs": [
    {
     "data": {
      "text/html": [
       "<div>\n",
       "<style scoped>\n",
       "    .dataframe tbody tr th:only-of-type {\n",
       "        vertical-align: middle;\n",
       "    }\n",
       "\n",
       "    .dataframe tbody tr th {\n",
       "        vertical-align: top;\n",
       "    }\n",
       "\n",
       "    .dataframe thead th {\n",
       "        text-align: right;\n",
       "    }\n",
       "</style>\n",
       "<table border=\"1\" class=\"dataframe\">\n",
       "  <thead>\n",
       "    <tr style=\"text-align: right;\">\n",
       "      <th></th>\n",
       "      <th>LICENSE ID</th>\n",
       "      <th>ID</th>\n",
       "      <th>LICENSE CODE</th>\n",
       "      <th>APPLICATION TYPE</th>\n",
       "      <th>LICENSE TERM EXPIRATION DATE</th>\n",
       "      <th>APPLICATION REQUIREMENTS COMPLETE</th>\n",
       "      <th>CONDITIONAL APPROVAL</th>\n",
       "      <th>BUSINESS ACTIVITY</th>\n",
       "      <th>DATE ISSUED</th>\n",
       "      <th>LICENSE STATUS CHANGE DATE</th>\n",
       "    </tr>\n",
       "  </thead>\n",
       "  <tbody>\n",
       "    <tr>\n",
       "      <th>0</th>\n",
       "      <td>1723393</td>\n",
       "      <td>22308-20060816</td>\n",
       "      <td>1010</td>\n",
       "      <td>RENEW</td>\n",
       "      <td>08/15/2007</td>\n",
       "      <td>06/21/2006</td>\n",
       "      <td>N</td>\n",
       "      <td>NaN</td>\n",
       "      <td>08/11/2006</td>\n",
       "      <td>NaN</td>\n",
       "    </tr>\n",
       "    <tr>\n",
       "      <th>1</th>\n",
       "      <td>2455262</td>\n",
       "      <td>1620668-20160516</td>\n",
       "      <td>1010</td>\n",
       "      <td>RENEW</td>\n",
       "      <td>05/15/2018</td>\n",
       "      <td>03/15/2016</td>\n",
       "      <td>N</td>\n",
       "      <td>Retail Sales of Clothing / Accessories / Shoes</td>\n",
       "      <td>08/30/2016</td>\n",
       "      <td>NaN</td>\n",
       "    </tr>\n",
       "    <tr>\n",
       "      <th>2</th>\n",
       "      <td>2460909</td>\n",
       "      <td>2368602-20160616</td>\n",
       "      <td>1625</td>\n",
       "      <td>RENEW</td>\n",
       "      <td>06/15/2017</td>\n",
       "      <td>04/15/2016</td>\n",
       "      <td>N</td>\n",
       "      <td>Not-For-Profit Selling Raffles for Prizes of $...</td>\n",
       "      <td>06/22/2016</td>\n",
       "      <td>08/30/2016</td>\n",
       "    </tr>\n",
       "    <tr>\n",
       "      <th>3</th>\n",
       "      <td>2353257</td>\n",
       "      <td>2060891-20141016</td>\n",
       "      <td>1010</td>\n",
       "      <td>RENEW</td>\n",
       "      <td>10/15/2016</td>\n",
       "      <td>08/15/2014</td>\n",
       "      <td>N</td>\n",
       "      <td>NaN</td>\n",
       "      <td>04/01/2016</td>\n",
       "      <td>NaN</td>\n",
       "    </tr>\n",
       "    <tr>\n",
       "      <th>4</th>\n",
       "      <td>1804790</td>\n",
       "      <td>1144216-20070516</td>\n",
       "      <td>1010</td>\n",
       "      <td>RENEW</td>\n",
       "      <td>05/15/2008</td>\n",
       "      <td>03/23/2007</td>\n",
       "      <td>N</td>\n",
       "      <td>NaN</td>\n",
       "      <td>05/11/2007</td>\n",
       "      <td>NaN</td>\n",
       "    </tr>\n",
       "  </tbody>\n",
       "</table>\n",
       "</div>"
      ],
      "text/plain": [
       "   LICENSE ID                ID  LICENSE CODE APPLICATION TYPE  \\\n",
       "0     1723393    22308-20060816          1010            RENEW   \n",
       "1     2455262  1620668-20160516          1010            RENEW   \n",
       "2     2460909  2368602-20160616          1625            RENEW   \n",
       "3     2353257  2060891-20141016          1010            RENEW   \n",
       "4     1804790  1144216-20070516          1010            RENEW   \n",
       "\n",
       "  LICENSE TERM EXPIRATION DATE APPLICATION REQUIREMENTS COMPLETE  \\\n",
       "0                   08/15/2007                        06/21/2006   \n",
       "1                   05/15/2018                        03/15/2016   \n",
       "2                   06/15/2017                        04/15/2016   \n",
       "3                   10/15/2016                        08/15/2014   \n",
       "4                   05/15/2008                        03/23/2007   \n",
       "\n",
       "  CONDITIONAL APPROVAL                                  BUSINESS ACTIVITY  \\\n",
       "0                    N                                                NaN   \n",
       "1                    N     Retail Sales of Clothing / Accessories / Shoes   \n",
       "2                    N  Not-For-Profit Selling Raffles for Prizes of $...   \n",
       "3                    N                                                NaN   \n",
       "4                    N                                                NaN   \n",
       "\n",
       "  DATE ISSUED LICENSE STATUS CHANGE DATE  \n",
       "0  08/11/2006                        NaN  \n",
       "1  08/30/2016                        NaN  \n",
       "2  06/22/2016                 08/30/2016  \n",
       "3  04/01/2016                        NaN  \n",
       "4  05/11/2007                        NaN  "
      ]
     },
     "execution_count": 69,
     "metadata": {},
     "output_type": "execute_result"
    }
   ],
   "source": [
    "business.head()"
   ]
  },
  {
   "cell_type": "markdown",
   "metadata": {},
   "source": [
    "Now I want to merge the inspection and business data frames. we can do inner join on license number from inspection data and License ID from business data."
   ]
  },
  {
   "cell_type": "code",
   "execution_count": 70,
   "metadata": {},
   "outputs": [],
   "source": [
    "food_business = pd.merge(left=food_data,right=business, left_on='license', right_on='LICENSE ID')"
   ]
  },
  {
   "cell_type": "code",
   "execution_count": 71,
   "metadata": {},
   "outputs": [
    {
     "data": {
      "text/html": [
       "<div>\n",
       "<style scoped>\n",
       "    .dataframe tbody tr th:only-of-type {\n",
       "        vertical-align: middle;\n",
       "    }\n",
       "\n",
       "    .dataframe tbody tr th {\n",
       "        vertical-align: top;\n",
       "    }\n",
       "\n",
       "    .dataframe thead th {\n",
       "        text-align: right;\n",
       "    }\n",
       "</style>\n",
       "<table border=\"1\" class=\"dataframe\">\n",
       "  <thead>\n",
       "    <tr style=\"text-align: right;\">\n",
       "      <th></th>\n",
       "      <th>address</th>\n",
       "      <th>aka_name</th>\n",
       "      <th>city</th>\n",
       "      <th>dba_name</th>\n",
       "      <th>facility_type</th>\n",
       "      <th>inspection_date</th>\n",
       "      <th>inspection_id</th>\n",
       "      <th>inspection_type</th>\n",
       "      <th>latitude</th>\n",
       "      <th>license</th>\n",
       "      <th>longitude</th>\n",
       "      <th>results</th>\n",
       "      <th>risk</th>\n",
       "      <th>minor_violations</th>\n",
       "      <th>non_critical_violations</th>\n",
       "      <th>critical_violations</th>\n",
       "      <th>facility_type_cat</th>\n",
       "      <th>risk_type_cat</th>\n",
       "      <th>LICENSE ID</th>\n",
       "      <th>ID</th>\n",
       "      <th>LICENSE CODE</th>\n",
       "      <th>APPLICATION TYPE</th>\n",
       "      <th>LICENSE TERM EXPIRATION DATE</th>\n",
       "      <th>APPLICATION REQUIREMENTS COMPLETE</th>\n",
       "      <th>CONDITIONAL APPROVAL</th>\n",
       "      <th>BUSINESS ACTIVITY</th>\n",
       "      <th>DATE ISSUED</th>\n",
       "      <th>LICENSE STATUS CHANGE DATE</th>\n",
       "    </tr>\n",
       "  </thead>\n",
       "  <tbody>\n",
       "    <tr>\n",
       "      <th>0</th>\n",
       "      <td>1958 W CHICAGO AVE</td>\n",
       "      <td>SUBWAY</td>\n",
       "      <td>CHICAGO</td>\n",
       "      <td>SUBWAY</td>\n",
       "      <td>Restaurant</td>\n",
       "      <td>2019-01-22</td>\n",
       "      <td>2252942</td>\n",
       "      <td>Canvass</td>\n",
       "      <td>41.896023</td>\n",
       "      <td>1677083</td>\n",
       "      <td>-87.676995</td>\n",
       "      <td>1</td>\n",
       "      <td>Risk 1 (High)</td>\n",
       "      <td>1</td>\n",
       "      <td>1</td>\n",
       "      <td>4</td>\n",
       "      <td>2</td>\n",
       "      <td>0</td>\n",
       "      <td>1677083</td>\n",
       "      <td>1677083-20060207</td>\n",
       "      <td>1006</td>\n",
       "      <td>ISSUE</td>\n",
       "      <td>11/15/2006</td>\n",
       "      <td>01/27/2006</td>\n",
       "      <td>N</td>\n",
       "      <td>Retail Sales of Perishable Foods</td>\n",
       "      <td>02/07/2006</td>\n",
       "      <td>NaN</td>\n",
       "    </tr>\n",
       "    <tr>\n",
       "      <th>1</th>\n",
       "      <td>4646 N MARINE DR</td>\n",
       "      <td>LOUIS A. WEISS MEMORIAL HOSPITAL</td>\n",
       "      <td>CHICAGO</td>\n",
       "      <td>LOUIS A. WEISS MEMORIAL HOSPITAL</td>\n",
       "      <td>Restaurant</td>\n",
       "      <td>2019-02-21</td>\n",
       "      <td>2268322</td>\n",
       "      <td>Canvass</td>\n",
       "      <td>41.966860</td>\n",
       "      <td>1249761</td>\n",
       "      <td>-87.649135</td>\n",
       "      <td>0</td>\n",
       "      <td>Risk 1 (High)</td>\n",
       "      <td>0</td>\n",
       "      <td>1</td>\n",
       "      <td>9</td>\n",
       "      <td>2</td>\n",
       "      <td>0</td>\n",
       "      <td>1249761</td>\n",
       "      <td>1249761-20030925</td>\n",
       "      <td>1006</td>\n",
       "      <td>ISSUE</td>\n",
       "      <td>08/15/2004</td>\n",
       "      <td>08/01/2002</td>\n",
       "      <td>N</td>\n",
       "      <td>Retail Sales of Perishable Foods</td>\n",
       "      <td>09/25/2003</td>\n",
       "      <td>NaN</td>\n",
       "    </tr>\n",
       "    <tr>\n",
       "      <th>2</th>\n",
       "      <td>3141 W JACKSON BLVD</td>\n",
       "      <td>ALAIN LOCKE CHARTER ACADEMY</td>\n",
       "      <td>CHICAGO</td>\n",
       "      <td>ALAIN LOCKE CHARTER ACADEMY</td>\n",
       "      <td>School</td>\n",
       "      <td>2019-02-21</td>\n",
       "      <td>2268270</td>\n",
       "      <td>Canvass</td>\n",
       "      <td>41.877221</td>\n",
       "      <td>2206680</td>\n",
       "      <td>-87.705241</td>\n",
       "      <td>1</td>\n",
       "      <td>Risk 1 (High)</td>\n",
       "      <td>0</td>\n",
       "      <td>0</td>\n",
       "      <td>2</td>\n",
       "      <td>3</td>\n",
       "      <td>0</td>\n",
       "      <td>2206680</td>\n",
       "      <td>2206680-20121229</td>\n",
       "      <td>4404</td>\n",
       "      <td>ISSUE</td>\n",
       "      <td>03/15/2013</td>\n",
       "      <td>NaN</td>\n",
       "      <td>N</td>\n",
       "      <td>Hotel - 7 or More Sleeping Rooms</td>\n",
       "      <td>12/29/2012</td>\n",
       "      <td>NaN</td>\n",
       "    </tr>\n",
       "    <tr>\n",
       "      <th>3</th>\n",
       "      <td>1852 W NORTH AVE</td>\n",
       "      <td>THE PASTA BOWL</td>\n",
       "      <td>CHICAGO</td>\n",
       "      <td>THE PASTA BOWL</td>\n",
       "      <td>Restaurant</td>\n",
       "      <td>2019-02-11</td>\n",
       "      <td>2261851</td>\n",
       "      <td>Canvass</td>\n",
       "      <td>41.910639</td>\n",
       "      <td>2374782</td>\n",
       "      <td>-87.674707</td>\n",
       "      <td>1</td>\n",
       "      <td>Risk 1 (High)</td>\n",
       "      <td>3</td>\n",
       "      <td>0</td>\n",
       "      <td>8</td>\n",
       "      <td>2</td>\n",
       "      <td>0</td>\n",
       "      <td>2374782</td>\n",
       "      <td>2374782-20150409</td>\n",
       "      <td>1006</td>\n",
       "      <td>ISSUE</td>\n",
       "      <td>04/15/2017</td>\n",
       "      <td>01/14/2015</td>\n",
       "      <td>N</td>\n",
       "      <td>Preparation of Food and Dining on Premise With...</td>\n",
       "      <td>04/09/2015</td>\n",
       "      <td>NaN</td>\n",
       "    </tr>\n",
       "    <tr>\n",
       "      <th>4</th>\n",
       "      <td>2333 W GRAND AVE</td>\n",
       "      <td>EL ORIGINAL CHAVAS TACOS, INC.</td>\n",
       "      <td>CHICAGO</td>\n",
       "      <td>EL ORIGINAL CHAVAS TACOS, INC.</td>\n",
       "      <td>Restaurant</td>\n",
       "      <td>2019-02-05</td>\n",
       "      <td>2261489</td>\n",
       "      <td>Canvass</td>\n",
       "      <td>41.890569</td>\n",
       "      <td>1964229</td>\n",
       "      <td>-87.685574</td>\n",
       "      <td>0</td>\n",
       "      <td>Risk 1 (High)</td>\n",
       "      <td>2</td>\n",
       "      <td>2</td>\n",
       "      <td>4</td>\n",
       "      <td>2</td>\n",
       "      <td>0</td>\n",
       "      <td>1964229</td>\n",
       "      <td>1964229-20090413</td>\n",
       "      <td>1006</td>\n",
       "      <td>ISSUE</td>\n",
       "      <td>09/15/2010</td>\n",
       "      <td>03/31/2009</td>\n",
       "      <td>N</td>\n",
       "      <td>Retail Sales of Perishable Foods</td>\n",
       "      <td>04/13/2009</td>\n",
       "      <td>NaN</td>\n",
       "    </tr>\n",
       "  </tbody>\n",
       "</table>\n",
       "</div>"
      ],
      "text/plain": [
       "                address                          aka_name     city  \\\n",
       "0   1958 W CHICAGO AVE                             SUBWAY  CHICAGO   \n",
       "1     4646 N MARINE DR   LOUIS A. WEISS MEMORIAL HOSPITAL  CHICAGO   \n",
       "2  3141 W JACKSON BLVD        ALAIN LOCKE CHARTER ACADEMY  CHICAGO   \n",
       "3     1852 W NORTH AVE                     THE PASTA BOWL  CHICAGO   \n",
       "4     2333 W GRAND AVE     EL ORIGINAL CHAVAS TACOS, INC.  CHICAGO   \n",
       "\n",
       "                           dba_name facility_type inspection_date  \\\n",
       "0                            SUBWAY    Restaurant      2019-01-22   \n",
       "1  LOUIS A. WEISS MEMORIAL HOSPITAL    Restaurant      2019-02-21   \n",
       "2       ALAIN LOCKE CHARTER ACADEMY        School      2019-02-21   \n",
       "3                    THE PASTA BOWL    Restaurant      2019-02-11   \n",
       "4    EL ORIGINAL CHAVAS TACOS, INC.    Restaurant      2019-02-05   \n",
       "\n",
       "   inspection_id inspection_type   latitude  license  longitude  results  \\\n",
       "0        2252942         Canvass  41.896023  1677083 -87.676995        1   \n",
       "1        2268322         Canvass  41.966860  1249761 -87.649135        0   \n",
       "2        2268270         Canvass  41.877221  2206680 -87.705241        1   \n",
       "3        2261851         Canvass  41.910639  2374782 -87.674707        1   \n",
       "4        2261489         Canvass  41.890569  1964229 -87.685574        0   \n",
       "\n",
       "            risk  minor_violations  non_critical_violations  \\\n",
       "0  Risk 1 (High)                 1                        1   \n",
       "1  Risk 1 (High)                 0                        1   \n",
       "2  Risk 1 (High)                 0                        0   \n",
       "3  Risk 1 (High)                 3                        0   \n",
       "4  Risk 1 (High)                 2                        2   \n",
       "\n",
       "   critical_violations  facility_type_cat  risk_type_cat  LICENSE ID  \\\n",
       "0                    4                  2              0     1677083   \n",
       "1                    9                  2              0     1249761   \n",
       "2                    2                  3              0     2206680   \n",
       "3                    8                  2              0     2374782   \n",
       "4                    4                  2              0     1964229   \n",
       "\n",
       "                 ID  LICENSE CODE APPLICATION TYPE  \\\n",
       "0  1677083-20060207          1006            ISSUE   \n",
       "1  1249761-20030925          1006            ISSUE   \n",
       "2  2206680-20121229          4404            ISSUE   \n",
       "3  2374782-20150409          1006            ISSUE   \n",
       "4  1964229-20090413          1006            ISSUE   \n",
       "\n",
       "  LICENSE TERM EXPIRATION DATE APPLICATION REQUIREMENTS COMPLETE  \\\n",
       "0                   11/15/2006                        01/27/2006   \n",
       "1                   08/15/2004                        08/01/2002   \n",
       "2                   03/15/2013                               NaN   \n",
       "3                   04/15/2017                        01/14/2015   \n",
       "4                   09/15/2010                        03/31/2009   \n",
       "\n",
       "  CONDITIONAL APPROVAL                                  BUSINESS ACTIVITY  \\\n",
       "0                    N                   Retail Sales of Perishable Foods   \n",
       "1                    N                   Retail Sales of Perishable Foods   \n",
       "2                    N                   Hotel - 7 or More Sleeping Rooms   \n",
       "3                    N  Preparation of Food and Dining on Premise With...   \n",
       "4                    N                   Retail Sales of Perishable Foods   \n",
       "\n",
       "  DATE ISSUED LICENSE STATUS CHANGE DATE  \n",
       "0  02/07/2006                        NaN  \n",
       "1  09/25/2003                        NaN  \n",
       "2  12/29/2012                        NaN  \n",
       "3  04/09/2015                        NaN  \n",
       "4  04/13/2009                        NaN  "
      ]
     },
     "execution_count": 71,
     "metadata": {},
     "output_type": "execute_result"
    }
   ],
   "source": [
    "food_business.head()"
   ]
  },
  {
   "cell_type": "code",
   "execution_count": 72,
   "metadata": {},
   "outputs": [
    {
     "data": {
      "text/plain": [
       "(1268, 28)"
      ]
     },
     "execution_count": 72,
     "metadata": {},
     "output_type": "execute_result"
    }
   ],
   "source": [
    "food_business.shape"
   ]
  },
  {
   "cell_type": "markdown",
   "metadata": {},
   "source": [
    "That's fewer rows than I would have inspected. I need to spend more time to understand what's going on here."
   ]
  },
  {
   "cell_type": "markdown",
   "metadata": {},
   "source": [
    "## Garbage and Sanitation From (311 complaints)\n",
    "Is there trash/garbage/sanitation/rodents etc complaints in the neighborhood or how that affects the outcome of the inspection. "
   ]
  },
  {
   "cell_type": "code",
   "execution_count": 74,
   "metadata": {},
   "outputs": [
    {
     "data": {
      "text/html": [
       "<div>\n",
       "<style scoped>\n",
       "    .dataframe tbody tr th:only-of-type {\n",
       "        vertical-align: middle;\n",
       "    }\n",
       "\n",
       "    .dataframe tbody tr th {\n",
       "        vertical-align: top;\n",
       "    }\n",
       "\n",
       "    .dataframe thead th {\n",
       "        text-align: right;\n",
       "    }\n",
       "</style>\n",
       "<table border=\"1\" class=\"dataframe\">\n",
       "  <thead>\n",
       "    <tr style=\"text-align: right;\">\n",
       "      <th></th>\n",
       "      <th>city</th>\n",
       "      <th>closed_date</th>\n",
       "      <th>community_area</th>\n",
       "      <th>created_date</th>\n",
       "      <th>created_day_of_week</th>\n",
       "      <th>created_hour</th>\n",
       "      <th>created_month</th>\n",
       "      <th>duplicate</th>\n",
       "      <th>electrical_district</th>\n",
       "      <th>electricity_grid</th>\n",
       "      <th>last_modified_date</th>\n",
       "      <th>latitude</th>\n",
       "      <th>legacy_record</th>\n",
       "      <th>location</th>\n",
       "      <th>longitude</th>\n",
       "      <th>...</th>\n",
       "      <th>sanitation_division_days</th>\n",
       "      <th>sr_number</th>\n",
       "      <th>sr_short_code</th>\n",
       "      <th>sr_type</th>\n",
       "      <th>state</th>\n",
       "      <th>status</th>\n",
       "      <th>street_address</th>\n",
       "      <th>street_direction</th>\n",
       "      <th>street_name</th>\n",
       "      <th>street_number</th>\n",
       "      <th>street_type</th>\n",
       "      <th>ward</th>\n",
       "      <th>x_coordinate</th>\n",
       "      <th>y_coordinate</th>\n",
       "      <th>zip_code</th>\n",
       "    </tr>\n",
       "  </thead>\n",
       "  <tbody>\n",
       "    <tr>\n",
       "      <th>0</th>\n",
       "      <td>None</td>\n",
       "      <td>None</td>\n",
       "      <td>16.0</td>\n",
       "      <td>2019-03-31 21:08:15</td>\n",
       "      <td>1</td>\n",
       "      <td>21</td>\n",
       "      <td>3</td>\n",
       "      <td>False</td>\n",
       "      <td>NaN</td>\n",
       "      <td>E012</td>\n",
       "      <td>2019-03-31 21:33:11</td>\n",
       "      <td>41.954382</td>\n",
       "      <td>False</td>\n",
       "      <td>{'type': 'Point', 'coordinates': [-87.74081179...</td>\n",
       "      <td>-87.740812</td>\n",
       "      <td>...</td>\n",
       "      <td>None</td>\n",
       "      <td>SR19-01250236</td>\n",
       "      <td>CHECKFOR</td>\n",
       "      <td>Sewer Cleaning Inspection Request</td>\n",
       "      <td>None</td>\n",
       "      <td>Open</td>\n",
       "      <td>4026 N Kilbourn AVE</td>\n",
       "      <td>N</td>\n",
       "      <td>Kilbourn</td>\n",
       "      <td>4026</td>\n",
       "      <td>AVE</td>\n",
       "      <td>45.0</td>\n",
       "      <td>1.145422e+06</td>\n",
       "      <td>1.926521e+06</td>\n",
       "      <td>None</td>\n",
       "    </tr>\n",
       "    <tr>\n",
       "      <th>1</th>\n",
       "      <td>None</td>\n",
       "      <td>2019-03-26T06:48:04.000</td>\n",
       "      <td>22.0</td>\n",
       "      <td>2019-03-01 07:28:15</td>\n",
       "      <td>6</td>\n",
       "      <td>7</td>\n",
       "      <td>3</td>\n",
       "      <td>False</td>\n",
       "      <td>5.0</td>\n",
       "      <td>J017</td>\n",
       "      <td>2019-03-26 06:48:04</td>\n",
       "      <td>41.917701</td>\n",
       "      <td>False</td>\n",
       "      <td>{'type': 'Point', 'coordinates': [-87.68925839...</td>\n",
       "      <td>-87.689258</td>\n",
       "      <td>...</td>\n",
       "      <td>Thursday</td>\n",
       "      <td>SR19-01091746</td>\n",
       "      <td>SCB</td>\n",
       "      <td>Sanitation Code Violation</td>\n",
       "      <td>None</td>\n",
       "      <td>Completed</td>\n",
       "      <td>2000 N MILWAUKEE AVE</td>\n",
       "      <td>N</td>\n",
       "      <td>MILWAUKEE</td>\n",
       "      <td>2000</td>\n",
       "      <td>AVE</td>\n",
       "      <td>1.0</td>\n",
       "      <td>1.159545e+06</td>\n",
       "      <td>1.913256e+06</td>\n",
       "      <td>60647</td>\n",
       "    </tr>\n",
       "    <tr>\n",
       "      <th>10</th>\n",
       "      <td>None</td>\n",
       "      <td>2019-03-26T03:04:27.000</td>\n",
       "      <td>76.0</td>\n",
       "      <td>2019-03-11 16:05:25</td>\n",
       "      <td>2</td>\n",
       "      <td>16</td>\n",
       "      <td>3</td>\n",
       "      <td>False</td>\n",
       "      <td>1.0</td>\n",
       "      <td>U109</td>\n",
       "      <td>2019-03-26 03:04:27</td>\n",
       "      <td>41.974186</td>\n",
       "      <td>False</td>\n",
       "      <td>{'type': 'Point', 'coordinates': [-87.84235414...</td>\n",
       "      <td>-87.842354</td>\n",
       "      <td>...</td>\n",
       "      <td>Monday</td>\n",
       "      <td>SR19-01140158</td>\n",
       "      <td>CHECKFOR</td>\n",
       "      <td>Sewer Cleaning Inspection Request</td>\n",
       "      <td>None</td>\n",
       "      <td>Completed</td>\n",
       "      <td>5211 N POTAWATOMIE AVE</td>\n",
       "      <td>N</td>\n",
       "      <td>POTAWATOMIE</td>\n",
       "      <td>5211</td>\n",
       "      <td>AVE</td>\n",
       "      <td>41.0</td>\n",
       "      <td>1.117760e+06</td>\n",
       "      <td>1.933563e+06</td>\n",
       "      <td>60656</td>\n",
       "    </tr>\n",
       "    <tr>\n",
       "      <th>100</th>\n",
       "      <td>None</td>\n",
       "      <td>2019-01-03T12:03:58.000</td>\n",
       "      <td>67.0</td>\n",
       "      <td>2019-01-01 11:27:33</td>\n",
       "      <td>3</td>\n",
       "      <td>11</td>\n",
       "      <td>1</td>\n",
       "      <td>True</td>\n",
       "      <td>11.0</td>\n",
       "      <td>L036</td>\n",
       "      <td>2019-01-16 17:24:53</td>\n",
       "      <td>41.785938</td>\n",
       "      <td>False</td>\n",
       "      <td>{'type': 'Point', 'coordinates': [-87.673112, ...</td>\n",
       "      <td>-87.673112</td>\n",
       "      <td>...</td>\n",
       "      <td>Friday</td>\n",
       "      <td>SR19-00001224</td>\n",
       "      <td>SGA</td>\n",
       "      <td>Rodent Baiting/Rat Complaint</td>\n",
       "      <td>None</td>\n",
       "      <td>Completed</td>\n",
       "      <td>5922 S WINCHESTER AVE</td>\n",
       "      <td>S</td>\n",
       "      <td>WINCHESTER</td>\n",
       "      <td>5922</td>\n",
       "      <td>AVE</td>\n",
       "      <td>16.0</td>\n",
       "      <td>1.164307e+06</td>\n",
       "      <td>1.865278e+06</td>\n",
       "      <td>60636</td>\n",
       "    </tr>\n",
       "    <tr>\n",
       "      <th>1000</th>\n",
       "      <td>None</td>\n",
       "      <td>2019-03-28T08:33:55.000</td>\n",
       "      <td>70.0</td>\n",
       "      <td>2019-03-26 11:12:16</td>\n",
       "      <td>3</td>\n",
       "      <td>11</td>\n",
       "      <td>3</td>\n",
       "      <td>False</td>\n",
       "      <td>NaN</td>\n",
       "      <td>E040</td>\n",
       "      <td>2019-03-28 08:33:55</td>\n",
       "      <td>41.750832</td>\n",
       "      <td>False</td>\n",
       "      <td>{'type': 'Point', 'coordinates': [-87.73567324...</td>\n",
       "      <td>-87.735673</td>\n",
       "      <td>...</td>\n",
       "      <td>None</td>\n",
       "      <td>SR19-01222821</td>\n",
       "      <td>SIE</td>\n",
       "      <td>Garbage Cart Maintenance</td>\n",
       "      <td>None</td>\n",
       "      <td>Completed</td>\n",
       "      <td>7804 S KOLMAR AVE</td>\n",
       "      <td>S</td>\n",
       "      <td>KOLMAR</td>\n",
       "      <td>7804</td>\n",
       "      <td>AVE</td>\n",
       "      <td>18.0</td>\n",
       "      <td>1.147336e+06</td>\n",
       "      <td>1.852358e+06</td>\n",
       "      <td>60652</td>\n",
       "    </tr>\n",
       "  </tbody>\n",
       "</table>\n",
       "<p>5 rows × 36 columns</p>\n",
       "</div>"
      ],
      "text/plain": [
       "      city              closed_date  community_area        created_date  \\\n",
       "0     None                     None            16.0 2019-03-31 21:08:15   \n",
       "1     None  2019-03-26T06:48:04.000            22.0 2019-03-01 07:28:15   \n",
       "10    None  2019-03-26T03:04:27.000            76.0 2019-03-11 16:05:25   \n",
       "100   None  2019-01-03T12:03:58.000            67.0 2019-01-01 11:27:33   \n",
       "1000  None  2019-03-28T08:33:55.000            70.0 2019-03-26 11:12:16   \n",
       "\n",
       "      created_day_of_week  created_hour  created_month  duplicate  \\\n",
       "0                       1            21              3      False   \n",
       "1                       6             7              3      False   \n",
       "10                      2            16              3      False   \n",
       "100                     3            11              1       True   \n",
       "1000                    3            11              3      False   \n",
       "\n",
       "      electrical_district electricity_grid  last_modified_date   latitude  \\\n",
       "0                     NaN             E012 2019-03-31 21:33:11  41.954382   \n",
       "1                     5.0             J017 2019-03-26 06:48:04  41.917701   \n",
       "10                    1.0             U109 2019-03-26 03:04:27  41.974186   \n",
       "100                  11.0             L036 2019-01-16 17:24:53  41.785938   \n",
       "1000                  NaN             E040 2019-03-28 08:33:55  41.750832   \n",
       "\n",
       "      legacy_record                                           location  \\\n",
       "0             False  {'type': 'Point', 'coordinates': [-87.74081179...   \n",
       "1             False  {'type': 'Point', 'coordinates': [-87.68925839...   \n",
       "10            False  {'type': 'Point', 'coordinates': [-87.84235414...   \n",
       "100           False  {'type': 'Point', 'coordinates': [-87.673112, ...   \n",
       "1000          False  {'type': 'Point', 'coordinates': [-87.73567324...   \n",
       "\n",
       "      longitude   ...    sanitation_division_days      sr_number  \\\n",
       "0    -87.740812   ...                        None  SR19-01250236   \n",
       "1    -87.689258   ...                    Thursday  SR19-01091746   \n",
       "10   -87.842354   ...                      Monday  SR19-01140158   \n",
       "100  -87.673112   ...                      Friday  SR19-00001224   \n",
       "1000 -87.735673   ...                        None  SR19-01222821   \n",
       "\n",
       "      sr_short_code                            sr_type  state     status  \\\n",
       "0          CHECKFOR  Sewer Cleaning Inspection Request   None       Open   \n",
       "1               SCB          Sanitation Code Violation   None  Completed   \n",
       "10         CHECKFOR  Sewer Cleaning Inspection Request   None  Completed   \n",
       "100             SGA       Rodent Baiting/Rat Complaint   None  Completed   \n",
       "1000            SIE           Garbage Cart Maintenance   None  Completed   \n",
       "\n",
       "              street_address street_direction  street_name street_number  \\\n",
       "0        4026 N Kilbourn AVE                N     Kilbourn          4026   \n",
       "1       2000 N MILWAUKEE AVE                N    MILWAUKEE          2000   \n",
       "10    5211 N POTAWATOMIE AVE                N  POTAWATOMIE          5211   \n",
       "100    5922 S WINCHESTER AVE                S   WINCHESTER          5922   \n",
       "1000       7804 S KOLMAR AVE                S       KOLMAR          7804   \n",
       "\n",
       "     street_type  ward  x_coordinate  y_coordinate zip_code  \n",
       "0            AVE  45.0  1.145422e+06  1.926521e+06     None  \n",
       "1            AVE   1.0  1.159545e+06  1.913256e+06    60647  \n",
       "10           AVE  41.0  1.117760e+06  1.933563e+06    60656  \n",
       "100          AVE  16.0  1.164307e+06  1.865278e+06    60636  \n",
       "1000         AVE  18.0  1.147336e+06  1.852358e+06    60652  \n",
       "\n",
       "[5 rows x 36 columns]"
      ]
     },
     "execution_count": 74,
     "metadata": {},
     "output_type": "execute_result"
    }
   ],
   "source": [
    "service_data = pd.read_json('../data/raw/servicedata.json', convert_dates=['close_date', 'created_date', 'last_modified_date'])\n",
    "service_data.head()"
   ]
  },
  {
   "cell_type": "code",
   "execution_count": 75,
   "metadata": {},
   "outputs": [
    {
     "name": "stdout",
     "output_type": "stream",
     "text": [
      " So there are 21851 rows and 36 columns in the data\n"
     ]
    }
   ],
   "source": [
    "shape = service_data.shape\n",
    "print(\" So there are %d rows and %d columns in the data\" % (shape[0], shape[1]))\n"
   ]
  },
  {
   "cell_type": "markdown",
   "metadata": {},
   "source": [
    "service_data.info()"
   ]
  },
  {
   "cell_type": "markdown",
   "metadata": {},
   "source": [
    "I now want to count number of these incidents around the business and within some prespecified time. We can optimize the distance and the time windows but for the first pass study I am just foucsing on within 5 miles radii and the 7 days before the inspection date. "
   ]
  },
  {
   "cell_type": "code",
   "execution_count": 78,
   "metadata": {},
   "outputs": [],
   "source": [
    "# This is the function to calculate between two locations using (lat, long) info. \n",
    "# This is famout Haversine formula from geoscience. \n",
    "def get_distance(lon1, lat1, lon2, lat2):\n",
    "    lon1, lat1, lon2, lat2 = map(np.deg2rad, [lon1, lat1, lon2, lat2])\n",
    "    dlon = lon2 - lon1 \n",
    "    dlat = lat2 - lat1 \n",
    "    a = np.sin(dlat/2)**2 + np.cos(lat1) * np.cos(lat2) * np.sin(dlon/2)**2\n",
    "    c = 2 * np.arcsin(np.sqrt(a)) \n",
    "    r = 3956 # Radius of earth in miles \n",
    "    return c * r"
   ]
  },
  {
   "cell_type": "code",
   "execution_count": 79,
   "metadata": {},
   "outputs": [],
   "source": [
    "def count_burglaries(longitude, latitude, date, df):\n",
    "    matching_hits = 0\n",
    "    df['restaurant_long'] = longitude\n",
    "    df['restaurant_lat'] = latitude\n",
    "    df['hit_date'] = date\n",
    "    df['distance'] = get_distance(df['restaurant_long'], df['restaurant_lat'], df['longitude'], df['latitude'])\n",
    "    df['end_of_time_window'] =  df['hit_date'] - df['date']\n",
    "    dfNew = df[(df['distance'] < 0.5) & (df['end_of_time_window'] < pd.Timedelta(8,'D'))]\n",
    "\n",
    "    return dfNew.shape[0]"
   ]
  },
  {
   "cell_type": "code",
   "execution_count": 80,
   "metadata": {},
   "outputs": [],
   "source": [
    "def count_sanitation_complaints(longitude, latitude, date, df):\n",
    "    matching_hits = 0\n",
    "    df['restaurant_long'] = longitude\n",
    "    df['restaurant_lat'] = latitude\n",
    "    df['hit_date'] = date\n",
    "    df['distance'] = get_distance(df['restaurant_long'], df['restaurant_lat'], df['longitude'], df['latitude'])\n",
    "    df['end_of_time_window'] =  df['hit_date'] - df['created_date']\n",
    "    dfNew = df[(df['distance'] < 0.5) & (df['end_of_time_window'] < pd.Timedelta(8,'D')) & (df['duplicate'] !=1)]\n",
    "\n",
    "    return dfNew.shape[0]"
   ]
  },
  {
   "cell_type": "code",
   "execution_count": 81,
   "metadata": {},
   "outputs": [
    {
     "name": "stdout",
     "output_type": "stream",
     "text": [
      "7 s ± 137 ms per loop (mean ± std. dev. of 7 runs, 1 loop each)\n"
     ]
    }
   ],
   "source": [
    "%timeit food_data['burglaries_this_week'] = food_data.apply(lambda x: count_burglaries(x['longitude'], x['latitude'], x['inspection_date'], burglary), axis=1)"
   ]
  },
  {
   "cell_type": "code",
   "execution_count": 82,
   "metadata": {},
   "outputs": [
    {
     "name": "stdout",
     "output_type": "stream",
     "text": [
      "14.9 s ± 372 ms per loop (mean ± std. dev. of 7 runs, 1 loop each)\n"
     ]
    }
   ],
   "source": [
    "%timeit food_data['service_complains_this_week'] = food_data.apply(lambda x: count_sanitation_complaints(x['longitude'], x['latitude'], x['inspection_date'], service_data), axis=1)"
   ]
  },
  {
   "cell_type": "code",
   "execution_count": 83,
   "metadata": {},
   "outputs": [],
   "source": [
    "#food_data['yelp_id'] = food_data.apply(lambda x: get_business_match(x['aka_name'], x['address']), axis=1)"
   ]
  },
  {
   "cell_type": "code",
   "execution_count": 84,
   "metadata": {},
   "outputs": [],
   "source": [
    "#food_data['yelp_rating'] = food_data.apply(lambda x: get_rating(x[\"yelp_id\"]), axis=1)"
   ]
  },
  {
   "cell_type": "code",
   "execution_count": 85,
   "metadata": {},
   "outputs": [
    {
     "data": {
      "text/html": [
       "<div>\n",
       "<style scoped>\n",
       "    .dataframe tbody tr th:only-of-type {\n",
       "        vertical-align: middle;\n",
       "    }\n",
       "\n",
       "    .dataframe tbody tr th {\n",
       "        vertical-align: top;\n",
       "    }\n",
       "\n",
       "    .dataframe thead th {\n",
       "        text-align: right;\n",
       "    }\n",
       "</style>\n",
       "<table border=\"1\" class=\"dataframe\">\n",
       "  <thead>\n",
       "    <tr style=\"text-align: right;\">\n",
       "      <th></th>\n",
       "      <th>address</th>\n",
       "      <th>aka_name</th>\n",
       "      <th>city</th>\n",
       "      <th>dba_name</th>\n",
       "      <th>facility_type</th>\n",
       "      <th>inspection_date</th>\n",
       "      <th>inspection_id</th>\n",
       "      <th>inspection_type</th>\n",
       "      <th>latitude</th>\n",
       "      <th>license</th>\n",
       "      <th>longitude</th>\n",
       "      <th>results</th>\n",
       "      <th>risk</th>\n",
       "      <th>minor_violations</th>\n",
       "      <th>non_critical_violations</th>\n",
       "      <th>critical_violations</th>\n",
       "      <th>facility_type_cat</th>\n",
       "      <th>risk_type_cat</th>\n",
       "      <th>burglaries_this_week</th>\n",
       "      <th>service_complains_this_week</th>\n",
       "    </tr>\n",
       "  </thead>\n",
       "  <tbody>\n",
       "    <tr>\n",
       "      <th>0</th>\n",
       "      <td>1958 W CHICAGO AVE</td>\n",
       "      <td>SUBWAY</td>\n",
       "      <td>CHICAGO</td>\n",
       "      <td>SUBWAY</td>\n",
       "      <td>Restaurant</td>\n",
       "      <td>2019-01-22</td>\n",
       "      <td>2252942</td>\n",
       "      <td>Canvass</td>\n",
       "      <td>41.896023</td>\n",
       "      <td>1677083</td>\n",
       "      <td>-87.676995</td>\n",
       "      <td>1</td>\n",
       "      <td>Risk 1 (High)</td>\n",
       "      <td>1</td>\n",
       "      <td>1</td>\n",
       "      <td>4</td>\n",
       "      <td>2</td>\n",
       "      <td>0</td>\n",
       "      <td>12</td>\n",
       "      <td>173</td>\n",
       "    </tr>\n",
       "    <tr>\n",
       "      <th>1003</th>\n",
       "      <td>606 S STATE ST</td>\n",
       "      <td>Jones Academy High School</td>\n",
       "      <td>CHICAGO</td>\n",
       "      <td>Jones Academy High School</td>\n",
       "      <td>School</td>\n",
       "      <td>2019-01-10</td>\n",
       "      <td>2252303</td>\n",
       "      <td>Canvass</td>\n",
       "      <td>41.874419</td>\n",
       "      <td>2132</td>\n",
       "      <td>-87.627755</td>\n",
       "      <td>1</td>\n",
       "      <td>Risk 1 (High)</td>\n",
       "      <td>2</td>\n",
       "      <td>0</td>\n",
       "      <td>1</td>\n",
       "      <td>3</td>\n",
       "      <td>0</td>\n",
       "      <td>5</td>\n",
       "      <td>24</td>\n",
       "    </tr>\n",
       "    <tr>\n",
       "      <th>1004</th>\n",
       "      <td>4646 N MARINE DR</td>\n",
       "      <td>LOUIS A. WEISS MEMORIAL HOSPITAL</td>\n",
       "      <td>CHICAGO</td>\n",
       "      <td>LOUIS A. WEISS MEMORIAL HOSPITAL</td>\n",
       "      <td>Restaurant</td>\n",
       "      <td>2019-02-21</td>\n",
       "      <td>2268322</td>\n",
       "      <td>Canvass</td>\n",
       "      <td>41.966860</td>\n",
       "      <td>1249761</td>\n",
       "      <td>-87.649135</td>\n",
       "      <td>0</td>\n",
       "      <td>Risk 1 (High)</td>\n",
       "      <td>0</td>\n",
       "      <td>1</td>\n",
       "      <td>9</td>\n",
       "      <td>2</td>\n",
       "      <td>0</td>\n",
       "      <td>2</td>\n",
       "      <td>23</td>\n",
       "    </tr>\n",
       "    <tr>\n",
       "      <th>1005</th>\n",
       "      <td>3141 W JACKSON BLVD</td>\n",
       "      <td>ALAIN LOCKE CHARTER ACADEMY</td>\n",
       "      <td>CHICAGO</td>\n",
       "      <td>ALAIN LOCKE CHARTER ACADEMY</td>\n",
       "      <td>School</td>\n",
       "      <td>2019-02-21</td>\n",
       "      <td>2268270</td>\n",
       "      <td>Canvass</td>\n",
       "      <td>41.877221</td>\n",
       "      <td>2206680</td>\n",
       "      <td>-87.705241</td>\n",
       "      <td>1</td>\n",
       "      <td>Risk 1 (High)</td>\n",
       "      <td>0</td>\n",
       "      <td>0</td>\n",
       "      <td>2</td>\n",
       "      <td>3</td>\n",
       "      <td>0</td>\n",
       "      <td>6</td>\n",
       "      <td>148</td>\n",
       "    </tr>\n",
       "    <tr>\n",
       "      <th>1006</th>\n",
       "      <td>1852 W NORTH AVE</td>\n",
       "      <td>THE PASTA BOWL</td>\n",
       "      <td>CHICAGO</td>\n",
       "      <td>THE PASTA BOWL</td>\n",
       "      <td>Restaurant</td>\n",
       "      <td>2019-02-11</td>\n",
       "      <td>2261851</td>\n",
       "      <td>Canvass</td>\n",
       "      <td>41.910639</td>\n",
       "      <td>2374782</td>\n",
       "      <td>-87.674707</td>\n",
       "      <td>1</td>\n",
       "      <td>Risk 1 (High)</td>\n",
       "      <td>3</td>\n",
       "      <td>0</td>\n",
       "      <td>8</td>\n",
       "      <td>2</td>\n",
       "      <td>0</td>\n",
       "      <td>8</td>\n",
       "      <td>104</td>\n",
       "    </tr>\n",
       "  </tbody>\n",
       "</table>\n",
       "</div>"
      ],
      "text/plain": [
       "                   address                          aka_name     city  \\\n",
       "0      1958 W CHICAGO AVE                             SUBWAY  CHICAGO   \n",
       "1003       606 S STATE ST          Jones Academy High School  CHICAGO   \n",
       "1004     4646 N MARINE DR   LOUIS A. WEISS MEMORIAL HOSPITAL  CHICAGO   \n",
       "1005  3141 W JACKSON BLVD        ALAIN LOCKE CHARTER ACADEMY  CHICAGO   \n",
       "1006     1852 W NORTH AVE                     THE PASTA BOWL  CHICAGO   \n",
       "\n",
       "                              dba_name facility_type inspection_date  \\\n",
       "0                               SUBWAY    Restaurant      2019-01-22   \n",
       "1003         Jones Academy High School        School      2019-01-10   \n",
       "1004  LOUIS A. WEISS MEMORIAL HOSPITAL    Restaurant      2019-02-21   \n",
       "1005       ALAIN LOCKE CHARTER ACADEMY        School      2019-02-21   \n",
       "1006                    THE PASTA BOWL    Restaurant      2019-02-11   \n",
       "\n",
       "      inspection_id inspection_type   latitude  license  longitude  results  \\\n",
       "0           2252942         Canvass  41.896023  1677083 -87.676995        1   \n",
       "1003        2252303         Canvass  41.874419     2132 -87.627755        1   \n",
       "1004        2268322         Canvass  41.966860  1249761 -87.649135        0   \n",
       "1005        2268270         Canvass  41.877221  2206680 -87.705241        1   \n",
       "1006        2261851         Canvass  41.910639  2374782 -87.674707        1   \n",
       "\n",
       "               risk  minor_violations  non_critical_violations  \\\n",
       "0     Risk 1 (High)                 1                        1   \n",
       "1003  Risk 1 (High)                 2                        0   \n",
       "1004  Risk 1 (High)                 0                        1   \n",
       "1005  Risk 1 (High)                 0                        0   \n",
       "1006  Risk 1 (High)                 3                        0   \n",
       "\n",
       "      critical_violations  facility_type_cat  risk_type_cat  \\\n",
       "0                       4                  2              0   \n",
       "1003                    1                  3              0   \n",
       "1004                    9                  2              0   \n",
       "1005                    2                  3              0   \n",
       "1006                    8                  2              0   \n",
       "\n",
       "      burglaries_this_week  service_complains_this_week  \n",
       "0                       12                          173  \n",
       "1003                     5                           24  \n",
       "1004                     2                           23  \n",
       "1005                     6                          148  \n",
       "1006                     8                          104  "
      ]
     },
     "execution_count": 85,
     "metadata": {},
     "output_type": "execute_result"
    }
   ],
   "source": [
    "food_data.head()"
   ]
  },
  {
   "cell_type": "code",
   "execution_count": 86,
   "metadata": {},
   "outputs": [],
   "source": [
    "#food_data['yelp_rating'].hist()"
   ]
  },
  {
   "cell_type": "code",
   "execution_count": 87,
   "metadata": {},
   "outputs": [],
   "source": [
    "#features = []\n",
    "\n",
    "#food_data.to_csv('processed_food_inspect_data.csv')\n",
    "#food_data.to_json('processed_food_inspect_data.json')"
   ]
  },
  {
   "cell_type": "markdown",
   "metadata": {},
   "source": [
    "Now that we have some features we can start building some baseline models:"
   ]
  },
  {
   "cell_type": "code",
   "execution_count": 90,
   "metadata": {},
   "outputs": [],
   "source": [
    "features = ['risk_type_cat', 'minor_violations', 'non_critical_violations', 'facility_type_cat', 'burglaries_this_week', 'service_complains_this_week']"
   ]
  },
  {
   "cell_type": "code",
   "execution_count": 91,
   "metadata": {},
   "outputs": [],
   "source": [
    "X = food_data[features]\n",
    "Y = food_data['results']"
   ]
  },
  {
   "cell_type": "code",
   "execution_count": 92,
   "metadata": {},
   "outputs": [
    {
     "data": {
      "text/plain": [
       "(1953, 6)"
      ]
     },
     "execution_count": 92,
     "metadata": {},
     "output_type": "execute_result"
    }
   ],
   "source": [
    "X.shape"
   ]
  },
  {
   "cell_type": "markdown",
   "metadata": {},
   "source": [
    "Y.shape"
   ]
  },
  {
   "cell_type": "code",
   "execution_count": 95,
   "metadata": {},
   "outputs": [
    {
     "data": {
      "text/plain": [
       "<matplotlib.axes._subplots.AxesSubplot at 0x1a285d8940>"
      ]
     },
     "execution_count": 95,
     "metadata": {},
     "output_type": "execute_result"
    },
    {
     "data": {
      "image/png": "[encoded data removed]",
      "text/plain": [
       "<Figure size 864x360 with 1 Axes>"
      ]
     },
     "metadata": {
      "needs_background": "light"
     },
     "output_type": "display_data"
    }
   ],
   "source": [
    "Y.hist()"
   ]
  },
  {
   "cell_type": "markdown",
   "metadata": {},
   "source": [
    "We should note that there is class imbalance here and we should be careful about building our classfier. "
   ]
  },
  {
   "cell_type": "code",
   "execution_count": 98,
   "metadata": {},
   "outputs": [
    {
     "name": "stdout",
     "output_type": "stream",
     "text": [
      "risk_type_cat                  0\n",
      "minor_violations               0\n",
      "non_critical_violations        0\n",
      "facility_type_cat              0\n",
      "burglaries_this_week           0\n",
      "service_complains_this_week    0\n",
      "dtype: int64\n",
      "0\n"
     ]
    }
   ],
   "source": [
    "#Make sure that there are no n/a values in our data frame. \n",
    "print(X.isna().sum())\n",
    "print(Y.isna().sum())"
   ]
  },
  {
   "cell_type": "markdown",
   "metadata": {},
   "source": [
    "### Baseline Models "
   ]
  },
  {
   "cell_type": "code",
   "execution_count": 141,
   "metadata": {},
   "outputs": [],
   "source": [
    "from sklearn.dummy import DummyClassifier\n",
    "from sklearn.model_selection import train_test_split\n",
    "from sklearn import metrics"
   ]
  },
  {
   "cell_type": "code",
   "execution_count": 160,
   "metadata": {},
   "outputs": [],
   "source": [
    "X_train, X_test, y_train, y_test = train_test_split(X, Y, test_size=0.33, random_state=0)"
   ]
  },
  {
   "cell_type": "code",
   "execution_count": 161,
   "metadata": {},
   "outputs": [
    {
     "data": {
      "text/plain": [
       "DummyClassifier(constant=None, random_state=0, strategy='stratified')"
      ]
     },
     "execution_count": 161,
     "metadata": {},
     "output_type": "execute_result"
    }
   ],
   "source": [
    "# Create dummy classifer\n",
    "dummy = DummyClassifier(strategy='stratified', random_state=0) \n",
    "# stratified strategy generates random predictions by respecting the training set class distribution.\n",
    "\n",
    "# \"Train\" model\n",
    "dummy.fit(X_train, y_train)"
   ]
  },
  {
   "cell_type": "code",
   "execution_count": 162,
   "metadata": {},
   "outputs": [
    {
     "data": {
      "text/plain": [
       "0.6775193798449612"
      ]
     },
     "execution_count": 162,
     "metadata": {},
     "output_type": "execute_result"
    }
   ],
   "source": [
    "# Get accuracy score\n",
    "dummy.score(X_test, y_test)  "
   ]
  },
  {
   "cell_type": "code",
   "execution_count": null,
   "metadata": {},
   "outputs": [],
   "source": []
  },
  {
   "cell_type": "code",
   "execution_count": 163,
   "metadata": {},
   "outputs": [
    {
     "data": {
      "text/plain": [
       "LogisticRegression(C=1.0, class_weight='balanced', dual=False,\n",
       "          fit_intercept=True, intercept_scaling=1, max_iter=100,\n",
       "          multi_class='warn', n_jobs=None, penalty='l2', random_state=0,\n",
       "          solver='warn', tol=0.0001, verbose=0, warm_start=False)"
      ]
     },
     "execution_count": 163,
     "metadata": {},
     "output_type": "execute_result"
    },
    {
     "name": "stdout",
     "output_type": "stream",
     "text": [
      "0.6\n"
     ]
    }
   ],
   "source": [
    "# train a logistic regression model on the training set\n",
    "from sklearn.linear_model import LogisticRegression\n",
    "# instantiate model\n",
    "logreg = LogisticRegression(random_state=0, class_weight='balanced')\n",
    "\n",
    "# fit model\n",
    "logreg.fit(X_train, y_train)\n",
    "\n",
    "# make class predictions for the testing set\n",
    "y_pred_class = logreg.predict(X_test)"
   ]
  },
  {
   "cell_type": "code",
   "execution_count": 165,
   "metadata": {},
   "outputs": [
    {
     "name": "stdout",
     "output_type": "stream",
     "text": [
      "0.6\n",
      "[[ 70  69]\n",
      " [189 317]]\n"
     ]
    }
   ],
   "source": [
    "# calculate accuracy\n",
    "print(metrics.accuracy_score(y_test, y_pred_class))\n",
    "print(metrics.confusion_matrix(y_test, y_pred_class))"
   ]
  },
  {
   "cell_type": "code",
   "execution_count": 166,
   "metadata": {},
   "outputs": [
    {
     "name": "stdout",
     "output_type": "stream",
     "text": [
      "0.644204794267353\n"
     ]
    }
   ],
   "source": [
    "y_pred_prob = logreg.predict_proba(X_test)[:, 1]\n",
    "print(metrics.roc_auc_score(y_test, y_pred_prob))"
   ]
  },
  {
   "cell_type": "code",
   "execution_count": 167,
   "metadata": {},
   "outputs": [
    {
     "data": {
      "text/plain": [
       "<Figure size 576x576 with 0 Axes>"
      ]
     },
     "execution_count": 167,
     "metadata": {},
     "output_type": "execute_result"
    },
    {
     "data": {
      "text/plain": [
       "[<matplotlib.lines.Line2D at 0x1a434f7908>]"
      ]
     },
     "execution_count": 167,
     "metadata": {},
     "output_type": "execute_result"
    },
    {
     "data": {
      "text/plain": [
       "[<matplotlib.lines.Line2D at 0x1a43565ac8>]"
      ]
     },
     "execution_count": 167,
     "metadata": {},
     "output_type": "execute_result"
    },
    {
     "data": {
      "text/plain": [
       "(0.0, 1.0)"
      ]
     },
     "execution_count": 167,
     "metadata": {},
     "output_type": "execute_result"
    },
    {
     "data": {
      "text/plain": [
       "(0.0, 1.0)"
      ]
     },
     "execution_count": 167,
     "metadata": {},
     "output_type": "execute_result"
    },
    {
     "data": {
      "text/plain": [
       "Text(0.5, 1.0, 'ROC curve for Food Inspection Classifier')"
      ]
     },
     "execution_count": 167,
     "metadata": {},
     "output_type": "execute_result"
    },
    {
     "data": {
      "text/plain": [
       "Text(0.5, 0, 'False Positive Rate (1 - Specificity)')"
      ]
     },
     "execution_count": 167,
     "metadata": {},
     "output_type": "execute_result"
    },
    {
     "data": {
      "text/plain": [
       "Text(0, 0.5, 'True Positive Rate (Sensitivity)')"
      ]
     },
     "execution_count": 167,
     "metadata": {},
     "output_type": "execute_result"
    },
    {
     "data": {
      "text/plain": [
       "<matplotlib.legend.Legend at 0x1a434fc4a8>"
      ]
     },
     "execution_count": 167,
     "metadata": {},
     "output_type": "execute_result"
    },
    {
     "data": {
      "image/png": "[encoded data removed]",
      "text/plain": [
       "<Figure size 576x576 with 1 Axes>"
      ]
     },
     "metadata": {
      "needs_background": "light"
     },
     "output_type": "display_data"
    }
   ],
   "source": [
    "plt.figure(figsize=(8,8))\n",
    "fpr, tpr, thresholds = metrics.roc_curve(y_test, y_pred_prob)\n",
    "plt.plot(fpr, tpr, label='Logistic Regression (area = %0.2f)' % metrics.roc_auc_score(y_test, y_pred_prob))\n",
    "plt.plot([0, 1], [0, 1],'r--')\n",
    "plt.xlim([0.0, 1.0])\n",
    "plt.ylim([0.0, 1.0])\n",
    "plt.rcParams['font.size'] = 12\n",
    "plt.title('ROC curve for Food Inspection Classifier')\n",
    "plt.xlabel('False Positive Rate (1 - Specificity)')\n",
    "plt.ylabel('True Positive Rate (Sensitivity)')\n",
    "plt.legend(loc=\"lower right\")\n",
    "plt.grid(True)\n",
    "plt.show()"
   ]
  },
  {
   "cell_type": "code",
   "execution_count": null,
   "metadata": {},
   "outputs": [],
   "source": []
  },
  {
   "cell_type": "code",
   "execution_count": null,
   "metadata": {},
   "outputs": [],
   "source": []
  }
 ],
 "metadata": {
  "kernelspec": {
   "display_name": "Python 3",
   "language": "python",
   "name": "python3"
  },
  "language_info": {
   "codemirror_mode": {
    "name": "ipython",
    "version": 3
   },
   "file_extension": ".py",
   "mimetype": "text/x-python",
   "name": "python",
   "nbconvert_exporter": "python",
   "pygments_lexer": "ipython3",
   "version": "3.7.2"
  }
 },
 "nbformat": 4,
 "nbformat_minor": 2
}

{
 "cells": [
  {
   "cell_type": "code",
   "execution_count": 4,
   "metadata": {},
   "outputs": [],
   "source": [
    "%matplotlib inline"
   ]
  },
  {
   "cell_type": "code",
   "execution_count": 5,
   "metadata": {},
   "outputs": [],
   "source": [
    "import pandas as pd\n",
    "import seaborn as sns\n",
    "import matplotlib.pyplot as plt\n",
    "from mpl_toolkits.basemap import Basemap\n",
    "import json"
   ]
  },
  {
   "cell_type": "code",
   "execution_count": 6,
   "metadata": {},
   "outputs": [],
   "source": [
    "data = pd.read_json('../data/raw/food-inspection.json')"
   ]
  },
  {
   "cell_type": "code",
   "execution_count": 7,
   "metadata": {},
   "outputs": [
    {
     "data": {
      "text/html": [
       "<div>\n",
       "<style scoped>\n",
       "    .dataframe tbody tr th:only-of-type {\n",
       "        vertical-align: middle;\n",
       "    }\n",
       "\n",
       "    .dataframe tbody tr th {\n",
       "        vertical-align: top;\n",
       "    }\n",
       "\n",
       "    .dataframe thead th {\n",
       "        text-align: right;\n",
       "    }\n",
       "</style>\n",
       "<table border=\"1\" class=\"dataframe\">\n",
       "  <thead>\n",
       "    <tr style=\"text-align: right;\">\n",
       "      <th></th>\n",
       "      <th>:@computed_region_43wa_7qmu</th>\n",
       "      <th>:@computed_region_6mkv_f3dw</th>\n",
       "      <th>:@computed_region_awaf_s7ux</th>\n",
       "      <th>:@computed_region_bdys_3d7i</th>\n",
       "      <th>:@computed_region_vrxf_vc4k</th>\n",
       "      <th>address</th>\n",
       "      <th>aka_name</th>\n",
       "      <th>city</th>\n",
       "      <th>dba_name</th>\n",
       "      <th>facility_type</th>\n",
       "      <th>inspection_date</th>\n",
       "      <th>inspection_id</th>\n",
       "      <th>inspection_type</th>\n",
       "      <th>latitude</th>\n",
       "      <th>license_</th>\n",
       "      <th>location</th>\n",
       "      <th>longitude</th>\n",
       "      <th>results</th>\n",
       "      <th>risk</th>\n",
       "      <th>state</th>\n",
       "      <th>violations</th>\n",
       "      <th>zip</th>\n",
       "    </tr>\n",
       "  </thead>\n",
       "  <tbody>\n",
       "    <tr>\n",
       "      <th>0</th>\n",
       "      <td>1.0</td>\n",
       "      <td>21569.0</td>\n",
       "      <td>36.0</td>\n",
       "      <td>261.0</td>\n",
       "      <td>32.0</td>\n",
       "      <td>2215 S KEDZIE AVE</td>\n",
       "      <td>PALETERIA  JUAREZ</td>\n",
       "      <td>CHICAGO</td>\n",
       "      <td>PALETERIA JUAREZ</td>\n",
       "      <td>MOBILE DESSERTS VENDOR</td>\n",
       "      <td>2019-03-22T00:00:00.000</td>\n",
       "      <td>2279882</td>\n",
       "      <td>License</td>\n",
       "      <td>41.851283</td>\n",
       "      <td>2211322</td>\n",
       "      <td>{'type': 'Point', 'coordinates': [-87.70509219...</td>\n",
       "      <td>-87.705092</td>\n",
       "      <td>Not Ready</td>\n",
       "      <td>Risk 3 (Low)</td>\n",
       "      <td>IL</td>\n",
       "      <td>None</td>\n",
       "      <td>60623.0</td>\n",
       "    </tr>\n",
       "    <tr>\n",
       "      <th>1</th>\n",
       "      <td>46.0</td>\n",
       "      <td>14926.0</td>\n",
       "      <td>41.0</td>\n",
       "      <td>148.0</td>\n",
       "      <td>37.0</td>\n",
       "      <td>1009-1011 N ORLEANS ST</td>\n",
       "      <td>ORIGINAL PAKIZA INC.</td>\n",
       "      <td>CHICAGO</td>\n",
       "      <td>ORIGINAL PAKIZA INC.</td>\n",
       "      <td>Restaurant</td>\n",
       "      <td>2019-03-22T00:00:00.000</td>\n",
       "      <td>2279851</td>\n",
       "      <td>Complaint Re-Inspection</td>\n",
       "      <td>41.900828</td>\n",
       "      <td>2609221</td>\n",
       "      <td>{'type': 'Point', 'coordinates': [-87.63718892...</td>\n",
       "      <td>-87.637189</td>\n",
       "      <td>Pass</td>\n",
       "      <td>Risk 1 (High)</td>\n",
       "      <td>IL</td>\n",
       "      <td>None</td>\n",
       "      <td>60610.0</td>\n",
       "    </tr>\n",
       "    <tr>\n",
       "      <th>10</th>\n",
       "      <td>41.0</td>\n",
       "      <td>22535.0</td>\n",
       "      <td>24.0</td>\n",
       "      <td>180.0</td>\n",
       "      <td>23.0</td>\n",
       "      <td>2533-37 W HOMER ST</td>\n",
       "      <td>THE JOINERY</td>\n",
       "      <td>CHICAGO</td>\n",
       "      <td>THE JOINERY STUDIOS</td>\n",
       "      <td>EVENT VENU</td>\n",
       "      <td>2019-03-22T00:00:00.000</td>\n",
       "      <td>2279857</td>\n",
       "      <td>License Re-Inspection</td>\n",
       "      <td>41.916527</td>\n",
       "      <td>2636637</td>\n",
       "      <td>{'type': 'Point', 'coordinates': [-87.69116687...</td>\n",
       "      <td>-87.691167</td>\n",
       "      <td>Pass</td>\n",
       "      <td>Risk 3 (Low)</td>\n",
       "      <td>IL</td>\n",
       "      <td>None</td>\n",
       "      <td>60647.0</td>\n",
       "    </tr>\n",
       "    <tr>\n",
       "      <th>100</th>\n",
       "      <td>44.0</td>\n",
       "      <td>22615.0</td>\n",
       "      <td>52.0</td>\n",
       "      <td>77.0</td>\n",
       "      <td>19.0</td>\n",
       "      <td>6317 W GRAND AVE</td>\n",
       "      <td>PALETERIA CARRUCEL</td>\n",
       "      <td>CHICAGO</td>\n",
       "      <td>PALETERIA CARRUCEL</td>\n",
       "      <td>Mobile Frozen Desserts Vendor</td>\n",
       "      <td>2019-03-20T00:00:00.000</td>\n",
       "      <td>2279706</td>\n",
       "      <td>License</td>\n",
       "      <td>41.921990</td>\n",
       "      <td>2385445</td>\n",
       "      <td>{'type': 'Point', 'coordinates': [-87.78370990...</td>\n",
       "      <td>-87.783710</td>\n",
       "      <td>Pass</td>\n",
       "      <td>Risk 3 (Low)</td>\n",
       "      <td>IL</td>\n",
       "      <td>None</td>\n",
       "      <td>60639.0</td>\n",
       "    </tr>\n",
       "    <tr>\n",
       "      <th>101</th>\n",
       "      <td>11.0</td>\n",
       "      <td>22620.0</td>\n",
       "      <td>16.0</td>\n",
       "      <td>109.0</td>\n",
       "      <td>25.0</td>\n",
       "      <td>1209 - 1213 N NOBLE ST</td>\n",
       "      <td>WARM BELLY BAKERY</td>\n",
       "      <td>CHICAGO</td>\n",
       "      <td>WARM BELLY BAKERY</td>\n",
       "      <td>None</td>\n",
       "      <td>2019-03-20T00:00:00.000</td>\n",
       "      <td>2279730</td>\n",
       "      <td>License</td>\n",
       "      <td>41.903725</td>\n",
       "      <td>2653357</td>\n",
       "      <td>{'type': 'Point', 'coordinates': [-87.66247406...</td>\n",
       "      <td>-87.662474</td>\n",
       "      <td>Not Ready</td>\n",
       "      <td>Risk 1 (High)</td>\n",
       "      <td>IL</td>\n",
       "      <td>None</td>\n",
       "      <td>60642.0</td>\n",
       "    </tr>\n",
       "  </tbody>\n",
       "</table>\n",
       "</div>"
      ],
      "text/plain": [
       "     :@computed_region_43wa_7qmu  :@computed_region_6mkv_f3dw  \\\n",
       "0                            1.0                      21569.0   \n",
       "1                           46.0                      14926.0   \n",
       "10                          41.0                      22535.0   \n",
       "100                         44.0                      22615.0   \n",
       "101                         11.0                      22620.0   \n",
       "\n",
       "     :@computed_region_awaf_s7ux  :@computed_region_bdys_3d7i  \\\n",
       "0                           36.0                        261.0   \n",
       "1                           41.0                        148.0   \n",
       "10                          24.0                        180.0   \n",
       "100                         52.0                         77.0   \n",
       "101                         16.0                        109.0   \n",
       "\n",
       "     :@computed_region_vrxf_vc4k                  address  \\\n",
       "0                           32.0       2215 S KEDZIE AVE    \n",
       "1                           37.0  1009-1011 N ORLEANS ST    \n",
       "10                          23.0      2533-37 W HOMER ST    \n",
       "100                         19.0        6317 W GRAND AVE    \n",
       "101                         25.0  1209 - 1213 N NOBLE ST    \n",
       "\n",
       "                 aka_name     city              dba_name  \\\n",
       "0       PALETERIA  JUAREZ  CHICAGO      PALETERIA JUAREZ   \n",
       "1    ORIGINAL PAKIZA INC.  CHICAGO  ORIGINAL PAKIZA INC.   \n",
       "10            THE JOINERY  CHICAGO   THE JOINERY STUDIOS   \n",
       "100    PALETERIA CARRUCEL  CHICAGO    PALETERIA CARRUCEL   \n",
       "101     WARM BELLY BAKERY  CHICAGO     WARM BELLY BAKERY   \n",
       "\n",
       "                     facility_type          inspection_date  inspection_id  \\\n",
       "0           MOBILE DESSERTS VENDOR  2019-03-22T00:00:00.000        2279882   \n",
       "1                       Restaurant  2019-03-22T00:00:00.000        2279851   \n",
       "10                      EVENT VENU  2019-03-22T00:00:00.000        2279857   \n",
       "100  Mobile Frozen Desserts Vendor  2019-03-20T00:00:00.000        2279706   \n",
       "101                           None  2019-03-20T00:00:00.000        2279730   \n",
       "\n",
       "             inspection_type   latitude  license_  \\\n",
       "0                    License  41.851283   2211322   \n",
       "1    Complaint Re-Inspection  41.900828   2609221   \n",
       "10     License Re-Inspection  41.916527   2636637   \n",
       "100                  License  41.921990   2385445   \n",
       "101                  License  41.903725   2653357   \n",
       "\n",
       "                                              location  longitude    results  \\\n",
       "0    {'type': 'Point', 'coordinates': [-87.70509219... -87.705092  Not Ready   \n",
       "1    {'type': 'Point', 'coordinates': [-87.63718892... -87.637189       Pass   \n",
       "10   {'type': 'Point', 'coordinates': [-87.69116687... -87.691167       Pass   \n",
       "100  {'type': 'Point', 'coordinates': [-87.78370990... -87.783710       Pass   \n",
       "101  {'type': 'Point', 'coordinates': [-87.66247406... -87.662474  Not Ready   \n",
       "\n",
       "              risk state violations      zip  \n",
       "0     Risk 3 (Low)    IL       None  60623.0  \n",
       "1    Risk 1 (High)    IL       None  60610.0  \n",
       "10    Risk 3 (Low)    IL       None  60647.0  \n",
       "100   Risk 3 (Low)    IL       None  60639.0  \n",
       "101  Risk 1 (High)    IL       None  60642.0  "
      ]
     },
     "execution_count": 7,
     "metadata": {},
     "output_type": "execute_result"
    }
   ],
   "source": [
    "data.head(5)"
   ]
  },
  {
   "cell_type": "code",
   "execution_count": 8,
   "metadata": {},
   "outputs": [
    {
     "name": "stdout",
     "output_type": "stream",
     "text": [
      "<class 'pandas.core.frame.DataFrame'>\n",
      "Int64Index: 1000 entries, 0 to 999\n",
      "Data columns (total 22 columns):\n",
      ":@computed_region_43wa_7qmu    978 non-null float64\n",
      ":@computed_region_6mkv_f3dw    992 non-null float64\n",
      ":@computed_region_awaf_s7ux    978 non-null float64\n",
      ":@computed_region_bdys_3d7i    992 non-null float64\n",
      ":@computed_region_vrxf_vc4k    978 non-null float64\n",
      "address                        1000 non-null object\n",
      "aka_name                       994 non-null object\n",
      "city                           998 non-null object\n",
      "dba_name                       1000 non-null object\n",
      "facility_type                  982 non-null object\n",
      "inspection_date                1000 non-null object\n",
      "inspection_id                  1000 non-null int64\n",
      "inspection_type                1000 non-null object\n",
      "latitude                       992 non-null float64\n",
      "license_                       1000 non-null int64\n",
      "location                       992 non-null object\n",
      "longitude                      992 non-null float64\n",
      "results                        1000 non-null object\n",
      "risk                           999 non-null object\n",
      "state                          1000 non-null object\n",
      "violations                     746 non-null object\n",
      "zip                            998 non-null float64\n",
      "dtypes: float64(8), int64(2), object(12)\n",
      "memory usage: 179.7+ KB\n"
     ]
    }
   ],
   "source": [
    "data.info()"
   ]
  },
  {
   "cell_type": "code",
   "execution_count": 9,
   "metadata": {},
   "outputs": [
    {
     "data": {
      "text/html": [
       "<div>\n",
       "<style scoped>\n",
       "    .dataframe tbody tr th:only-of-type {\n",
       "        vertical-align: middle;\n",
       "    }\n",
       "\n",
       "    .dataframe tbody tr th {\n",
       "        vertical-align: top;\n",
       "    }\n",
       "\n",
       "    .dataframe thead th {\n",
       "        text-align: right;\n",
       "    }\n",
       "</style>\n",
       "<table border=\"1\" class=\"dataframe\">\n",
       "  <thead>\n",
       "    <tr style=\"text-align: right;\">\n",
       "      <th></th>\n",
       "      <th>:@computed_region_43wa_7qmu</th>\n",
       "      <th>:@computed_region_6mkv_f3dw</th>\n",
       "      <th>:@computed_region_awaf_s7ux</th>\n",
       "      <th>:@computed_region_bdys_3d7i</th>\n",
       "      <th>:@computed_region_vrxf_vc4k</th>\n",
       "      <th>inspection_id</th>\n",
       "      <th>latitude</th>\n",
       "      <th>license_</th>\n",
       "      <th>longitude</th>\n",
       "      <th>zip</th>\n",
       "    </tr>\n",
       "  </thead>\n",
       "  <tbody>\n",
       "    <tr>\n",
       "      <th>count</th>\n",
       "      <td>978.000000</td>\n",
       "      <td>992.000000</td>\n",
       "      <td>978.000000</td>\n",
       "      <td>992.000000</td>\n",
       "      <td>978.000000</td>\n",
       "      <td>1.000000e+03</td>\n",
       "      <td>992.000000</td>\n",
       "      <td>1.000000e+03</td>\n",
       "      <td>992.000000</td>\n",
       "      <td>998.000000</td>\n",
       "    </tr>\n",
       "    <tr>\n",
       "      <th>mean</th>\n",
       "      <td>26.676892</td>\n",
       "      <td>17089.947581</td>\n",
       "      <td>26.918200</td>\n",
       "      <td>379.926411</td>\n",
       "      <td>37.824131</td>\n",
       "      <td>2.273084e+06</td>\n",
       "      <td>41.895495</td>\n",
       "      <td>1.968909e+06</td>\n",
       "      <td>-87.695377</td>\n",
       "      <td>60632.650301</td>\n",
       "    </tr>\n",
       "    <tr>\n",
       "      <th>std</th>\n",
       "      <td>13.085261</td>\n",
       "      <td>7224.416775</td>\n",
       "      <td>14.543179</td>\n",
       "      <td>251.128709</td>\n",
       "      <td>21.058376</td>\n",
       "      <td>1.271219e+04</td>\n",
       "      <td>0.086908</td>\n",
       "      <td>9.457440e+05</td>\n",
       "      <td>0.056435</td>\n",
       "      <td>28.813184</td>\n",
       "    </tr>\n",
       "    <tr>\n",
       "      <th>min</th>\n",
       "      <td>1.000000</td>\n",
       "      <td>4299.000000</td>\n",
       "      <td>1.000000</td>\n",
       "      <td>1.000000</td>\n",
       "      <td>1.000000</td>\n",
       "      <td>2.015568e+06</td>\n",
       "      <td>41.683992</td>\n",
       "      <td>4.910000e+02</td>\n",
       "      <td>-87.914428</td>\n",
       "      <td>60091.000000</td>\n",
       "    </tr>\n",
       "    <tr>\n",
       "      <th>25%</th>\n",
       "      <td>17.250000</td>\n",
       "      <td>14913.000000</td>\n",
       "      <td>15.000000</td>\n",
       "      <td>139.000000</td>\n",
       "      <td>20.000000</td>\n",
       "      <td>2.268806e+06</td>\n",
       "      <td>41.851151</td>\n",
       "      <td>1.869221e+06</td>\n",
       "      <td>-87.723495</td>\n",
       "      <td>60618.000000</td>\n",
       "    </tr>\n",
       "    <tr>\n",
       "      <th>50%</th>\n",
       "      <td>27.000000</td>\n",
       "      <td>21538.000000</td>\n",
       "      <td>27.000000</td>\n",
       "      <td>357.000000</td>\n",
       "      <td>33.000000</td>\n",
       "      <td>2.269142e+06</td>\n",
       "      <td>41.917242</td>\n",
       "      <td>2.368628e+06</td>\n",
       "      <td>-87.688850</td>\n",
       "      <td>60632.000000</td>\n",
       "    </tr>\n",
       "    <tr>\n",
       "      <th>75%</th>\n",
       "      <td>38.000000</td>\n",
       "      <td>22243.000000</td>\n",
       "      <td>39.000000</td>\n",
       "      <td>623.000000</td>\n",
       "      <td>57.000000</td>\n",
       "      <td>2.279487e+06</td>\n",
       "      <td>41.961238</td>\n",
       "      <td>2.621598e+06</td>\n",
       "      <td>-87.654320</td>\n",
       "      <td>60647.000000</td>\n",
       "    </tr>\n",
       "    <tr>\n",
       "      <th>max</th>\n",
       "      <td>50.000000</td>\n",
       "      <td>22620.000000</td>\n",
       "      <td>53.000000</td>\n",
       "      <td>801.000000</td>\n",
       "      <td>77.000000</td>\n",
       "      <td>2.279893e+06</td>\n",
       "      <td>42.019289</td>\n",
       "      <td>3.808890e+06</td>\n",
       "      <td>-87.549716</td>\n",
       "      <td>60707.000000</td>\n",
       "    </tr>\n",
       "  </tbody>\n",
       "</table>\n",
       "</div>"
      ],
      "text/plain": [
       "       :@computed_region_43wa_7qmu  :@computed_region_6mkv_f3dw  \\\n",
       "count                   978.000000                   992.000000   \n",
       "mean                     26.676892                 17089.947581   \n",
       "std                      13.085261                  7224.416775   \n",
       "min                       1.000000                  4299.000000   \n",
       "25%                      17.250000                 14913.000000   \n",
       "50%                      27.000000                 21538.000000   \n",
       "75%                      38.000000                 22243.000000   \n",
       "max                      50.000000                 22620.000000   \n",
       "\n",
       "       :@computed_region_awaf_s7ux  :@computed_region_bdys_3d7i  \\\n",
       "count                   978.000000                   992.000000   \n",
       "mean                     26.918200                   379.926411   \n",
       "std                      14.543179                   251.128709   \n",
       "min                       1.000000                     1.000000   \n",
       "25%                      15.000000                   139.000000   \n",
       "50%                      27.000000                   357.000000   \n",
       "75%                      39.000000                   623.000000   \n",
       "max                      53.000000                   801.000000   \n",
       "\n",
       "       :@computed_region_vrxf_vc4k  inspection_id    latitude      license_  \\\n",
       "count                   978.000000   1.000000e+03  992.000000  1.000000e+03   \n",
       "mean                     37.824131   2.273084e+06   41.895495  1.968909e+06   \n",
       "std                      21.058376   1.271219e+04    0.086908  9.457440e+05   \n",
       "min                       1.000000   2.015568e+06   41.683992  4.910000e+02   \n",
       "25%                      20.000000   2.268806e+06   41.851151  1.869221e+06   \n",
       "50%                      33.000000   2.269142e+06   41.917242  2.368628e+06   \n",
       "75%                      57.000000   2.279487e+06   41.961238  2.621598e+06   \n",
       "max                      77.000000   2.279893e+06   42.019289  3.808890e+06   \n",
       "\n",
       "        longitude           zip  \n",
       "count  992.000000    998.000000  \n",
       "mean   -87.695377  60632.650301  \n",
       "std      0.056435     28.813184  \n",
       "min    -87.914428  60091.000000  \n",
       "25%    -87.723495  60618.000000  \n",
       "50%    -87.688850  60632.000000  \n",
       "75%    -87.654320  60647.000000  \n",
       "max    -87.549716  60707.000000  "
      ]
     },
     "execution_count": 9,
     "metadata": {},
     "output_type": "execute_result"
    }
   ],
   "source": [
    "data.describe()"
   ]
  },
  {
   "cell_type": "code",
   "execution_count": 10,
   "metadata": {},
   "outputs": [
    {
     "data": {
      "image/png": "[encoded data removed]",
      "text/plain": [
       "<Figure size 432x288 with 1 Axes>"
      ]
     },
     "metadata": {
      "needs_background": "light"
     },
     "output_type": "display_data"
    }
   ],
   "source": [
    "ax = sns.countplot(y=\"results\", data=data)"
   ]
  },
  {
   "cell_type": "code",
   "execution_count": 11,
   "metadata": {},
   "outputs": [
    {
     "data": {
      "text/plain": [
       "37"
      ]
     },
     "execution_count": 11,
     "metadata": {},
     "output_type": "execute_result"
    }
   ],
   "source": [
    "data['facility_type'].nunique()"
   ]
  },
  {
   "cell_type": "code",
   "execution_count": 12,
   "metadata": {},
   "outputs": [
    {
     "data": {
      "text/plain": [
       "10"
      ]
     },
     "execution_count": 12,
     "metadata": {},
     "output_type": "execute_result"
    }
   ],
   "source": [
    "data['inspection_type'].nunique()"
   ]
  },
  {
   "cell_type": "code",
   "execution_count": 13,
   "metadata": {},
   "outputs": [
    {
     "data": {
      "text/plain": [
       "<matplotlib.axes._subplots.AxesSubplot at 0x1a1cb0ba58>"
      ]
     },
     "execution_count": 13,
     "metadata": {},
     "output_type": "execute_result"
    },
    {
     "data": {
      "image/png": "[encoded data removed]",
      "text/plain": [
       "<Figure size 432x288 with 1 Axes>"
      ]
     },
     "metadata": {
      "needs_background": "light"
     },
     "output_type": "display_data"
    }
   ],
   "source": [
    "data.groupby('inspection_date').count()['inspection_id'].plot()"
   ]
  },
  {
   "cell_type": "code",
   "execution_count": 14,
   "metadata": {},
   "outputs": [
    {
     "data": {
      "text/plain": [
       "Canvass                                   488\n",
       "License                                   236\n",
       "Canvass Re-Inspection                     136\n",
       "Complaint                                  57\n",
       "License Re-Inspection                      47\n",
       "Complaint Re-Inspection                    25\n",
       "Short Form Complaint                        4\n",
       "Suspected Food Poisoning                    4\n",
       "Recent Inspection                           2\n",
       "Suspected Food Poisoning Re-inspection      1\n",
       "Name: inspection_type, dtype: int64"
      ]
     },
     "execution_count": 14,
     "metadata": {},
     "output_type": "execute_result"
    }
   ],
   "source": [
    "data['inspection_type'].value_counts()"
   ]
  },
  {
   "cell_type": "code",
   "execution_count": 15,
   "metadata": {},
   "outputs": [
    {
     "ename": "ValueError",
     "evalue": "min() arg is an empty sequence",
     "output_type": "error",
     "traceback": [
      "\u001b[0;31m---------------------------------------------------------------------------\u001b[0m",
      "\u001b[0;31mValueError\u001b[0m                                Traceback (most recent call last)",
      "\u001b[0;32m<ipython-input-15-fc820dc3f1fa>\u001b[0m in \u001b[0;36m<module>\u001b[0;34m\u001b[0m\n\u001b[1;32m      1\u001b[0m \u001b[0mfail\u001b[0m \u001b[0;34m=\u001b[0m \u001b[0mdata\u001b[0m\u001b[0;34m[\u001b[0m\u001b[0mdata\u001b[0m\u001b[0;34m[\u001b[0m\u001b[0;34m'results'\u001b[0m\u001b[0;34m]\u001b[0m \u001b[0;34m==\u001b[0m \u001b[0;34m'fail'\u001b[0m\u001b[0;34m]\u001b[0m\u001b[0;34m\u001b[0m\u001b[0;34m\u001b[0m\u001b[0m\n\u001b[0;32m----> 2\u001b[0;31m \u001b[0max\u001b[0m \u001b[0;34m=\u001b[0m \u001b[0msns\u001b[0m\u001b[0;34m.\u001b[0m\u001b[0mcountplot\u001b[0m\u001b[0;34m(\u001b[0m\u001b[0my\u001b[0m\u001b[0;34m=\u001b[0m\u001b[0;34m\"risk\"\u001b[0m\u001b[0;34m,\u001b[0m \u001b[0mdata\u001b[0m\u001b[0;34m=\u001b[0m\u001b[0mfail\u001b[0m\u001b[0;34m)\u001b[0m\u001b[0;34m\u001b[0m\u001b[0;34m\u001b[0m\u001b[0m\n\u001b[0m",
      "\u001b[0;32m/anaconda3/lib/python3.7/site-packages/seaborn/categorical.py\u001b[0m in \u001b[0;36mcountplot\u001b[0;34m(x, y, hue, data, order, hue_order, orient, color, palette, saturation, dodge, ax, **kwargs)\u001b[0m\n\u001b[1;32m   3551\u001b[0m                           \u001b[0mestimator\u001b[0m\u001b[0;34m,\u001b[0m \u001b[0mci\u001b[0m\u001b[0;34m,\u001b[0m \u001b[0mn_boot\u001b[0m\u001b[0;34m,\u001b[0m \u001b[0munits\u001b[0m\u001b[0;34m,\u001b[0m\u001b[0;34m\u001b[0m\u001b[0;34m\u001b[0m\u001b[0m\n\u001b[1;32m   3552\u001b[0m                           \u001b[0morient\u001b[0m\u001b[0;34m,\u001b[0m \u001b[0mcolor\u001b[0m\u001b[0;34m,\u001b[0m \u001b[0mpalette\u001b[0m\u001b[0;34m,\u001b[0m \u001b[0msaturation\u001b[0m\u001b[0;34m,\u001b[0m\u001b[0;34m\u001b[0m\u001b[0;34m\u001b[0m\u001b[0m\n\u001b[0;32m-> 3553\u001b[0;31m                           errcolor, errwidth, capsize, dodge)\n\u001b[0m\u001b[1;32m   3554\u001b[0m \u001b[0;34m\u001b[0m\u001b[0m\n\u001b[1;32m   3555\u001b[0m     \u001b[0mplotter\u001b[0m\u001b[0;34m.\u001b[0m\u001b[0mvalue_label\u001b[0m \u001b[0;34m=\u001b[0m \u001b[0;34m\"count\"\u001b[0m\u001b[0;34m\u001b[0m\u001b[0;34m\u001b[0m\u001b[0m\n",
      "\u001b[0;32m/anaconda3/lib/python3.7/site-packages/seaborn/categorical.py\u001b[0m in \u001b[0;36m__init__\u001b[0;34m(self, x, y, hue, data, order, hue_order, estimator, ci, n_boot, units, orient, color, palette, saturation, errcolor, errwidth, capsize, dodge)\u001b[0m\n\u001b[1;32m   1606\u001b[0m         self.establish_variables(x, y, hue, data, orient,\n\u001b[1;32m   1607\u001b[0m                                  order, hue_order, units)\n\u001b[0;32m-> 1608\u001b[0;31m         \u001b[0mself\u001b[0m\u001b[0;34m.\u001b[0m\u001b[0mestablish_colors\u001b[0m\u001b[0;34m(\u001b[0m\u001b[0mcolor\u001b[0m\u001b[0;34m,\u001b[0m \u001b[0mpalette\u001b[0m\u001b[0;34m,\u001b[0m \u001b[0msaturation\u001b[0m\u001b[0;34m)\u001b[0m\u001b[0;34m\u001b[0m\u001b[0;34m\u001b[0m\u001b[0m\n\u001b[0m\u001b[1;32m   1609\u001b[0m         \u001b[0mself\u001b[0m\u001b[0;34m.\u001b[0m\u001b[0mestimate_statistic\u001b[0m\u001b[0;34m(\u001b[0m\u001b[0mestimator\u001b[0m\u001b[0;34m,\u001b[0m \u001b[0mci\u001b[0m\u001b[0;34m,\u001b[0m \u001b[0mn_boot\u001b[0m\u001b[0;34m)\u001b[0m\u001b[0;34m\u001b[0m\u001b[0;34m\u001b[0m\u001b[0m\n\u001b[1;32m   1610\u001b[0m \u001b[0;34m\u001b[0m\u001b[0m\n",
      "\u001b[0;32m/anaconda3/lib/python3.7/site-packages/seaborn/categorical.py\u001b[0m in \u001b[0;36mestablish_colors\u001b[0;34m(self, color, palette, saturation)\u001b[0m\n\u001b[1;32m    313\u001b[0m         \u001b[0;31m# Determine the gray color to use for the lines framing the plot\u001b[0m\u001b[0;34m\u001b[0m\u001b[0;34m\u001b[0m\u001b[0;34m\u001b[0m\u001b[0m\n\u001b[1;32m    314\u001b[0m         \u001b[0mlight_vals\u001b[0m \u001b[0;34m=\u001b[0m \u001b[0;34m[\u001b[0m\u001b[0mcolorsys\u001b[0m\u001b[0;34m.\u001b[0m\u001b[0mrgb_to_hls\u001b[0m\u001b[0;34m(\u001b[0m\u001b[0;34m*\u001b[0m\u001b[0mc\u001b[0m\u001b[0;34m)\u001b[0m\u001b[0;34m[\u001b[0m\u001b[0;36m1\u001b[0m\u001b[0;34m]\u001b[0m \u001b[0;32mfor\u001b[0m \u001b[0mc\u001b[0m \u001b[0;32min\u001b[0m \u001b[0mrgb_colors\u001b[0m\u001b[0;34m]\u001b[0m\u001b[0;34m\u001b[0m\u001b[0;34m\u001b[0m\u001b[0m\n\u001b[0;32m--> 315\u001b[0;31m         \u001b[0mlum\u001b[0m \u001b[0;34m=\u001b[0m \u001b[0mmin\u001b[0m\u001b[0;34m(\u001b[0m\u001b[0mlight_vals\u001b[0m\u001b[0;34m)\u001b[0m \u001b[0;34m*\u001b[0m \u001b[0;36m.6\u001b[0m\u001b[0;34m\u001b[0m\u001b[0;34m\u001b[0m\u001b[0m\n\u001b[0m\u001b[1;32m    316\u001b[0m         \u001b[0mgray\u001b[0m \u001b[0;34m=\u001b[0m \u001b[0mmpl\u001b[0m\u001b[0;34m.\u001b[0m\u001b[0mcolors\u001b[0m\u001b[0;34m.\u001b[0m\u001b[0mrgb2hex\u001b[0m\u001b[0;34m(\u001b[0m\u001b[0;34m(\u001b[0m\u001b[0mlum\u001b[0m\u001b[0;34m,\u001b[0m \u001b[0mlum\u001b[0m\u001b[0;34m,\u001b[0m \u001b[0mlum\u001b[0m\u001b[0;34m)\u001b[0m\u001b[0;34m)\u001b[0m\u001b[0;34m\u001b[0m\u001b[0;34m\u001b[0m\u001b[0m\n\u001b[1;32m    317\u001b[0m \u001b[0;34m\u001b[0m\u001b[0m\n",
      "\u001b[0;31mValueError\u001b[0m: min() arg is an empty sequence"
     ]
    }
   ],
   "source": [
    "fail = data[data['results'] == 'fail']\n",
    "ax = sns.countplot(y=\"risk\", data=fail)"
   ]
  },
  {
   "cell_type": "code",
   "execution_count": null,
   "metadata": {},
   "outputs": [],
   "source": []
  },
  {
   "cell_type": "code",
   "execution_count": null,
   "metadata": {},
   "outputs": [],
   "source": []
  }
 ],
 "metadata": {
  "kernelspec": {
   "display_name": "Python 3",
   "language": "python",
   "name": "python3"
  },
  "language_info": {
   "codemirror_mode": {
    "name": "ipython",
    "version": 3
   },
   "file_extension": ".py",
   "mimetype": "text/x-python",
   "name": "python",
   "nbconvert_exporter": "python",
   "pygments_lexer": "ipython3",
   "version": "3.7.1"
  }
 },
 "nbformat": 4,
 "nbformat_minor": 2
}

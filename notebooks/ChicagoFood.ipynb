{
 "cells": [
  {
   "cell_type": "markdown",
   "metadata": {},
   "source": [
    "## Modeling Inspection of the Food Establishments in the City of Chicago"
   ]
  },
  {
   "cell_type": "markdown",
   "metadata": {},
   "source": [
    "## Project Plan\n",
    " - Project Goal\n",
    " - Dataset and features\n",
    " - Exploratory data analysis (EDA) \n",
    " - Patterns, insights, pecularities of data\n",
    " - Data preprocessing\n",
    " - Feature engineering and description\n",
    " - Cross-validation, hyperparameter tuning\n",
    " - Validation and learning curves\n",
    " - Prediction for hold-out and test samples\n",
    " - Model evaluation with metrics description\n",
    " - Conclusions\n"
   ]
  },
  {
   "cell_type": "markdown",
   "metadata": {},
   "source": [
    "### Project Goal\n",
    "The goal of this project is to model the vilolations/failures by the food establishments in the city of chicago. "
   ]
  },
  {
   "cell_type": "markdown",
   "metadata": {},
   "source": [
    "### Dataset and Features  \n",
    "We used city of Chicago's Socrata Open Data (SODA) API to access food inspection data for 2018 and 2019. In addition to the food inspection data, we are using burglary/crime, 311 sanitation complaints, business license data as well."
   ]
  },
  {
   "cell_type": "markdown",
   "metadata": {},
   "source": [
    "## Exploratory Data Analysis "
   ]
  },
  {
   "cell_type": "code",
   "execution_count": 3,
   "metadata": {},
   "outputs": [
    {
     "name": "stdout",
     "output_type": "stream",
     "text": [
      "NEAR SOUTH SIDE\n"
     ]
    }
   ],
   "source": [
    "#important libraries\n",
    "%matplotlib inline\n",
    "import sys\n",
    "import os\n",
    "import re\n",
    "import time\n",
    "import json\n",
    "import warnings\n",
    "warnings.filterwarnings('ignore')\n",
    "sys.path.append('/Users/dipakrimal/work/')\n",
    "import numpy as np\n",
    "import matplotlib.pyplot as plt\n",
    "import pandas as pd\n",
    "import seaborn as sns\n",
    "sns.set(rc={'figure.figsize':(12, 6),\"font.size\":20,\"axes.titlesize\":20,\"axes.labelsize\":20},style=\"darkgrid\")\n",
    "import matplotlib.dates as mdates\n",
    "from datetime import datetime, date, time, timedelta\n",
    "from sklearn.preprocessing import LabelEncoder\n",
    "from geopy import distance\n",
    "import geopy.distance\n",
    "from sklearn.ensemble import GradientBoostingClassifier  #GBM algorithm\n",
    "from sklearn.tree import DecisionTreeClassifier\n",
    "import xgboost as xgb\n",
    "from sklearn.model_selection import RandomizedSearchCV\n",
    "from sklearn.ensemble import RandomForestClassifier\n",
    "from sklearn.linear_model import LogisticRegression\n",
    "from sklearn.linear_model import SGDClassifier\n",
    "from sklearn.model_selection import train_test_split\n",
    "from sklearn.model_selection import GridSearchCV\n",
    "from sklearn import metrics\n",
    "from sklearn.model_selection import cross_val_score\n",
    "from sklearn.metrics import roc_curve, auc\n",
    "from neighborhoods import gps_to_neighborhood\n",
    "from sklearn.preprocessing import LabelEncoder"
   ]
  },
  {
   "cell_type": "code",
   "execution_count": null,
   "metadata": {},
   "outputs": [],
   "source": [
    "food_data = pd.read_json('../data/raw/food-inspection.json',\n",
    "                         convert_dates=['inspection_date'])\n",
    "food_data.head(2)"
   ]
  },
  {
   "cell_type": "code",
   "execution_count": null,
   "metadata": {},
   "outputs": [],
   "source": [
    "shape = food_data.shape\n",
    "print(\" So there are %d rows and %d columns in the data\" %\n",
    "      (shape[0], shape[1]))"
   ]
  },
  {
   "cell_type": "code",
   "execution_count": null,
   "metadata": {},
   "outputs": [],
   "source": [
    "food_data.isna().sum()"
   ]
  },
  {
   "cell_type": "code",
   "execution_count": null,
   "metadata": {},
   "outputs": [],
   "source": [
    "plt.figure(figsize=(12, 6))\n",
    "#food_data.unstack.plot(['inspection_date'].hist(bins=16, use_index=True)\n",
    "food_data['inspection_date'].hist(bins=29)\n",
    "plt.title(\"Inspections by date\")\n",
    "plt.xlabel(\"Inspection Date\")\n",
    "plt.show()"
   ]
  },
  {
   "cell_type": "markdown",
   "metadata": {},
   "source": [
    "Let us do some data clean up:"
   ]
  },
  {
   "cell_type": "code",
   "execution_count": null,
   "metadata": {
    "scrolled": true
   },
   "outputs": [],
   "source": [
    "food_data['event_date'] = food_data['inspection_date']\n",
    "food_data.rename(columns={'license_': 'license'}, inplace=True)\n",
    "food_data['inspection_date'] = food_data['inspection_date'].dt.date\n",
    "food_data = food_data[np.isfinite(food_data['license'])]\n",
    "food_data = food_data[(food_data['license'] > 0)\n",
    "                      & (food_data['inspection_date'] != 0)]\n",
    "food_data = food_data.drop(['location', 'zip', 'state', 'city'], axis=1)\n",
    "food_data['latitude'].fillna(food_data['latitude'].mode()[0], inplace=True)\n",
    "food_data['longitude'].fillna(food_data['longitude'].mode()[0], inplace=True)\n",
    "food_data['aka_name'].fillna(food_data['dba_name'], inplace=True)\n",
    "food_data['license'] = food_data['license'].astype('int')"
   ]
  },
  {
   "cell_type": "code",
   "execution_count": null,
   "metadata": {},
   "outputs": [],
   "source": [
    "food_data.isna().sum()"
   ]
  },
  {
   "cell_type": "code",
   "execution_count": null,
   "metadata": {},
   "outputs": [],
   "source": [
    "#what's in the data? \n",
    "food_data.info()"
   ]
  },
  {
   "cell_type": "code",
   "execution_count": null,
   "metadata": {},
   "outputs": [],
   "source": [
    "all_neighborhoods = gps_to_neighborhood.get_all_neighborhoods()\n",
    "food_data['neighborhood'] = food_data.apply(\n",
    "    lambda x: gps_to_neighborhood.find_neighborhood(x['longitude'], x[\n",
    "        'latitude'], all_neighborhoods),\n",
    "    axis=1)"
   ]
  },
  {
   "cell_type": "code",
   "execution_count": null,
   "metadata": {},
   "outputs": [],
   "source": [
    "food_data['neighborhood'].value_counts()"
   ]
  },
  {
   "cell_type": "code",
   "execution_count": null,
   "metadata": {},
   "outputs": [],
   "source": [
    "#simple statistics\n",
    "food_data.describe().T\n",
    "#food_data.set_index('inspection_date')"
   ]
  },
  {
   "cell_type": "code",
   "execution_count": null,
   "metadata": {},
   "outputs": [],
   "source": [
    "def count_violations(row):\n",
    "    if row['violations'] is None:\n",
    "        return [0]\n",
    "    else:\n",
    "        serious_violations_count = 0\n",
    "        critical_violations_count = 0\n",
    "        minor_violations_count = 0\n",
    "        x = row['violations'].split('|')\n",
    "        if row['inspection_date'] < pd.to_datetime('2018-07-01').date():\n",
    "            codes = []\n",
    "            for violation in x:\n",
    "                match = int(re.search('[0-9]+', violation).group())\n",
    "                #print(match)\n",
    "                codes.append(match)\n",
    "            for code in codes:\n",
    "                if code < 15:\n",
    "                    critical_violations_count += 1\n",
    "                elif code > 15 and code < 30:\n",
    "                    serious_violations_count += 1\n",
    "                elif code > 30 and code < 45:\n",
    "                    minor_violations_count += 1\n",
    "            return [\n",
    "                minor_violations_count, serious_violations_count,\n",
    "                critical_violations_count\n",
    "            ]\n",
    "        else:\n",
    "            for violation in x:\n",
    "                if 'PRIORITY VIOLATION' in violation:\n",
    "                    critical_violations_count += 1\n",
    "                elif 'PRIORITY FOUNDATION VIOLATION' in violation:\n",
    "                    serious_violations_count += 1\n",
    "                elif 'CORE VIOLATION' in violation:\n",
    "                    minor_violations_count += 1\n",
    "            return [\n",
    "                minor_violations_count, serious_violations_count,\n",
    "                critical_violations_count\n",
    "            ]"
   ]
  },
  {
   "cell_type": "code",
   "execution_count": null,
   "metadata": {},
   "outputs": [],
   "source": [
    "food_data['violations_list'] = food_data.apply(lambda x: count_violations(x),\n",
    "                                               axis=1)\n",
    "food_data['minor_violations'] = food_data['violations_list'].apply(\n",
    "    lambda x: x[0])\n",
    "food_data['serious_violations'] = food_data['violations_list'].apply(\n",
    "    lambda x: x[1] if len(x) > 1 else 0)\n",
    "food_data['critical_violations'] = food_data['violations_list'].apply(\n",
    "    lambda x: x[2] if len(x) > 1 else 0)\n",
    "food_data['CriticalFound'] = food_data['critical_violations'].apply(\n",
    "    lambda x: 1 if x > 0 else 0)"
   ]
  },
  {
   "cell_type": "code",
   "execution_count": null,
   "metadata": {},
   "outputs": [],
   "source": [
    "plt.figure(figsize=(12, 6))\n",
    "food_data[food_data['CriticalFound'] == 0]['event_date'].hist(\n",
    "    bins=29, label=\"No Critical Violations\")\n",
    "food_data[food_data['CriticalFound'] == 1]['event_date'].hist(\n",
    "    bins=29, label=\"Found Critical Violations\")\n",
    "plt.xlabel(\"Inspection Date\")\n",
    "plt.legend(loc='best')\n",
    "plt.show()"
   ]
  },
  {
   "cell_type": "code",
   "execution_count": null,
   "metadata": {},
   "outputs": [],
   "source": [
    "food_data.head()"
   ]
  },
  {
   "cell_type": "markdown",
   "metadata": {},
   "source": [
    "Let's drop some redundant and unnecessary columns from the dataframe and also clean up column_names."
   ]
  },
  {
   "cell_type": "code",
   "execution_count": null,
   "metadata": {},
   "outputs": [],
   "source": [
    "food_data = food_data.drop(['violations_list', 'violations'], axis=1)"
   ]
  },
  {
   "cell_type": "code",
   "execution_count": null,
   "metadata": {},
   "outputs": [],
   "source": [
    "food_data[food_data['license'] == 2]"
   ]
  },
  {
   "cell_type": "code",
   "execution_count": null,
   "metadata": {},
   "outputs": [],
   "source": [
    "food_data.isna().sum()"
   ]
  },
  {
   "cell_type": "markdown",
   "metadata": {},
   "source": [
    "#### Let's see the frequency of these inspections. "
   ]
  },
  {
   "cell_type": "code",
   "execution_count": null,
   "metadata": {},
   "outputs": [],
   "source": [
    "per_day = pd.DataFrame()\n",
    "per_day = food_data[['inspection_date', 'inspection_id']]\n",
    "per_day = per_day.set_index(pd.to_datetime(per_day['inspection_date']))\n",
    "per_day = per_day.resample('W').count()\n",
    "plt.rcParams['figure.figsize'] = 12, 5\n",
    "fig, ax = plt.subplots()\n",
    "fig.autofmt_xdate()\n",
    "#ax.xaxis.set_minor_locator(locator)\n",
    "ax.xaxis.set_major_locator(mdates.MonthLocator())\n",
    "#ax.xaxis.set_minor_locator(mdates.DayLocator())\n",
    "monthFmt = mdates.DateFormatter('%Y-%b')\n",
    "ax.xaxis.set_major_formatter(monthFmt)\n",
    "\n",
    "plt.plot(per_day.index, per_day, 'b-')\n",
    "plt.xlabel('Inspection Date')\n",
    "plt.ylabel('Number of Inspections')\n",
    "plt.title('Weekly Inspections')\n",
    "plt.show()"
   ]
  },
  {
   "cell_type": "code",
   "execution_count": null,
   "metadata": {},
   "outputs": [],
   "source": [
    "print(\"%s unique facilites were inspected during the period\" %\n",
    "      food_data['license'].nunique())"
   ]
  },
  {
   "cell_type": "markdown",
   "metadata": {},
   "source": [
    "## Let's look at the results of these inspection more closely: \n",
    "A facility can either pass, pass with conditions or fail. Following is an excerpt from the dataset documentation page:\n",
    "\n",
    "\"Establishments receiving a ‘pass’ were found to have no critical or serious violations (violation number 1-14 and 15-29, respectively). Establishments receiving a ‘pass with conditions’ were found to have critical or serious violations, but these were corrected during the inspection. Establishments receiving a ‘fail’ were found to have critical or serious violations that were not correctable during the inspection. An establishment receiving a ‘fail’ does not necessarily mean the establishment’s licensed is suspended. Establishments found to be out of business or not located are indicated as such\"."
   ]
  },
  {
   "cell_type": "code",
   "execution_count": null,
   "metadata": {},
   "outputs": [],
   "source": [
    "food_data['results'].value_counts()"
   ]
  },
  {
   "cell_type": "code",
   "execution_count": null,
   "metadata": {
    "scrolled": true
   },
   "outputs": [],
   "source": [
    "ax = sns.countplot(x=\"results\", data=food_data)\n",
    "plt.title(\"Result of Inspections\")\n",
    "plt.show()"
   ]
  },
  {
   "cell_type": "markdown",
   "metadata": {},
   "source": [
    "### Let's convert results in to categorical variable first and the we will filter out non-relevant categories like 'Out of Business', 'Not Ready' and 'No Entry' facilities. "
   ]
  },
  {
   "cell_type": "code",
   "execution_count": null,
   "metadata": {},
   "outputs": [],
   "source": [
    "results_conv = {\n",
    "    \"results\": {\n",
    "        \"Fail\": 0,\n",
    "        \"Pass\": 1,\n",
    "        \"Pass w/ Conditions\": 1,\n",
    "        \"Out of Business\": 2,\n",
    "        \"No Entry\": 3,\n",
    "        \"Not Ready\": 4,\n",
    "        'Business Not Located': 5\n",
    "    }\n",
    "}\n",
    "food_data.replace(results_conv, inplace=True)\n",
    "print(food_data.results.dtype)"
   ]
  },
  {
   "cell_type": "code",
   "execution_count": null,
   "metadata": {},
   "outputs": [],
   "source": [
    "food_data = food_data[food_data['results'] < 2]"
   ]
  },
  {
   "cell_type": "code",
   "execution_count": null,
   "metadata": {},
   "outputs": [],
   "source": [
    "ax = sns.countplot(x=\"CriticalFound\", data=food_data)\n",
    "plt.title(\"Result of Inspections\")\n",
    "plt.show()"
   ]
  },
  {
   "cell_type": "code",
   "execution_count": null,
   "metadata": {},
   "outputs": [],
   "source": [
    "# how about non_critical_violations ?\n",
    "ax = sns.countplot(x=\"serious_violations\", hue='CriticalFound', data=food_data)\n",
    "plt.title(\"Distribution of Serious Violations\")\n",
    "plt.show()"
   ]
  },
  {
   "cell_type": "code",
   "execution_count": null,
   "metadata": {},
   "outputs": [],
   "source": [
    "# how about non_critical_violations ?\n",
    "ax = sns.countplot(x=\"minor_violations\", hue='CriticalFound', data=food_data)\n",
    "plt.title(\"Distribution of Minor Violations\")\n",
    "plt.show()"
   ]
  },
  {
   "cell_type": "markdown",
   "metadata": {},
   "source": [
    "###  Inspection type: \n",
    "According to the dataset description, an inspection can be of the following types:\n",
    "\n",
    "1) Canvass : The most common type of inspection performed at a frequency relative to the risk of the establishment\n",
    "\n",
    "2) Consultation: when the inspection is done at the request of the owner prior to the opening of the establishment\n",
    "\n",
    "3) Complaint: when the inspection is done in response to a complaint against the establishment\n",
    "\n",
    "4) license : when the inspection is done as a requirement for the establishment to receive its license to operate\n",
    "\n",
    "5) suspect food poisoning : when the inspection is done in response to one or more persons claiming to have gotten ill as a result of eating at the establishment (a specific type of complaint based inspection)\n",
    "\n",
    "6) Task-force inspection: when an inspection of a bar or tavern is done.\n",
    "\n",
    "7) Re-inspections:  Occurs for most types of these inspections and are indicated as such."
   ]
  },
  {
   "cell_type": "code",
   "execution_count": null,
   "metadata": {},
   "outputs": [],
   "source": [
    "food_data['inspection_type'].value_counts()"
   ]
  },
  {
   "cell_type": "markdown",
   "metadata": {},
   "source": [
    "#### A picture speaks thousands numbers, right ? Let's look at these numbers as count plots. "
   ]
  },
  {
   "cell_type": "code",
   "execution_count": null,
   "metadata": {},
   "outputs": [],
   "source": [
    "plt.figure(figsize=(10, 6))\n",
    "ax = sns.countplot(y=\"inspection_type\", data=food_data)\n",
    "plt.title(\"Result of Inspections\")\n",
    "plt.show()"
   ]
  },
  {
   "cell_type": "markdown",
   "metadata": {},
   "source": [
    "#### Since our goal is here to model the failure in random canvas, we are going to focus on canvass inspections only. "
   ]
  },
  {
   "cell_type": "code",
   "execution_count": null,
   "metadata": {},
   "outputs": [],
   "source": [
    "food_data = food_data[food_data['inspection_type'] == 'Canvass']"
   ]
  },
  {
   "cell_type": "code",
   "execution_count": null,
   "metadata": {},
   "outputs": [],
   "source": [
    "#food_data = food_data[(food_data['results']== 1) | (food_data['results']== 2) ]"
   ]
  },
  {
   "cell_type": "code",
   "execution_count": null,
   "metadata": {},
   "outputs": [],
   "source": [
    "print(\n",
    "    \"%d different types of food establishment facilities were inspected during the period and %d different types of inpsections were conducted during the period.\"\n",
    "    % (food_data['facility_type'].nunique(),\n",
    "       food_data['inspection_type'].nunique()))"
   ]
  },
  {
   "cell_type": "code",
   "execution_count": null,
   "metadata": {},
   "outputs": [],
   "source": [
    "food_data['facility_type'].value_counts()[0:10]"
   ]
  },
  {
   "cell_type": "code",
   "execution_count": null,
   "metadata": {},
   "outputs": [],
   "source": [
    "# Setting anything other than Restaurants, Grocery store and School to other types\n",
    "ftype = lambda x: \"Other\" if x not in [\n",
    "    'Restaurant', 'Grocery Store', 'School'\n",
    "] else x\n",
    "plt.figure(figsize=(13, 13))\n",
    "food_data['facility_type'] = food_data['facility_type'].map(ftype)\n",
    "ax = sns.countplot(y=\"facility_type\", data=food_data)\n",
    "plt.title(\"Types of Facilities Inspected\")\n",
    "plt.show()"
   ]
  },
  {
   "cell_type": "code",
   "execution_count": null,
   "metadata": {},
   "outputs": [],
   "source": [
    "food_data = food_data[(food_data['facility_type'] == 'Restaurant') |\n",
    "                      (food_data['facility_type'] == 'Grocery Store')]"
   ]
  },
  {
   "cell_type": "code",
   "execution_count": null,
   "metadata": {},
   "outputs": [],
   "source": [
    "food_data.sort_values(by='inspection_date', inplace=True)\n",
    "#food_data.set_index(['date'])\n",
    "#food_data = food_data.set_index(['inspection_date'])\n",
    "#food_data = food_data.sort_values(by=['inspection_date'], ascending=False)\n",
    "#food_data['time_since_last_inspection'] = food_data.groupby(['license'])['inspection_date'].shift(-1)\n",
    "#food_data[food_data['license'] == 28176]"
   ]
  },
  {
   "cell_type": "markdown",
   "metadata": {},
   "source": [
    "### Risk categories: \n",
    "    \n",
    "Each establishment is categorized as to its risk of adversely affecting the public’s health:\n",
    "\n",
    " 1: High\n",
    "\n",
    " 2: Medium \n",
    "\n",
    " 3: Low \n",
    "\n",
    "The frequency of inspection is tied to this risk, with risk 1 establishments inspected most frequently and risk 3 least frequently."
   ]
  },
  {
   "cell_type": "code",
   "execution_count": null,
   "metadata": {},
   "outputs": [],
   "source": [
    "food_data['risk'].value_counts()[0:10]"
   ]
  },
  {
   "cell_type": "code",
   "execution_count": null,
   "metadata": {},
   "outputs": [],
   "source": [
    "plt.figure(figsize=(12, 8))\n",
    "ax = sns.countplot(y=\"risk\", data=food_data)\n",
    "plt.title(\"Risk\")\n",
    "plt.show()"
   ]
  },
  {
   "cell_type": "markdown",
   "metadata": {},
   "source": [
    "## Label Encoding categorical variables:\n",
    "\n",
    "There are couple different ways of label encoding categorical variables.\n",
    "\n",
    "1) First method is to replace those variables with a dictionary involving key and value pairs of the variables to be encoded. \n",
    "\n",
    "2) Another method is to change their type as categorical variable. Let's convert inspection_type for example as as categorical variable. "
   ]
  },
  {
   "cell_type": "code",
   "execution_count": null,
   "metadata": {},
   "outputs": [],
   "source": [
    "#food_data[\"inspection_type\"] = food_data[\"inspection_type\"].astype('category')\n",
    "food_data[\"facility_type\"] = food_data[\"facility_type\"].astype('category')\n",
    "food_data[\"risk\"] = food_data[\"risk\"].astype('category')\n",
    "#food_data[\"inspection_type_cat\"] = food_data[\"inspection_type\"].cat.codes\n",
    "food_data[\"facility_type_cat\"] = food_data[\"facility_type\"].cat.codes\n",
    "food_data[\"risk_type_cat\"] = food_data[\"risk\"].cat.codes"
   ]
  },
  {
   "cell_type": "code",
   "execution_count": null,
   "metadata": {},
   "outputs": [],
   "source": [
    "food_data.isna().sum()"
   ]
  },
  {
   "cell_type": "markdown",
   "metadata": {},
   "source": [
    "I want to see look these establishments in the map. For plotting, let's divide them into pass and fail data frames."
   ]
  },
  {
   "cell_type": "code",
   "execution_count": null,
   "metadata": {},
   "outputs": [],
   "source": [
    "pass_inspection = food_data[(food_data['results'] == 1)]\n",
    "fail_inspection = food_data[food_data['results'] == 0]"
   ]
  },
  {
   "cell_type": "markdown",
   "metadata": {},
   "source": [
    "## Let's utilize plotly and mapbox to display these restaurants in a map:"
   ]
  },
  {
   "cell_type": "code",
   "execution_count": null,
   "metadata": {},
   "outputs": [],
   "source": [
    "import plotly as py\n",
    "import plotly.graph_objs as go\n",
    "py.offline.init_notebook_mode()\n",
    "\n",
    "py.tools.set_credentials_file(username='dipakrimal',\n",
    "                              api_key='0d7jgOoPDZTZV2J0l5u4')\n",
    "mapbox_access_token = os.getenv('MAPBOX_ACCESS_TOKEN')\n",
    "\n",
    "data_pass = [\n",
    "    go.Scattermapbox(lat=pass_inspection['latitude'],\n",
    "                     lon=pass_inspection['longitude'],\n",
    "                     mode='markers',\n",
    "                     marker=go.scattermapbox.Marker(size=12,\n",
    "                                                    color='rgb(50, 200, 55)',\n",
    "                                                    opacity=0.7),\n",
    "                     text=pass_inspection['dba_name'] + ' <br> Pass ',\n",
    "                     hoverinfo='text'),\n",
    "    go.Scattermapbox(lat=fail_inspection['latitude'],\n",
    "                     lon=fail_inspection['longitude'],\n",
    "                     mode='markers',\n",
    "                     marker=go.scattermapbox.Marker(size=12,\n",
    "                                                    color='rgb(255, 0, 0)',\n",
    "                                                    opacity=0.7),\n",
    "                     text=fail_inspection['dba_name'] + ' <br> Fail ',\n",
    "                     hoverinfo='text')\n",
    "]\n",
    "\n",
    "layout = go.Layout(\n",
    "    title=\"Chicago Food Insepections\",\n",
    "    width=600,\n",
    "    height=800,\n",
    "    showlegend=False,\n",
    "    hovermode='closest',\n",
    "    mapbox=go.layout.Mapbox(accesstoken=mapbox_access_token,\n",
    "                            bearing=0,\n",
    "                            center=go.layout.mapbox.Center(lat=41.9,\n",
    "                                                           lon=-87.7),\n",
    "                            pitch=10,\n",
    "                            zoom=9,\n",
    "                            style='outdoors'),\n",
    ")\n",
    "\n",
    "fig = go.Figure(data=data_pass, layout=layout)\n",
    "\n",
    "py.offline.iplot(fig, filename='Chicago')"
   ]
  },
  {
   "cell_type": "code",
   "execution_count": null,
   "metadata": {},
   "outputs": [],
   "source": [
    "print(food_data.shape)\n",
    "print(food_data.head(5))"
   ]
  },
  {
   "cell_type": "code",
   "execution_count": null,
   "metadata": {},
   "outputs": [],
   "source": []
  },
  {
   "cell_type": "code",
   "execution_count": null,
   "metadata": {},
   "outputs": [],
   "source": [
    "#df = food_data.groupby(['license'])"
   ]
  },
  {
   "cell_type": "code",
   "execution_count": null,
   "metadata": {
    "scrolled": true
   },
   "outputs": [],
   "source": [
    "weather = pd.read_csv('../data/raw/weather.csv',\n",
    "                      index_col='DATE',\n",
    "                      parse_dates=['DATE'])\n",
    "weather = weather[weather['STATION'] == \"USW00094846\"]\n",
    "#weather.head()"
   ]
  },
  {
   "cell_type": "code",
   "execution_count": null,
   "metadata": {},
   "outputs": [],
   "source": [
    "weather.shape"
   ]
  },
  {
   "cell_type": "code",
   "execution_count": null,
   "metadata": {},
   "outputs": [],
   "source": [
    "weather['TMAX'].plot()\n",
    "weather['TMAXAVG'] = weather['TMAX'].rolling(window=3, min_periods=1).mean()\n",
    "#weather = weather.set_index('DATE')\n",
    "weather['TMAXAVG'].plot()"
   ]
  },
  {
   "cell_type": "code",
   "execution_count": null,
   "metadata": {},
   "outputs": [],
   "source": [
    "weather.shape"
   ]
  },
  {
   "cell_type": "code",
   "execution_count": null,
   "metadata": {},
   "outputs": [],
   "source": [
    "food_data = pd.merge(left=food_data, right=weather, left_on='event_date', right_on='DATE')"
   ]
  },
  {
   "cell_type": "code",
   "execution_count": null,
   "metadata": {},
   "outputs": [],
   "source": [
    "food_data.shape"
   ]
  },
  {
   "cell_type": "code",
   "execution_count": null,
   "metadata": {},
   "outputs": [],
   "source": [
    "#food_data['date'] = food_data['inspection_date']\n",
    "#food_data['bus_license'] = food_data['license']\n",
    "#food_data = food_data.set_index(['date', 'license'])"
   ]
  },
  {
   "cell_type": "markdown",
   "metadata": {},
   "source": [
    "## Burglary Data\n",
    "Is there any connection with the crime and food inspection failures? May be ! For now, I am focusing on the burgalaries only. The burglary data is the chicago's crime data filtered for burgalaries only (in the same time window i.e. first 3 months of 2019). "
   ]
  },
  {
   "cell_type": "code",
   "execution_count": null,
   "metadata": {},
   "outputs": [],
   "source": [
    "burglary = pd.read_json('../data/raw/burglary.json', convert_dates=['date'])"
   ]
  },
  {
   "cell_type": "code",
   "execution_count": null,
   "metadata": {},
   "outputs": [],
   "source": [
    "burglary.head()"
   ]
  },
  {
   "cell_type": "code",
   "execution_count": null,
   "metadata": {},
   "outputs": [],
   "source": [
    "shape = burglary.shape\n",
    "print(\" There are %d rows and %d columns in the data\" % (shape[0], shape[1]))\n",
    "print(burglary.info())"
   ]
  },
  {
   "cell_type": "code",
   "execution_count": null,
   "metadata": {},
   "outputs": [],
   "source": [
    "burglary.isna().sum()"
   ]
  },
  {
   "cell_type": "code",
   "execution_count": null,
   "metadata": {},
   "outputs": [],
   "source": [
    "burglary['latitude'].fillna(burglary['latitude'].mode()[0], inplace=True)\n",
    "burglary['longitude'].fillna(burglary['longitude'].mode()[0], inplace=True)"
   ]
  },
  {
   "cell_type": "code",
   "execution_count": null,
   "metadata": {},
   "outputs": [],
   "source": [
    "#burglary.groupby('district')['case_number'].hist()"
   ]
  },
  {
   "cell_type": "code",
   "execution_count": null,
   "metadata": {},
   "outputs": [],
   "source": [
    "#burglary.groupby('district')['ward'].count()"
   ]
  },
  {
   "cell_type": "code",
   "execution_count": null,
   "metadata": {
    "scrolled": true
   },
   "outputs": [],
   "source": [
    "ax = sns.countplot(x=\"ward\", data=burglary)\n",
    "plt.title(\"Burglaries by Ward\")\n",
    "plt.show()"
   ]
  },
  {
   "cell_type": "markdown",
   "metadata": {},
   "source": [
    "####  This is just a placeholder to associate these wards on the map, not the correct map yet. I am trying to make a similar map to show burglary statistics. "
   ]
  },
  {
   "cell_type": "code",
   "execution_count": null,
   "metadata": {},
   "outputs": [],
   "source": [
    "import gmaps\n",
    "APIKEY= os.getenv('GMAPAPIKEY')\n",
    "gmaps.configure(api_key=APIKEY)"
   ]
  },
  {
   "cell_type": "code",
   "execution_count": null,
   "metadata": {},
   "outputs": [],
   "source": [
    "def make_heatmap(locations, weights=None):\n",
    "    fig = gmaps.figure()\n",
    "    heatmap_layer = gmaps.heatmap_layer(locations)\n",
    "    #heatmap_layer.max_intensity = 100\n",
    "    heatmap_layer.point_radius = 8\n",
    "    fig.add_layer(heatmap_layer)\n",
    "    return fig\n",
    "    "
   ]
  },
  {
   "cell_type": "code",
   "execution_count": null,
   "metadata": {},
   "outputs": [],
   "source": [
    "locations = zip(burglary['latitude'], burglary['longitude'])\n",
    "fig = make_heatmap(locations)\n",
    "fig"
   ]
  },
  {
   "cell_type": "code",
   "execution_count": null,
   "metadata": {
    "scrolled": true
   },
   "outputs": [],
   "source": [
    "burglary_per_day = pd.DataFrame()\n",
    "burglary_per_day = burglary[['date', 'case_number']]\n",
    "burglary_per_day = burglary_per_day.set_index(\n",
    "    pd.to_datetime(burglary_per_day['date']))\n",
    "burglary_per_day = burglary_per_day.resample('D').count()\n",
    "plt.rcParams['figure.figsize'] = 12, 5\n",
    "fig, ax = plt.subplots()\n",
    "fig.autofmt_xdate()\n",
    "#\n",
    "#ax.xaxis.set_major_locator(mdates.MonthLocator())\n",
    "#ax.xaxis.set_minor_locator(mdates.DayLocator())\n",
    "monthFmt = mdates.DateFormatter('%Y-%b')\n",
    "ax.xaxis.set_major_formatter(monthFmt)\n",
    "\n",
    "plt.plot(burglary_per_day.index, burglary_per_day, 'r-')\n",
    "plt.xlabel('Date')\n",
    "plt.ylabel('Number of Cases Reported')\n",
    "plt.title('Burglaries Reported')\n",
    "plt.show()"
   ]
  },
  {
   "cell_type": "code",
   "execution_count": null,
   "metadata": {
    "scrolled": true
   },
   "outputs": [],
   "source": [
    "'''\n",
    "import plotly.plotly as py\n",
    "import plotly.figure_factory as ff\n",
    "import numpy as np\n",
    "import pandas as pd\n",
    "\n",
    "aggs = [\"count\"]\n",
    "agg = []\n",
    "agg_func = []\n",
    "for i in range(0, len(aggs)):\n",
    "    agg = dict(\n",
    "        args=['transforms[0].aggregations[0].func', aggs[i]],\n",
    "        label=aggs[i],\n",
    "        method='restyle'\n",
    "    )\n",
    "    agg_func.append(agg)\n",
    "\n",
    "\n",
    "colorscale = [\n",
    "    'rgb(193, 193, 193)',\n",
    "    'rgb(239,239,239)',\n",
    "    'rgb(195, 196, 222)',\n",
    "    'rgb(144,148,194)',\n",
    "    'rgb(101,104,168)',\n",
    "    'rgb(65, 53, 132)'\n",
    "]\n",
    "\n",
    "fig = ff.create_choropleth(\n",
    "    fips=fips, values=values, scope=['IL'],\n",
    "    binning_endpoints=[14348, 63983, 134827, 426762, 2081313], colorscale=colorscale,\n",
    "    county_outline={'color': 'rgb(255,255,255)', 'width': 0.5}, round_legend_values=True,\n",
    "    legend_title='Crimes by Ward', title='Chicago IL'\n",
    ")\n",
    "py.iplot(fig, filename='choropleth_crimes_by_ward_chicago')\n",
    "'''"
   ]
  },
  {
   "cell_type": "code",
   "execution_count": null,
   "metadata": {},
   "outputs": [],
   "source": [
    "burglary['event_date'] = burglary['date']\n",
    "burglary = burglary.set_index('event_date')\n",
    "#burglary.sort_values(by='date', inplace=True)\n",
    "burglary.head()"
   ]
  },
  {
   "cell_type": "code",
   "execution_count": null,
   "metadata": {},
   "outputs": [],
   "source": [
    "burglary = burglary[['date', 'latitude', 'longitude']]"
   ]
  },
  {
   "cell_type": "markdown",
   "metadata": {},
   "source": [
    "\n",
    "## Business License\n",
    "Data from business licenses. This will help us looking into licensing situation of the business whether there is tobaco/alcohol liscences or how that is related to the inspection failure. or may help answer if the businesses are more cleaner when they are close to duedate for license renewal?  "
   ]
  },
  {
   "cell_type": "code",
   "execution_count": null,
   "metadata": {},
   "outputs": [],
   "source": [
    "business = pd.read_json('../data/raw/business-license.json',\n",
    "                        convert_dates=['license_start_date'])\n",
    "business.head(2)\n",
    "business.info()\n",
    "date_window = pd.to_datetime('07/01/2016')\n",
    "business = business[business['license_start_date'] > date_window]\n",
    "business.to_csv(\"../data/processed/business_license_start_gt_2016-07-01.csv\")"
   ]
  },
  {
   "cell_type": "code",
   "execution_count": null,
   "metadata": {},
   "outputs": [],
   "source": [
    "date_cols = [\n",
    "    'application_created_date', 'license_status_change_date', 'payment_date',\n",
    "    'license_start_date', 'expiration_date', 'date_issued'\n",
    "]\n",
    "business = pd.read_csv(\n",
    "    '../data/processed/business_license_start_gt_2016-07-01.csv',\n",
    "    parse_dates=date_cols)"
   ]
  },
  {
   "cell_type": "code",
   "execution_count": null,
   "metadata": {},
   "outputs": [],
   "source": [
    "ax = sns.countplot(x=\"application_type\", data=business)\n",
    "plt.title(\"Application Types\")\n",
    "plt.show()"
   ]
  },
  {
   "cell_type": "markdown",
   "metadata": {},
   "source": [
    "APPLICATION TYPE: ‘ISSUE’ is the record associated with the initial license application. ‘RENEW’ is a subsequent renewal record. All renewal records are created with a term start date and term expiration date. ‘C_LOC’ is a change of location record. It means the business moved. ‘C_CAPA’ is a change of capacity record. Only a few license types may file this type of application. ‘C_EXPA’ only applies to businesses that have liquor licenses. It means the business location expanded.\n",
    "\n",
    "\n",
    "LICENSE STATUS: ‘AAI’ means the license was issued. ‘AAC’ means the license was cancelled during its term.‘REV’means the license was revoked. ‘REA’means the license revocation has been appealed.\n",
    "\n",
    "LICENSE STATUS CHANGE DATE: This date corresponds to the date a license was cancelled (AAC), revoked (REV) or appealed (REA)."
   ]
  },
  {
   "cell_type": "code",
   "execution_count": null,
   "metadata": {},
   "outputs": [],
   "source": [
    "print(business.info())"
   ]
  },
  {
   "cell_type": "code",
   "execution_count": null,
   "metadata": {},
   "outputs": [],
   "source": [
    "columns_to_take = [\n",
    "    'license_description', 'id', 'business_activity_id', 'license_code',\n",
    "    'license_number', 'conditional_approval', 'application_type',\n",
    "    'expiration_date', 'license_start_date',\n",
    "    'application_requirements_complete', 'conditional_approval',\n",
    "    'business_activity', 'date_issued', 'license_status_change_date'\n",
    "]\n",
    "business = business[columns_to_take]\n",
    "#column_dict = {}\n",
    "#for column in columns_to_take:\n",
    "#    column_dict[column] = column.lower().replace(' ', '_')\n",
    "#business.rename(columns= column_dict, inplace=True)\n",
    "\n",
    "business['license_number'] = business['license_number'].astype(int)\n",
    "cond_approval = {\"conditional_approval\": {\"N\": 0, \"Y\": 1}}\n",
    "business.replace(cond_approval, inplace=True)"
   ]
  },
  {
   "cell_type": "code",
   "execution_count": null,
   "metadata": {
    "scrolled": true
   },
   "outputs": [],
   "source": [
    "#inspected_matched_license = business[business.application_type==\"ISSUE\"]\n",
    "#inspected_matched_license = inspected_matched_license[(inspected_matched_license['license_start_date']-pd.Timedelta(365)) < inspected_matched_license['expiration_date']]\n",
    "#inspected_matched_license = inspected_matched_license.loc[:,~inspected_matched_license.columns.duplicated()]"
   ]
  },
  {
   "cell_type": "code",
   "execution_count": null,
   "metadata": {},
   "outputs": [],
   "source": [
    "#inspected_matched_license.shape"
   ]
  },
  {
   "cell_type": "code",
   "execution_count": null,
   "metadata": {},
   "outputs": [],
   "source": [
    "food_data.shape"
   ]
  },
  {
   "cell_type": "code",
   "execution_count": null,
   "metadata": {},
   "outputs": [],
   "source": [
    "food_business_match = pd.merge(left=food_data,\n",
    "                               right=business,\n",
    "                               left_on='license',\n",
    "                               right_on='license_number')\n",
    "food_business_match.sort_values('inspection_date', inplace=True)"
   ]
  },
  {
   "cell_type": "code",
   "execution_count": null,
   "metadata": {},
   "outputs": [],
   "source": [
    "food_business_match.shape"
   ]
  },
  {
   "cell_type": "code",
   "execution_count": null,
   "metadata": {},
   "outputs": [],
   "source": [
    "food_business_match.head()"
   ]
  },
  {
   "cell_type": "code",
   "execution_count": null,
   "metadata": {},
   "outputs": [],
   "source": [
    "food_business_match['HasTobaccoLicense'] = food_business_match[\n",
    "    'license_description'].apply(lambda x: 1 if 'Tobacco' in x else 0)\n",
    "food_business_match['HasAlcoholLicense'] = food_business_match[\n",
    "    'license_description'].apply(\n",
    "        lambda x: 1\n",
    "        if 'Consumption on Premises - Incidental Activity' in x else 0)"
   ]
  },
  {
   "cell_type": "code",
   "execution_count": null,
   "metadata": {},
   "outputs": [],
   "source": [
    "ax = sns.countplot(x=\"HasAlcoholLicense\", data=food_business_match)\n",
    "plt.title(\"Result\")\n",
    "plt.show()"
   ]
  },
  {
   "cell_type": "code",
   "execution_count": null,
   "metadata": {},
   "outputs": [],
   "source": [
    "ax = sns.countplot(x=\"HasTobaccoLicense\", data=food_business_match)\n",
    "plt.title(\"Result\")\n",
    "plt.show()"
   ]
  },
  {
   "cell_type": "code",
   "execution_count": null,
   "metadata": {},
   "outputs": [],
   "source": [
    "#food_business['HasTobaccoLicense'] = food_business.apply(lambda x : 1 if (x['license_code'] == 1780) or (x['license_code'] == 1787) else 0, axis=1)\n",
    "#food_business['HasAlcoholLicense'] = food_business.apply(lambda x : 1 if (x['license_code'] == 1481) | (x['license_code'] == 1475) | (x['license_code'] == 1474) | (x['license_code'] == 1470) else 0 , axis = 1)"
   ]
  },
  {
   "cell_type": "code",
   "execution_count": null,
   "metadata": {},
   "outputs": [],
   "source": [
    "#food_business.business_activity_id.value_counts()"
   ]
  },
  {
   "cell_type": "markdown",
   "metadata": {},
   "source": [
    "Now I want to merge the inspection and business data frames. we can do inner join on license number from inspection data and License ID from business data."
   ]
  },
  {
   "cell_type": "code",
   "execution_count": null,
   "metadata": {},
   "outputs": [],
   "source": [
    "food_business = food_data.copy(deep=True)"
   ]
  },
  {
   "cell_type": "code",
   "execution_count": null,
   "metadata": {},
   "outputs": [],
   "source": [
    "#food_business = food_business[food_business['inspection_date'] > pd.to_datetime('2018-07-01')]"
   ]
  },
  {
   "cell_type": "markdown",
   "metadata": {},
   "source": [
    "## Garbage and Sanitation From (311 complaints)\n",
    "Is there trash/garbage/sanitation/rodents etc complaints in the neighborhood or how that affects the outcome of the inspection. "
   ]
  },
  {
   "cell_type": "code",
   "execution_count": null,
   "metadata": {},
   "outputs": [],
   "source": [
    "garbage_prior_july18 = pd.read_json(\n",
    "    '../data/raw/garbagedata_prior_to_july2018.json',\n",
    "    convert_dates=['completion_date', 'creation_date'])\n",
    "sanitation_prior_july18 = pd.read_json(\n",
    "    '../data/raw/sanitationdata_prior_to_july2018.json',\n",
    "    convert_dates=['completion_date', 'creation_date'])\n",
    "rodent_prior_july18 = pd.read_json(\n",
    "    '../data/raw/rodentdata_prior_to_july2018.json',\n",
    "    convert_dates=['completion_date', 'creation_date'])"
   ]
  },
  {
   "cell_type": "code",
   "execution_count": null,
   "metadata": {},
   "outputs": [],
   "source": [
    "service_prior_july18 = pd.concat(\n",
    "    [garbage_prior_july18, sanitation_prior_july18, rodent_prior_july18],\n",
    "    ignore_index=True)"
   ]
  },
  {
   "cell_type": "code",
   "execution_count": null,
   "metadata": {},
   "outputs": [],
   "source": [
    "service_prior_july18.info()"
   ]
  },
  {
   "cell_type": "code",
   "execution_count": null,
   "metadata": {},
   "outputs": [],
   "source": [
    "service_prior_july18 = service_prior_july18[[\n",
    "    'creation_date', 'latitude', 'longitude', 'completion_date',\n",
    "    'type_of_service_request'\n",
    "]]\n",
    "service_prior_july18.sort_values('creation_date', inplace=True)\n",
    "service_prior_july18.rename(columns={\n",
    "    'creation_date': 'created_date',\n",
    "    'completion_date': 'closed_date',\n",
    "    'type_of_service_request': 'sr_type'\n",
    "},\n",
    "                            inplace=True)"
   ]
  },
  {
   "cell_type": "code",
   "execution_count": null,
   "metadata": {},
   "outputs": [],
   "source": [
    "service_prior_july18.head()"
   ]
  },
  {
   "cell_type": "code",
   "execution_count": null,
   "metadata": {
    "scrolled": true
   },
   "outputs": [],
   "source": [
    "service_data = pd.read_json(\n",
    "    '../data/raw/servicedata.json',\n",
    "    convert_dates=['closed_date', 'created_date', 'last_modified_date'])\n",
    "service_data.head(3)"
   ]
  },
  {
   "cell_type": "code",
   "execution_count": null,
   "metadata": {},
   "outputs": [],
   "source": [
    "service_data['sr_type'].value_counts()"
   ]
  },
  {
   "cell_type": "code",
   "execution_count": null,
   "metadata": {},
   "outputs": [],
   "source": [
    "service_data['sr_type'].value_counts()"
   ]
  },
  {
   "cell_type": "code",
   "execution_count": null,
   "metadata": {},
   "outputs": [],
   "source": [
    "service_data = service_data[service_data['sr_short_code'] != 'CHECKFOR']\n",
    "service_data = service_data[[\n",
    "    'created_date', 'latitude', 'longitude', 'closed_date', 'sr_type',\n",
    "    'duplicate'\n",
    "]]\n",
    "service_data = pd.concat([service_data, service_prior_july18],\n",
    "                         ignore_index=True)\n",
    "sr_type_map = {\n",
    "    \"sr_type\": {\n",
    "        \"Garbage Cart Black Maintenance/Replacement\":\n",
    "        \"Garbage Cart Maintenance\"\n",
    "    }\n",
    "}\n",
    "service_data.replace(sr_type_map, inplace=True)\n",
    "shape = service_data.shape\n",
    "print(\" So there are %d rows and %d columns in the data\" %\n",
    "      (shape[0], shape[1]))\n",
    "#service_data['created_date'] = service_data['created_date'].dt.date"
   ]
  },
  {
   "cell_type": "code",
   "execution_count": null,
   "metadata": {},
   "outputs": [],
   "source": [
    "print(service_data.info())"
   ]
  },
  {
   "cell_type": "markdown",
   "metadata": {},
   "source": [
    "I now want to count number of these incidents around the business and within some prespecified time. We can optimize the distance and the time windows but for the first pass study, I am just foucsing on within 5 miles radii and the 7 days before the inspection date. "
   ]
  },
  {
   "cell_type": "code",
   "execution_count": null,
   "metadata": {},
   "outputs": [],
   "source": [
    "print(\"Latitude NA values = %s\" % service_data.latitude.isna().sum())\n",
    "print(\"Longitude NA values = %s\" % service_data.longitude.isna().sum())"
   ]
  },
  {
   "cell_type": "code",
   "execution_count": null,
   "metadata": {},
   "outputs": [],
   "source": [
    "service_data['latitude'].fillna(service_data['latitude'].mode()[0],\n",
    "                                inplace=True)\n",
    "service_data['longitude'].fillna(service_data['longitude'].mode()[0],\n",
    "                                 inplace=True)\n",
    "service_data = service_data[service_data['duplicate'] != True]\n",
    "print(service_data.sr_type.value_counts())"
   ]
  },
  {
   "cell_type": "code",
   "execution_count": null,
   "metadata": {},
   "outputs": [],
   "source": [
    "service_data.head()"
   ]
  },
  {
   "cell_type": "code",
   "execution_count": null,
   "metadata": {},
   "outputs": [],
   "source": [
    "ax = sns.countplot(x='sr_type', data=service_data)\n",
    "plt.title(\"Type of Service Request\")\n",
    "plt.show()"
   ]
  },
  {
   "cell_type": "code",
   "execution_count": null,
   "metadata": {},
   "outputs": [],
   "source": [
    "service_data[\"sr_type\"] = service_data[\"sr_type\"].astype('category').cat.codes\n",
    "service_data['created_date'].hist(bins = 32)"
   ]
  },
  {
   "cell_type": "code",
   "execution_count": null,
   "metadata": {},
   "outputs": [],
   "source": []
  },
  {
   "cell_type": "code",
   "execution_count": null,
   "metadata": {},
   "outputs": [],
   "source": [
    "service_data.sort_values(by='created_date', inplace=True)\n",
    "service_data = service_data[['created_date','latitude', 'longitude']]"
   ]
  },
  {
   "cell_type": "code",
   "execution_count": null,
   "metadata": {},
   "outputs": [],
   "source": [
    "from pandarallel import pandarallel\n",
    "pandarallel.initialize()\n",
    "\n",
    "\n",
    "def get_distance(a_lat, a_lng, b_lat, b_lng):\n",
    "    R = 3956  # earth radius in miles\n",
    "    a_lat = np.radians(a_lat)\n",
    "    a_lng = np.radians(a_lng)\n",
    "    b_lat = np.radians(b_lat)\n",
    "    b_lng = np.radians(b_lng)\n",
    "    d_lat = b_lat - a_lat\n",
    "    d_lng = b_lng - a_lng\n",
    "\n",
    "    d_lat_sq = np.sin(d_lat / 2)**2\n",
    "    d_lng_sq = np.sin(d_lng / 2)**2\n",
    "\n",
    "    a = d_lat_sq + np.cos(a_lat) * np.cos(b_lat) * d_lng_sq\n",
    "    c = 2 * np.arctan2(np.sqrt(a), np.sqrt(1 - a))\n",
    "\n",
    "    return R * c  # returns distance between a and b in mile\n",
    "\n",
    "\n",
    "def count_burglaries(row):\n",
    "    df = burglary.copy(deep=True)\n",
    "    time_window = 30\n",
    "    distance_window = 1\n",
    "    df = df[(df['date'] >\n",
    "             (row['inspection_date'] - pd.Timedelta(days=time_window)))\n",
    "            & (df['date'] < (row['inspection_date']))]\n",
    "    #df['d_time'] = (row['inspection_date'] - df['date']).dt.days\n",
    "    #df = df[(df['d_time'] < 0) & (df['d_time'] >= -time_window)]\n",
    "    df['distance'] = get_distance(row['latitude'], row['longitude'],\n",
    "                                  df['latitude'].values,\n",
    "                                  df['longitude'].values)\n",
    "    dfNew = df[df['distance'] < distance_window]\n",
    "    return dfNew.shape[0]\n",
    "\n",
    "\n",
    "def count_sanitation_complaints(row):\n",
    "    df = service_data.copy(deep=True)\n",
    "    time_window = 30\n",
    "    distance_window = 1\n",
    "    #df['d_time'] = (row['inspection_date'] - df['created_date']).dt.days\n",
    "    #df = df[(df['d_time'] < 0) & (df['d_time'] >= -time_window)]\n",
    "    df = df[(df['created_date'] >\n",
    "             (row['inspection_date'] - pd.Timedelta(days=time_window)))\n",
    "            & (df['created_date'] < (row['inspection_date']))]\n",
    "    df['distance'] = get_distance(row['latitude'], row['longitude'],\n",
    "                                  df['latitude'].values,\n",
    "                                  df['longitude'].values)\n",
    "    dfNew = df[df['distance'] < distance_window]\n",
    "\n",
    "    return dfNew.shape[0]\n",
    "    #complaints = dfNew['sr_short_code'].value_counts()\n",
    "    #comp_dict = {\"sewer\": complaints[0] , \"sanitation\": complaints[1], \"rodent\": complaints[2], \"garbage\": complaints[3]}\n",
    "    #return comp_dict"
   ]
  },
  {
   "cell_type": "code",
   "execution_count": null,
   "metadata": {
    "scrolled": true
   },
   "outputs": [],
   "source": [
    "%timeit food_business['burglaries_last_month'] = food_business.parallel_apply(count_burglaries, axis=1)"
   ]
  },
  {
   "cell_type": "code",
   "execution_count": null,
   "metadata": {
    "scrolled": false
   },
   "outputs": [],
   "source": [
    "%timeit food_business['service_complains_last_month'] = food_business.parallel_apply(count_sanitation_complaints, axis=1)"
   ]
  },
  {
   "cell_type": "code",
   "execution_count": null,
   "metadata": {},
   "outputs": [],
   "source": [
    "food_business.isna().sum()"
   ]
  },
  {
   "cell_type": "code",
   "execution_count": null,
   "metadata": {},
   "outputs": [],
   "source": [
    "food_business = food_business[~food_business['neighborhood'].isna()]"
   ]
  },
  {
   "cell_type": "code",
   "execution_count": null,
   "metadata": {},
   "outputs": [],
   "source": [
    "encoder = LabelEncoder()\n",
    "food_business['neighborhood'] = encoder.fit_transform(\n",
    "    food_business['neighborhood'])\n",
    "mapping_dict = {}\n",
    "le_name_mapping = dict(\n",
    "    zip(encoder.classes_, encoder.transform(encoder.classes_)))\n",
    "mapping_dict['neighborhood'] = le_name_mapping\n",
    "#print(mapping_dict)"
   ]
  },
  {
   "cell_type": "code",
   "execution_count": null,
   "metadata": {},
   "outputs": [],
   "source": [
    "pass_ins = food_business[food_business['CriticalFound'] == 1]\n",
    "fail_ins = food_business[food_business['CriticalFound'] == 0]\n",
    "#plt.xlim(-10, 500)\n",
    "sns.distplot(pass_ins['service_complains_last_month'], hist=True, label='pass')\n",
    "sns.distplot(fail_ins['service_complains_last_month'], hist=True, label='fail')\n",
    "plt.show()"
   ]
  },
  {
   "cell_type": "code",
   "execution_count": null,
   "metadata": {},
   "outputs": [],
   "source": [
    "sns.distplot(pass_ins['TMAXAVG'], hist=True, label='pass')\n",
    "sns.distplot(fail_ins['TMAXAVG'], hist=True, label='fail')\n",
    "plt.show()"
   ]
  },
  {
   "cell_type": "code",
   "execution_count": null,
   "metadata": {},
   "outputs": [],
   "source": [
    "sns.distplot(pass_ins['burglaries_last_month'], bins=5, label='pass')\n",
    "sns.distplot(fail_ins['burglaries_last_month'], bins=5, label='fail')\n",
    "plt.show()"
   ]
  },
  {
   "cell_type": "code",
   "execution_count": null,
   "metadata": {},
   "outputs": [],
   "source": [
    "food_business['neighborhood'].value_counts()"
   ]
  },
  {
   "cell_type": "code",
   "execution_count": null,
   "metadata": {},
   "outputs": [],
   "source": [
    "# write t_test function\n",
    "def t_test(a, b, alpha, alternative='two-sided'):\n",
    "    from scipy import stats\n",
    "    import scipy.stats as ss\n",
    "    import pandas as pd\n",
    "    import statsmodels.stats.weightstats as ws\n",
    "\n",
    "    diff = a.mean() - b.mean()\n",
    "\n",
    "    res = ss.ttest_ind(a, b, equal_var=False)\n",
    "\n",
    "    means = ws.CompareMeans(ws.DescrStatsW(a), ws.DescrStatsW(b))\n",
    "    confint = means.tconfint_diff(alpha=alpha,\n",
    "                                  alternative=alternative,\n",
    "                                  usevar='unequal')\n",
    "    degfree = means.dof_satt()\n",
    "\n",
    "    index = [\n",
    "        'DegFreedom', 'Difference', 'Statistic', 'PValue', 'Low95CI',\n",
    "        'High95CI'\n",
    "    ]\n",
    "    return pd.Series([degfree, diff, res[0], res[1], confint[0], confint[1]],\n",
    "                     index=index)"
   ]
  },
  {
   "cell_type": "code",
   "execution_count": null,
   "metadata": {},
   "outputs": [],
   "source": [
    "#sns.distplot(pass_ins['past_score'], bins=5, label = 'pass')\n",
    "#sns.distplot(fail_ins['past_score'], bins=5, label = 'fail')\n",
    "#plt.show()"
   ]
  },
  {
   "cell_type": "markdown",
   "metadata": {},
   "source": [
    "#### I also want to use Yelp's rating and comments ( for some sort of sentiment analysis if possible) in my model. So let's see if that is feasible. To start with, I am focusing only on the restaurants (category) that failed in the inspection. Also note taht yelp caps 5000 API calls per per day so I chose to focus on failed restaurants only. \n",
    "### Let's write some functions to use Yelp API. "
   ]
  },
  {
   "cell_type": "code",
   "execution_count": null,
   "metadata": {},
   "outputs": [],
   "source": [
    "# yelp authorization ( Need to hide this ! )\n",
    "#res_fail = fail_inspection[fail_inspection['facility_type_cat'] == 2]\n",
    "import requests\n",
    "api_key = 'skulWTrlVslLqkj5vY7u9fJErIOi-FB1prbAhB4ftwLLBSN5CarHecqiOPET6gVDOUhiEfvMD5O8tn--Evkbdn0MujX5Lncp5TNPNw_rzT_pAHtW0qIBC0pPgcqrXHYx'\n",
    "headers = {\n",
    "    'Authorization': 'Bearer %s' % api_key,\n",
    "}\n",
    "# find business match using business name (aka_name dba(doing business as name)\n",
    "def get_business_match(row):\n",
    "\n",
    "    params = {}\n",
    "    params[\"name\"] = row['aka_name']\n",
    "    params[\"address1\"] = row['address']\n",
    "    params[\"city\"] = 'Chicago'\n",
    "    params[\"state\"] = 'IL'\n",
    "    params[\"country\"] = 'US'\n",
    "\n",
    "    request = requests.get(\"https://api.yelp.com/v3/businesses/matches\",\n",
    "                           headers=headers,\n",
    "                           params=params)\n",
    "    #Transforms the JSON API response into a Python dictionary\n",
    "    data = request.json()\n",
    "    try:\n",
    "        return data['businesses'][0]['id']\n",
    "    except:\n",
    "        return 0\n",
    "\n",
    "\n",
    "    ## pull ratings and reviews of the matched businesses.\n",
    "def get_reviews(business_id):\n",
    "    query = \"https://api.yelp.com/v3/businesses/%s/reviews\" % business_id\n",
    "    try:\n",
    "        request = requests.get(query, headers=headers)\n",
    "        data = request.json()\n",
    "        return data\n",
    "    except:\n",
    "        ValueError(\"This business doesn't have any reviews\")\n",
    "\n",
    "\n",
    "def get_rating(business_id):\n",
    "    try:\n",
    "        query = \"https://api.yelp.com/v3/businesses/%s\" % business_id\n",
    "        request = requests.get(query, headers=headers)\n",
    "        data = request.json()\n",
    "        return data[\"rating\"]\n",
    "    except:\n",
    "        return 9999\n",
    "\n",
    "\n",
    "def get_yelp_data(row):\n",
    "    params = {}\n",
    "    params[\"name\"] = row['aka_name']\n",
    "    params[\"address1\"] = row['address']\n",
    "    params[\"city\"] = 'Chicago'\n",
    "    params[\"state\"] = 'IL'\n",
    "    params[\"country\"] = 'US'\n",
    "    yelp_data = []\n",
    "    request = requests.get(\"https://api.yelp.com/v3/businesses/matches\",\n",
    "                           headers=headers,\n",
    "                           params=params)\n",
    "    #Transforms the JSON API response into a Python dictionary\n",
    "    data = request.json()\n",
    "    try:\n",
    "        business_id = data['businesses'][0]['id']\n",
    "        rating = get_rating(business_id)\n",
    "        #reviews = get_reviews(business_id)\n",
    "        yelp_data = (busines_id, rating)\n",
    "        return yelp_data\n",
    "    except:\n",
    "        return 9999"
   ]
  },
  {
   "cell_type": "code",
   "execution_count": null,
   "metadata": {},
   "outputs": [],
   "source": [
    "#food_data['yelp_id'] = food_data.apply(lambda x: get_business_match(x['aka_name'], x['address']), axis=1)\n",
    "#food_data['yelp_rating'] = food_data.apply(lambda x: get_rating(x[\"yelp_id\"]), axis=1)\n",
    "\n",
    "### Let's pull the information from the failed restaurants. \n",
    "#food_business['yelp_data'] = food_business.apply(lambda x: get_yelp_data(x['aka_name'], x['address']), axis=1)"
   ]
  },
  {
   "cell_type": "markdown",
   "metadata": {},
   "source": [
    "That is encouraging! Looks like we can factor in those yelp ratings in our model. The mean rating has a peak at 4 even for failed restaurants but there is also a significant tail at the lower end of the spectrum. I may end of using it but I will have to set up a cronjob to make daily api calls for all these businesses."
   ]
  },
  {
   "cell_type": "code",
   "execution_count": null,
   "metadata": {},
   "outputs": [],
   "source": []
  },
  {
   "cell_type": "code",
   "execution_count": null,
   "metadata": {},
   "outputs": [],
   "source": [
    "#food_business.to_csv('../data/processed/food_business_data_processed.csv')\n",
    "#food_business = pd.read_csv('../data/processed/food_business_data_processed.csv', parse_dates = ['inspection_date'])\n",
    "food_business['ins_date'] = food_business['inspection_date']\n",
    "food_business['bus_license'] = food_business['license']\n",
    "food_business = food_business.set_index(['bus_license', 'ins_date'])\n",
    "food_business.sort_values(by=['license', 'inspection_date'],\n",
    "                          ascending=[True, False],\n",
    "                          inplace=True)\n",
    "food_business['failed'] = food_business['results'].apply(lambda x: 1\n",
    "                                                         if x == 0 else 0)\n",
    "food_business['past_fail'] = food_business['failed'].shift(-1).fillna(0)\n",
    "food_business['past_critical_violations'] = food_business[\n",
    "    'critical_violations'].shift(-1).fillna(0)\n",
    "food_business['past_serious_violations'] = food_business[\n",
    "    'serious_violations'].shift(-1).fillna(0)\n",
    "food_business['past_minor_violations'] = food_business[\n",
    "    'minor_violations'].shift(-1).fillna(0)\n",
    "food_business['time_since_last_inspection'] = food_business[\n",
    "    'inspection_date'].diff().dt.days.fillna(0).shift(-1) / 365.0\n",
    "food_business['time_since_last_inspection'].fillna(2, inplace=True)\n",
    "food_business['time_since_last_inspection'] = food_business[\n",
    "    'time_since_last_inspection'].apply(lambda x: min(x, 2))\n",
    "food_business = food_business.reset_index()\n",
    "food_business = food_business.drop_duplicates(subset='license', keep='first')"
   ]
  },
  {
   "cell_type": "code",
   "execution_count": null,
   "metadata": {},
   "outputs": [],
   "source": [
    "food_business = pd.concat([food_business, pd.get_dummies(food_business['neighborhood'], prefix='hood')],axis=1)"
   ]
  },
  {
   "cell_type": "code",
   "execution_count": 49,
   "metadata": {},
   "outputs": [],
   "source": [
    "#food_business.to_csv('../data/processed/data_processed_time_shifted.csv')\n",
    "food_business = pd.read_csv('../data/processed/data_processed_time_shifted.csv', parse_dates = ['inspection_date'])\n",
    "#food_business['time_since_last_inspection'] = food_business['time_since_last_inspection']"
   ]
  },
  {
   "cell_type": "code",
   "execution_count": 50,
   "metadata": {},
   "outputs": [],
   "source": [
    "#food_business[['critical_violations', 'past_critical_violations','results', 'minor_violations', 'past_minor_violations', 'time_since_last_inspection']]"
   ]
  },
  {
   "cell_type": "code",
   "execution_count": 51,
   "metadata": {},
   "outputs": [],
   "source": [
    "food_business = food_business[(food_business['facility_type'] == 'Restaurant') | (food_business['facility_type'] == 'Grocery Store')]\n",
    "food_business = food_business[food_business['inspection_date'] > pd.to_datetime('2018-07-01').date()]"
   ]
  },
  {
   "cell_type": "code",
   "execution_count": 52,
   "metadata": {},
   "outputs": [],
   "source": [
    "def get_distance_from_union_station(lon2, lat2):\n",
    "    # convert decimal degrees to radians\n",
    "    lon1 = -87.6403\n",
    "    lat1 = 41.8787\n",
    "    lon1, lat1, lon2, lat2 = map(np.deg2rad, [lon1, lat1, lon2, lat2])\n",
    "    # haversine formula\n",
    "    dlon = lon2 - lon1\n",
    "    dlat = lat2 - lat1\n",
    "    a = np.sin(dlat / 2)**2 + np.cos(lat1) * np.cos(lat2) * np.sin(dlon / 2)**2\n",
    "    c = 2 * np.arcsin(np.sqrt(a))\n",
    "    r = 3956  # Radius of earth in miles\n",
    "    return c * r\n",
    "food_business['distance_from_us'] = get_distance_from_union_station(\n",
    "    food_business['longitude'].values, food_business['latitude'].values)"
   ]
  },
  {
   "cell_type": "code",
   "execution_count": 53,
   "metadata": {},
   "outputs": [
    {
     "ename": "NameError",
     "evalue": "name 't_test' is not defined",
     "output_type": "error",
     "traceback": [
      "\u001b[0;31m---------------------------------------------------------------------------\u001b[0m",
      "\u001b[0;31mNameError\u001b[0m                                 Traceback (most recent call last)",
      "\u001b[0;32m<ipython-input-53-151cfe32672c>\u001b[0m in \u001b[0;36m<module>\u001b[0;34m\u001b[0m\n\u001b[1;32m      1\u001b[0m \u001b[0mpositive_class\u001b[0m \u001b[0;34m=\u001b[0m \u001b[0mfood_business\u001b[0m\u001b[0;34m[\u001b[0m\u001b[0mfood_business\u001b[0m\u001b[0;34m[\u001b[0m\u001b[0;34m'CriticalFound'\u001b[0m\u001b[0;34m]\u001b[0m \u001b[0;34m==\u001b[0m \u001b[0;32mTrue\u001b[0m\u001b[0;34m]\u001b[0m\u001b[0;34m\u001b[0m\u001b[0;34m\u001b[0m\u001b[0m\n\u001b[1;32m      2\u001b[0m \u001b[0mnegative_class\u001b[0m \u001b[0;34m=\u001b[0m \u001b[0mfood_business\u001b[0m\u001b[0;34m[\u001b[0m\u001b[0mfood_business\u001b[0m\u001b[0;34m[\u001b[0m\u001b[0;34m'CriticalFound'\u001b[0m\u001b[0;34m]\u001b[0m \u001b[0;34m==\u001b[0m \u001b[0;32mFalse\u001b[0m\u001b[0;34m]\u001b[0m\u001b[0;34m\u001b[0m\u001b[0;34m\u001b[0m\u001b[0m\n\u001b[0;32m----> 3\u001b[0;31m test = t_test(positive_class['past_critical_violations'],\n\u001b[0m\u001b[1;32m      4\u001b[0m               negative_class['past_critical_violations'], 0.05)\n\u001b[1;32m      5\u001b[0m \u001b[0mprint\u001b[0m\u001b[0;34m(\u001b[0m\u001b[0;34m\"T-test results for Past Critical Violations\"\u001b[0m\u001b[0;34m)\u001b[0m\u001b[0;34m\u001b[0m\u001b[0;34m\u001b[0m\u001b[0m\n",
      "\u001b[0;31mNameError\u001b[0m: name 't_test' is not defined"
     ]
    }
   ],
   "source": [
    "positive_class = food_business[food_business['CriticalFound'] == True]\n",
    "negative_class = food_business[food_business['CriticalFound'] == False]\n",
    "test = t_test(positive_class['past_critical_violations'],\n",
    "              negative_class['past_critical_violations'], 0.05)\n",
    "print(\"T-test results for Past Critical Violations\")\n",
    "print(test)\n",
    "test = t_test(positive_class['past_serious_violations'],\n",
    "              negative_class['past_serious_violations'], 0.05)\n",
    "print(\"T-test results for Past Serous Violations\")\n",
    "print(test)\n",
    "test = t_test(positive_class['past_minor_violations'],\n",
    "              negative_class['past_minor_violations'], 0.05)\n",
    "print(\"T-test results for Past Minor Violations\")\n",
    "print(test)\n",
    "# run the t-test at a 5% sig level\n",
    "test = t_test(positive_class['service_complains_last_month'],\n",
    "              negative_class['service_complains_last_month'], 0.05)\n",
    "print(\"T-test results for service complains\")\n",
    "print(test)\n",
    "test = t_test(positive_class['TMAXAVG'], negative_class['TMAXAVG'], 0.05)\n",
    "print(\"T-test results for Max Temperature\")\n",
    "print(test)\n",
    "test = t_test(positive_class['burglaries_last_month'],\n",
    "              negative_class['burglaries_last_month'], 0.05)\n",
    "print(\"T-test results for burglaries\")\n",
    "print(test)"
   ]
  },
  {
   "cell_type": "code",
   "execution_count": 54,
   "metadata": {},
   "outputs": [],
   "source": [
    "#food_business['past_score'] = (0.6*food_business['past_critical_violations']+0.3*food_business['past_serious_violations']+0.1*food_business['past_minor_violations'])"
   ]
  },
  {
   "cell_type": "code",
   "execution_count": 55,
   "metadata": {},
   "outputs": [],
   "source": [
    "#food_business['yelp_id'] = food_business.apply(lambda x: get_business_match(x), axis=1)\n",
    "#food_business['yelp_rating'] = food_business['yelp_id'].apply(lambda x: get_rating(x))\n",
    "#food_business.to_csv('../data/processed/data_processed_with_yelp_rating.csv')"
   ]
  },
  {
   "cell_type": "code",
   "execution_count": 56,
   "metadata": {},
   "outputs": [],
   "source": [
    "#food_business = pd.read_csv('../data/processed/data_processed_with_yelp_rating.csv', parse_dates = ['inspection_date'])\n",
    "#food_business = food_business[food_business[\"yelp_rating\"] < 6]"
   ]
  },
  {
   "cell_type": "code",
   "execution_count": 57,
   "metadata": {},
   "outputs": [],
   "source": [
    "#food_business[food_business[\"yelp_rating\"] < 6]['yelp_rating'].hist()"
   ]
  },
  {
   "cell_type": "code",
   "execution_count": 58,
   "metadata": {},
   "outputs": [
    {
     "name": "stdout",
     "output_type": "stream",
     "text": [
      "2019-05-18 00:00:00\n"
     ]
    }
   ],
   "source": [
    "#food_business.set_index('inspection_date')\n",
    "INSPECT_WINDOW = food_business['inspection_date'].max() - (pd.Timedelta(\n",
    "    days=45))\n",
    "print(INSPECT_WINDOW)\n",
    "food_business_train_sample = food_business[(food_business['inspection_date'] <\n",
    "                                            INSPECT_WINDOW)]\n",
    "food_business_test_sample = food_business[(food_business['inspection_date'] >=\n",
    "                                           INSPECT_WINDOW)]"
   ]
  },
  {
   "cell_type": "code",
   "execution_count": 59,
   "metadata": {},
   "outputs": [
    {
     "name": "stdout",
     "output_type": "stream",
     "text": [
      "['past_minor_violations', 'neighborhood', 'past_serious_violations', 'past_critical_violations', 'burglaries_last_month', 'distance_from_us', 'service_complains_last_month', 'time_since_last_inspection', 'TMAXAVG']\n"
     ]
    }
   ],
   "source": [
    "#features = [\"past_score\", \"burglaries_last_month\", \"service_complains_last_month\", 'time_since_last_inspection', 'TMAXAVG']\n",
    "features = [\n",
    "    \"past_minor_violations\", \"neighborhood\", \"past_serious_violations\",\n",
    "    \"past_critical_violations\", \"burglaries_last_month\", 'distance_from_us',\n",
    "    \"service_complains_last_month\", 'time_since_last_inspection', 'TMAXAVG'\n",
    "]\n",
    "'''\n",
    "for column in food_business.columns:\n",
    "    if 'hood' in column:\n",
    "'''\n",
    "print(features)"
   ]
  },
  {
   "cell_type": "code",
   "execution_count": 60,
   "metadata": {},
   "outputs": [],
   "source": [
    "food_business_sample=food_business_train_sample[['past_minor_violations', 'neighborhood', 'past_serious_violations', 'past_critical_violations', 'burglaries_last_month', 'distance_from_us', 'service_complains_last_month', 'time_since_last_inspection', 'TMAXAVG', 'CriticalFound']]"
   ]
  },
  {
   "cell_type": "markdown",
   "metadata": {},
   "source": [
    "Now that we have some features we can start building some baseline models:"
   ]
  },
  {
   "cell_type": "code",
   "execution_count": 61,
   "metadata": {},
   "outputs": [
    {
     "data": {
      "text/plain": [
       "\"\\n# Down sampling\\nn_with_critical_violations = food_business_sample.CriticalFound.value_counts()[1]\\n\\nprint(n_with_critical_violations)\\n\\n#randomly selecting 'n' samples from restaurants without violations\\nno_violation = food_business_sample[food_business_sample['CriticalFound'] == 0]\\nwith_violation = food_business_sample[food_business_sample['CriticalFound'] == 1]\\n\\nselected = no_violation.sample(n_with_critical_violations, random_state=101)\\n#selected.head()\\n#concatenating both into a subsample data set with equal class distribution\\nselected.reset_index(drop=True, inplace=True)\\nwith_violation.reset_index(drop=True, inplace=True)\\nfood_business_subsample = pd.concat([selected, with_violation])\\n#shuffling our data set\\nfood_business_subsample = food_business_subsample.sample(frac=1).reset_index(drop=True)\\n#subsample.head(10)\\n\""
      ]
     },
     "execution_count": 61,
     "metadata": {},
     "output_type": "execute_result"
    }
   ],
   "source": [
    "'''\n",
    "# Down sampling\n",
    "n_with_critical_violations = food_business_sample.CriticalFound.value_counts()[1]\n",
    "\n",
    "print(n_with_critical_violations)\n",
    "\n",
    "#randomly selecting 'n' samples from restaurants without violations\n",
    "no_violation = food_business_sample[food_business_sample['CriticalFound'] == 0]\n",
    "with_violation = food_business_sample[food_business_sample['CriticalFound'] == 1]\n",
    "\n",
    "selected = no_violation.sample(n_with_critical_violations, random_state=101)\n",
    "#selected.head()\n",
    "#concatenating both into a subsample data set with equal class distribution\n",
    "selected.reset_index(drop=True, inplace=True)\n",
    "with_violation.reset_index(drop=True, inplace=True)\n",
    "food_business_subsample = pd.concat([selected, with_violation])\n",
    "#shuffling our data set\n",
    "food_business_subsample = food_business_subsample.sample(frac=1).reset_index(drop=True)\n",
    "#subsample.head(10)\n",
    "'''"
   ]
  },
  {
   "cell_type": "code",
   "execution_count": 62,
   "metadata": {},
   "outputs": [],
   "source": [
    "from imblearn.over_sampling import SMOTE\n",
    "X = food_business_train_sample[features]\n",
    "Y = food_business_train_sample['CriticalFound']\n",
    "\n",
    "X_train, X_val, Y_train, Y_val = train_test_split(X,\n",
    "                                                  Y,\n",
    "                                                  test_size=0.3,\n",
    "                                                  random_state=103)\n",
    "\n",
    "#smote = SMOTE(ratio='minority')\n",
    "#X_train, Y_train = smote.fit_resample(X_train, Y_train)"
   ]
  },
  {
   "cell_type": "code",
   "execution_count": 64,
   "metadata": {},
   "outputs": [
    {
     "data": {
      "image/png": "[encoded data removed]",
      "text/plain": [
       "<Figure size 720x576 with 2 Axes>"
      ]
     },
     "metadata": {},
     "output_type": "display_data"
    }
   ],
   "source": [
    "f, ax = plt.subplots(figsize=(10, 8))\n",
    "corr = food_business_sample.corr()\n",
    "sns.heatmap(corr, mask=np.zeros_like(corr, dtype=np.bool),\n",
    "            square=True, ax=ax)\n",
    "\n",
    "plt.show()"
   ]
  },
  {
   "cell_type": "code",
   "execution_count": null,
   "metadata": {},
   "outputs": [],
   "source": [
    "#Y_data = pd.DataFrame(data=Y_smote, columns = ['CriticalFound'])\n",
    "#X_data.reset_index()\n",
    "#Y_data.reset_index()\n",
    "#Y_data = Y_data.values.reshape(-1,)\n",
    "'''\n",
    "X_train = pd.DataFrame(data=X_train, columns=features)\n",
    "Y_train = pd.DataFrame(data=Y_train, columns = ['CriticalFound'])\n",
    "X_test = pd.DataFrame(data=X_val, columns=features)\n",
    "Y_test = pd.DataFrame(data=Y_val, columns = ['CriticalFound'])\n",
    "X_train = X_train.reset_index()\n",
    "Y_train = Y_train.reset_index()\n",
    "X_val = X_val.reset_index()\n",
    "Y_val = Y_val.reset_index()\n",
    "\n",
    "X = food_business_train_sample[features]\n",
    "Y = food_business_train_sample['CriticalFound']\n",
    "X_train, X_val, Y_train, Y_val = train_test_split(X, Y, test_size=0.3, random_state=103)\n",
    "\n",
    "fig, (ax1, ax2) = plt.subplots(ncols=2, figsize=(12, 5))\n",
    "ax1.set_title('Before Scaling')\n",
    "sns.distplot(X['service_complains_last_month'], ax=ax1)\n",
    "sns.distplot(X['burglaries_last_month'], ax=ax1)\n",
    "sns.distplot(X['past_serious_violations'], ax=ax1)\n",
    "sns.distplot(X['past_critical_violations'], ax=ax1)\n",
    "plt.show()\n",
    "\n",
    "X['service_complains_last_month'] = (X['service_complains_last_month'] - X['service_complains_last_month'].mean())/X['service_complains_last_month'].std()\n",
    "X['burglaries_last_month'] = (X['burglaries_last_month']-X['burglaries_last_month'].mean())/X['burglaries_last_month'].std()                                     \n",
    "X['past_serious_violations'] = (X['past_serious_violations'] - X['past_serious_violations'].mean())/X['past_serious_violations'].std()\n",
    "X['past_critical_violations'] = (X['past_critical_violations']-X['past_critical_violations'].mean())/X['past_critical_violations'].std()                                     \n",
    "X['past_minor_violations'] = (X['past_minor_violations']-X['past_minor_violations'].mean())/X['past_minor_violations'].std()                                     \n",
    "\n",
    "ax2.set_title('After Standard Scaler')\n",
    "sns.distplot(X['service_complains_last_month'], ax=ax2)\n",
    "#sns.distplot(X['burglaries_last_month'], ax=ax2)\n",
    "#sns.distplot(X['past_serious_violations'], ax=ax2)\n",
    "#sns.distplot(X['past_critical_violations'], ax=ax2)\n",
    "\n",
    "'''"
   ]
  },
  {
   "cell_type": "code",
   "execution_count": null,
   "metadata": {},
   "outputs": [],
   "source": [
    "print(X_train.shape)\n",
    "print(Y_train.shape)\n",
    "print(X_val.shape)\n",
    "print(Y_val.shape)\n",
    "#print(X_valid.shape)\n",
    "#print(Y_valid.shape)"
   ]
  },
  {
   "cell_type": "code",
   "execution_count": null,
   "metadata": {},
   "outputs": [],
   "source": [
    "fig, (ax1, ax2) = plt.subplots(ncols=2, figsize=(12, 5))\n",
    "ax1.set_title('Train Class Imbalance')\n",
    "sns.countplot(x=Y_train, ax=ax1)\n",
    "ax2.set_title('Test Class Imbalance')\n",
    "sns.countplot(x=Y_val, ax=ax2)\n",
    "plt.show()"
   ]
  },
  {
   "cell_type": "markdown",
   "metadata": {},
   "source": [
    "We should note that there is class imbalance here and we should be careful about building our classfier. "
   ]
  },
  {
   "cell_type": "code",
   "execution_count": null,
   "metadata": {},
   "outputs": [],
   "source": [
    "#Make sure that there are no n/a values in our data frame.\n",
    "print(X.isna().sum())"
   ]
  },
  {
   "cell_type": "code",
   "execution_count": null,
   "metadata": {},
   "outputs": [],
   "source": [
    "from sklearn.manifold import TSNE\n",
    "\n",
    "X_reduced_tsne = TSNE(n_components=2, random_state=42).fit_transform(X.values)\n",
    "# t-SNE scatter plot\n",
    "import matplotlib.patches as mpatches\n",
    "\n",
    "f, ax = plt.subplots(figsize=(12, 12))\n",
    "\n",
    "blue_patch = mpatches.Patch(color='#0A0AFF', label='No Critical')\n",
    "red_patch = mpatches.Patch(color='#AF0000', label='Critical Found')\n",
    "\n",
    "ax.scatter(X_reduced_tsne[:, 0],\n",
    "           X_reduced_tsne[:, 1],\n",
    "           c=(Y == 0),\n",
    "           cmap='coolwarm',\n",
    "           label='No Critical',\n",
    "           linewidths=2)\n",
    "ax.scatter(X_reduced_tsne[:, 0],\n",
    "           X_reduced_tsne[:, 1],\n",
    "           c=(Y == 1),\n",
    "           cmap='coolwarm',\n",
    "           label='Critical Found',\n",
    "           linewidths=2)\n",
    "ax.set_title('t-SNE', fontsize=18)\n",
    "\n",
    "ax.grid(True)\n",
    "\n",
    "ax.legend(handles=[blue_patch, red_patch])\n",
    "plt.show()"
   ]
  },
  {
   "cell_type": "code",
   "execution_count": null,
   "metadata": {},
   "outputs": [],
   "source": [
    "from sklearn.decomposition import PCA\n",
    "\n",
    "X_reduced_pca = PCA(n_components=2, random_state=42).fit_transform(X.values)\n",
    "# t-SNE scatter plot\n",
    "import matplotlib.patches as mpatches\n",
    "\n",
    "f, ax = plt.subplots(figsize=(12, 12))\n",
    "\n",
    "blue_patch = mpatches.Patch(color='#0A0AFF', label='No Critical')\n",
    "red_patch = mpatches.Patch(color='#AF0000', label='Critical Found')\n",
    "\n",
    "ax.scatter(X_reduced_tsne[:, 0],\n",
    "           X_reduced_pca[:, 1],\n",
    "           c=(Y == 0),\n",
    "           cmap='coolwarm',\n",
    "           label='No Critical',\n",
    "           linewidths=2)\n",
    "ax.scatter(X_reduced_tsne[:, 0],\n",
    "           X_reduced_pca[:, 1],\n",
    "           c=(Y == 1),\n",
    "           cmap='coolwarm',\n",
    "           label='Critical Found',\n",
    "           linewidths=2)\n",
    "ax.set_title('PCA', fontsize=18)\n",
    "\n",
    "ax.grid(True)\n",
    "\n",
    "ax.legend(handles=[blue_patch, red_patch])\n",
    "plt.show()"
   ]
  },
  {
   "cell_type": "code",
   "execution_count": null,
   "metadata": {},
   "outputs": [],
   "source": [
    "def modelfit(alg,\n",
    "             X_train,\n",
    "             Y_train,\n",
    "             performCV=True,\n",
    "             printFeatureImportance=True,\n",
    "             cv_folds=5):\n",
    "    #Fit the algorithm on the data\n",
    "    alg.fit(X_train, Y_train)\n",
    "\n",
    "    #Predict training set:\n",
    "    train_predictions = alg.predict(X_train)\n",
    "    train_predprob = alg.predict_proba(X_train)[:, 1]\n",
    "\n",
    "    #Perform cross-validation:\n",
    "    if performCV:\n",
    "        cv_score = cross_val_score(alg,\n",
    "                                   X_train,\n",
    "                                   Y_train,\n",
    "                                   cv=cv_folds,\n",
    "                                   scoring='roc_auc')\n",
    "\n",
    "    #Print model report\n",
    "    print(\"\\nModel Report\")\n",
    "    print(\"Accuracy : %.4g\" %\n",
    "          metrics.accuracy_score(Y_train, train_predictions))\n",
    "    print(\"AUC Score (Train): %f\" %\n",
    "          metrics.roc_auc_score(Y_train, train_predprob))\n",
    "\n",
    "    if performCV:\n",
    "        print(\"CV Score : Mean - %.7g | Std - %.7g | Min - %.7g | Max - %.7g\" %\n",
    "              (np.mean(cv_score), np.std(cv_score), np.min(cv_score),\n",
    "               np.max(cv_score)))\n",
    "\n",
    "    #Print Feature Importance:\n",
    "    if printFeatureImportance:\n",
    "        importances = alg.feature_importances_\n",
    "        indices = np.argsort(importances)[::-1]\n",
    "        names = [features[i] for i in indices]\n",
    "        feat_imp = pd.Series(alg.feature_importances_,\n",
    "                             names).sort_values(ascending=False)\n",
    "        feat_imp.plot(kind='bar', title='Feature Importances')\n",
    "        plt.ylabel('Feature Importance Score')\n",
    "\n",
    "\n",
    "def summarize_model_performance(trained_model, x_data, true_label):\n",
    "    y_pred = trained_model.predict(x_data)\n",
    "    y_pred_proba = trained_model.predict_proba(x_data)[:, 1]\n",
    "\n",
    "    print(\"Accuracy = %s \" % metrics.accuracy_score(true_label, y_pred))\n",
    "    print(\"F1 Score = %s \" % metrics.f1_score(true_label, y_pred))\n",
    "    print(\"ROC-AUC Score = %s \" %\n",
    "          metrics.roc_auc_score(true_label, y_pred_proba))\n",
    "    print(\"Recall-Score = %s \" % metrics.recall_score(true_label, y_pred))\n",
    "    print(\"Confusion Matrix\\n\")\n",
    "    print(metrics.confusion_matrix(true_label, y_pred))\n",
    "    print(\"Classification report\")\n",
    "    print(metrics.classification_report(true_label, y_pred))\n",
    "    print(\"Log-Loss = %.3f\" % metrics.log_loss(true_label, y_pred_proba))\n",
    "\n",
    "    plot_roc_auc_curve(true_label, y_pred_proba)\n",
    "    plot_precision_recall_curve(true_label, y_pred_proba)\n",
    "\n",
    "\n",
    "def plot_roc_auc_curve(true_label, pred_label_proba):\n",
    "    plt.figure(figsize=(8, 8))\n",
    "    fpr, tpr, thresholds = metrics.roc_curve(true_label, pred_label_proba)\n",
    "    plt.plot(fpr, tpr, label=' (area = %0.2f)'\\\n",
    "             % metrics.roc_auc_score(true_label, pred_label_proba))\n",
    "    plt.plot([0, 1], [0, 1], 'r--')\n",
    "    plt.xlim([-0.1, 1.0])\n",
    "    plt.ylim([-0.1, 1.0])\n",
    "    plt.rcParams['font.size'] = 12\n",
    "    plt.title('ROC-AUC curve ')\n",
    "    plt.xlabel('False Positive Rate (1 - Specificity)')\n",
    "    plt.ylabel('True Positive Rate (Sensitivity)')\n",
    "    plt.legend(loc=\"lower right\")\n",
    "    plt.grid(True)\n",
    "    plt.show()\n",
    "\n",
    "\n",
    "def plot_precision_recall_curve(true_label, pred_label_proba):\n",
    "    plt.figure(figsize=(8, 8))\n",
    "    precision, recall, thresholds = metrics.precision_recall_curve(\n",
    "        true_label, pred_label_proba)\n",
    "    plt.plot(recall, precision, marker='.')\n",
    "    plt.plot([0, 1], [0.1, 0.1], linestyle='--')\n",
    "    plt.xlim([-0.1, 1.0])\n",
    "    plt.ylim([-0.1, 1.0])\n",
    "    plt.rcParams['font.size'] = 12\n",
    "    plt.title('Precision-Recall Curve')\n",
    "    plt.xlabel('Recall')\n",
    "    plt.ylabel('Precision')\n",
    "    plt.grid(True)\n",
    "    plt.show()"
   ]
  },
  {
   "cell_type": "markdown",
   "metadata": {},
   "source": [
    "### Logistic Regression Model "
   ]
  },
  {
   "cell_type": "code",
   "execution_count": null,
   "metadata": {
    "scrolled": false
   },
   "outputs": [],
   "source": [
    "# train a logistic regression model on the training set\n",
    "# instantiate model\n",
    "logreg = LogisticRegression(random_state=101)\n",
    "print(logreg)\n",
    "\n",
    "logreg.fit(X_train, Y_train)\n",
    "summarize_model_performance(logreg, X_val, Y_val)"
   ]
  },
  {
   "cell_type": "code",
   "execution_count": null,
   "metadata": {},
   "outputs": [],
   "source": [
    "param_grid = {\n",
    "    'C': [0.5, 1, 1.5, 2.0, 2.5, 3.0, 4, 5],\n",
    "    'class_weight': [None, \"balanced\"],\n",
    "    'max_iter': [10, 20, 50, 100, 110, 120, 150, 200, 500, 700, 1000]\n",
    "}\n",
    "lgr_rand_search = RandomizedSearchCV(estimator=logreg,\n",
    "                                     param_distributions=param_grid,\n",
    "                                     n_iter=100,\n",
    "                                     cv=5,\n",
    "                                     n_jobs=-1,\n",
    "                                     random_state=101)\n",
    "\n",
    "lgr_rand_search.fit(X_train, Y_train)\n",
    "#Best estimator and CV score\n",
    "print('Best Accuracy score ', lgr_rand_search.best_score_)\n",
    "print(lgr_rand_search.best_estimator_)\n",
    "\n",
    "logreg = lgr_rand_search.best_estimator_"
   ]
  },
  {
   "cell_type": "code",
   "execution_count": null,
   "metadata": {},
   "outputs": [],
   "source": [
    "# fit model\n",
    "modelfit(logreg, X_train, Y_train, True, False, 5)\n",
    "print(\"Logistic regression coefficients \\n\")\n",
    "print(logreg.coef_)"
   ]
  },
  {
   "cell_type": "code",
   "execution_count": null,
   "metadata": {},
   "outputs": [],
   "source": [
    "summarize_model_performance(logreg, X_val, Y_val)"
   ]
  },
  {
   "cell_type": "code",
   "execution_count": null,
   "metadata": {},
   "outputs": [],
   "source": [
    "X_test = food_business_test_sample[features]\n",
    "Y_test = food_business_test_sample['CriticalFound']\n",
    "print('Test Summary ')\n",
    "summarize_model_performance(logreg, X_test, Y_test)"
   ]
  },
  {
   "cell_type": "markdown",
   "metadata": {},
   "source": [
    "## DecisionTree Classifier"
   ]
  },
  {
   "cell_type": "code",
   "execution_count": null,
   "metadata": {},
   "outputs": [],
   "source": [
    "dt = DecisionTreeClassifier(random_state=101,\n",
    "                            class_weight='balanced',\n",
    "                            criterion='entropy')\n",
    "print(dt)\n",
    "\n",
    "modelfit(dt, X_train, Y_train, True, True, 5)\n",
    "\n",
    "param_grid = {\n",
    "    'max_leaf_nodes': [5, 10, 15, 20, 25, 30, 35, 50],\n",
    "    'min_samples_split': [2, 2, 4, 6, 8],\n",
    "    'max_depth': [1, 5, 10, 15, 20],\n",
    "    'min_samples_leaf': [1, 2, 5, 10, 15, 20]\n",
    "}\n",
    "dt_rand_search = RandomizedSearchCV(estimator=dt,\n",
    "                                    param_distributions=param_grid,\n",
    "                                    cv=5,\n",
    "                                    n_iter=100,\n",
    "                                    n_jobs=-1,\n",
    "                                    random_state=101)\n",
    "\n",
    "dt_rand_search.fit(X_train, Y_train)\n",
    "\n",
    "#Best estimator and CV score\n",
    "print(dt_rand_search.best_estimator_)\n",
    "\n",
    "dt = dt_rand_search.best_estimator_"
   ]
  },
  {
   "cell_type": "code",
   "execution_count": null,
   "metadata": {},
   "outputs": [],
   "source": [
    "summarize_model_performance(dt, X_val, Y_val)"
   ]
  },
  {
   "cell_type": "code",
   "execution_count": null,
   "metadata": {},
   "outputs": [],
   "source": [
    "summarize_model_performance(dt, X_test, Y_test)"
   ]
  },
  {
   "cell_type": "markdown",
   "metadata": {},
   "source": [
    "## Random Forest"
   ]
  },
  {
   "cell_type": "code",
   "execution_count": null,
   "metadata": {},
   "outputs": [],
   "source": [
    "rf = RandomForestClassifier(random_state=101, n_jobs=-1)\n",
    "print(rf)"
   ]
  },
  {
   "cell_type": "code",
   "execution_count": null,
   "metadata": {},
   "outputs": [],
   "source": [
    "n_estimators = [int(x) for x in np.linspace(start=1, stop=500, num=25)]\n",
    "param_grid_RF = {\n",
    "    'n_estimators': n_estimators,\n",
    "    'max_features': np.arange(1, len(features)),\n",
    "    'min_samples_split': [2, 4, 6, 8],\n",
    "    'max_depth': [1, 5, 10, 15, 20, 30, 50],\n",
    "    'min_samples_leaf': [1, 2, 5, 10, 15, 20],\n",
    "    'bootstrap': [True, False]\n",
    "}\n",
    "rf_rand_search = RandomizedSearchCV(estimator=rf,\n",
    "                                    param_distributions=param_grid_RF,\n",
    "                                    n_iter=100,\n",
    "                                    cv=5,\n",
    "                                    random_state=101)\n",
    "rf_rand_search.fit(X_train, Y_train)\n",
    "print(rf_rand_search.best_estimator_)\n",
    "clf = rf_rand_search.best_estimator_\n",
    "modelfit(clf, X_train, Y_train, True, True, 5)"
   ]
  },
  {
   "cell_type": "code",
   "execution_count": null,
   "metadata": {},
   "outputs": [],
   "source": [
    "summarize_model_performance(clf, X_val, Y_val)"
   ]
  },
  {
   "cell_type": "code",
   "execution_count": null,
   "metadata": {},
   "outputs": [],
   "source": [
    "predictors = features\n",
    "gbm0 = GradientBoostingClassifier(random_state=10)\n",
    "print(gbm0)"
   ]
  },
  {
   "cell_type": "code",
   "execution_count": null,
   "metadata": {},
   "outputs": [],
   "source": [
    "modelfit(gbm0, X_train, Y_train)"
   ]
  },
  {
   "cell_type": "code",
   "execution_count": null,
   "metadata": {},
   "outputs": [],
   "source": [
    "summarize_model_performance(gbm0, X_val, Y_val)"
   ]
  },
  {
   "cell_type": "code",
   "execution_count": null,
   "metadata": {},
   "outputs": [],
   "source": [
    "n_features = np.arange(1, len(features))\n",
    "print(n_features)\n",
    "param_grid = {\n",
    "    'learning_rate': [0.01, 0.05, 0.1, 0.2, 0.3, 0.4, 0.5, 1],\n",
    "    'n_estimators': [100, 150, 200, 500],\n",
    "    'max_features': n_features\n",
    "}\n",
    "#gbm_model_tuned = GradientBoostingClassifier(random_state=10)\n",
    "gbm_grid_search = RandomizedSearchCV(estimator=gbm0,\n",
    "                                     param_distributions=param_grid,\n",
    "                                     cv=10,\n",
    "                                     random_state=10,\n",
    "                                     n_jobs=-1)\n",
    "\n",
    "gbm_grid_search.fit(X_train, Y_train)\n",
    "\n",
    "print('Best Accuracy score ', gbm_grid_search.best_score_)\n",
    "print(gbm_grid_search.best_estimator_)\n",
    "\n",
    "gbm_final = gbm_grid_search.best_estimator_"
   ]
  },
  {
   "cell_type": "code",
   "execution_count": null,
   "metadata": {},
   "outputs": [],
   "source": [
    "summarize_model_performance(gbm_final, X_val, Y_val)"
   ]
  },
  {
   "cell_type": "code",
   "execution_count": null,
   "metadata": {},
   "outputs": [],
   "source": [
    "param_grid = {\n",
    "    'learning_rate': [0.01, 0.05, 0.1, 0.2, 0.3, 0.4, 0.5, 1],\n",
    "    'eval_metric': ['auc'],\n",
    "    'gamma': [0.5, 1, 1.5, 2, 5],\n",
    "    'max_depth': [2, 4, 6, 8, 10, 12, 14, 18, 20, 25],\n",
    "    'n_estimators': [100, 200, 300, 500, 1000],\n",
    "    'scale_pos_weight': [1, 2, 3, 4, 5]\n",
    "}\n",
    "xgb_model = xgb.XGBClassifier(objective=\"binary:logistic\", random_state=101)\n",
    "xgb_grid_search = RandomizedSearchCV(estimator=xgb_model,\n",
    "                                     param_distributions=param_grid,\n",
    "                                     cv=5,\n",
    "                                     random_state=101,\n",
    "                                     n_jobs=-1)\n",
    "X_train = pd.DataFrame(data=X_train, columns=features)\n",
    "X_val = pd.DataFrame(data=X_val, columns=features)\n",
    "xgb_grid_search.fit(X_train, Y_train)\n",
    "#Best estimator and CV score\n",
    "print('Best Accuracy score ', xgb_grid_search.best_score_)\n",
    "print(xgb_grid_search.best_estimator_)\n",
    "\n",
    "xgb_model = xgb_grid_search.best_estimator_\n",
    "print('Validation Summary ')\n",
    "summarize_model_performance(xgb_model, X_val, Y_val)"
   ]
  },
  {
   "cell_type": "code",
   "execution_count": null,
   "metadata": {},
   "outputs": [],
   "source": [
    "xgb_model.get_booster().feature_names"
   ]
  },
  {
   "cell_type": "code",
   "execution_count": null,
   "metadata": {},
   "outputs": [],
   "source": [
    "from keras.models import Sequential\n",
    "from keras.layers import Dense\n",
    "from keras.optimizers import Adam\n",
    "class_weight = {0: 1.,\n",
    "                1: 5.}\n",
    "model = Sequential()\n",
    "model.add(Dense(16, input_dim=8, activation='relu'))\n",
    "model.add(Dense(8, activation='relu'))\n",
    "model.add(Dense(1, activation='sigmoid'))\n",
    "# compile the keras model\n",
    "optimizer = Adam(lr=0.01, beta_1=0.9, beta_2=0.999, epsilon=None, decay=0.0, amsgrad=False)\n",
    "model.compile(loss='binary_crossentropy', optimizer='adam', metrics=['accuracy'])\n",
    "# fit the keras model on the dataset\n",
    "model.fit(X_train, Y_train, epochs=500, batch_size=100, class_weight=class_weight)\n",
    "# evaluate the keras model\n",
    "_, accuracy = model.evaluate(X_test, Y_test)\n",
    "print('Accuracy: %.2f' % (accuracy*100))\n"
   ]
  },
  {
   "cell_type": "code",
   "execution_count": null,
   "metadata": {},
   "outputs": [],
   "source": []
  }
 ],
 "metadata": {
  "hide_input": false,
  "kernelspec": {
   "display_name": "Python 3",
   "language": "python",
   "name": "python3"
  },
  "language_info": {
   "codemirror_mode": {
    "name": "ipython",
    "version": 3
   },
   "file_extension": ".py",
   "mimetype": "text/x-python",
   "name": "python",
   "nbconvert_exporter": "python",
   "pygments_lexer": "ipython3",
   "version": "3.7.3"
  },
  "toc": {
   "base_numbering": 1,
   "nav_menu": {},
   "number_sections": true,
   "sideBar": true,
   "skip_h1_title": false,
   "title_cell": "Table of Contents",
   "title_sidebar": "Contents",
   "toc_cell": false,
   "toc_position": {},
   "toc_section_display": true,
   "toc_window_display": false
  },
  "varInspector": {
   "cols": {
    "lenName": 16,
    "lenType": 16,
    "lenVar": 40
   },
   "kernels_config": {
    "python": {
     "delete_cmd_postfix": "",
     "delete_cmd_prefix": "del ",
     "library": "var_list.py",
     "varRefreshCmd": "print(var_dic_list())"
    },
    "r": {
     "delete_cmd_postfix": ") ",
     "delete_cmd_prefix": "rm(",
     "library": "var_list.r",
     "varRefreshCmd": "cat(var_dic_list()) "
    }
   },
   "types_to_exclude": [
    "module",
    "function",
    "builtin_function_or_method",
    "instance",
    "_Feature"
   ],
   "window_display": false
  }
 },
 "nbformat": 4,
 "nbformat_minor": 2
}

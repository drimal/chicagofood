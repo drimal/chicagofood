{
 "cells": [
  {
   "cell_type": "markdown",
   "metadata": {},
   "source": [
    "## Modeling Inspection of the Food Establishments in the City of Chicago"
   ]
  },
  {
   "cell_type": "markdown",
   "metadata": {},
   "source": [
    "## Project Plan\n",
    " - Project Goal\n",
    " - Dataset and features\n",
    " - Exploratory data analysis (EDA) \n",
    " - Patterns, insights, pecularities of data\n",
    " - Data preprocessing\n",
    " - Feature engineering and description\n",
    " - Cross-validation, hyperparameter tuning\n",
    " - Validation and learning curves\n",
    " - Prediction for hold-out and test samples\n",
    " - Model evaluation with metrics description\n",
    " - Conclusions\n"
   ]
  },
  {
   "cell_type": "markdown",
   "metadata": {},
   "source": [
    "### Project Goal\n",
    "The goal of this project is to model the vilolations/failures by the food establishments in the city of chicago. "
   ]
  },
  {
   "cell_type": "markdown",
   "metadata": {},
   "source": [
    "### Data Set and Features  \n",
    "We used city of Chicago's Socrata Open Data (SODA) API to acess food inspection data for 2018 and 2019. In addition to the food inspection data, we are using burglary/crime, 311 sanitation complaints, businesss license data as well."
   ]
  },
  {
   "cell_type": "markdown",
   "metadata": {},
   "source": [
    "## Exploratory Data Analysis "
   ]
  },
  {
   "cell_type": "code",
   "execution_count": 1,
   "metadata": {},
   "outputs": [],
   "source": [
    "#important libraries\n",
    "%matplotlib inline\n",
    "import warnings\n",
    "warnings.filterwarnings('ignore')\n",
    "import pandas as pd\n",
    "import seaborn as sns\n",
    "import numpy as np\n",
    "import matplotlib.pyplot as plt\n",
    "import json\n",
    "sns.set(rc={'figure.figsize':(12, 6),\"font.size\":20,\"axes.titlesize\":20,\"axes.labelsize\":20},style=\"darkgrid\")\n",
    "import matplotlib.dates as mdates\n",
    "import re\n",
    "from datetime import datetime, timedelta\n",
    "import time\n",
    "from datetime import datetime, date, time, timedelta\n"
   ]
  },
  {
   "cell_type": "code",
   "execution_count": 2,
   "metadata": {},
   "outputs": [],
   "source": [
    "food_data = pd.read_json('../data/raw/food-inspection.json', convert_dates = ['inspection_date'])"
   ]
  },
  {
   "cell_type": "code",
   "execution_count": 3,
   "metadata": {},
   "outputs": [
    {
     "data": {
      "text/html": [
       "<div>\n",
       "<style scoped>\n",
       "    .dataframe tbody tr th:only-of-type {\n",
       "        vertical-align: middle;\n",
       "    }\n",
       "\n",
       "    .dataframe tbody tr th {\n",
       "        vertical-align: top;\n",
       "    }\n",
       "\n",
       "    .dataframe thead th {\n",
       "        text-align: right;\n",
       "    }\n",
       "</style>\n",
       "<table border=\"1\" class=\"dataframe\">\n",
       "  <thead>\n",
       "    <tr style=\"text-align: right;\">\n",
       "      <th></th>\n",
       "      <th>address</th>\n",
       "      <th>aka_name</th>\n",
       "      <th>city</th>\n",
       "      <th>dba_name</th>\n",
       "      <th>facility_type</th>\n",
       "      <th>inspection_date</th>\n",
       "      <th>inspection_id</th>\n",
       "      <th>inspection_type</th>\n",
       "      <th>latitude</th>\n",
       "      <th>license_</th>\n",
       "      <th>location</th>\n",
       "      <th>longitude</th>\n",
       "      <th>results</th>\n",
       "      <th>risk</th>\n",
       "      <th>state</th>\n",
       "      <th>violations</th>\n",
       "      <th>zip</th>\n",
       "    </tr>\n",
       "  </thead>\n",
       "  <tbody>\n",
       "    <tr>\n",
       "      <th>0</th>\n",
       "      <td>6136 S PULASKI RD</td>\n",
       "      <td>BELLA LUNA BAR</td>\n",
       "      <td>CHICAGO</td>\n",
       "      <td>BELLA LUNA BAR</td>\n",
       "      <td>BANQUET HALL</td>\n",
       "      <td>2017-01-03</td>\n",
       "      <td>1978834</td>\n",
       "      <td>License Re-Inspection</td>\n",
       "      <td>41.781158</td>\n",
       "      <td>2476443.0</td>\n",
       "      <td>{'type': 'Point', 'coordinates': [-87.72297770...</td>\n",
       "      <td>-87.722978</td>\n",
       "      <td>Pass</td>\n",
       "      <td>Risk 3 (Low)</td>\n",
       "      <td>IL</td>\n",
       "      <td>None</td>\n",
       "      <td>60629.0</td>\n",
       "    </tr>\n",
       "    <tr>\n",
       "      <th>1</th>\n",
       "      <td>2216 S MICHIGAN AVE</td>\n",
       "      <td>JAMAICA JERK VILLA</td>\n",
       "      <td>CHICAGO</td>\n",
       "      <td>JAMAICA JERK VILLA</td>\n",
       "      <td>Restaurant</td>\n",
       "      <td>2017-01-03</td>\n",
       "      <td>1978825</td>\n",
       "      <td>License</td>\n",
       "      <td>41.852341</td>\n",
       "      <td>2464559.0</td>\n",
       "      <td>{'type': 'Point', 'coordinates': [-87.62393736...</td>\n",
       "      <td>-87.623937</td>\n",
       "      <td>Not Ready</td>\n",
       "      <td>Risk 1 (High)</td>\n",
       "      <td>IL</td>\n",
       "      <td>None</td>\n",
       "      <td>60616.0</td>\n",
       "    </tr>\n",
       "  </tbody>\n",
       "</table>\n",
       "</div>"
      ],
      "text/plain": [
       "                address            aka_name     city            dba_name  \\\n",
       "0    6136 S PULASKI RD       BELLA LUNA BAR  CHICAGO      BELLA LUNA BAR   \n",
       "1  2216 S MICHIGAN AVE   JAMAICA JERK VILLA  CHICAGO  JAMAICA JERK VILLA   \n",
       "\n",
       "  facility_type inspection_date  inspection_id        inspection_type  \\\n",
       "0  BANQUET HALL      2017-01-03        1978834  License Re-Inspection   \n",
       "1    Restaurant      2017-01-03        1978825                License   \n",
       "\n",
       "    latitude   license_                                           location  \\\n",
       "0  41.781158  2476443.0  {'type': 'Point', 'coordinates': [-87.72297770...   \n",
       "1  41.852341  2464559.0  {'type': 'Point', 'coordinates': [-87.62393736...   \n",
       "\n",
       "   longitude    results           risk state violations      zip  \n",
       "0 -87.722978       Pass   Risk 3 (Low)    IL       None  60629.0  \n",
       "1 -87.623937  Not Ready  Risk 1 (High)    IL       None  60616.0  "
      ]
     },
     "execution_count": 3,
     "metadata": {},
     "output_type": "execute_result"
    }
   ],
   "source": [
    "food_data.head(2)"
   ]
  },
  {
   "cell_type": "code",
   "execution_count": 4,
   "metadata": {},
   "outputs": [],
   "source": [
    "food_data.rename(columns={'license_':'license'}, inplace=True)"
   ]
  },
  {
   "cell_type": "code",
   "execution_count": 5,
   "metadata": {},
   "outputs": [
    {
     "name": "stdout",
     "output_type": "stream",
     "text": [
      " So there are 44760 rows and 17 columns in the data\n"
     ]
    }
   ],
   "source": [
    "shape = food_data.shape\n",
    "print(\" So there are %d rows and %d columns in the data\" % (shape[0], shape[1]))"
   ]
  },
  {
   "cell_type": "code",
   "execution_count": 6,
   "metadata": {},
   "outputs": [
    {
     "data": {
      "text/plain": [
       "address                0\n",
       "aka_name             190\n",
       "city                  48\n",
       "dba_name               0\n",
       "facility_type        277\n",
       "inspection_date        0\n",
       "inspection_id          0\n",
       "inspection_type        0\n",
       "latitude             178\n",
       "license                2\n",
       "location             178\n",
       "longitude            178\n",
       "results                0\n",
       "risk                  17\n",
       "state                 27\n",
       "violations         11141\n",
       "zip                    9\n",
       "dtype: int64"
      ]
     },
     "execution_count": 6,
     "metadata": {},
     "output_type": "execute_result"
    }
   ],
   "source": [
    "food_data.isna().sum()"
   ]
  },
  {
   "cell_type": "markdown",
   "metadata": {},
   "source": [
    "Let us do some data clean up:"
   ]
  },
  {
   "cell_type": "code",
   "execution_count": 7,
   "metadata": {},
   "outputs": [],
   "source": [
    "food_data = food_data[np.isfinite(food_data['license'])]\n",
    "food_data = food_data[ (food_data['license'] > 0) & (food_data['inspection_date'] != 0) ]\n",
    "food_data = food_data.drop(['location', 'zip', 'state', 'city'], axis=1)\n",
    "food_data['latitude'].fillna(food_data['latitude'].mode()[0], inplace=True)\n",
    "food_data['longitude'].fillna(food_data['longitude'].mode()[0], inplace=True)\n",
    "food_data['aka_name'].fillna(food_data['dba_name'], inplace=True)\n",
    "food_data['license'] = food_data['license'].astype('int')"
   ]
  },
  {
   "cell_type": "code",
   "execution_count": 8,
   "metadata": {},
   "outputs": [
    {
     "data": {
      "text/plain": [
       "address                0\n",
       "aka_name               0\n",
       "dba_name               0\n",
       "facility_type        274\n",
       "inspection_date        0\n",
       "inspection_id          0\n",
       "inspection_type        0\n",
       "latitude               0\n",
       "license                0\n",
       "longitude              0\n",
       "results                0\n",
       "risk                  16\n",
       "violations         11122\n",
       "dtype: int64"
      ]
     },
     "execution_count": 8,
     "metadata": {},
     "output_type": "execute_result"
    }
   ],
   "source": [
    "food_data.isna().sum()"
   ]
  },
  {
   "cell_type": "code",
   "execution_count": 9,
   "metadata": {},
   "outputs": [
    {
     "data": {
      "text/plain": [
       "<matplotlib.axes._subplots.AxesSubplot at 0x1a3811fdd8>"
      ]
     },
     "execution_count": 9,
     "metadata": {},
     "output_type": "execute_result"
    },
    {
     "data": {
      "image/png": "[encoded data removed]",
      "text/plain": [
       "<Figure size 432x288 with 1 Axes>"
      ]
     },
     "metadata": {
      "needs_background": "light"
     },
     "output_type": "display_data"
    }
   ],
   "source": [
    "#food_data.unstack.plot(['inspection_date'].hist(bins=16, use_index=True)\n",
    "food_data['inspection_date'].hist(bins = 32)"
   ]
  },
  {
   "cell_type": "code",
   "execution_count": 10,
   "metadata": {},
   "outputs": [
    {
     "name": "stdout",
     "output_type": "stream",
     "text": [
      "<class 'pandas.core.frame.DataFrame'>\n",
      "Int64Index: 44687 entries, 0 to 9999\n",
      "Data columns (total 13 columns):\n",
      "address            44687 non-null object\n",
      "aka_name           44687 non-null object\n",
      "dba_name           44687 non-null object\n",
      "facility_type      44413 non-null object\n",
      "inspection_date    44687 non-null datetime64[ns]\n",
      "inspection_id      44687 non-null int64\n",
      "inspection_type    44687 non-null object\n",
      "latitude           44687 non-null float64\n",
      "license            44687 non-null int64\n",
      "longitude          44687 non-null float64\n",
      "results            44687 non-null object\n",
      "risk               44671 non-null object\n",
      "violations         33565 non-null object\n",
      "dtypes: datetime64[ns](1), float64(2), int64(2), object(8)\n",
      "memory usage: 4.8+ MB\n"
     ]
    }
   ],
   "source": [
    "#what's in the data? \n",
    "food_data.info()"
   ]
  },
  {
   "cell_type": "code",
   "execution_count": 11,
   "metadata": {},
   "outputs": [
    {
     "data": {
      "text/html": [
       "<div>\n",
       "<style scoped>\n",
       "    .dataframe tbody tr th:only-of-type {\n",
       "        vertical-align: middle;\n",
       "    }\n",
       "\n",
       "    .dataframe tbody tr th {\n",
       "        vertical-align: top;\n",
       "    }\n",
       "\n",
       "    .dataframe thead th {\n",
       "        text-align: right;\n",
       "    }\n",
       "</style>\n",
       "<table border=\"1\" class=\"dataframe\">\n",
       "  <thead>\n",
       "    <tr style=\"text-align: right;\">\n",
       "      <th></th>\n",
       "      <th>inspection_id</th>\n",
       "      <th>latitude</th>\n",
       "      <th>license</th>\n",
       "      <th>longitude</th>\n",
       "    </tr>\n",
       "  </thead>\n",
       "  <tbody>\n",
       "    <tr>\n",
       "      <th>count</th>\n",
       "      <td>4.468700e+04</td>\n",
       "      <td>44687.000000</td>\n",
       "      <td>4.468700e+04</td>\n",
       "      <td>44687.000000</td>\n",
       "    </tr>\n",
       "    <tr>\n",
       "      <th>mean</th>\n",
       "      <td>2.129673e+06</td>\n",
       "      <td>41.885972</td>\n",
       "      <td>1.849083e+06</td>\n",
       "      <td>-87.678130</td>\n",
       "    </tr>\n",
       "    <tr>\n",
       "      <th>std</th>\n",
       "      <td>9.749960e+04</td>\n",
       "      <td>0.080434</td>\n",
       "      <td>8.963441e+05</td>\n",
       "      <td>0.060751</td>\n",
       "    </tr>\n",
       "    <tr>\n",
       "      <th>min</th>\n",
       "      <td>2.638040e+05</td>\n",
       "      <td>41.644670</td>\n",
       "      <td>2.000000e+00</td>\n",
       "      <td>-87.914428</td>\n",
       "    </tr>\n",
       "    <tr>\n",
       "      <th>25%</th>\n",
       "      <td>2.064474e+06</td>\n",
       "      <td>41.847292</td>\n",
       "      <td>1.594476e+06</td>\n",
       "      <td>-87.707842</td>\n",
       "    </tr>\n",
       "    <tr>\n",
       "      <th>50%</th>\n",
       "      <td>2.135501e+06</td>\n",
       "      <td>41.893889</td>\n",
       "      <td>2.215928e+06</td>\n",
       "      <td>-87.666342</td>\n",
       "    </tr>\n",
       "    <tr>\n",
       "      <th>75%</th>\n",
       "      <td>2.213734e+06</td>\n",
       "      <td>41.943775</td>\n",
       "      <td>2.475923e+06</td>\n",
       "      <td>-87.636298</td>\n",
       "    </tr>\n",
       "    <tr>\n",
       "      <th>max</th>\n",
       "      <td>2.288551e+06</td>\n",
       "      <td>42.021064</td>\n",
       "      <td>3.808890e+06</td>\n",
       "      <td>-87.525094</td>\n",
       "    </tr>\n",
       "  </tbody>\n",
       "</table>\n",
       "</div>"
      ],
      "text/plain": [
       "       inspection_id      latitude       license     longitude\n",
       "count   4.468700e+04  44687.000000  4.468700e+04  44687.000000\n",
       "mean    2.129673e+06     41.885972  1.849083e+06    -87.678130\n",
       "std     9.749960e+04      0.080434  8.963441e+05      0.060751\n",
       "min     2.638040e+05     41.644670  2.000000e+00    -87.914428\n",
       "25%     2.064474e+06     41.847292  1.594476e+06    -87.707842\n",
       "50%     2.135501e+06     41.893889  2.215928e+06    -87.666342\n",
       "75%     2.213734e+06     41.943775  2.475923e+06    -87.636298\n",
       "max     2.288551e+06     42.021064  3.808890e+06    -87.525094"
      ]
     },
     "execution_count": 11,
     "metadata": {},
     "output_type": "execute_result"
    }
   ],
   "source": [
    "#simple statistics \n",
    "food_data.describe()\n",
    "#food_data.set_index('inspection_date')"
   ]
  },
  {
   "cell_type": "code",
   "execution_count": 12,
   "metadata": {},
   "outputs": [],
   "source": [
    "def count_critical_violations(violations):\n",
    "    non_critical_violations_count = 0\n",
    "    critical_violations_count = 0\n",
    "    minor_violations_count = 0\n",
    "    try:\n",
    "        x = violations.split('|')\n",
    "        codes = []\n",
    "        for violation in x:\n",
    "            match = int(re.search(r'\\d+', violation).group(0))\n",
    "            codes.append(match)\n",
    "        for code in codes:\n",
    "            if code > 0 and code < 15:\n",
    "                minor_violations_count += 1\n",
    "            elif code > 15 and code < 30:\n",
    "                non_critical_violations_count += 1\n",
    "            else:\n",
    "                critical_violations_count += 1\n",
    "        return [minor_violations_count, non_critical_violations_count, critical_violations_count]\n",
    "        #return(critical_violations_count)\n",
    "    except:\n",
    "        return [0]    "
   ]
  },
  {
   "cell_type": "code",
   "execution_count": 13,
   "metadata": {},
   "outputs": [],
   "source": [
    "food_data['violations_list'] = food_data['violations'].apply(lambda x: count_critical_violations(x))\n",
    "food_data['minor_violations'] = food_data['violations_list'].apply(lambda x : x[0])\n",
    "food_data['non_critical_violations'] = food_data['violations_list'].apply(lambda x : x[1] if len(x) > 1 else 0)\n",
    "food_data['critical_violations'] = food_data['violations_list'].apply(lambda x : x[2] if len(x) > 1 else 0)"
   ]
  },
  {
   "cell_type": "code",
   "execution_count": 14,
   "metadata": {},
   "outputs": [
    {
     "data": {
      "text/html": [
       "<div>\n",
       "<style scoped>\n",
       "    .dataframe tbody tr th:only-of-type {\n",
       "        vertical-align: middle;\n",
       "    }\n",
       "\n",
       "    .dataframe tbody tr th {\n",
       "        vertical-align: top;\n",
       "    }\n",
       "\n",
       "    .dataframe thead th {\n",
       "        text-align: right;\n",
       "    }\n",
       "</style>\n",
       "<table border=\"1\" class=\"dataframe\">\n",
       "  <thead>\n",
       "    <tr style=\"text-align: right;\">\n",
       "      <th></th>\n",
       "      <th>address</th>\n",
       "      <th>aka_name</th>\n",
       "      <th>dba_name</th>\n",
       "      <th>facility_type</th>\n",
       "      <th>inspection_date</th>\n",
       "      <th>inspection_id</th>\n",
       "      <th>inspection_type</th>\n",
       "      <th>latitude</th>\n",
       "      <th>license</th>\n",
       "      <th>longitude</th>\n",
       "      <th>results</th>\n",
       "      <th>risk</th>\n",
       "      <th>violations</th>\n",
       "      <th>violations_list</th>\n",
       "      <th>minor_violations</th>\n",
       "      <th>non_critical_violations</th>\n",
       "      <th>critical_violations</th>\n",
       "    </tr>\n",
       "  </thead>\n",
       "  <tbody>\n",
       "    <tr>\n",
       "      <th>0</th>\n",
       "      <td>6136 S PULASKI RD</td>\n",
       "      <td>BELLA LUNA BAR</td>\n",
       "      <td>BELLA LUNA BAR</td>\n",
       "      <td>BANQUET HALL</td>\n",
       "      <td>2017-01-03</td>\n",
       "      <td>1978834</td>\n",
       "      <td>License Re-Inspection</td>\n",
       "      <td>41.781158</td>\n",
       "      <td>2476443</td>\n",
       "      <td>-87.722978</td>\n",
       "      <td>Pass</td>\n",
       "      <td>Risk 3 (Low)</td>\n",
       "      <td>None</td>\n",
       "      <td>[0]</td>\n",
       "      <td>0</td>\n",
       "      <td>0</td>\n",
       "      <td>0</td>\n",
       "    </tr>\n",
       "    <tr>\n",
       "      <th>1</th>\n",
       "      <td>2216 S MICHIGAN AVE</td>\n",
       "      <td>JAMAICA JERK VILLA</td>\n",
       "      <td>JAMAICA JERK VILLA</td>\n",
       "      <td>Restaurant</td>\n",
       "      <td>2017-01-03</td>\n",
       "      <td>1978825</td>\n",
       "      <td>License</td>\n",
       "      <td>41.852341</td>\n",
       "      <td>2464559</td>\n",
       "      <td>-87.623937</td>\n",
       "      <td>Not Ready</td>\n",
       "      <td>Risk 1 (High)</td>\n",
       "      <td>None</td>\n",
       "      <td>[0]</td>\n",
       "      <td>0</td>\n",
       "      <td>0</td>\n",
       "      <td>0</td>\n",
       "    </tr>\n",
       "  </tbody>\n",
       "</table>\n",
       "</div>"
      ],
      "text/plain": [
       "                address            aka_name            dba_name facility_type  \\\n",
       "0    6136 S PULASKI RD       BELLA LUNA BAR      BELLA LUNA BAR  BANQUET HALL   \n",
       "1  2216 S MICHIGAN AVE   JAMAICA JERK VILLA  JAMAICA JERK VILLA    Restaurant   \n",
       "\n",
       "  inspection_date  inspection_id        inspection_type   latitude  license  \\\n",
       "0      2017-01-03        1978834  License Re-Inspection  41.781158  2476443   \n",
       "1      2017-01-03        1978825                License  41.852341  2464559   \n",
       "\n",
       "   longitude    results           risk violations violations_list  \\\n",
       "0 -87.722978       Pass   Risk 3 (Low)       None             [0]   \n",
       "1 -87.623937  Not Ready  Risk 1 (High)       None             [0]   \n",
       "\n",
       "   minor_violations  non_critical_violations  critical_violations  \n",
       "0                 0                        0                    0  \n",
       "1                 0                        0                    0  "
      ]
     },
     "execution_count": 14,
     "metadata": {},
     "output_type": "execute_result"
    }
   ],
   "source": [
    "food_data.head(2)"
   ]
  },
  {
   "cell_type": "markdown",
   "metadata": {},
   "source": [
    "#### Let's drop some redudant and unnecessary columns from the dataframe and also clean up column_names."
   ]
  },
  {
   "cell_type": "code",
   "execution_count": 15,
   "metadata": {},
   "outputs": [],
   "source": [
    "food_data = food_data.drop(['violations_list', 'violations'], axis=1)"
   ]
  },
  {
   "cell_type": "code",
   "execution_count": 16,
   "metadata": {},
   "outputs": [
    {
     "data": {
      "text/html": [
       "<div>\n",
       "<style scoped>\n",
       "    .dataframe tbody tr th:only-of-type {\n",
       "        vertical-align: middle;\n",
       "    }\n",
       "\n",
       "    .dataframe tbody tr th {\n",
       "        vertical-align: top;\n",
       "    }\n",
       "\n",
       "    .dataframe thead th {\n",
       "        text-align: right;\n",
       "    }\n",
       "</style>\n",
       "<table border=\"1\" class=\"dataframe\">\n",
       "  <thead>\n",
       "    <tr style=\"text-align: right;\">\n",
       "      <th></th>\n",
       "      <th>address</th>\n",
       "      <th>aka_name</th>\n",
       "      <th>dba_name</th>\n",
       "      <th>facility_type</th>\n",
       "      <th>inspection_date</th>\n",
       "      <th>inspection_id</th>\n",
       "      <th>inspection_type</th>\n",
       "      <th>latitude</th>\n",
       "      <th>license</th>\n",
       "      <th>longitude</th>\n",
       "      <th>results</th>\n",
       "      <th>risk</th>\n",
       "      <th>minor_violations</th>\n",
       "      <th>non_critical_violations</th>\n",
       "      <th>critical_violations</th>\n",
       "    </tr>\n",
       "  </thead>\n",
       "  <tbody>\n",
       "    <tr>\n",
       "      <th>0</th>\n",
       "      <td>6136 S PULASKI RD</td>\n",
       "      <td>BELLA LUNA BAR</td>\n",
       "      <td>BELLA LUNA BAR</td>\n",
       "      <td>BANQUET HALL</td>\n",
       "      <td>2017-01-03</td>\n",
       "      <td>1978834</td>\n",
       "      <td>License Re-Inspection</td>\n",
       "      <td>41.781158</td>\n",
       "      <td>2476443</td>\n",
       "      <td>-87.722978</td>\n",
       "      <td>Pass</td>\n",
       "      <td>Risk 3 (Low)</td>\n",
       "      <td>0</td>\n",
       "      <td>0</td>\n",
       "      <td>0</td>\n",
       "    </tr>\n",
       "    <tr>\n",
       "      <th>1</th>\n",
       "      <td>2216 S MICHIGAN AVE</td>\n",
       "      <td>JAMAICA JERK VILLA</td>\n",
       "      <td>JAMAICA JERK VILLA</td>\n",
       "      <td>Restaurant</td>\n",
       "      <td>2017-01-03</td>\n",
       "      <td>1978825</td>\n",
       "      <td>License</td>\n",
       "      <td>41.852341</td>\n",
       "      <td>2464559</td>\n",
       "      <td>-87.623937</td>\n",
       "      <td>Not Ready</td>\n",
       "      <td>Risk 1 (High)</td>\n",
       "      <td>0</td>\n",
       "      <td>0</td>\n",
       "      <td>0</td>\n",
       "    </tr>\n",
       "  </tbody>\n",
       "</table>\n",
       "</div>"
      ],
      "text/plain": [
       "                address            aka_name            dba_name facility_type  \\\n",
       "0    6136 S PULASKI RD       BELLA LUNA BAR      BELLA LUNA BAR  BANQUET HALL   \n",
       "1  2216 S MICHIGAN AVE   JAMAICA JERK VILLA  JAMAICA JERK VILLA    Restaurant   \n",
       "\n",
       "  inspection_date  inspection_id        inspection_type   latitude  license  \\\n",
       "0      2017-01-03        1978834  License Re-Inspection  41.781158  2476443   \n",
       "1      2017-01-03        1978825                License  41.852341  2464559   \n",
       "\n",
       "   longitude    results           risk  minor_violations  \\\n",
       "0 -87.722978       Pass   Risk 3 (Low)                 0   \n",
       "1 -87.623937  Not Ready  Risk 1 (High)                 0   \n",
       "\n",
       "   non_critical_violations  critical_violations  \n",
       "0                        0                    0  \n",
       "1                        0                    0  "
      ]
     },
     "execution_count": 16,
     "metadata": {},
     "output_type": "execute_result"
    }
   ],
   "source": [
    "food_data.head(2)"
   ]
  },
  {
   "cell_type": "code",
   "execution_count": 17,
   "metadata": {},
   "outputs": [
    {
     "data": {
      "text/plain": [
       "address                      0\n",
       "aka_name                     0\n",
       "dba_name                     0\n",
       "facility_type              274\n",
       "inspection_date              0\n",
       "inspection_id                0\n",
       "inspection_type              0\n",
       "latitude                     0\n",
       "license                      0\n",
       "longitude                    0\n",
       "results                      0\n",
       "risk                        16\n",
       "minor_violations             0\n",
       "non_critical_violations      0\n",
       "critical_violations          0\n",
       "dtype: int64"
      ]
     },
     "execution_count": 17,
     "metadata": {},
     "output_type": "execute_result"
    }
   ],
   "source": [
    "food_data.isna().sum()"
   ]
  },
  {
   "cell_type": "markdown",
   "metadata": {},
   "source": [
    "#### Let's see the frequency of these inspections. "
   ]
  },
  {
   "cell_type": "code",
   "execution_count": 18,
   "metadata": {},
   "outputs": [
    {
     "data": {
      "text/plain": [
       "[<matplotlib.lines.Line2D at 0x1a380edbe0>,\n",
       " <matplotlib.lines.Line2D at 0x1a380ed5c0>]"
      ]
     },
     "execution_count": 18,
     "metadata": {},
     "output_type": "execute_result"
    },
    {
     "data": {
      "text/plain": [
       "Text(0.5, 0, 'Inspection Date')"
      ]
     },
     "execution_count": 18,
     "metadata": {},
     "output_type": "execute_result"
    },
    {
     "data": {
      "text/plain": [
       "Text(0, 0.5, 'Number of Inspections')"
      ]
     },
     "execution_count": 18,
     "metadata": {},
     "output_type": "execute_result"
    },
    {
     "data": {
      "text/plain": [
       "Text(0.5, 1.0, 'Daily Inspections')"
      ]
     },
     "execution_count": 18,
     "metadata": {},
     "output_type": "execute_result"
    },
    {
     "data": {
      "image/png": "[encoded data removed]",
      "text/plain": [
       "<Figure size 864x360 with 1 Axes>"
      ]
     },
     "metadata": {
      "needs_background": "light"
     },
     "output_type": "display_data"
    }
   ],
   "source": [
    "per_day = pd.DataFrame()\n",
    "per_day =  food_data[['inspection_date', 'inspection_id']]\n",
    "per_day = per_day.set_index(pd.to_datetime(per_day['inspection_date']))\n",
    "per_day = per_day.resample('D').count()\n",
    "plt.rcParams['figure.figsize'] = 12,5\n",
    "fig, ax = plt.subplots()\n",
    "fig.autofmt_xdate()\n",
    "#\n",
    "ax.xaxis.set_major_locator(mdates.MonthLocator())\n",
    "ax.xaxis.set_minor_locator(mdates.DayLocator())\n",
    "monthFmt = mdates.DateFormatter('%Y-%b')\n",
    "ax.xaxis.set_major_formatter(monthFmt)\n",
    "\n",
    "plt.plot(per_day.index, per_day, 'b-')\n",
    "plt.xlabel('Inspection Date')\n",
    "plt.ylabel('Number of Inspections', color='b')\n",
    "plt.title('Daily Inspections')\n",
    "plt.show()"
   ]
  },
  {
   "cell_type": "code",
   "execution_count": 19,
   "metadata": {},
   "outputs": [
    {
     "name": "stdout",
     "output_type": "stream",
     "text": [
      "16275 unique facilites were inspected during the period\n"
     ]
    }
   ],
   "source": [
    "print(\"%s unique facilites were inspected during the period\" %food_data['license'].nunique())"
   ]
  },
  {
   "cell_type": "markdown",
   "metadata": {},
   "source": [
    "### Let's look at the results of these inspection more closely: \n",
    "A facility can either pass, pass with conditions or fail. Following is an excerpt from the dataset documentation page:\n",
    "\n",
    "\"Establishments receiving a ‘pass’ were found to have no critical or serious violations (violation number 1-14 and 15-29, respectively). Establishments receiving a ‘pass with conditions’ were found to have critical or serious violations, but these were corrected during the inspection. Establishments receiving a ‘fail’ were found to have critical or serious violations that were not correctable during the inspection. An establishment receiving a ‘fail’ does not necessarily mean the establishment’s licensed is suspended. Establishments found to be out of business or not located are indicated as such\"."
   ]
  },
  {
   "cell_type": "code",
   "execution_count": 20,
   "metadata": {},
   "outputs": [
    {
     "data": {
      "text/plain": [
       "Pass                    19919\n",
       "Pass w/ Conditions      10023\n",
       "Fail                     8506\n",
       "Out of Business          3064\n",
       "No Entry                 2122\n",
       "Not Ready                1045\n",
       "Business Not Located        8\n",
       "Name: results, dtype: int64"
      ]
     },
     "execution_count": 20,
     "metadata": {},
     "output_type": "execute_result"
    }
   ],
   "source": [
    "food_data['results'].value_counts()"
   ]
  },
  {
   "cell_type": "code",
   "execution_count": 21,
   "metadata": {
    "scrolled": true
   },
   "outputs": [
    {
     "data": {
      "text/plain": [
       "Text(0.5, 1.0, 'Result of Inspections')"
      ]
     },
     "execution_count": 21,
     "metadata": {},
     "output_type": "execute_result"
    },
    {
     "data": {
      "image/png": "[encoded data removed]",
      "text/plain": [
       "<Figure size 864x360 with 1 Axes>"
      ]
     },
     "metadata": {
      "needs_background": "light"
     },
     "output_type": "display_data"
    }
   ],
   "source": [
    "ax = sns.countplot(x=\"results\", data=food_data)\n",
    "plt.title(\"Result of Inspections\")\n",
    "plt.show()"
   ]
  },
  {
   "cell_type": "markdown",
   "metadata": {},
   "source": [
    "### Let's convert results in to categorical variable first and the we will filter out non-relevant categories like 'Out of Business', 'Not Ready' and 'No Entry' facilities. "
   ]
  },
  {
   "cell_type": "code",
   "execution_count": 22,
   "metadata": {},
   "outputs": [
    {
     "name": "stdout",
     "output_type": "stream",
     "text": [
      "int64\n"
     ]
    }
   ],
   "source": [
    "results_conv = {\"results\" : {\"Fail\" : 0, \"Pass\" : 1, \"Pass w/ Conditions\" : 1, \"Out of Business\": 2, \"No Entry\": 3 , \"Not Ready\": 4, 'Business Not Located' : 5}}\n",
    "food_data.replace(results_conv, inplace=True)\n",
    "print(food_data.results.dtype)"
   ]
  },
  {
   "cell_type": "code",
   "execution_count": 23,
   "metadata": {},
   "outputs": [],
   "source": [
    "food_data = food_data[food_data['results'] < 2]"
   ]
  },
  {
   "cell_type": "code",
   "execution_count": 24,
   "metadata": {},
   "outputs": [
    {
     "data": {
      "text/plain": [
       "Text(0.5, 1.0, 'Result of Inspections')"
      ]
     },
     "execution_count": 24,
     "metadata": {},
     "output_type": "execute_result"
    },
    {
     "data": {
      "image/png": "[encoded data removed]",
      "text/plain": [
       "<Figure size 864x360 with 1 Axes>"
      ]
     },
     "metadata": {
      "needs_background": "light"
     },
     "output_type": "display_data"
    }
   ],
   "source": [
    "ax = sns.countplot(x=\"results\", data=food_data)\n",
    "plt.title(\"Result of Inspections\")\n",
    "plt.show()"
   ]
  },
  {
   "cell_type": "code",
   "execution_count": 25,
   "metadata": {},
   "outputs": [
    {
     "data": {
      "text/plain": [
       "Text(0.5, 1.0, 'Distribution of Critical Violations')"
      ]
     },
     "execution_count": 25,
     "metadata": {},
     "output_type": "execute_result"
    },
    {
     "data": {
      "image/png": "[encoded data removed]",
      "text/plain": [
       "<Figure size 864x360 with 1 Axes>"
      ]
     },
     "metadata": {
      "needs_background": "light"
     },
     "output_type": "display_data"
    }
   ],
   "source": [
    "ax = sns.countplot(x=\"critical_violations\", hue = 'results', data=food_data)\n",
    "plt.title(\"Distribution of Critical Violations\")\n",
    "plt.show()"
   ]
  },
  {
   "cell_type": "markdown",
   "metadata": {},
   "source": [
    "This clearly shows more the number of critical violations, more the failure rate.  "
   ]
  },
  {
   "cell_type": "code",
   "execution_count": 26,
   "metadata": {},
   "outputs": [
    {
     "data": {
      "text/plain": [
       "Text(0.5, 1.0, 'Distribution of Non Critical Violations')"
      ]
     },
     "execution_count": 26,
     "metadata": {},
     "output_type": "execute_result"
    },
    {
     "data": {
      "image/png": "[encoded data removed]",
      "text/plain": [
       "<Figure size 864x360 with 1 Axes>"
      ]
     },
     "metadata": {
      "needs_background": "light"
     },
     "output_type": "display_data"
    }
   ],
   "source": [
    "# how about non_critical_violations ? \n",
    "ax = sns.countplot(x=\"non_critical_violations\", hue = 'results', data=food_data)\n",
    "plt.title(\"Distribution of Non Critical Violations\")\n",
    "plt.show()"
   ]
  },
  {
   "cell_type": "code",
   "execution_count": 27,
   "metadata": {},
   "outputs": [
    {
     "data": {
      "text/plain": [
       "Text(0.5, 1.0, 'Distribution of Non Critical Violations')"
      ]
     },
     "execution_count": 27,
     "metadata": {},
     "output_type": "execute_result"
    },
    {
     "data": {
      "image/png": "[encoded data removed]",
      "text/plain": [
       "<Figure size 864x360 with 1 Axes>"
      ]
     },
     "metadata": {
      "needs_background": "light"
     },
     "output_type": "display_data"
    }
   ],
   "source": [
    "# how about non_critical_violations ? \n",
    "ax = sns.countplot(x=\"minor_violations\", hue = 'results', data=food_data)\n",
    "plt.title(\"Distribution of Non Critical Violations\")\n",
    "plt.show()"
   ]
  },
  {
   "cell_type": "markdown",
   "metadata": {},
   "source": [
    "###  Inspection type: \n",
    "According to the dataset description, an inspection can be of the following types:\n",
    "\n",
    "1) Canvass : The most common type of inspection performed at a frequency relative to the risk of the establishment\n",
    "\n",
    "2) Consultation: when the inspection is done at the request of the owner prior to the opening of the establishment\n",
    "\n",
    "3) Complaint: when the inspection is done in response to a complaint against the establishment\n",
    "\n",
    "4) license : when the inspection is done as a requirement for the establishment to receive its license to operate\n",
    "\n",
    "5) suspect food poisoning : when the inspection is done in response to one or more persons claiming to have gotten ill as a result of eating at the establishment (a specific type of complaint based inspection)\n",
    "\n",
    "6) Task-force inspection: when an inspection of a bar or tavern is done.\n",
    "\n",
    "7) Re-inspections:  Occurs for most types of these inspections and are indicated as such.pe\n",
    "\n"
   ]
  },
  {
   "cell_type": "code",
   "execution_count": 28,
   "metadata": {},
   "outputs": [
    {
     "data": {
      "text/plain": [
       "Canvass                                   18688\n",
       "License                                    5272\n",
       "Canvass Re-Inspection                      5171\n",
       "Complaint                                  4378\n",
       "Complaint Re-Inspection                    1834\n",
       "License Re-Inspection                      1808\n",
       "Short Form Complaint                        997\n",
       "Suspected Food Poisoning                    153\n",
       "Recent Inspection                           103\n",
       "Suspected Food Poisoning Re-inspection       28\n",
       "Consultation                                 11\n",
       "Non-Inspection                                4\n",
       "Recent inspection                             1\n",
       "Name: inspection_type, dtype: int64"
      ]
     },
     "execution_count": 28,
     "metadata": {},
     "output_type": "execute_result"
    }
   ],
   "source": [
    "food_data['inspection_type'].value_counts()"
   ]
  },
  {
   "cell_type": "markdown",
   "metadata": {},
   "source": [
    "#### A picture speaks thousands numbers, right ? Let's look at these numbers as count plots. "
   ]
  },
  {
   "cell_type": "code",
   "execution_count": 29,
   "metadata": {},
   "outputs": [
    {
     "data": {
      "text/plain": [
       "<Figure size 720x432 with 0 Axes>"
      ]
     },
     "execution_count": 29,
     "metadata": {},
     "output_type": "execute_result"
    },
    {
     "data": {
      "text/plain": [
       "Text(0.5, 1.0, 'Result of Inspections')"
      ]
     },
     "execution_count": 29,
     "metadata": {},
     "output_type": "execute_result"
    },
    {
     "data": {
      "image/png": "[encoded data removed]",
      "text/plain": [
       "<Figure size 720x432 with 1 Axes>"
      ]
     },
     "metadata": {
      "needs_background": "light"
     },
     "output_type": "display_data"
    }
   ],
   "source": [
    "plt.figure(figsize=(10, 6))\n",
    "ax = sns.countplot(y=\"inspection_type\", data=food_data)\n",
    "plt.title(\"Result of Inspections\")\n",
    "plt.show()"
   ]
  },
  {
   "cell_type": "markdown",
   "metadata": {},
   "source": [
    "#### Since our goal is here to model the failure in random canvas, we are going to focus on canvass inspections only. "
   ]
  },
  {
   "cell_type": "code",
   "execution_count": 30,
   "metadata": {},
   "outputs": [],
   "source": [
    "food_data = food_data[food_data['inspection_type'] == 'Canvass']"
   ]
  },
  {
   "cell_type": "code",
   "execution_count": 31,
   "metadata": {},
   "outputs": [],
   "source": [
    "#food_data = food_data[(food_data['results']== 1) | (food_data['results']== 2) ]"
   ]
  },
  {
   "cell_type": "code",
   "execution_count": 32,
   "metadata": {},
   "outputs": [
    {
     "name": "stdout",
     "output_type": "stream",
     "text": [
      "144 different types of food establishment facilities were inspected during the period and 1 different types of inpsections were conducted during the period.\n"
     ]
    }
   ],
   "source": [
    "print(\"%d different types of food establishment facilities were inspected during the period and %d different types of inpsections were conducted during the period.\"% \n",
    "(food_data['facility_type'].nunique(), food_data['inspection_type'].nunique()))"
   ]
  },
  {
   "cell_type": "code",
   "execution_count": 33,
   "metadata": {},
   "outputs": [
    {
     "data": {
      "text/plain": [
       "<Figure size 936x936 with 0 Axes>"
      ]
     },
     "execution_count": 33,
     "metadata": {},
     "output_type": "execute_result"
    },
    {
     "data": {
      "text/plain": [
       "Restaurant                         13071\n",
       "School                              2238\n",
       "Grocery Store                       1241\n",
       "Children's Services Facility         396\n",
       "Bakery                               261\n",
       "Long Term Care                       247\n",
       "Daycare Above and Under 2 Years      230\n",
       "Daycare (2 - 6 Years)                199\n",
       "Catering                             126\n",
       "Hospital                             100\n",
       "Name: facility_type, dtype: int64"
      ]
     },
     "execution_count": 33,
     "metadata": {},
     "output_type": "execute_result"
    },
    {
     "data": {
      "text/plain": [
       "<Figure size 936x936 with 0 Axes>"
      ]
     },
     "metadata": {},
     "output_type": "display_data"
    }
   ],
   "source": [
    "plt.figure(figsize=(13, 13))\n",
    "food_data['facility_type'].value_counts()[0:10]"
   ]
  },
  {
   "cell_type": "code",
   "execution_count": 34,
   "metadata": {},
   "outputs": [
    {
     "data": {
      "text/plain": [
       "Text(0.5, 1.0, 'Types of Facilities Inspected')"
      ]
     },
     "execution_count": 34,
     "metadata": {},
     "output_type": "execute_result"
    },
    {
     "data": {
      "image/png": "[encoded data removed]",
      "text/plain": [
       "<Figure size 864x360 with 1 Axes>"
      ]
     },
     "metadata": {
      "needs_background": "light"
     },
     "output_type": "display_data"
    }
   ],
   "source": [
    "# Setting anything other than Restaurants, Grocery store and School to other types\n",
    "ftype = lambda x: \"Other\" if x not in ['Restaurant', 'Grocery Store', 'School'] else x\n",
    "food_data['facility_type'] = food_data['facility_type'].map(ftype)\n",
    "ax = sns.countplot(y=\"facility_type\", data=food_data)\n",
    "plt.title(\"Types of Facilities Inspected\")\n",
    "plt.show()"
   ]
  },
  {
   "cell_type": "code",
   "execution_count": 35,
   "metadata": {},
   "outputs": [],
   "source": [
    "food_data = food_data[food_data['facility_type'] == 'Restaurant']"
   ]
  },
  {
   "cell_type": "code",
   "execution_count": 36,
   "metadata": {},
   "outputs": [],
   "source": [
    "#food_data = food_data.set_index(['inspection_date'])\n",
    "#food_data = food_data.sort_values(by=['inspection_date'], ascending=False)\n",
    "#food_data['time_since_last_inspection'] = food_data.groupby(['license'])['inspection_date'].shift(-1)\n",
    "#food_data[food_data['license'] == 28176]"
   ]
  },
  {
   "cell_type": "markdown",
   "metadata": {},
   "source": [
    "### Risk categories: \n",
    "    \n",
    "Each establishment is categorized as to its risk of adversely affecting the public’s health:\n",
    "\n",
    " 1: High\n",
    "\n",
    " 2: Medium \n",
    "\n",
    " 3: Low \n",
    "\n",
    "The frequency of inspection is tied to this risk, with risk 1 establishments inspected most frequently and risk 3 least frequently."
   ]
  },
  {
   "cell_type": "code",
   "execution_count": 37,
   "metadata": {},
   "outputs": [
    {
     "data": {
      "text/plain": [
       "Risk 1 (High)      11572\n",
       "Risk 2 (Medium)     1474\n",
       "Risk 3 (Low)          25\n",
       "Name: risk, dtype: int64"
      ]
     },
     "execution_count": 37,
     "metadata": {},
     "output_type": "execute_result"
    }
   ],
   "source": [
    "food_data['risk'].value_counts()[0:10]"
   ]
  },
  {
   "cell_type": "code",
   "execution_count": 38,
   "metadata": {},
   "outputs": [
    {
     "data": {
      "text/plain": [
       "<Figure size 864x576 with 0 Axes>"
      ]
     },
     "execution_count": 38,
     "metadata": {},
     "output_type": "execute_result"
    },
    {
     "data": {
      "text/plain": [
       "Text(0.5, 1.0, 'Risk')"
      ]
     },
     "execution_count": 38,
     "metadata": {},
     "output_type": "execute_result"
    },
    {
     "data": {
      "image/png": "[encoded data removed]",
      "text/plain": [
       "<Figure size 864x576 with 1 Axes>"
      ]
     },
     "metadata": {
      "needs_background": "light"
     },
     "output_type": "display_data"
    }
   ],
   "source": [
    "plt.figure(figsize=(12, 8))\n",
    "ax = sns.countplot(y=\"risk\", data=food_data)\n",
    "plt.title(\"Risk\")\n",
    "plt.show()"
   ]
  },
  {
   "cell_type": "markdown",
   "metadata": {},
   "source": [
    "## Label Encoding categorical variables:\n",
    "\n",
    "There are couple different ways of label encoding categorical variables.\n",
    "\n",
    "1) First method is to replace those variables with a dictionary involving key and value pairs of the variables to be encoded. \n",
    "\n",
    "2) Another method is to change their type as categorical variable. Let's convert inspection_type for example as as categorical variable. "
   ]
  },
  {
   "cell_type": "code",
   "execution_count": 39,
   "metadata": {},
   "outputs": [],
   "source": [
    "#food_data[\"inspection_type\"] = food_data[\"inspection_type\"].astype('category')\n",
    "food_data[\"facility_type\"] = food_data[\"facility_type\"].astype('category')\n",
    "food_data[\"risk\"] = food_data[\"risk\"].astype('category')\n",
    "#food_data[\"inspection_type_cat\"] = food_data[\"inspection_type\"].cat.codes\n",
    "food_data[\"facility_type_cat\"] = food_data[\"facility_type\"].cat.codes\n",
    "food_data[\"risk_type_cat\"] = food_data[\"risk\"].cat.codes"
   ]
  },
  {
   "cell_type": "code",
   "execution_count": 40,
   "metadata": {},
   "outputs": [
    {
     "data": {
      "text/plain": [
       "address                    0\n",
       "aka_name                   0\n",
       "dba_name                   0\n",
       "facility_type              0\n",
       "inspection_date            0\n",
       "inspection_id              0\n",
       "inspection_type            0\n",
       "latitude                   0\n",
       "license                    0\n",
       "longitude                  0\n",
       "results                    0\n",
       "risk                       0\n",
       "minor_violations           0\n",
       "non_critical_violations    0\n",
       "critical_violations        0\n",
       "facility_type_cat          0\n",
       "risk_type_cat              0\n",
       "dtype: int64"
      ]
     },
     "execution_count": 40,
     "metadata": {},
     "output_type": "execute_result"
    }
   ],
   "source": [
    "food_data.isna().sum()"
   ]
  },
  {
   "cell_type": "markdown",
   "metadata": {},
   "source": [
    "#### I want to see look these establishments in the map. For plotting, let's divide them into pass and fail data frames."
   ]
  },
  {
   "cell_type": "code",
   "execution_count": 41,
   "metadata": {},
   "outputs": [],
   "source": [
    "pass_inspection = food_data[(food_data['results']== 1)]\n",
    "fail_inspection = food_data[food_data['results']== 0]"
   ]
  },
  {
   "cell_type": "markdown",
   "metadata": {},
   "source": [
    "### Let's utilize plotly and mapbox to display these restaurants in a map:"
   ]
  },
  {
   "cell_type": "code",
   "execution_count": 42,
   "metadata": {},
   "outputs": [
    {
     "name": "stdout",
     "output_type": "stream",
     "text": [
      "High five! You successfully sent some data to your account on plotly. View your plot in your browser at https://plot.ly/~dipakrimal/0 or inside your plot.ly account where it is named 'Chicago'\n"
     ]
    },
    {
     "name": "stderr",
     "output_type": "stream",
     "text": [
      "/anaconda3/lib/python3.7/site-packages/IPython/core/display.py:689: UserWarning:\n",
      "\n",
      "Consider using IPython.display.IFrame instead\n",
      "\n"
     ]
    },
    {
     "data": {
      "text/html": [
       "<iframe id=\"igraph\" scrolling=\"no\" style=\"border:none;\" seamless=\"seamless\" src=\"https://plot.ly/~dipakrimal/0.embed\" height=\"800px\" width=\"600px\"></iframe>"
      ],
      "text/plain": [
       "<plotly.tools.PlotlyDisplay object>"
      ]
     },
     "execution_count": 42,
     "metadata": {},
     "output_type": "execute_result"
    }
   ],
   "source": [
    "import plotly.plotly as py\n",
    "import plotly.graph_objs as go\n",
    "import plotly\n",
    "plotly.tools.set_credentials_file(username='dipakrimal', api_key='0d7jgOoPDZTZV2J0l5u4')\n",
    "mapbox_access_token = \"pk.eyJ1IjoiZGlwYWtyaW1hbCIsImEiOiJjanR0NHp5Z3gxOGVtNGVsbHIxOGI3ZmV6In0.bmrI81LR7L441sUKqDeKmw\"\n",
    "\n",
    "data_pass = [\n",
    "    go.Scattermapbox(\n",
    "        lat=pass_inspection['latitude'],\n",
    "        lon=pass_inspection['longitude'],\n",
    "        mode='markers',\n",
    "        marker=go.scattermapbox.Marker(\n",
    "            size=12,\n",
    "            color='rgb(50, 200, 55)',\n",
    "            opacity=0.7\n",
    "        ),\n",
    "        text = pass_inspection['dba_name']  + ' <br> Pass ',\n",
    "        hoverinfo='text'\n",
    "    ),\n",
    "    go.Scattermapbox(\n",
    "        lat=fail_inspection['latitude'],\n",
    "        lon=fail_inspection['longitude'],\n",
    "        mode='markers',\n",
    "        marker=go.scattermapbox.Marker(\n",
    "            size=12, \n",
    "            color='rgb(255, 0, 0)',\n",
    "            opacity=0.7\n",
    "        ),\n",
    "         text = fail_inspection['dba_name'] + ' <br> Fail ',\n",
    "         hoverinfo='text'\n",
    "    )   \n",
    "]\n",
    "\n",
    "layout = go.Layout(\n",
    "    title = \"Chicago Food Insepections\",\n",
    "    width=600,\n",
    "    height=800,\n",
    "    showlegend=False,\n",
    "    hovermode='closest',\n",
    "    mapbox=go.layout.Mapbox(\n",
    "        accesstoken=mapbox_access_token,\n",
    "        bearing=0,\n",
    "        center=go.layout.mapbox.Center(\n",
    "            lat=41.9,\n",
    "            lon=-87.7\n",
    "        ),\n",
    "        pitch=10,\n",
    "        zoom=9,\n",
    "        style='outdoors'\n",
    "    ),\n",
    ")\n",
    "\n",
    "fig = go.Figure(data=data_pass, layout=layout)\n",
    "\n",
    "py.iplot(fig, filename='Chicago')"
   ]
  },
  {
   "cell_type": "code",
   "execution_count": 43,
   "metadata": {},
   "outputs": [
    {
     "name": "stdout",
     "output_type": "stream",
     "text": [
      "(13071, 17)\n"
     ]
    }
   ],
   "source": [
    "print(food_data.shape)"
   ]
  },
  {
   "cell_type": "code",
   "execution_count": 44,
   "metadata": {},
   "outputs": [
    {
     "data": {
      "text/html": [
       "<div>\n",
       "<style scoped>\n",
       "    .dataframe tbody tr th:only-of-type {\n",
       "        vertical-align: middle;\n",
       "    }\n",
       "\n",
       "    .dataframe tbody tr th {\n",
       "        vertical-align: top;\n",
       "    }\n",
       "\n",
       "    .dataframe thead th {\n",
       "        text-align: right;\n",
       "    }\n",
       "</style>\n",
       "<table border=\"1\" class=\"dataframe\">\n",
       "  <thead>\n",
       "    <tr style=\"text-align: right;\">\n",
       "      <th></th>\n",
       "      <th>address</th>\n",
       "      <th>aka_name</th>\n",
       "      <th>dba_name</th>\n",
       "      <th>facility_type</th>\n",
       "      <th>inspection_date</th>\n",
       "      <th>inspection_id</th>\n",
       "      <th>inspection_type</th>\n",
       "      <th>latitude</th>\n",
       "      <th>license</th>\n",
       "      <th>longitude</th>\n",
       "      <th>results</th>\n",
       "      <th>risk</th>\n",
       "      <th>minor_violations</th>\n",
       "      <th>non_critical_violations</th>\n",
       "      <th>critical_violations</th>\n",
       "      <th>facility_type_cat</th>\n",
       "      <th>risk_type_cat</th>\n",
       "    </tr>\n",
       "  </thead>\n",
       "  <tbody>\n",
       "    <tr>\n",
       "      <th>10</th>\n",
       "      <td>2000 W ROSCOE ST</td>\n",
       "      <td>COMMONWEALTH TAVEN</td>\n",
       "      <td>ROSCOE-DAMEN, CORP.</td>\n",
       "      <td>Restaurant</td>\n",
       "      <td>2017-01-03</td>\n",
       "      <td>1978836</td>\n",
       "      <td>Canvass</td>\n",
       "      <td>41.943325</td>\n",
       "      <td>2293828</td>\n",
       "      <td>-87.678514</td>\n",
       "      <td>1</td>\n",
       "      <td>Risk 1 (High)</td>\n",
       "      <td>1</td>\n",
       "      <td>0</td>\n",
       "      <td>2</td>\n",
       "      <td>0</td>\n",
       "      <td>0</td>\n",
       "    </tr>\n",
       "    <tr>\n",
       "      <th>100</th>\n",
       "      <td>619 N WABASH AVE</td>\n",
       "      <td>PIZZERIA DUE</td>\n",
       "      <td>PIZZERIA DUE</td>\n",
       "      <td>Restaurant</td>\n",
       "      <td>2017-01-04</td>\n",
       "      <td>1978927</td>\n",
       "      <td>Canvass</td>\n",
       "      <td>41.893185</td>\n",
       "      <td>1331225</td>\n",
       "      <td>-87.626610</td>\n",
       "      <td>1</td>\n",
       "      <td>Risk 1 (High)</td>\n",
       "      <td>0</td>\n",
       "      <td>0</td>\n",
       "      <td>2</td>\n",
       "      <td>0</td>\n",
       "      <td>0</td>\n",
       "    </tr>\n",
       "    <tr>\n",
       "      <th>10005</th>\n",
       "      <td>6059 N LINCOLN AVE</td>\n",
       "      <td>PANERA BREAD</td>\n",
       "      <td>PANERA BREAD</td>\n",
       "      <td>Restaurant</td>\n",
       "      <td>2017-06-13</td>\n",
       "      <td>2060177</td>\n",
       "      <td>Canvass</td>\n",
       "      <td>41.991919</td>\n",
       "      <td>1475890</td>\n",
       "      <td>-87.709631</td>\n",
       "      <td>0</td>\n",
       "      <td>Risk 1 (High)</td>\n",
       "      <td>0</td>\n",
       "      <td>1</td>\n",
       "      <td>3</td>\n",
       "      <td>0</td>\n",
       "      <td>0</td>\n",
       "    </tr>\n",
       "    <tr>\n",
       "      <th>10009</th>\n",
       "      <td>2406 W DIVERSEY AVE</td>\n",
       "      <td>GOLDEN NUGGET</td>\n",
       "      <td>ELSTON NUGGET INC</td>\n",
       "      <td>Restaurant</td>\n",
       "      <td>2017-06-13</td>\n",
       "      <td>2060170</td>\n",
       "      <td>Canvass</td>\n",
       "      <td>41.932281</td>\n",
       "      <td>37910</td>\n",
       "      <td>-87.688190</td>\n",
       "      <td>1</td>\n",
       "      <td>Risk 1 (High)</td>\n",
       "      <td>0</td>\n",
       "      <td>0</td>\n",
       "      <td>4</td>\n",
       "      <td>0</td>\n",
       "      <td>0</td>\n",
       "    </tr>\n",
       "    <tr>\n",
       "      <th>10010</th>\n",
       "      <td>2048 W ARMITAGE AVE</td>\n",
       "      <td>JACK AND GINGERS</td>\n",
       "      <td>JACK AND GINGERS</td>\n",
       "      <td>Restaurant</td>\n",
       "      <td>2017-06-13</td>\n",
       "      <td>2064232</td>\n",
       "      <td>Canvass</td>\n",
       "      <td>41.917830</td>\n",
       "      <td>1767508</td>\n",
       "      <td>-87.679531</td>\n",
       "      <td>1</td>\n",
       "      <td>Risk 1 (High)</td>\n",
       "      <td>0</td>\n",
       "      <td>0</td>\n",
       "      <td>4</td>\n",
       "      <td>0</td>\n",
       "      <td>0</td>\n",
       "    </tr>\n",
       "  </tbody>\n",
       "</table>\n",
       "</div>"
      ],
      "text/plain": [
       "                    address            aka_name             dba_name  \\\n",
       "10        2000 W ROSCOE ST   COMMONWEALTH TAVEN  ROSCOE-DAMEN, CORP.   \n",
       "100       619 N WABASH AVE         PIZZERIA DUE         PIZZERIA DUE   \n",
       "10005   6059 N LINCOLN AVE         PANERA BREAD         PANERA BREAD   \n",
       "10009  2406 W DIVERSEY AVE        GOLDEN NUGGET    ELSTON NUGGET INC   \n",
       "10010  2048 W ARMITAGE AVE     JACK AND GINGERS     JACK AND GINGERS   \n",
       "\n",
       "      facility_type inspection_date  inspection_id inspection_type   latitude  \\\n",
       "10       Restaurant      2017-01-03        1978836         Canvass  41.943325   \n",
       "100      Restaurant      2017-01-04        1978927         Canvass  41.893185   \n",
       "10005    Restaurant      2017-06-13        2060177         Canvass  41.991919   \n",
       "10009    Restaurant      2017-06-13        2060170         Canvass  41.932281   \n",
       "10010    Restaurant      2017-06-13        2064232         Canvass  41.917830   \n",
       "\n",
       "       license  longitude  results           risk  minor_violations  \\\n",
       "10     2293828 -87.678514        1  Risk 1 (High)                 1   \n",
       "100    1331225 -87.626610        1  Risk 1 (High)                 0   \n",
       "10005  1475890 -87.709631        0  Risk 1 (High)                 0   \n",
       "10009    37910 -87.688190        1  Risk 1 (High)                 0   \n",
       "10010  1767508 -87.679531        1  Risk 1 (High)                 0   \n",
       "\n",
       "       non_critical_violations  critical_violations  facility_type_cat  \\\n",
       "10                           0                    2                  0   \n",
       "100                          0                    2                  0   \n",
       "10005                        1                    3                  0   \n",
       "10009                        0                    4                  0   \n",
       "10010                        0                    4                  0   \n",
       "\n",
       "       risk_type_cat  \n",
       "10                 0  \n",
       "100                0  \n",
       "10005              0  \n",
       "10009              0  \n",
       "10010              0  "
      ]
     },
     "execution_count": 44,
     "metadata": {},
     "output_type": "execute_result"
    }
   ],
   "source": [
    "food_data.head(5)"
   ]
  },
  {
   "cell_type": "code",
   "execution_count": 45,
   "metadata": {},
   "outputs": [],
   "source": [
    "#df = food_data.groupby(['license'])"
   ]
  },
  {
   "cell_type": "code",
   "execution_count": null,
   "metadata": {},
   "outputs": [],
   "source": []
  },
  {
   "cell_type": "markdown",
   "metadata": {},
   "source": [
    "## Burglary Data\n",
    "Is there any connection with the crime and food inspection failures? May be ! For now, I am focusing on the burgalaries only. The burglary data is the chicago's crime data filtered for burgalaries only (in the same time window i.e. first 3 months of 2019). "
   ]
  },
  {
   "cell_type": "code",
   "execution_count": 46,
   "metadata": {},
   "outputs": [],
   "source": [
    "burglary = pd.read_json('../data/raw/burglary.json', convert_dates = ['date'])"
   ]
  },
  {
   "cell_type": "code",
   "execution_count": 47,
   "metadata": {},
   "outputs": [
    {
     "data": {
      "text/html": [
       "<div>\n",
       "<style scoped>\n",
       "    .dataframe tbody tr th:only-of-type {\n",
       "        vertical-align: middle;\n",
       "    }\n",
       "\n",
       "    .dataframe tbody tr th {\n",
       "        vertical-align: top;\n",
       "    }\n",
       "\n",
       "    .dataframe thead th {\n",
       "        text-align: right;\n",
       "    }\n",
       "</style>\n",
       "<table border=\"1\" class=\"dataframe\">\n",
       "  <thead>\n",
       "    <tr style=\"text-align: right;\">\n",
       "      <th></th>\n",
       "      <th>arrest</th>\n",
       "      <th>beat</th>\n",
       "      <th>block</th>\n",
       "      <th>case_number</th>\n",
       "      <th>community_area</th>\n",
       "      <th>date</th>\n",
       "      <th>description</th>\n",
       "      <th>district</th>\n",
       "      <th>domestic</th>\n",
       "      <th>fbi_code</th>\n",
       "      <th>id</th>\n",
       "      <th>iucr</th>\n",
       "      <th>latitude</th>\n",
       "      <th>location</th>\n",
       "      <th>location_address</th>\n",
       "      <th>location_city</th>\n",
       "      <th>location_description</th>\n",
       "      <th>location_state</th>\n",
       "      <th>location_zip</th>\n",
       "      <th>longitude</th>\n",
       "      <th>primary_type</th>\n",
       "      <th>updated_on</th>\n",
       "      <th>ward</th>\n",
       "      <th>x_coordinate</th>\n",
       "      <th>y_coordinate</th>\n",
       "      <th>year</th>\n",
       "    </tr>\n",
       "  </thead>\n",
       "  <tbody>\n",
       "    <tr>\n",
       "      <th>0</th>\n",
       "      <td>False</td>\n",
       "      <td>835</td>\n",
       "      <td>026XX W 79TH ST</td>\n",
       "      <td>JB147595</td>\n",
       "      <td>70</td>\n",
       "      <td>2017-03-28 14:00:00</td>\n",
       "      <td>UNLAWFUL ENTRY</td>\n",
       "      <td>8</td>\n",
       "      <td>False</td>\n",
       "      <td>5</td>\n",
       "      <td>11227583</td>\n",
       "      <td>620</td>\n",
       "      <td>NaN</td>\n",
       "      <td>None</td>\n",
       "      <td>None</td>\n",
       "      <td>None</td>\n",
       "      <td>OTHER</td>\n",
       "      <td>None</td>\n",
       "      <td>None</td>\n",
       "      <td>NaN</td>\n",
       "      <td>BURGLARY</td>\n",
       "      <td>2018-02-11T15:57:41.000</td>\n",
       "      <td>18</td>\n",
       "      <td>NaN</td>\n",
       "      <td>NaN</td>\n",
       "      <td>2017</td>\n",
       "    </tr>\n",
       "    <tr>\n",
       "      <th>1</th>\n",
       "      <td>False</td>\n",
       "      <td>511</td>\n",
       "      <td>102XX S EBERHART AVE</td>\n",
       "      <td>JB148941</td>\n",
       "      <td>49</td>\n",
       "      <td>2017-12-16 14:30:00</td>\n",
       "      <td>FORCIBLE ENTRY</td>\n",
       "      <td>5</td>\n",
       "      <td>False</td>\n",
       "      <td>5</td>\n",
       "      <td>11228565</td>\n",
       "      <td>610</td>\n",
       "      <td>NaN</td>\n",
       "      <td>None</td>\n",
       "      <td>None</td>\n",
       "      <td>None</td>\n",
       "      <td>VACANT LOT/LAND</td>\n",
       "      <td>None</td>\n",
       "      <td>None</td>\n",
       "      <td>NaN</td>\n",
       "      <td>BURGLARY</td>\n",
       "      <td>2018-02-12T15:49:14.000</td>\n",
       "      <td>9</td>\n",
       "      <td>NaN</td>\n",
       "      <td>NaN</td>\n",
       "      <td>2017</td>\n",
       "    </tr>\n",
       "    <tr>\n",
       "      <th>10</th>\n",
       "      <td>False</td>\n",
       "      <td>123</td>\n",
       "      <td>008XX S PLYMOUTH CT</td>\n",
       "      <td>JB161932</td>\n",
       "      <td>32</td>\n",
       "      <td>2017-10-01 08:00:00</td>\n",
       "      <td>UNLAWFUL ENTRY</td>\n",
       "      <td>1</td>\n",
       "      <td>False</td>\n",
       "      <td>5</td>\n",
       "      <td>11238020</td>\n",
       "      <td>620</td>\n",
       "      <td>NaN</td>\n",
       "      <td>None</td>\n",
       "      <td>None</td>\n",
       "      <td>None</td>\n",
       "      <td>APARTMENT</td>\n",
       "      <td>None</td>\n",
       "      <td>None</td>\n",
       "      <td>NaN</td>\n",
       "      <td>BURGLARY</td>\n",
       "      <td>2018-02-23T15:57:04.000</td>\n",
       "      <td>2</td>\n",
       "      <td>NaN</td>\n",
       "      <td>NaN</td>\n",
       "      <td>2017</td>\n",
       "    </tr>\n",
       "    <tr>\n",
       "      <th>100</th>\n",
       "      <td>False</td>\n",
       "      <td>424</td>\n",
       "      <td>090XX S HOUSTON AVE</td>\n",
       "      <td>JC221893</td>\n",
       "      <td>46</td>\n",
       "      <td>2018-08-01 10:00:00</td>\n",
       "      <td>FORCIBLE ENTRY</td>\n",
       "      <td>4</td>\n",
       "      <td>False</td>\n",
       "      <td>5</td>\n",
       "      <td>11653355</td>\n",
       "      <td>610</td>\n",
       "      <td>NaN</td>\n",
       "      <td>None</td>\n",
       "      <td>None</td>\n",
       "      <td>None</td>\n",
       "      <td>APARTMENT</td>\n",
       "      <td>None</td>\n",
       "      <td>None</td>\n",
       "      <td>NaN</td>\n",
       "      <td>BURGLARY</td>\n",
       "      <td>2019-04-13T16:01:56.000</td>\n",
       "      <td>10</td>\n",
       "      <td>NaN</td>\n",
       "      <td>NaN</td>\n",
       "      <td>2018</td>\n",
       "    </tr>\n",
       "    <tr>\n",
       "      <th>1000</th>\n",
       "      <td>False</td>\n",
       "      <td>513</td>\n",
       "      <td>107XX S CHAMPLAIN AVE</td>\n",
       "      <td>JA113654</td>\n",
       "      <td>50</td>\n",
       "      <td>2017-01-12 12:00:00</td>\n",
       "      <td>FORCIBLE ENTRY</td>\n",
       "      <td>5</td>\n",
       "      <td>False</td>\n",
       "      <td>5</td>\n",
       "      <td>10814288</td>\n",
       "      <td>610</td>\n",
       "      <td>41.699083</td>\n",
       "      <td>{'type': 'Point', 'coordinates': [-87.60733208...</td>\n",
       "      <td></td>\n",
       "      <td></td>\n",
       "      <td>RESIDENCE</td>\n",
       "      <td></td>\n",
       "      <td></td>\n",
       "      <td>-87.607332</td>\n",
       "      <td>BURGLARY</td>\n",
       "      <td>2018-02-10T15:50:01.000</td>\n",
       "      <td>9</td>\n",
       "      <td>1182514.0</td>\n",
       "      <td>1833773.0</td>\n",
       "      <td>2017</td>\n",
       "    </tr>\n",
       "  </tbody>\n",
       "</table>\n",
       "</div>"
      ],
      "text/plain": [
       "      arrest  beat                  block case_number  community_area  \\\n",
       "0      False   835        026XX W 79TH ST    JB147595              70   \n",
       "1      False   511   102XX S EBERHART AVE    JB148941              49   \n",
       "10     False   123    008XX S PLYMOUTH CT    JB161932              32   \n",
       "100    False   424    090XX S HOUSTON AVE    JC221893              46   \n",
       "1000   False   513  107XX S CHAMPLAIN AVE    JA113654              50   \n",
       "\n",
       "                    date     description  district  domestic  fbi_code  \\\n",
       "0    2017-03-28 14:00:00  UNLAWFUL ENTRY         8     False         5   \n",
       "1    2017-12-16 14:30:00  FORCIBLE ENTRY         5     False         5   \n",
       "10   2017-10-01 08:00:00  UNLAWFUL ENTRY         1     False         5   \n",
       "100  2018-08-01 10:00:00  FORCIBLE ENTRY         4     False         5   \n",
       "1000 2017-01-12 12:00:00  FORCIBLE ENTRY         5     False         5   \n",
       "\n",
       "            id  iucr   latitude  \\\n",
       "0     11227583   620        NaN   \n",
       "1     11228565   610        NaN   \n",
       "10    11238020   620        NaN   \n",
       "100   11653355   610        NaN   \n",
       "1000  10814288   610  41.699083   \n",
       "\n",
       "                                               location location_address  \\\n",
       "0                                                  None             None   \n",
       "1                                                  None             None   \n",
       "10                                                 None             None   \n",
       "100                                                None             None   \n",
       "1000  {'type': 'Point', 'coordinates': [-87.60733208...                    \n",
       "\n",
       "     location_city location_description location_state location_zip  \\\n",
       "0             None                OTHER           None         None   \n",
       "1             None      VACANT LOT/LAND           None         None   \n",
       "10            None            APARTMENT           None         None   \n",
       "100           None            APARTMENT           None         None   \n",
       "1000                          RESIDENCE                               \n",
       "\n",
       "      longitude primary_type               updated_on  ward  x_coordinate  \\\n",
       "0           NaN     BURGLARY  2018-02-11T15:57:41.000    18           NaN   \n",
       "1           NaN     BURGLARY  2018-02-12T15:49:14.000     9           NaN   \n",
       "10          NaN     BURGLARY  2018-02-23T15:57:04.000     2           NaN   \n",
       "100         NaN     BURGLARY  2019-04-13T16:01:56.000    10           NaN   \n",
       "1000 -87.607332     BURGLARY  2018-02-10T15:50:01.000     9     1182514.0   \n",
       "\n",
       "      y_coordinate  year  \n",
       "0              NaN  2017  \n",
       "1              NaN  2017  \n",
       "10             NaN  2017  \n",
       "100            NaN  2018  \n",
       "1000     1833773.0  2017  "
      ]
     },
     "execution_count": 47,
     "metadata": {},
     "output_type": "execute_result"
    }
   ],
   "source": [
    "burglary.head()"
   ]
  },
  {
   "cell_type": "code",
   "execution_count": 48,
   "metadata": {},
   "outputs": [],
   "source": [
    "shape = burglary.shape"
   ]
  },
  {
   "cell_type": "code",
   "execution_count": 49,
   "metadata": {},
   "outputs": [
    {
     "name": "stdout",
     "output_type": "stream",
     "text": [
      " There are 28171 rows and 26 columns in the data\n"
     ]
    }
   ],
   "source": [
    "print(\" There are %d rows and %d columns in the data\" % (shape[0], shape[1]))"
   ]
  },
  {
   "cell_type": "code",
   "execution_count": 50,
   "metadata": {},
   "outputs": [
    {
     "name": "stdout",
     "output_type": "stream",
     "text": [
      "<class 'pandas.core.frame.DataFrame'>\n",
      "Int64Index: 28171 entries, 0 to 9999\n",
      "Data columns (total 26 columns):\n",
      "arrest                  28171 non-null bool\n",
      "beat                    28171 non-null int64\n",
      "block                   28171 non-null object\n",
      "case_number             28171 non-null object\n",
      "community_area          28171 non-null int64\n",
      "date                    28171 non-null datetime64[ns]\n",
      "description             28171 non-null object\n",
      "district                28171 non-null int64\n",
      "domestic                28171 non-null bool\n",
      "fbi_code                28171 non-null int64\n",
      "id                      28171 non-null int64\n",
      "iucr                    28171 non-null int64\n",
      "latitude                28056 non-null float64\n",
      "location                28056 non-null object\n",
      "location_address        28056 non-null object\n",
      "location_city           28056 non-null object\n",
      "location_description    28170 non-null object\n",
      "location_state          28056 non-null object\n",
      "location_zip            28056 non-null object\n",
      "longitude               28056 non-null float64\n",
      "primary_type            28171 non-null object\n",
      "updated_on              28171 non-null object\n",
      "ward                    28171 non-null int64\n",
      "x_coordinate            28056 non-null float64\n",
      "y_coordinate            28056 non-null float64\n",
      "year                    28171 non-null int64\n",
      "dtypes: bool(2), datetime64[ns](1), float64(4), int64(8), object(11)\n",
      "memory usage: 5.4+ MB\n"
     ]
    }
   ],
   "source": [
    "burglary.info()"
   ]
  },
  {
   "cell_type": "code",
   "execution_count": 51,
   "metadata": {},
   "outputs": [
    {
     "data": {
      "text/plain": [
       "arrest                    0\n",
       "beat                      0\n",
       "block                     0\n",
       "case_number               0\n",
       "community_area            0\n",
       "date                      0\n",
       "description               0\n",
       "district                  0\n",
       "domestic                  0\n",
       "fbi_code                  0\n",
       "                       ... \n",
       "location_description      1\n",
       "location_state          115\n",
       "location_zip            115\n",
       "longitude               115\n",
       "primary_type              0\n",
       "updated_on                0\n",
       "ward                      0\n",
       "x_coordinate            115\n",
       "y_coordinate            115\n",
       "year                      0\n",
       "Length: 26, dtype: int64"
      ]
     },
     "execution_count": 51,
     "metadata": {},
     "output_type": "execute_result"
    }
   ],
   "source": [
    "burglary.isna().sum()"
   ]
  },
  {
   "cell_type": "code",
   "execution_count": 52,
   "metadata": {},
   "outputs": [],
   "source": [
    "burglary['latitude'].fillna(burglary['latitude'].mode()[0], inplace=True)\n",
    "burglary['longitude'].fillna(burglary['longitude'].mode()[0], inplace=True)"
   ]
  },
  {
   "cell_type": "code",
   "execution_count": 53,
   "metadata": {},
   "outputs": [],
   "source": [
    "#burglary.groupby('district')['case_number'].hist()"
   ]
  },
  {
   "cell_type": "code",
   "execution_count": 54,
   "metadata": {},
   "outputs": [],
   "source": [
    "#burglary.groupby('district')['ward'].count()"
   ]
  },
  {
   "cell_type": "code",
   "execution_count": 55,
   "metadata": {},
   "outputs": [
    {
     "data": {
      "text/plain": [
       "Text(0.5, 1.0, 'Burglaries by Ward')"
      ]
     },
     "execution_count": 55,
     "metadata": {},
     "output_type": "execute_result"
    },
    {
     "data": {
      "image/png": "[encoded data removed]",
      "text/plain": [
       "<Figure size 864x360 with 1 Axes>"
      ]
     },
     "metadata": {
      "needs_background": "light"
     },
     "output_type": "display_data"
    }
   ],
   "source": [
    "ax = sns.countplot(x=\"ward\", data=burglary)\n",
    "plt.title(\"Burglaries by Ward\")\n",
    "plt.show()"
   ]
  },
  {
   "cell_type": "markdown",
   "metadata": {},
   "source": [
    "####  This is just a placeholder to associate these wards on the map, not the correct map yet. I am trying to make a similar map to show burglary statistics.  ![title](chicago_ward.jpg)"
   ]
  },
  {
   "cell_type": "code",
   "execution_count": 56,
   "metadata": {},
   "outputs": [],
   "source": [
    "burglary_per_day = pd.DataFrame()\n",
    "burglary_per_day =  burglary[['date', 'case_number']]\n",
    "burglary_per_day = burglary_per_day.set_index(pd.to_datetime(burglary_per_day['date']))\n",
    "burglary_per_day = burglary_per_day.resample('D').count()"
   ]
  },
  {
   "cell_type": "code",
   "execution_count": 57,
   "metadata": {},
   "outputs": [
    {
     "data": {
      "text/plain": [
       "[<matplotlib.lines.Line2D at 0x1a371fd400>,\n",
       " <matplotlib.lines.Line2D at 0x1a371fd7f0>]"
      ]
     },
     "execution_count": 57,
     "metadata": {},
     "output_type": "execute_result"
    },
    {
     "data": {
      "text/plain": [
       "Text(0.5, 0, 'Date')"
      ]
     },
     "execution_count": 57,
     "metadata": {},
     "output_type": "execute_result"
    },
    {
     "data": {
      "text/plain": [
       "Text(0, 0.5, 'Number of Cases Reported')"
      ]
     },
     "execution_count": 57,
     "metadata": {},
     "output_type": "execute_result"
    },
    {
     "data": {
      "text/plain": [
       "Text(0.5, 1.0, 'Burglaries Reported')"
      ]
     },
     "execution_count": 57,
     "metadata": {},
     "output_type": "execute_result"
    },
    {
     "data": {
      "image/png": "[encoded data removed]",
      "text/plain": [
       "<Figure size 864x360 with 1 Axes>"
      ]
     },
     "metadata": {
      "needs_background": "light"
     },
     "output_type": "display_data"
    }
   ],
   "source": [
    "plt.rcParams['figure.figsize'] = 12,5\n",
    "fig, ax = plt.subplots()\n",
    "fig.autofmt_xdate()\n",
    "#\n",
    "ax.xaxis.set_major_locator(mdates.MonthLocator())\n",
    "ax.xaxis.set_minor_locator(mdates.DayLocator())\n",
    "monthFmt = mdates.DateFormatter('%Y-%b')\n",
    "ax.xaxis.set_major_formatter(monthFmt)\n",
    "\n",
    "plt.plot(burglary_per_day.index, burglary_per_day, 'r-')\n",
    "plt.xlabel('Date')\n",
    "plt.ylabel('Number of Cases Reported')\n",
    "plt.title('Burglaries Reported')\n",
    "plt.show()"
   ]
  },
  {
   "cell_type": "markdown",
   "metadata": {},
   "source": []
  },
  {
   "cell_type": "code",
   "execution_count": 58,
   "metadata": {
    "scrolled": true
   },
   "outputs": [
    {
     "data": {
      "text/plain": [
       "'\\nimport plotly.plotly as py\\nimport plotly.figure_factory as ff\\nimport numpy as np\\nimport pandas as pd\\n\\naggs = [\"count\"]\\nagg = []\\nagg_func = []\\nfor i in range(0, len(aggs)):\\n    agg = dict(\\n        args=[\\'transforms[0].aggregations[0].func\\', aggs[i]],\\n        label=aggs[i],\\n        method=\\'restyle\\'\\n    )\\n    agg_func.append(agg)\\n\\n\\ncolorscale = [\\n    \\'rgb(193, 193, 193)\\',\\n    \\'rgb(239,239,239)\\',\\n    \\'rgb(195, 196, 222)\\',\\n    \\'rgb(144,148,194)\\',\\n    \\'rgb(101,104,168)\\',\\n    \\'rgb(65, 53, 132)\\'\\n]\\n\\nfig = ff.create_choropleth(\\n    fips=fips, values=values, scope=[\\'IL\\'],\\n    binning_endpoints=[14348, 63983, 134827, 426762, 2081313], colorscale=colorscale,\\n    county_outline={\\'color\\': \\'rgb(255,255,255)\\', \\'width\\': 0.5}, round_legend_values=True,\\n    legend_title=\\'Crimes by Ward\\', title=\\'Chicago IL\\'\\n)\\npy.iplot(fig, filename=\\'choropleth_crimes_by_ward_chicago\\')\\n'"
      ]
     },
     "execution_count": 58,
     "metadata": {},
     "output_type": "execute_result"
    }
   ],
   "source": [
    "'''\n",
    "import plotly.plotly as py\n",
    "import plotly.figure_factory as ff\n",
    "import numpy as np\n",
    "import pandas as pd\n",
    "\n",
    "aggs = [\"count\"]\n",
    "agg = []\n",
    "agg_func = []\n",
    "for i in range(0, len(aggs)):\n",
    "    agg = dict(\n",
    "        args=['transforms[0].aggregations[0].func', aggs[i]],\n",
    "        label=aggs[i],\n",
    "        method='restyle'\n",
    "    )\n",
    "    agg_func.append(agg)\n",
    "\n",
    "\n",
    "colorscale = [\n",
    "    'rgb(193, 193, 193)',\n",
    "    'rgb(239,239,239)',\n",
    "    'rgb(195, 196, 222)',\n",
    "    'rgb(144,148,194)',\n",
    "    'rgb(101,104,168)',\n",
    "    'rgb(65, 53, 132)'\n",
    "]\n",
    "\n",
    "fig = ff.create_choropleth(\n",
    "    fips=fips, values=values, scope=['IL'],\n",
    "    binning_endpoints=[14348, 63983, 134827, 426762, 2081313], colorscale=colorscale,\n",
    "    county_outline={'color': 'rgb(255,255,255)', 'width': 0.5}, round_legend_values=True,\n",
    "    legend_title='Crimes by Ward', title='Chicago IL'\n",
    ")\n",
    "py.iplot(fig, filename='choropleth_crimes_by_ward_chicago')\n",
    "'''"
   ]
  },
  {
   "cell_type": "code",
   "execution_count": 59,
   "metadata": {},
   "outputs": [],
   "source": [
    "#burglary['date'] = burglary['date'].dt.date"
   ]
  },
  {
   "cell_type": "markdown",
   "metadata": {},
   "source": [
    "\n",
    "## Business License\n",
    "Data from business licenses. This will help us looking into licensing situation of the business whether there is tobaco/alcohol liscences or how that is related to the inspection failure. or may help answer if the businesses are more cleaner when they are close to duedate for license renewal?  "
   ]
  },
  {
   "cell_type": "code",
   "execution_count": 60,
   "metadata": {},
   "outputs": [],
   "source": [
    "#business = pd.read_csv('../data/raw/Business_Licenses.csv', parse_dates=['LICENSE TERM START DATE'])\n",
    "#business.head(2)\n",
    "#business.info()\n",
    "#date_window = pd.to_datetime('05/01/2016')\n",
    "#business = business[business['LICENSE TERM START DATE'] > date_window]\n",
    "#business.to_csv(\"../data/processed/business_license_termstart_gt_2016-05-01.csv\")"
   ]
  },
  {
   "cell_type": "code",
   "execution_count": 61,
   "metadata": {},
   "outputs": [],
   "source": [
    "date_cols =  ['APPLICATION CREATED DATE', 'LICENSE STATUS CHANGE DATE', 'PAYMENT DATE', 'LICENSE TERM START DATE','LICENSE TERM EXPIRATION DATE' , 'DATE ISSUED']\n",
    "business = pd.read_csv('../data/processed/business_license_termstart_gt_2016-05-01.csv', parse_dates=date_cols)"
   ]
  },
  {
   "cell_type": "code",
   "execution_count": 62,
   "metadata": {},
   "outputs": [
    {
     "data": {
      "text/plain": [
       "Text(0.5, 1.0, 'Application Types')"
      ]
     },
     "execution_count": 62,
     "metadata": {},
     "output_type": "execute_result"
    },
    {
     "data": {
      "image/png": "[encoded data removed]",
      "text/plain": [
       "<Figure size 864x360 with 1 Axes>"
      ]
     },
     "metadata": {
      "needs_background": "light"
     },
     "output_type": "display_data"
    }
   ],
   "source": [
    "ax = sns.countplot(x=\"APPLICATION TYPE\", data=business)\n",
    "plt.title(\"Application Types\")\n",
    "plt.show()"
   ]
  },
  {
   "cell_type": "markdown",
   "metadata": {},
   "source": [
    "APPLICATION TYPE: ‘ISSUE’ is the record associated with the initial license application. ‘RENEW’ is a subsequent renewal record. All renewal records are created with a term start date and term expiration date. ‘C_LOC’ is a change of location record. It means the business moved. ‘C_CAPA’ is a change of capacity record. Only a few license types may file this type of application. ‘C_EXPA’ only applies to businesses that have liquor licenses. It means the business location expanded.\n",
    "\n",
    "\n",
    "LICENSE STATUS: ‘AAI’ means the license was issued. ‘AAC’ means the license was cancelled during its term.‘REV’means the license was revoked. ‘REA’means the license revocation has been appealed.\n",
    "\n",
    "LICENSE STATUS CHANGE DATE: This date corresponds to the date a license was cancelled (AAC), revoked (REV) or appealed (REA)."
   ]
  },
  {
   "cell_type": "code",
   "execution_count": 63,
   "metadata": {},
   "outputs": [
    {
     "name": "stdout",
     "output_type": "stream",
     "text": [
      "<class 'pandas.core.frame.DataFrame'>\n",
      "RangeIndex: 102062 entries, 0 to 102061\n",
      "Data columns (total 35 columns):\n",
      "Unnamed: 0                           102062 non-null int64\n",
      "ID                                   102062 non-null object\n",
      "LICENSE ID                           102062 non-null int64\n",
      "ACCOUNT NUMBER                       102062 non-null int64\n",
      "SITE NUMBER                          102062 non-null int64\n",
      "LEGAL NAME                           102061 non-null object\n",
      "DOING BUSINESS AS NAME               102011 non-null object\n",
      "ADDRESS                              102062 non-null object\n",
      "CITY                                 102060 non-null object\n",
      "STATE                                102061 non-null object\n",
      "ZIP CODE                             101899 non-null object\n",
      "WARD                                 93601 non-null float64\n",
      "PRECINCT                             83338 non-null float64\n",
      "WARD PRECINCT                        93606 non-null object\n",
      "POLICE DISTRICT                      83973 non-null float64\n",
      "LICENSE CODE                         102062 non-null int64\n",
      "LICENSE DESCRIPTION                  102062 non-null object\n",
      "BUSINESS ACTIVITY ID                 89109 non-null object\n",
      "BUSINESS ACTIVITY                    89109 non-null object\n",
      "LICENSE NUMBER                       102062 non-null float64\n",
      "APPLICATION TYPE                     102062 non-null object\n",
      "APPLICATION CREATED DATE             27851 non-null datetime64[ns]\n",
      "APPLICATION REQUIREMENTS COMPLETE    101355 non-null object\n",
      "PAYMENT DATE                         100980 non-null datetime64[ns]\n",
      "CONDITIONAL APPROVAL                 102062 non-null object\n",
      "LICENSE TERM START DATE              102062 non-null datetime64[ns]\n",
      "LICENSE TERM EXPIRATION DATE         102047 non-null datetime64[ns]\n",
      "LICENSE APPROVED FOR ISSUANCE        99015 non-null object\n",
      "DATE ISSUED                          102062 non-null datetime64[ns]\n",
      "LICENSE STATUS                       102062 non-null object\n",
      "LICENSE STATUS CHANGE DATE           4168 non-null datetime64[ns]\n",
      "SSA                                  25527 non-null float64\n",
      "LATITUDE                             91850 non-null float64\n",
      "LONGITUDE                            91850 non-null float64\n",
      "LOCATION                             91850 non-null object\n",
      "dtypes: datetime64[ns](6), float64(7), int64(5), object(17)\n",
      "memory usage: 27.3+ MB\n"
     ]
    }
   ],
   "source": [
    "business.info()"
   ]
  },
  {
   "cell_type": "code",
   "execution_count": 64,
   "metadata": {
    "scrolled": true
   },
   "outputs": [
    {
     "name": "stdout",
     "output_type": "stream",
     "text": [
      "{'LICENSE DESCRIPTION': 'license_description', 'ID': 'id', 'BUSINESS ACTIVITY ID': 'business_activity_id', 'LICENSE CODE': 'license_code', 'LICENSE NUMBER': 'license_number', 'CONDITIONAL APPROVAL': 'conditional_approval', 'APPLICATION TYPE': 'application_type', 'LICENSE TERM EXPIRATION DATE': 'license_term_expiration_date', 'LICENSE TERM START DATE': 'license_term_start_date', 'APPLICATION REQUIREMENTS COMPLETE': 'application_requirements_complete', 'BUSINESS ACTIVITY': 'business_activity', 'DATE ISSUED': 'date_issued', 'LICENSE STATUS CHANGE DATE': 'license_status_change_date'}\n",
      "76909\n"
     ]
    }
   ],
   "source": [
    "columns_to_take = ['LICENSE DESCRIPTION', 'ID', 'BUSINESS ACTIVITY ID', 'LICENSE CODE', 'LICENSE NUMBER', 'CONDITIONAL APPROVAL', 'APPLICATION TYPE', 'LICENSE TERM EXPIRATION DATE', 'LICENSE TERM START DATE', 'APPLICATION REQUIREMENTS COMPLETE','CONDITIONAL APPROVAL', 'BUSINESS ACTIVITY', 'DATE ISSUED', 'LICENSE STATUS CHANGE DATE' ]\n",
    "business = business[columns_to_take]\n",
    "column_dict = {}\n",
    "for column in columns_to_take:\n",
    "    column_dict[column] = column.lower().replace(' ', '_')\n",
    "print(column_dict)\n",
    "business.rename(columns= column_dict, inplace=True)\n",
    "print(business['license_number'].nunique())\n",
    "#food_business = pd.merge(left=food_data,right=business, left_on='license', right_on='LICENSE NUMBER')"
   ]
  },
  {
   "cell_type": "code",
   "execution_count": 65,
   "metadata": {},
   "outputs": [],
   "source": [
    "business['license_number'] = business['license_number'].astype(int)\n",
    "cond_approval = {\"conditional_approval\" : {\"N\" : 0, \"Y\" : 1}}\n",
    "business.replace(cond_approval, inplace=True)"
   ]
  },
  {
   "cell_type": "code",
   "execution_count": 66,
   "metadata": {},
   "outputs": [],
   "source": [
    "business = business.loc[:,~business.columns.duplicated()]\n",
    "food_business = pd.merge(left=food_data,right=business, left_on='license', right_on='license_number')"
   ]
  },
  {
   "cell_type": "code",
   "execution_count": 67,
   "metadata": {},
   "outputs": [
    {
     "data": {
      "text/plain": [
       "1006    18276\n",
       "1480       22\n",
       "4404       22\n",
       "1475        5\n",
       "1470        1\n",
       "8344        1\n",
       "1329        1\n",
       "Name: license_code, dtype: int64"
      ]
     },
     "execution_count": 67,
     "metadata": {},
     "output_type": "execute_result"
    }
   ],
   "source": [
    "food_business.license_code.value_counts()"
   ]
  },
  {
   "cell_type": "code",
   "execution_count": null,
   "metadata": {},
   "outputs": [],
   "source": []
  },
  {
   "cell_type": "code",
   "execution_count": 68,
   "metadata": {},
   "outputs": [],
   "source": [
    "food_business['HasAlcoholLicense'] = food_business['license_description'].str.lower().str.contains('alcohol')\n",
    "food_business['HasTobaccoLicense'] = food_business['license_description'].str.lower().str.contains('tobacco')"
   ]
  },
  {
   "cell_type": "code",
   "execution_count": 69,
   "metadata": {},
   "outputs": [
    {
     "data": {
      "text/plain": [
       "Text(0.5, 1.0, 'Result')"
      ]
     },
     "execution_count": 69,
     "metadata": {},
     "output_type": "execute_result"
    },
    {
     "data": {
      "image/png": "[encoded data removed]",
      "text/plain": [
       "<Figure size 864x360 with 1 Axes>"
      ]
     },
     "metadata": {
      "needs_background": "light"
     },
     "output_type": "display_data"
    }
   ],
   "source": [
    "ax=sns.countplot(x='results', hue='HasAlcoholLicense', data=food_business)\n",
    "plt.title(\"Result\")\n",
    "plt.show()"
   ]
  },
  {
   "cell_type": "code",
   "execution_count": 70,
   "metadata": {},
   "outputs": [
    {
     "data": {
      "text/plain": [
       "775                      11435\n",
       "735                       3971\n",
       "781                       1822\n",
       "782                        663\n",
       "736                         45\n",
       "781 | 735                   37\n",
       "781 | 767                   31\n",
       "767 | 735                   27\n",
       "868                         22\n",
       "767 | 781                   18\n",
       "                         ...  \n",
       "904 | 736 | 767 | 775        1\n",
       "735 | 602                    1\n",
       "829                          1\n",
       "767 | 904 | 775              1\n",
       "781 | 766 | 767              1\n",
       "775 | 767 | 736              1\n",
       "767 | 736                    1\n",
       "735 | 775 | 904 | 767        1\n",
       "781 | 602                    1\n",
       "766 | 781 | 767              1\n",
       "Name: business_activity_id, Length: 83, dtype: int64"
      ]
     },
     "execution_count": 70,
     "metadata": {},
     "output_type": "execute_result"
    }
   ],
   "source": [
    "food_business.business_activity_id.value_counts()"
   ]
  },
  {
   "cell_type": "code",
   "execution_count": 71,
   "metadata": {},
   "outputs": [
    {
     "data": {
      "text/plain": [
       "Index(['address', 'aka_name', 'dba_name', 'facility_type', 'inspection_date',\n",
       "       'inspection_id', 'inspection_type', 'latitude', 'license', 'longitude',\n",
       "       'results', 'risk', 'minor_violations', 'non_critical_violations',\n",
       "       'critical_violations', 'facility_type_cat', 'risk_type_cat',\n",
       "       'license_description', 'id', 'business_activity_id', 'license_code',\n",
       "       'license_number', 'conditional_approval', 'application_type',\n",
       "       'license_term_expiration_date', 'license_term_start_date',\n",
       "       'application_requirements_complete', 'business_activity', 'date_issued',\n",
       "       'license_status_change_date', 'HasAlcoholLicense', 'HasTobaccoLicense'],\n",
       "      dtype='object')"
      ]
     },
     "execution_count": 71,
     "metadata": {},
     "output_type": "execute_result"
    }
   ],
   "source": [
    "food_business.columns"
   ]
  },
  {
   "cell_type": "code",
   "execution_count": 72,
   "metadata": {},
   "outputs": [
    {
     "data": {
      "text/plain": [
       "Text(0.5, 1.0, 'Result')"
      ]
     },
     "execution_count": 72,
     "metadata": {},
     "output_type": "execute_result"
    },
    {
     "data": {
      "image/png": "[encoded data removed]",
      "text/plain": [
       "<Figure size 864x360 with 1 Axes>"
      ]
     },
     "metadata": {
      "needs_background": "light"
     },
     "output_type": "display_data"
    }
   ],
   "source": [
    "ax = sns.countplot(x='results', hue=\"HasTobaccoLicense\", data=food_business)\n",
    "plt.title(\"Result\")\n",
    "plt.show()"
   ]
  },
  {
   "cell_type": "markdown",
   "metadata": {},
   "source": [
    "Now I want to merge the inspection and business data frames. we can do inner join on license number from inspection data and License ID from business data."
   ]
  },
  {
   "cell_type": "code",
   "execution_count": 73,
   "metadata": {},
   "outputs": [
    {
     "data": {
      "text/plain": [
       "(18328, 32)"
      ]
     },
     "execution_count": 73,
     "metadata": {},
     "output_type": "execute_result"
    }
   ],
   "source": [
    "food_business.shape"
   ]
  },
  {
   "cell_type": "code",
   "execution_count": 74,
   "metadata": {},
   "outputs": [
    {
     "data": {
      "text/plain": [
       "False    18328\n",
       "Name: HasTobaccoLicense, dtype: int64"
      ]
     },
     "execution_count": 74,
     "metadata": {},
     "output_type": "execute_result"
    }
   ],
   "source": [
    "#food_business['HasAlcoholLicense'].value_counts()\n",
    "food_business['HasTobaccoLicense'].value_counts()"
   ]
  },
  {
   "cell_type": "code",
   "execution_count": 75,
   "metadata": {},
   "outputs": [
    {
     "data": {
      "text/plain": [
       "False    18328\n",
       "Name: HasAlcoholLicense, dtype: int64"
      ]
     },
     "execution_count": 75,
     "metadata": {},
     "output_type": "execute_result"
    }
   ],
   "source": [
    "food_business['HasAlcoholLicense'].value_counts()"
   ]
  },
  {
   "cell_type": "code",
   "execution_count": 76,
   "metadata": {},
   "outputs": [],
   "source": [
    "#food_data['facility_type'].value_counts()"
   ]
  },
  {
   "cell_type": "markdown",
   "metadata": {},
   "source": [
    "## Garbage and Sanitation From (311 complaints)\n",
    "Is there trash/garbage/sanitation/rodents etc complaints in the neighborhood or how that affects the outcome of the inspection. "
   ]
  },
  {
   "cell_type": "code",
   "execution_count": 77,
   "metadata": {
    "scrolled": true
   },
   "outputs": [
    {
     "data": {
      "text/html": [
       "<div>\n",
       "<style scoped>\n",
       "    .dataframe tbody tr th:only-of-type {\n",
       "        vertical-align: middle;\n",
       "    }\n",
       "\n",
       "    .dataframe tbody tr th {\n",
       "        vertical-align: top;\n",
       "    }\n",
       "\n",
       "    .dataframe thead th {\n",
       "        text-align: right;\n",
       "    }\n",
       "</style>\n",
       "<table border=\"1\" class=\"dataframe\">\n",
       "  <thead>\n",
       "    <tr style=\"text-align: right;\">\n",
       "      <th></th>\n",
       "      <th>city</th>\n",
       "      <th>closed_date</th>\n",
       "      <th>community_area</th>\n",
       "      <th>created_date</th>\n",
       "      <th>created_day_of_week</th>\n",
       "      <th>created_hour</th>\n",
       "      <th>created_month</th>\n",
       "      <th>duplicate</th>\n",
       "      <th>electrical_district</th>\n",
       "      <th>electricity_grid</th>\n",
       "      <th>last_modified_date</th>\n",
       "      <th>latitude</th>\n",
       "      <th>legacy_record</th>\n",
       "      <th>legacy_sr_number</th>\n",
       "      <th>location</th>\n",
       "      <th>...</th>\n",
       "      <th>sanitation_division_days</th>\n",
       "      <th>sr_number</th>\n",
       "      <th>sr_short_code</th>\n",
       "      <th>sr_type</th>\n",
       "      <th>state</th>\n",
       "      <th>status</th>\n",
       "      <th>street_address</th>\n",
       "      <th>street_direction</th>\n",
       "      <th>street_name</th>\n",
       "      <th>street_number</th>\n",
       "      <th>street_type</th>\n",
       "      <th>ward</th>\n",
       "      <th>x_coordinate</th>\n",
       "      <th>y_coordinate</th>\n",
       "      <th>zip_code</th>\n",
       "    </tr>\n",
       "  </thead>\n",
       "  <tbody>\n",
       "    <tr>\n",
       "      <th>0</th>\n",
       "      <td>None</td>\n",
       "      <td>None</td>\n",
       "      <td>NaN</td>\n",
       "      <td>2019-03-13 14:10:42</td>\n",
       "      <td>4</td>\n",
       "      <td>14</td>\n",
       "      <td>3</td>\n",
       "      <td>False</td>\n",
       "      <td>NaN</td>\n",
       "      <td>None</td>\n",
       "      <td>2019-03-13 18:30:17</td>\n",
       "      <td>NaN</td>\n",
       "      <td>False</td>\n",
       "      <td>None</td>\n",
       "      <td>None</td>\n",
       "      <td>...</td>\n",
       "      <td>None</td>\n",
       "      <td>SR19-01152326</td>\n",
       "      <td>CHECKFOR</td>\n",
       "      <td>Sewer Cleaning Inspection Request</td>\n",
       "      <td>None</td>\n",
       "      <td>Open</td>\n",
       "      <td>1510 S Lincoln ST</td>\n",
       "      <td>S</td>\n",
       "      <td>Lincoln</td>\n",
       "      <td>1510</td>\n",
       "      <td>ST</td>\n",
       "      <td>NaN</td>\n",
       "      <td>NaN</td>\n",
       "      <td>NaN</td>\n",
       "      <td>60064</td>\n",
       "    </tr>\n",
       "    <tr>\n",
       "      <th>1</th>\n",
       "      <td>None</td>\n",
       "      <td>2019-03-14T06:24:00.000</td>\n",
       "      <td>NaN</td>\n",
       "      <td>2019-03-05 17:03:18</td>\n",
       "      <td>3</td>\n",
       "      <td>17</td>\n",
       "      <td>3</td>\n",
       "      <td>False</td>\n",
       "      <td>NaN</td>\n",
       "      <td>None</td>\n",
       "      <td>2019-03-14 06:24:00</td>\n",
       "      <td>NaN</td>\n",
       "      <td>False</td>\n",
       "      <td>None</td>\n",
       "      <td>None</td>\n",
       "      <td>...</td>\n",
       "      <td>None</td>\n",
       "      <td>SR19-01111514</td>\n",
       "      <td>SIE</td>\n",
       "      <td>Garbage Cart Maintenance</td>\n",
       "      <td>None</td>\n",
       "      <td>Completed</td>\n",
       "      <td>S aVENUE c AVE</td>\n",
       "      <td>S</td>\n",
       "      <td>aVENUE c</td>\n",
       "      <td>None</td>\n",
       "      <td>AVE</td>\n",
       "      <td>NaN</td>\n",
       "      <td>NaN</td>\n",
       "      <td>NaN</td>\n",
       "      <td>None</td>\n",
       "    </tr>\n",
       "    <tr>\n",
       "      <th>10</th>\n",
       "      <td>None</td>\n",
       "      <td>2019-03-10T22:21:42.000</td>\n",
       "      <td>NaN</td>\n",
       "      <td>2019-03-10 13:43:11</td>\n",
       "      <td>1</td>\n",
       "      <td>13</td>\n",
       "      <td>3</td>\n",
       "      <td>False</td>\n",
       "      <td>NaN</td>\n",
       "      <td>None</td>\n",
       "      <td>2019-03-10 22:21:42</td>\n",
       "      <td>NaN</td>\n",
       "      <td>False</td>\n",
       "      <td>None</td>\n",
       "      <td>None</td>\n",
       "      <td>...</td>\n",
       "      <td>None</td>\n",
       "      <td>SR19-01134128</td>\n",
       "      <td>CHECKFOR</td>\n",
       "      <td>Sewer Cleaning Inspection Request</td>\n",
       "      <td>None</td>\n",
       "      <td>Completed</td>\n",
       "      <td>None</td>\n",
       "      <td>None</td>\n",
       "      <td>None</td>\n",
       "      <td>None</td>\n",
       "      <td>None</td>\n",
       "      <td>NaN</td>\n",
       "      <td>NaN</td>\n",
       "      <td>NaN</td>\n",
       "      <td>None</td>\n",
       "    </tr>\n",
       "  </tbody>\n",
       "</table>\n",
       "<p>3 rows × 41 columns</p>\n",
       "</div>"
      ],
      "text/plain": [
       "    city              closed_date  community_area        created_date  \\\n",
       "0   None                     None             NaN 2019-03-13 14:10:42   \n",
       "1   None  2019-03-14T06:24:00.000             NaN 2019-03-05 17:03:18   \n",
       "10  None  2019-03-10T22:21:42.000             NaN 2019-03-10 13:43:11   \n",
       "\n",
       "    created_day_of_week  created_hour  created_month  duplicate  \\\n",
       "0                     4            14              3      False   \n",
       "1                     3            17              3      False   \n",
       "10                    1            13              3      False   \n",
       "\n",
       "    electrical_district electricity_grid  last_modified_date  latitude  \\\n",
       "0                   NaN             None 2019-03-13 18:30:17       NaN   \n",
       "1                   NaN             None 2019-03-14 06:24:00       NaN   \n",
       "10                  NaN             None 2019-03-10 22:21:42       NaN   \n",
       "\n",
       "    legacy_record legacy_sr_number location   ...    sanitation_division_days  \\\n",
       "0           False             None     None   ...                        None   \n",
       "1           False             None     None   ...                        None   \n",
       "10          False             None     None   ...                        None   \n",
       "\n",
       "        sr_number sr_short_code                            sr_type  state  \\\n",
       "0   SR19-01152326      CHECKFOR  Sewer Cleaning Inspection Request   None   \n",
       "1   SR19-01111514           SIE           Garbage Cart Maintenance   None   \n",
       "10  SR19-01134128      CHECKFOR  Sewer Cleaning Inspection Request   None   \n",
       "\n",
       "       status     street_address  street_direction  street_name  \\\n",
       "0        Open  1510 S Lincoln ST                 S      Lincoln   \n",
       "1   Completed     S aVENUE c AVE                 S     aVENUE c   \n",
       "10  Completed               None              None         None   \n",
       "\n",
       "    street_number  street_type ward x_coordinate y_coordinate zip_code  \n",
       "0            1510           ST  NaN          NaN          NaN    60064  \n",
       "1            None          AVE  NaN          NaN          NaN     None  \n",
       "10           None         None  NaN          NaN          NaN     None  \n",
       "\n",
       "[3 rows x 41 columns]"
      ]
     },
     "execution_count": 77,
     "metadata": {},
     "output_type": "execute_result"
    }
   ],
   "source": [
    "service_data = pd.read_json('../data/raw/servicedata.json', convert_dates=['close_date', 'created_date', 'last_modified_date'])\n",
    "service_data.head(3)"
   ]
  },
  {
   "cell_type": "code",
   "execution_count": 78,
   "metadata": {},
   "outputs": [
    {
     "name": "stdout",
     "output_type": "stream",
     "text": [
      " So there are 97726 rows and 41 columns in the data\n"
     ]
    }
   ],
   "source": [
    "shape = service_data.shape\n",
    "print(\" So there are %d rows and %d columns in the data\" % (shape[0], shape[1]))\n",
    "#service_data['created_date'] = service_data['created_date'].dt.date"
   ]
  },
  {
   "cell_type": "code",
   "execution_count": 79,
   "metadata": {},
   "outputs": [
    {
     "name": "stdout",
     "output_type": "stream",
     "text": [
      "<class 'pandas.core.frame.DataFrame'>\n",
      "Int64Index: 97726 entries, 0 to 9999\n",
      "Data columns (total 41 columns):\n",
      "city                        62341 non-null object\n",
      "closed_date                 92126 non-null object\n",
      "community_area              97415 non-null float64\n",
      "created_date                97726 non-null datetime64[ns]\n",
      "created_day_of_week         97726 non-null int64\n",
      "created_hour                97726 non-null int64\n",
      "created_month               97726 non-null int64\n",
      "duplicate                   97726 non-null bool\n",
      "electrical_district         80404 non-null float64\n",
      "electricity_grid            97378 non-null object\n",
      "last_modified_date          97726 non-null datetime64[ns]\n",
      "latitude                    97420 non-null float64\n",
      "legacy_record               97726 non-null bool\n",
      "legacy_sr_number            62257 non-null object\n",
      "location                    97420 non-null object\n",
      "location_address            97420 non-null object\n",
      "location_city               97420 non-null object\n",
      "location_state              97420 non-null object\n",
      "location_zip                97420 non-null object\n",
      "longitude                   97420 non-null float64\n",
      "owner_department            97726 non-null object\n",
      "parent_sr_number            6326 non-null object\n",
      "police_beat                 97411 non-null float64\n",
      "police_district             97414 non-null float64\n",
      "police_sector               97411 non-null float64\n",
      "precinct                    97412 non-null float64\n",
      "sanitation_division_days    80397 non-null object\n",
      "sr_number                   97726 non-null object\n",
      "sr_short_code               97726 non-null object\n",
      "sr_type                     97726 non-null object\n",
      "state                       62341 non-null object\n",
      "status                      97726 non-null object\n",
      "street_address              97662 non-null object\n",
      "street_direction            97654 non-null object\n",
      "street_name                 97657 non-null object\n",
      "street_number               97653 non-null object\n",
      "street_type                 96999 non-null object\n",
      "ward                        97416 non-null float64\n",
      "x_coordinate                97497 non-null float64\n",
      "y_coordinate                97497 non-null float64\n",
      "zip_code                    96838 non-null object\n",
      "dtypes: bool(2), datetime64[ns](2), float64(11), int64(3), object(23)\n",
      "memory usage: 30.0+ MB\n"
     ]
    }
   ],
   "source": [
    "service_data.info()"
   ]
  },
  {
   "cell_type": "markdown",
   "metadata": {},
   "source": [
    "I now want to count number of these incidents around the business and within some prespecified time. We can optimize the distance and the time windows but for the first pass study I am just foucsing on within 5 miles radii and the 7 days before the inspection date. "
   ]
  },
  {
   "cell_type": "code",
   "execution_count": 80,
   "metadata": {},
   "outputs": [
    {
     "data": {
      "text/plain": [
       "city                   35385\n",
       "closed_date             5600\n",
       "community_area           311\n",
       "created_date               0\n",
       "created_day_of_week        0\n",
       "created_hour               0\n",
       "created_month              0\n",
       "duplicate                  0\n",
       "electrical_district    17322\n",
       "electricity_grid         348\n",
       "                       ...  \n",
       "status                     0\n",
       "street_address            64\n",
       "street_direction          72\n",
       "street_name               69\n",
       "street_number             73\n",
       "street_type              727\n",
       "ward                     310\n",
       "x_coordinate             229\n",
       "y_coordinate             229\n",
       "zip_code                 888\n",
       "Length: 41, dtype: int64"
      ]
     },
     "execution_count": 80,
     "metadata": {},
     "output_type": "execute_result"
    }
   ],
   "source": [
    "service_data.isna().sum()"
   ]
  },
  {
   "cell_type": "code",
   "execution_count": 81,
   "metadata": {},
   "outputs": [],
   "source": [
    "service_data['latitude'].fillna(service_data['latitude'].mode()[0], inplace=True)\n",
    "service_data['longitude'].fillna(service_data['longitude'].mode()[0], inplace=True)"
   ]
  },
  {
   "cell_type": "code",
   "execution_count": 82,
   "metadata": {},
   "outputs": [
    {
     "data": {
      "text/plain": [
       "\"\\n# This is the function to calculate between two locations using (lat, long) info. \\n# This is famout Haversine formula from geoscience. \\ndef get_distance_loop(lon1, lat1, lon2, lat2):\\n    lon1, lat1, lon2, lat2 = map(np.deg2rad, [lon1, lat1, lon2, lat2])\\n    dlon = lon2 - lon1 \\n    dlat = lat2 - lat1 \\n    a = np.sin(dlat/2)**2 + np.cos(lat1) * np.cos(lat2) * np.sin(dlon/2)**2\\n    c = 2 * np.arcsin(np.sqrt(a)) \\n    r = 3956 # Radius of earth in miles \\n    return c * r\\n\\ndef count_burglaries(longitude, latitude, date, df):\\n    mydf = df[(df['date'] - date) < pd.Timedelta(8, 'D')]\\n    matching_hits = 0\\n    for index, row in df.iterrows():\\n        distance = get_distance_loop(longitude, latitude, row['longitude'], row['latitude'])\\n        if distance < 0.5:\\n            matching_hits += 1\\n    return matching_hits\\n\\ndef count_sanitation_complaints(longitude, latitude, date, df):\\n    mydf = df[(df['created_date'] - date) < pd.Timedelta(8, 'D')]\\n    matching_hits = 0\\n    for index, row in df.iterrows():\\n        distance = get_distance_loop(longitude, latitude, row['longitude'], row['latitude'])\\n        if distance < 0.5:\\n            matching_hits += 1\\n    return matching_hits\\n\""
      ]
     },
     "execution_count": 82,
     "metadata": {},
     "output_type": "execute_result"
    }
   ],
   "source": [
    "'''\n",
    "# This is the function to calculate between two locations using (lat, long) info. \n",
    "# This is famout Haversine formula from geoscience. \n",
    "def get_distance_loop(lon1, lat1, lon2, lat2):\n",
    "    lon1, lat1, lon2, lat2 = map(np.deg2rad, [lon1, lat1, lon2, lat2])\n",
    "    dlon = lon2 - lon1 \n",
    "    dlat = lat2 - lat1 \n",
    "    a = np.sin(dlat/2)**2 + np.cos(lat1) * np.cos(lat2) * np.sin(dlon/2)**2\n",
    "    c = 2 * np.arcsin(np.sqrt(a)) \n",
    "    r = 3956 # Radius of earth in miles \n",
    "    return c * r\n",
    "\n",
    "def count_burglaries(longitude, latitude, date, df):\n",
    "    mydf = df[(df['date'] - date) < pd.Timedelta(8, 'D')]\n",
    "    matching_hits = 0\n",
    "    for index, row in df.iterrows():\n",
    "        distance = get_distance_loop(longitude, latitude, row['longitude'], row['latitude'])\n",
    "        if distance < 0.5:\n",
    "            matching_hits += 1\n",
    "    return matching_hits\n",
    "\n",
    "def count_sanitation_complaints(longitude, latitude, date, df):\n",
    "    mydf = df[(df['created_date'] - date) < pd.Timedelta(8, 'D')]\n",
    "    matching_hits = 0\n",
    "    for index, row in df.iterrows():\n",
    "        distance = get_distance_loop(longitude, latitude, row['longitude'], row['latitude'])\n",
    "        if distance < 0.5:\n",
    "            matching_hits += 1\n",
    "    return matching_hits\n",
    "'''"
   ]
  },
  {
   "cell_type": "code",
   "execution_count": null,
   "metadata": {},
   "outputs": [],
   "source": [
    "\n"
   ]
  },
  {
   "cell_type": "code",
   "execution_count": 119,
   "metadata": {},
   "outputs": [],
   "source": [
    "# This is the function to calculate between two locations using (lat, long) info. \n",
    "# This is famout Haversine formula from geoscience. \n",
    "def get_distance(lon1, lat1, lonarray, latarray):\n",
    "    lon1, lat1 = map(np.deg2rad, [lon1, lat1]) \n",
    "    lonarray = np.deg2rad(lonarray)\n",
    "    latarray = np.deg2rad(latarray)\n",
    "    dlon = lonarray - lon1 \n",
    "    dlat = latarray - lat1 \n",
    "    a = np.sin(dlat/2)**2 + np.cos(lat1) * np.cos(latarray) * np.sin(dlon/2)**2\n",
    "    c = 2 * np.arcsin(np.sqrt(a)) \n",
    "    r = 3956 # Radius of earth in miles \n",
    "    return c * r\n",
    "\n",
    "#distance = np.vectorize(get_distance)\n",
    "\n",
    "def count_burglaries(longitude, latitude, date, df):\n",
    "    mydf = df[(df['date'] - date).dt.days < 8]\n",
    "    if(mydf.empty):\n",
    "        return 0\n",
    "    #mydf['restaurant_long'] = longitude\n",
    "    #mydf['restaurant_lat'] = latitude\n",
    "    mydf['distance'] = get_distance(longitude, latitude, mydf['longitude'], mydf['latitude'])\n",
    "    dfNew = mydf[(mydf['distance'] < 0.5)] # & (df['end_of_time_window'] < pd.Timedelta(8,'D'))]\n",
    "    return dfNew.shape[0]\n",
    "\n",
    "def count_sanitation_complaints(longitude, latitude, date, df):\n",
    "    df = df[(df['duplicate'] !=1) & ((df['created_date'] -date).dt.days < 8 )]\n",
    "    if df.empty:\n",
    "        return 0\n",
    "    df['restaurant_long'] = longitude\n",
    "    df['restaurant_lat'] = latitude\n",
    "    df['distance'] = get_distance(df['restaurant_long'], df['restaurant_lat'], df['longitude'], df['latitude'])\n",
    "    dfNew = df[(df['distance'] < 0.5) ] # & (df['end_of_time_window'] < pd.Timedelta(8,'D')) & ]\n",
    "    return dfNew.shape[0]"
   ]
  },
  {
   "cell_type": "code",
   "execution_count": 120,
   "metadata": {},
   "outputs": [
    {
     "name": "stdout",
     "output_type": "stream",
     "text": [
      "51min 3s ± 12.2 s per loop (mean ± std. dev. of 7 runs, 1 loop each)\n"
     ]
    }
   ],
   "source": [
    "%timeit food_business['burglaries_this_week'] = food_business.apply(lambda x: count_burglaries(x['longitude'], x['latitude'], x['inspection_date'], burglary), axis=1)"
   ]
  },
  {
   "cell_type": "code",
   "execution_count": 122,
   "metadata": {},
   "outputs": [
    {
     "name": "stdout",
     "output_type": "stream",
     "text": [
      "46min 27s ± 8.74 s per loop (mean ± std. dev. of 7 runs, 1 loop each)\n"
     ]
    }
   ],
   "source": [
    "%timeit food_business['service_complains_this_week'] = food_business.apply(lambda x: count_sanitation_complaints(x['longitude'], x['latitude'], x['inspection_date'], service_data), axis=1)"
   ]
  },
  {
   "cell_type": "code",
   "execution_count": 123,
   "metadata": {},
   "outputs": [
    {
     "data": {
      "text/html": [
       "<div>\n",
       "<style scoped>\n",
       "    .dataframe tbody tr th:only-of-type {\n",
       "        vertical-align: middle;\n",
       "    }\n",
       "\n",
       "    .dataframe tbody tr th {\n",
       "        vertical-align: top;\n",
       "    }\n",
       "\n",
       "    .dataframe thead th {\n",
       "        text-align: right;\n",
       "    }\n",
       "</style>\n",
       "<table border=\"1\" class=\"dataframe\">\n",
       "  <thead>\n",
       "    <tr style=\"text-align: right;\">\n",
       "      <th></th>\n",
       "      <th>address</th>\n",
       "      <th>aka_name</th>\n",
       "      <th>dba_name</th>\n",
       "      <th>facility_type</th>\n",
       "      <th>inspection_date</th>\n",
       "      <th>inspection_id</th>\n",
       "      <th>inspection_type</th>\n",
       "      <th>latitude</th>\n",
       "      <th>license</th>\n",
       "      <th>longitude</th>\n",
       "      <th>results</th>\n",
       "      <th>risk</th>\n",
       "      <th>minor_violations</th>\n",
       "      <th>non_critical_violations</th>\n",
       "      <th>critical_violations</th>\n",
       "      <th>...</th>\n",
       "      <th>business_activity_id</th>\n",
       "      <th>license_code</th>\n",
       "      <th>license_number</th>\n",
       "      <th>conditional_approval</th>\n",
       "      <th>application_type</th>\n",
       "      <th>license_term_expiration_date</th>\n",
       "      <th>license_term_start_date</th>\n",
       "      <th>application_requirements_complete</th>\n",
       "      <th>business_activity</th>\n",
       "      <th>date_issued</th>\n",
       "      <th>license_status_change_date</th>\n",
       "      <th>HasAlcoholLicense</th>\n",
       "      <th>HasTobaccoLicense</th>\n",
       "      <th>burglaries_this_week</th>\n",
       "      <th>service_complains_this_week</th>\n",
       "    </tr>\n",
       "  </thead>\n",
       "  <tbody>\n",
       "    <tr>\n",
       "      <th>0</th>\n",
       "      <td>2000 W ROSCOE ST</td>\n",
       "      <td>COMMONWEALTH TAVEN</td>\n",
       "      <td>ROSCOE-DAMEN, CORP.</td>\n",
       "      <td>Restaurant</td>\n",
       "      <td>2017-01-03</td>\n",
       "      <td>1978836</td>\n",
       "      <td>Canvass</td>\n",
       "      <td>41.943325</td>\n",
       "      <td>2293828</td>\n",
       "      <td>-87.678514</td>\n",
       "      <td>1</td>\n",
       "      <td>Risk 1 (High)</td>\n",
       "      <td>1</td>\n",
       "      <td>0</td>\n",
       "      <td>2</td>\n",
       "      <td>...</td>\n",
       "      <td>735</td>\n",
       "      <td>1006</td>\n",
       "      <td>2293828</td>\n",
       "      <td>0</td>\n",
       "      <td>RENEW</td>\n",
       "      <td>2019-05-15</td>\n",
       "      <td>2017-05-16</td>\n",
       "      <td>03/15/2017</td>\n",
       "      <td>Preparation of Food and Dining on Premise With...</td>\n",
       "      <td>2017-05-12</td>\n",
       "      <td>NaT</td>\n",
       "      <td>False</td>\n",
       "      <td>False</td>\n",
       "      <td>5</td>\n",
       "      <td>0</td>\n",
       "    </tr>\n",
       "    <tr>\n",
       "      <th>1</th>\n",
       "      <td>2000 W ROSCOE ST</td>\n",
       "      <td>COMMONWEALTH TAVEN</td>\n",
       "      <td>ROSCOE-DAMEN, CORP.</td>\n",
       "      <td>Restaurant</td>\n",
       "      <td>2018-01-10</td>\n",
       "      <td>2135226</td>\n",
       "      <td>Canvass</td>\n",
       "      <td>41.943325</td>\n",
       "      <td>2293828</td>\n",
       "      <td>-87.678514</td>\n",
       "      <td>1</td>\n",
       "      <td>Risk 1 (High)</td>\n",
       "      <td>0</td>\n",
       "      <td>1</td>\n",
       "      <td>3</td>\n",
       "      <td>...</td>\n",
       "      <td>735</td>\n",
       "      <td>1006</td>\n",
       "      <td>2293828</td>\n",
       "      <td>0</td>\n",
       "      <td>RENEW</td>\n",
       "      <td>2019-05-15</td>\n",
       "      <td>2017-05-16</td>\n",
       "      <td>03/15/2017</td>\n",
       "      <td>Preparation of Food and Dining on Premise With...</td>\n",
       "      <td>2017-05-12</td>\n",
       "      <td>NaT</td>\n",
       "      <td>False</td>\n",
       "      <td>False</td>\n",
       "      <td>65</td>\n",
       "      <td>0</td>\n",
       "    </tr>\n",
       "    <tr>\n",
       "      <th>2</th>\n",
       "      <td>2000 W ROSCOE ST</td>\n",
       "      <td>COMMONWEALTH TAVEN</td>\n",
       "      <td>ROSCOE-DAMEN, CORP.</td>\n",
       "      <td>Restaurant</td>\n",
       "      <td>2019-05-07</td>\n",
       "      <td>2288359</td>\n",
       "      <td>Canvass</td>\n",
       "      <td>41.943325</td>\n",
       "      <td>2293828</td>\n",
       "      <td>-87.678514</td>\n",
       "      <td>1</td>\n",
       "      <td>Risk 1 (High)</td>\n",
       "      <td>2</td>\n",
       "      <td>2</td>\n",
       "      <td>5</td>\n",
       "      <td>...</td>\n",
       "      <td>735</td>\n",
       "      <td>1006</td>\n",
       "      <td>2293828</td>\n",
       "      <td>0</td>\n",
       "      <td>RENEW</td>\n",
       "      <td>2019-05-15</td>\n",
       "      <td>2017-05-16</td>\n",
       "      <td>03/15/2017</td>\n",
       "      <td>Preparation of Food and Dining on Premise With...</td>\n",
       "      <td>2017-05-12</td>\n",
       "      <td>NaT</td>\n",
       "      <td>False</td>\n",
       "      <td>False</td>\n",
       "      <td>128</td>\n",
       "      <td>565</td>\n",
       "    </tr>\n",
       "    <tr>\n",
       "      <th>3</th>\n",
       "      <td>619 N WABASH AVE</td>\n",
       "      <td>PIZZERIA DUE</td>\n",
       "      <td>PIZZERIA DUE</td>\n",
       "      <td>Restaurant</td>\n",
       "      <td>2017-01-04</td>\n",
       "      <td>1978927</td>\n",
       "      <td>Canvass</td>\n",
       "      <td>41.893185</td>\n",
       "      <td>1331225</td>\n",
       "      <td>-87.626610</td>\n",
       "      <td>1</td>\n",
       "      <td>Risk 1 (High)</td>\n",
       "      <td>0</td>\n",
       "      <td>0</td>\n",
       "      <td>2</td>\n",
       "      <td>...</td>\n",
       "      <td>775</td>\n",
       "      <td>1006</td>\n",
       "      <td>1331225</td>\n",
       "      <td>0</td>\n",
       "      <td>RENEW</td>\n",
       "      <td>2019-03-15</td>\n",
       "      <td>2017-03-16</td>\n",
       "      <td>01/15/2017</td>\n",
       "      <td>Retail Sales of Perishable Foods</td>\n",
       "      <td>2017-02-16</td>\n",
       "      <td>NaT</td>\n",
       "      <td>False</td>\n",
       "      <td>False</td>\n",
       "      <td>7</td>\n",
       "      <td>0</td>\n",
       "    </tr>\n",
       "    <tr>\n",
       "      <th>4</th>\n",
       "      <td>619 N WABASH AVE</td>\n",
       "      <td>PIZZERIA DUE</td>\n",
       "      <td>PIZZERIA DUE</td>\n",
       "      <td>Restaurant</td>\n",
       "      <td>2017-01-04</td>\n",
       "      <td>1978927</td>\n",
       "      <td>Canvass</td>\n",
       "      <td>41.893185</td>\n",
       "      <td>1331225</td>\n",
       "      <td>-87.626610</td>\n",
       "      <td>1</td>\n",
       "      <td>Risk 1 (High)</td>\n",
       "      <td>0</td>\n",
       "      <td>0</td>\n",
       "      <td>2</td>\n",
       "      <td>...</td>\n",
       "      <td>775</td>\n",
       "      <td>1006</td>\n",
       "      <td>1331225</td>\n",
       "      <td>0</td>\n",
       "      <td>RENEW</td>\n",
       "      <td>2021-03-15</td>\n",
       "      <td>2019-03-16</td>\n",
       "      <td>01/15/2019</td>\n",
       "      <td>Retail Sales of Perishable Foods</td>\n",
       "      <td>2019-02-19</td>\n",
       "      <td>NaT</td>\n",
       "      <td>False</td>\n",
       "      <td>False</td>\n",
       "      <td>7</td>\n",
       "      <td>0</td>\n",
       "    </tr>\n",
       "  </tbody>\n",
       "</table>\n",
       "<p>5 rows × 34 columns</p>\n",
       "</div>"
      ],
      "text/plain": [
       "             address            aka_name             dba_name facility_type  \\\n",
       "0  2000 W ROSCOE ST   COMMONWEALTH TAVEN  ROSCOE-DAMEN, CORP.    Restaurant   \n",
       "1  2000 W ROSCOE ST   COMMONWEALTH TAVEN  ROSCOE-DAMEN, CORP.    Restaurant   \n",
       "2  2000 W ROSCOE ST   COMMONWEALTH TAVEN  ROSCOE-DAMEN, CORP.    Restaurant   \n",
       "3  619 N WABASH AVE         PIZZERIA DUE         PIZZERIA DUE    Restaurant   \n",
       "4  619 N WABASH AVE         PIZZERIA DUE         PIZZERIA DUE    Restaurant   \n",
       "\n",
       "  inspection_date  inspection_id inspection_type   latitude  license  \\\n",
       "0      2017-01-03        1978836         Canvass  41.943325  2293828   \n",
       "1      2018-01-10        2135226         Canvass  41.943325  2293828   \n",
       "2      2019-05-07        2288359         Canvass  41.943325  2293828   \n",
       "3      2017-01-04        1978927         Canvass  41.893185  1331225   \n",
       "4      2017-01-04        1978927         Canvass  41.893185  1331225   \n",
       "\n",
       "   longitude  results           risk  minor_violations  \\\n",
       "0 -87.678514        1  Risk 1 (High)                 1   \n",
       "1 -87.678514        1  Risk 1 (High)                 0   \n",
       "2 -87.678514        1  Risk 1 (High)                 2   \n",
       "3 -87.626610        1  Risk 1 (High)                 0   \n",
       "4 -87.626610        1  Risk 1 (High)                 0   \n",
       "\n",
       "   non_critical_violations  critical_violations             ...              \\\n",
       "0                        0                    2             ...               \n",
       "1                        1                    3             ...               \n",
       "2                        2                    5             ...               \n",
       "3                        0                    2             ...               \n",
       "4                        0                    2             ...               \n",
       "\n",
       "   business_activity_id  license_code license_number conditional_approval  \\\n",
       "0                   735          1006        2293828                    0   \n",
       "1                   735          1006        2293828                    0   \n",
       "2                   735          1006        2293828                    0   \n",
       "3                   775          1006        1331225                    0   \n",
       "4                   775          1006        1331225                    0   \n",
       "\n",
       "  application_type  license_term_expiration_date  license_term_start_date  \\\n",
       "0            RENEW                    2019-05-15               2017-05-16   \n",
       "1            RENEW                    2019-05-15               2017-05-16   \n",
       "2            RENEW                    2019-05-15               2017-05-16   \n",
       "3            RENEW                    2019-03-15               2017-03-16   \n",
       "4            RENEW                    2021-03-15               2019-03-16   \n",
       "\n",
       "   application_requirements_complete  \\\n",
       "0                         03/15/2017   \n",
       "1                         03/15/2017   \n",
       "2                         03/15/2017   \n",
       "3                         01/15/2017   \n",
       "4                         01/15/2019   \n",
       "\n",
       "                                   business_activity date_issued  \\\n",
       "0  Preparation of Food and Dining on Premise With...  2017-05-12   \n",
       "1  Preparation of Food and Dining on Premise With...  2017-05-12   \n",
       "2  Preparation of Food and Dining on Premise With...  2017-05-12   \n",
       "3                   Retail Sales of Perishable Foods  2017-02-16   \n",
       "4                   Retail Sales of Perishable Foods  2019-02-19   \n",
       "\n",
       "  license_status_change_date HasAlcoholLicense HasTobaccoLicense  \\\n",
       "0                        NaT             False             False   \n",
       "1                        NaT             False             False   \n",
       "2                        NaT             False             False   \n",
       "3                        NaT             False             False   \n",
       "4                        NaT             False             False   \n",
       "\n",
       "  burglaries_this_week service_complains_this_week  \n",
       "0                    5                           0  \n",
       "1                   65                           0  \n",
       "2                  128                         565  \n",
       "3                    7                           0  \n",
       "4                    7                           0  \n",
       "\n",
       "[5 rows x 34 columns]"
      ]
     },
     "execution_count": 123,
     "metadata": {},
     "output_type": "execute_result"
    }
   ],
   "source": [
    "food_business.head()"
   ]
  },
  {
   "cell_type": "code",
   "execution_count": 124,
   "metadata": {},
   "outputs": [
    {
     "data": {
      "text/plain": [
       "(18328, 34)"
      ]
     },
     "execution_count": 124,
     "metadata": {},
     "output_type": "execute_result"
    }
   ],
   "source": [
    "food_business.shape"
   ]
  },
  {
   "cell_type": "code",
   "execution_count": 125,
   "metadata": {},
   "outputs": [
    {
     "data": {
      "text/plain": [
       "6826"
      ]
     },
     "execution_count": 125,
     "metadata": {},
     "output_type": "execute_result"
    }
   ],
   "source": [
    "food_business['license'].nunique()"
   ]
  },
  {
   "cell_type": "code",
   "execution_count": 160,
   "metadata": {},
   "outputs": [],
   "source": [
    "food_business.to_json('../data/processed/food_business_processed.json')"
   ]
  },
  {
   "cell_type": "code",
   "execution_count": 126,
   "metadata": {},
   "outputs": [
    {
     "data": {
      "text/plain": [
       "<matplotlib.axes._subplots.AxesSubplot at 0x1a3133fbe0>"
      ]
     },
     "execution_count": 126,
     "metadata": {},
     "output_type": "execute_result"
    },
    {
     "data": {
      "text/plain": [
       "<matplotlib.axes._subplots.AxesSubplot at 0x1a3133fbe0>"
      ]
     },
     "execution_count": 126,
     "metadata": {},
     "output_type": "execute_result"
    },
    {
     "data": {
      "image/png": "[encoded data removed]",
      "text/plain": [
       "<Figure size 864x360 with 1 Axes>"
      ]
     },
     "metadata": {
      "needs_background": "light"
     },
     "output_type": "display_data"
    }
   ],
   "source": [
    "pass_ins = food_business[food_business['results'] == 1]\n",
    "fail_ins = food_business[food_business['results'] == 0]\n",
    "sns.kdeplot(pass_ins['service_complains_this_week'], label = 'pass')\n",
    "sns.kdeplot(fail_ins['service_complains_this_week'], label = 'fail')\n",
    "plt.show()"
   ]
  },
  {
   "cell_type": "code",
   "execution_count": 127,
   "metadata": {},
   "outputs": [
    {
     "name": "stdout",
     "output_type": "stream",
     "text": [
      "DegFreedom    6314.551920\n",
      "Difference       5.582607\n",
      "Statistic        2.269289\n",
      "PValue           0.023284\n",
      "Low95CI          0.760036\n",
      "High95CI        10.405178\n",
      "dtype: float64\n"
     ]
    }
   ],
   "source": [
    "# write t_test function\n",
    "def t_test(a, b, alpha, alternative='two-sided'):\n",
    "    from scipy import stats\n",
    "    import scipy.stats as ss\n",
    "    import pandas as pd\n",
    "    import statsmodels.stats.weightstats as ws\n",
    "    \n",
    "    diff = a.mean() - b.mean()\n",
    "\n",
    "    res = ss.ttest_ind(a, b, equal_var=False)\n",
    "      \n",
    "    means = ws.CompareMeans(ws.DescrStatsW(a), ws.DescrStatsW(b))\n",
    "    confint = means.tconfint_diff(alpha=alpha, alternative=alternative, usevar='unequal') \n",
    "    degfree = means.dof_satt()\n",
    "\n",
    "    index = ['DegFreedom', 'Difference', 'Statistic', 'PValue', 'Low95CI', 'High95CI']\n",
    "    return pd.Series([degfree, diff, res[0], res[1], confint[0], confint[1]], index = index)\n",
    "# run the t-test at a 5% sig level\n",
    "test = t_test(pass_ins['service_complains_this_week'], fail_ins['service_complains_this_week'], 0.05)\n",
    "print(test)"
   ]
  },
  {
   "cell_type": "markdown",
   "metadata": {},
   "source": [
    "#### I also want to use Yelp's rating and comments ( for some sort of sentiment analysis if possible) in my model. So let's see if that is feasible. To start with, I am focusing only on the restaurants (category) that failed in the inspection. Also note taht yelp caps 5000 API calls per per day so I chose to focus on failed restaurants only. \n",
    "### Let's write some functions to use Yelp API. "
   ]
  },
  {
   "cell_type": "code",
   "execution_count": 128,
   "metadata": {},
   "outputs": [],
   "source": [
    "# yelp authorization ( Need to hide this ! )\n",
    "#res_fail = fail_inspection[fail_inspection['facility_type_cat'] == 2]\n",
    "import requests\n",
    "api_key='skulWTrlVslLqkj5vY7u9fJErIOi-FB1prbAhB4ftwLLBSN5CarHecqiOPET6gVDOUhiEfvMD5O8tn--Evkbdn0MujX5Lncp5TNPNw_rzT_pAHtW0qIBC0pPgcqrXHYx' \n",
    "headers = {'Authorization': 'Bearer %s' % api_key,}\n",
    "\n",
    "# find business match using business name (aka_name dba(doing business as name) \n",
    "def get_business_match(name, address, city=\"Chicago\", state='IL', country='US'):\n",
    "    params = {}\n",
    "    params[\"name\"] = name \n",
    "    params[\"address1\"] = address\n",
    "    params[\"city\"] = 'Chicago'\n",
    "    params[\"state\"] = 'IL'\n",
    "    params[\"country\"] = 'US'\n",
    "    \n",
    "    request = requests.get(\"https://api.yelp.com/v3/businesses/matches\",headers=headers,params=params)\n",
    "    #Transforms the JSON API response into a Python dictionary\n",
    "    data = request.json()\n",
    "    try:\n",
    "        return data['businesses'][0]['id']\n",
    "    except:\n",
    "        return 0\n",
    "    \n",
    "    ## pull ratings and reviews of the matched businesses.\n",
    "\n",
    "def get_reviews(business_id):\n",
    "    query = \"https://api.yelp.com/v3/businesses/%s/reviews\" %business_id\n",
    "    try:\n",
    "        request = requests.get(query, headers=headers)\n",
    "        data = request.json()\n",
    "        return data\n",
    "    except:\n",
    "        ValueError(\"This business doesn't have any reviews\")\n",
    "        \n",
    "def get_rating(business_id):\n",
    "    try:\n",
    "        query = \"https://api.yelp.com/v3/businesses/%s\" %business_id\n",
    "        request = requests.get(query, headers=headers)\n",
    "        data = request.json()\n",
    "        return data[\"rating\"]\n",
    "    except:\n",
    "        return 9999\n",
    "    \n",
    "def get_yelp_data(name, address, city=\"Chicago\", state='IL', country='US'):\n",
    "    params = {}\n",
    "    params[\"name\"] = name \n",
    "    params[\"address1\"] = address\n",
    "    params[\"city\"] = 'Chicago'\n",
    "    params[\"state\"] = 'IL'\n",
    "    params[\"country\"] = 'US'\n",
    "    yelp_data = []\n",
    "    request = requests.get(\"https://api.yelp.com/v3/businesses/matches\",headers=headers,params=params)\n",
    "    #Transforms the JSON API response into a Python dictionary\n",
    "    data = request.json()\n",
    "    try:\n",
    "        business_id = data['businesses'][0]['id']\n",
    "        rating =  get_rating(business_id)\n",
    "        reviews = get_reviews\n",
    "        yelp_data = [busines_id, rating, reviews] \n",
    "        return yelp_data\n",
    "    except:\n",
    "        return 9999"
   ]
  },
  {
   "cell_type": "code",
   "execution_count": 129,
   "metadata": {},
   "outputs": [],
   "source": [
    "#food_data['yelp_rating'] = food_data.apply(lambda x: get_rating(x[\"yelp_id\"]), axis=1)\n",
    "#food_data['yelp_id'] = food_data.apply(lambda x: get_business_match(x['aka_name'], x['address']), axis=1)\n",
    "### Let's pull the information from the failed restaurants. \n",
    "#food_business['yelp_data'] = food_business.apply(lambda x: get_yelp_data(x['aka_name'], x['address']), axis=1)"
   ]
  },
  {
   "cell_type": "markdown",
   "metadata": {},
   "source": [
    "That is encouraging! Looks like we can factor in those yelp ratings in our model. The mean rating has a peak at 4 even for failed restaurants but there is also a significant tail at the lower end of the spectrum. I may end of using it but I will have to set up a cronjob to make daily api calls for all these businesses."
   ]
  },
  {
   "cell_type": "code",
   "execution_count": 130,
   "metadata": {},
   "outputs": [
    {
     "data": {
      "text/plain": [
       "['risk_type_cat',\n",
       " 'past_minor_violations',\n",
       " 'past_non_critical_violations',\n",
       " 'past_critical_violations',\n",
       " 'facility_type_cat',\n",
       " 'burglaries_this_week',\n",
       " 'service_complains_this_week',\n",
       " 'HasTobaccoLicense',\n",
       " 'HasAlcoholLicense']"
      ]
     },
     "execution_count": 130,
     "metadata": {},
     "output_type": "execute_result"
    }
   ],
   "source": [
    "features = [\"risk_type_cat\", \"past_minor_violations\", \"past_non_critical_violations\", \"past_critical_violations\", \"facility_type_cat\", \"burglaries_this_week\", \"service_complains_this_week\", 'HasTobaccoLicense', 'HasAlcoholLicense']\n",
    "features"
   ]
  },
  {
   "cell_type": "code",
   "execution_count": 135,
   "metadata": {},
   "outputs": [],
   "source": [
    "food_business['past_results'] = food_business.groupby('license')['results'].shift(-1).fillna(1)\n",
    "food_business['past_critical_violations'] = food_business.groupby('license')['critical_violations'].shift(-1).fillna(0)\n",
    "food_business['past_non_critical_violations'] = food_business.groupby('license')['non_critical_violations'].shift(-1).fillna(0)\n",
    "food_business['past_minor_violations'] = food_business.groupby('license')['minor_violations'].shift(-1).fillna(0)"
   ]
  },
  {
   "cell_type": "code",
   "execution_count": null,
   "metadata": {},
   "outputs": [],
   "source": []
  },
  {
   "cell_type": "markdown",
   "metadata": {},
   "source": [
    "Now that we have some features we can start building some baseline models:"
   ]
  },
  {
   "cell_type": "code",
   "execution_count": null,
   "metadata": {},
   "outputs": [],
   "source": []
  },
  {
   "cell_type": "code",
   "execution_count": 163,
   "metadata": {},
   "outputs": [],
   "source": [
    "food_business_train = food_business[food_business['inspection_date'] < pd.to_datetime('2019-01-01')]\n",
    "food_business_test  =  food_business[food_business['inspection_date'] > pd.to_datetime('2018-12-31')]"
   ]
  },
  {
   "cell_type": "code",
   "execution_count": 164,
   "metadata": {},
   "outputs": [],
   "source": [
    "X_train = food_business_train[features]\n",
    "Y_train = food_business_train['results']\n",
    "X_test = food_business_test[features]\n",
    "Y_test = food_business_test['results']"
   ]
  },
  {
   "cell_type": "code",
   "execution_count": 165,
   "metadata": {},
   "outputs": [
    {
     "name": "stdout",
     "output_type": "stream",
     "text": [
      "(15677, 9)\n",
      "(15677,)\n",
      "(2651, 9)\n",
      "(2651,)\n"
     ]
    }
   ],
   "source": [
    "print(X_train.shape)\n",
    "print(Y_train.shape)\n",
    "print(X_test.shape)\n",
    "print(Y_test.shape)"
   ]
  },
  {
   "cell_type": "code",
   "execution_count": 166,
   "metadata": {},
   "outputs": [
    {
     "data": {
      "text/plain": [
       "Text(0.5, 1.0, 'Train Class Imbalance')"
      ]
     },
     "execution_count": 166,
     "metadata": {},
     "output_type": "execute_result"
    },
    {
     "data": {
      "text/plain": [
       "<matplotlib.axes._subplots.AxesSubplot at 0x1a30f23160>"
      ]
     },
     "execution_count": 166,
     "metadata": {},
     "output_type": "execute_result"
    },
    {
     "data": {
      "text/plain": [
       "Text(0.5, 1.0, 'Test Class Imbalance')"
      ]
     },
     "execution_count": 166,
     "metadata": {},
     "output_type": "execute_result"
    },
    {
     "data": {
      "text/plain": [
       "<matplotlib.axes._subplots.AxesSubplot at 0x1a30f01080>"
      ]
     },
     "execution_count": 166,
     "metadata": {},
     "output_type": "execute_result"
    },
    {
     "data": {
      "image/png": "[encoded data removed]",
      "text/plain": [
       "<Figure size 864x360 with 2 Axes>"
      ]
     },
     "metadata": {
      "needs_background": "light"
     },
     "output_type": "display_data"
    }
   ],
   "source": [
    "fig, (ax1, ax2) = plt.subplots(ncols=2, figsize=(12, 5))\n",
    "ax1.set_title('Train Class Imbalance')\n",
    "sns.countplot(x=Y_train, ax=ax1)\n",
    "\n",
    "ax2.set_title('Test Class Imbalance')\n",
    "sns.countplot(x=Y_test, ax=ax2)\n",
    "plt.show()"
   ]
  },
  {
   "cell_type": "markdown",
   "metadata": {},
   "source": [
    "We should note that there is class imbalance here and we should be careful about building our classfier. "
   ]
  },
  {
   "cell_type": "code",
   "execution_count": 167,
   "metadata": {},
   "outputs": [
    {
     "name": "stdout",
     "output_type": "stream",
     "text": [
      "risk_type_cat                   0\n",
      "past_minor_violations           0\n",
      "past_non_critical_violations    0\n",
      "past_critical_violations        0\n",
      "facility_type_cat               0\n",
      "burglaries_this_week            0\n",
      "service_complains_this_week     0\n",
      "HasTobaccoLicense               0\n",
      "HasAlcoholLicense               0\n",
      "dtype: int64\n",
      "0\n"
     ]
    }
   ],
   "source": [
    "#Make sure that there are no n/a values in our data frame. \n",
    "print(X_train.isna().sum())\n",
    "print(Y_train.isna().sum())"
   ]
  },
  {
   "cell_type": "code",
   "execution_count": null,
   "metadata": {},
   "outputs": [],
   "source": []
  },
  {
   "cell_type": "code",
   "execution_count": 168,
   "metadata": {},
   "outputs": [
    {
     "data": {
      "text/plain": [
       "Text(0.5, 1.0, 'Before Scaling')"
      ]
     },
     "execution_count": 168,
     "metadata": {},
     "output_type": "execute_result"
    },
    {
     "data": {
      "text/plain": [
       "<matplotlib.axes._subplots.AxesSubplot at 0x1a30edd4e0>"
      ]
     },
     "execution_count": 168,
     "metadata": {},
     "output_type": "execute_result"
    },
    {
     "data": {
      "text/plain": [
       "<matplotlib.axes._subplots.AxesSubplot at 0x1a30edd4e0>"
      ]
     },
     "execution_count": 168,
     "metadata": {},
     "output_type": "execute_result"
    },
    {
     "data": {
      "text/plain": [
       "<matplotlib.axes._subplots.AxesSubplot at 0x1a30edd4e0>"
      ]
     },
     "execution_count": 168,
     "metadata": {},
     "output_type": "execute_result"
    },
    {
     "data": {
      "text/plain": [
       "<matplotlib.axes._subplots.AxesSubplot at 0x1a30edd4e0>"
      ]
     },
     "execution_count": 168,
     "metadata": {},
     "output_type": "execute_result"
    },
    {
     "name": "stderr",
     "output_type": "stream",
     "text": [
      "/anaconda3/lib/python3.7/site-packages/sklearn/preprocessing/data.py:625: DataConversionWarning:\n",
      "\n",
      "Data with input dtype bool, int8, int64, float64 were all converted to float64 by StandardScaler.\n",
      "\n",
      "/anaconda3/lib/python3.7/site-packages/sklearn/base.py:462: DataConversionWarning:\n",
      "\n",
      "Data with input dtype bool, int8, int64, float64 were all converted to float64 by StandardScaler.\n",
      "\n",
      "/anaconda3/lib/python3.7/site-packages/sklearn/preprocessing/data.py:625: DataConversionWarning:\n",
      "\n",
      "Data with input dtype bool, int8, int64, float64 were all converted to float64 by StandardScaler.\n",
      "\n",
      "/anaconda3/lib/python3.7/site-packages/sklearn/base.py:462: DataConversionWarning:\n",
      "\n",
      "Data with input dtype bool, int8, int64, float64 were all converted to float64 by StandardScaler.\n",
      "\n"
     ]
    },
    {
     "data": {
      "text/plain": [
       "Text(0.5, 1.0, 'After Standard Scaler')"
      ]
     },
     "execution_count": 168,
     "metadata": {},
     "output_type": "execute_result"
    },
    {
     "data": {
      "text/plain": [
       "<matplotlib.axes._subplots.AxesSubplot at 0x1a30ed1588>"
      ]
     },
     "execution_count": 168,
     "metadata": {},
     "output_type": "execute_result"
    },
    {
     "data": {
      "text/plain": [
       "<matplotlib.axes._subplots.AxesSubplot at 0x1a30ed1588>"
      ]
     },
     "execution_count": 168,
     "metadata": {},
     "output_type": "execute_result"
    },
    {
     "data": {
      "text/plain": [
       "<matplotlib.axes._subplots.AxesSubplot at 0x1a30ed1588>"
      ]
     },
     "execution_count": 168,
     "metadata": {},
     "output_type": "execute_result"
    },
    {
     "data": {
      "text/plain": [
       "<matplotlib.axes._subplots.AxesSubplot at 0x1a30ed1588>"
      ]
     },
     "execution_count": 168,
     "metadata": {},
     "output_type": "execute_result"
    },
    {
     "data": {
      "image/png": "[encoded data removed]",
      "text/plain": [
       "<Figure size 864x360 with 2 Axes>"
      ]
     },
     "metadata": {
      "needs_background": "light"
     },
     "output_type": "display_data"
    }
   ],
   "source": [
    "from sklearn import preprocessing\n",
    "scaler = preprocessing.StandardScaler()\n",
    "\n",
    "fig, (ax1, ax2) = plt.subplots(ncols=2, figsize=(12, 5))\n",
    "ax1.set_title('Before Scaling')\n",
    "sns.kdeplot(X_train['service_complains_this_week'], ax=ax1)\n",
    "sns.kdeplot(X_train['burglaries_this_week'], ax=ax1)\n",
    "sns.kdeplot(X_train['past_non_critical_violations'], ax=ax1)\n",
    "sns.kdeplot(X_train['past_critical_violations'], ax=ax1)\n",
    "train_columns = X_train.columns\n",
    "test_columns = X_test.columns\n",
    "X_train = scaler.fit_transform(X_train)\n",
    "X_test = scaler.fit_transform(X_test)\n",
    "\n",
    "X_train = pd.DataFrame(X_train, columns=train_columns)\n",
    "X_test = pd.DataFrame(X_test, columns=test_columns)\n",
    "\n",
    "ax2.set_title('After Standard Scaler')\n",
    "sns.kdeplot(X_train['service_complains_this_week'], ax=ax2)\n",
    "sns.kdeplot(X_train['burglaries_this_week'], ax=ax2)\n",
    "sns.kdeplot(X_train['past_non_critical_violations'], ax=ax2)\n",
    "sns.kdeplot(X_train['past_critical_violations'], ax=ax2)\n",
    "plt.show()"
   ]
  },
  {
   "cell_type": "markdown",
   "metadata": {},
   "source": [
    "### Baseline Models "
   ]
  },
  {
   "cell_type": "code",
   "execution_count": 169,
   "metadata": {},
   "outputs": [],
   "source": [
    "from sklearn.tree import DecisionTreeClassifier\n",
    "from sklearn.ensemble import RandomForestClassifier\n",
    "from sklearn.linear_model import LogisticRegression\n",
    "from sklearn.model_selection import train_test_split\n",
    "from sklearn import metrics\n",
    "from sklearn.metrics import roc_curve, auc"
   ]
  },
  {
   "cell_type": "code",
   "execution_count": 170,
   "metadata": {},
   "outputs": [],
   "source": [
    "#X_train, X_test, y_train, y_test = train_test_split(X, Y, test_size=0.3, random_state=0)\n",
    "            "
   ]
  },
  {
   "cell_type": "code",
   "execution_count": 171,
   "metadata": {},
   "outputs": [],
   "source": [
    "# Create dummy classifer\n",
    "#dummy = DummyClassifier(strategy='stratified', random_state=0) \n",
    "# stratified strategy generates random predictions by respecting the training set class distribution.\n",
    "\n",
    "# \"Train\" model\n",
    "#dummy.fit(X_train, Y_train)"
   ]
  },
  {
   "cell_type": "code",
   "execution_count": 172,
   "metadata": {},
   "outputs": [],
   "source": [
    "# Get accuracy score\n",
    "#dummy.score(X_test, Y_test)  "
   ]
  },
  {
   "cell_type": "code",
   "execution_count": 173,
   "metadata": {},
   "outputs": [
    {
     "data": {
      "text/plain": [
       "LogisticRegression(C=1.0, class_weight='balanced', dual=False,\n",
       "          fit_intercept=True, intercept_scaling=1, max_iter=100,\n",
       "          multi_class='warn', n_jobs=None, penalty='l2', random_state=0,\n",
       "          solver='warn', tol=0.0001, verbose=0, warm_start=False)"
      ]
     },
     "execution_count": 173,
     "metadata": {},
     "output_type": "execute_result"
    }
   ],
   "source": [
    "# train a logistic regression model on the training set\n",
    "# instantiate model\n",
    "logreg = LogisticRegression(random_state=0, class_weight = 'balanced')\n",
    "\n",
    "# fit model\n",
    "logreg.fit(X_train, Y_train)\n",
    "\n",
    "# make class predictions for the testing set\n",
    "y_pred_class = logreg.predict(X_test)"
   ]
  },
  {
   "cell_type": "code",
   "execution_count": 174,
   "metadata": {},
   "outputs": [
    {
     "name": "stdout",
     "output_type": "stream",
     "text": [
      "[[ 0.09695529  0.03672554 -0.5574543   0.08614887  0.          0.10362074\n",
      "  -0.01048014  0.          0.        ]]\n"
     ]
    }
   ],
   "source": [
    "print(logreg.coef_)"
   ]
  },
  {
   "cell_type": "code",
   "execution_count": 175,
   "metadata": {
    "scrolled": true
   },
   "outputs": [
    {
     "name": "stdout",
     "output_type": "stream",
     "text": [
      "Accuracy = 0.6857789513391173 \n",
      "Confusion Matrix \n",
      "[[ 145  345]\n",
      " [ 488 1673]]\n"
     ]
    }
   ],
   "source": [
    "# calculate accuracy\n",
    "print(\"Accuracy = %s \" %metrics.accuracy_score(Y_test, y_pred_class))\n",
    "print(\"Confusion Matrix \")\n",
    "print(metrics.confusion_matrix(Y_test, y_pred_class))"
   ]
  },
  {
   "cell_type": "code",
   "execution_count": 176,
   "metadata": {},
   "outputs": [
    {
     "name": "stdout",
     "output_type": "stream",
     "text": [
      "ROC-AUC = 0.5588432226199133 \n",
      "F1-Score = 0.8006700167504188 \n"
     ]
    }
   ],
   "source": [
    "y_pred_proba = logreg.predict_proba(X_test)[:, 1]\n",
    "print(\"ROC-AUC = %s \" %metrics.roc_auc_score(Y_test, y_pred_proba))\n",
    "print(\"F1-Score = %s \" %metrics.f1_score(Y_test, y_pred_class))"
   ]
  },
  {
   "cell_type": "code",
   "execution_count": 177,
   "metadata": {},
   "outputs": [
    {
     "data": {
      "text/plain": [
       "<Figure size 576x576 with 0 Axes>"
      ]
     },
     "execution_count": 177,
     "metadata": {},
     "output_type": "execute_result"
    },
    {
     "data": {
      "text/plain": [
       "[<matplotlib.lines.Line2D at 0x1a30ea5e10>]"
      ]
     },
     "execution_count": 177,
     "metadata": {},
     "output_type": "execute_result"
    },
    {
     "data": {
      "text/plain": [
       "[<matplotlib.lines.Line2D at 0x1a30ee27f0>]"
      ]
     },
     "execution_count": 177,
     "metadata": {},
     "output_type": "execute_result"
    },
    {
     "data": {
      "text/plain": [
       "(0.0, 1.0)"
      ]
     },
     "execution_count": 177,
     "metadata": {},
     "output_type": "execute_result"
    },
    {
     "data": {
      "text/plain": [
       "(0.0, 1.0)"
      ]
     },
     "execution_count": 177,
     "metadata": {},
     "output_type": "execute_result"
    },
    {
     "data": {
      "text/plain": [
       "Text(0.5, 1.0, 'ROC curve for Food Inspection Classifier')"
      ]
     },
     "execution_count": 177,
     "metadata": {},
     "output_type": "execute_result"
    },
    {
     "data": {
      "text/plain": [
       "Text(0.5, 0, 'False Positive Rate (1 - Specificity)')"
      ]
     },
     "execution_count": 177,
     "metadata": {},
     "output_type": "execute_result"
    },
    {
     "data": {
      "text/plain": [
       "Text(0, 0.5, 'True Positive Rate (Sensitivity)')"
      ]
     },
     "execution_count": 177,
     "metadata": {},
     "output_type": "execute_result"
    },
    {
     "data": {
      "text/plain": [
       "<matplotlib.legend.Legend at 0x1a30edc940>"
      ]
     },
     "execution_count": 177,
     "metadata": {},
     "output_type": "execute_result"
    },
    {
     "data": {
      "image/png": "[encoded data removed]",
      "text/plain": [
       "<Figure size 576x576 with 1 Axes>"
      ]
     },
     "metadata": {
      "needs_background": "light"
     },
     "output_type": "display_data"
    }
   ],
   "source": [
    "plt.figure(figsize=(8,8))\n",
    "fpr, tpr, thresholds = metrics.roc_curve(Y_test, y_pred_proba)\n",
    "plt.plot(fpr, tpr, label='Logistic Regression (area = %0.2f)' % metrics.roc_auc_score(Y_test, y_pred_class))\n",
    "plt.plot([0, 1], [0, 1],'r--')\n",
    "plt.xlim([0.0, 1.0])\n",
    "plt.ylim([0.0, 1.0])\n",
    "plt.rcParams['font.size'] = 12\n",
    "plt.title('ROC curve for Food Inspection Classifier')\n",
    "plt.xlabel('False Positive Rate (1 - Specificity)')\n",
    "plt.ylabel('True Positive Rate (Sensitivity)')\n",
    "plt.legend(loc=\"lower right\")\n",
    "plt.grid(True)\n",
    "plt.show()"
   ]
  },
  {
   "cell_type": "code",
   "execution_count": null,
   "metadata": {},
   "outputs": [],
   "source": []
  },
  {
   "cell_type": "code",
   "execution_count": 185,
   "metadata": {},
   "outputs": [
    {
     "name": "stdout",
     "output_type": "stream",
     "text": [
      "DecisionTreeClassifier(class_weight=None, criterion='gini', max_depth=4,\n",
      "            max_features=None, max_leaf_nodes=None,\n",
      "            min_impurity_decrease=0.0, min_impurity_split=None,\n",
      "            min_samples_leaf=1, min_samples_split=2,\n",
      "            min_weight_fraction_leaf=0.0, presort=False, random_state=None,\n",
      "            splitter='best')\n",
      "Accuracy = 0.8091286307053942 \n",
      "F1 Score = 0.8940979489326079 \n",
      "ROC-AUC Score = 0.5806146058608542 \n"
     ]
    }
   ],
   "source": [
    "dt = DecisionTreeClassifier(max_depth = 4)\n",
    "print(dt)\n",
    "dt = dt.fit(X_train, Y_train)\n",
    "dt_y_pred_test = dt.predict(X_test)\n",
    "dt_y_pred_test_proba = dt.predict_proba(X_test)[:, 1]\n",
    "print(\"Accuracy = %s \" % metrics.accuracy_score(Y_test, dt_y_pred_test))\n",
    "print(\"F1 Score = %s \" %metrics.f1_score(Y_test, dt_y_pred_test))\n",
    "print(\"ROC-AUC Score = %s \"%metrics.roc_auc_score(Y_test, dt_y_pred_test_proba))"
   ]
  },
  {
   "cell_type": "code",
   "execution_count": 186,
   "metadata": {},
   "outputs": [
    {
     "data": {
      "text/plain": [
       "<Figure size 576x576 with 0 Axes>"
      ]
     },
     "execution_count": 186,
     "metadata": {},
     "output_type": "execute_result"
    },
    {
     "data": {
      "text/plain": [
       "[<matplotlib.lines.Line2D at 0x1a30e58940>]"
      ]
     },
     "execution_count": 186,
     "metadata": {},
     "output_type": "execute_result"
    },
    {
     "data": {
      "text/plain": [
       "[<matplotlib.lines.Line2D at 0x1a30e61ef0>]"
      ]
     },
     "execution_count": 186,
     "metadata": {},
     "output_type": "execute_result"
    },
    {
     "data": {
      "text/plain": [
       "(0.0, 1.0)"
      ]
     },
     "execution_count": 186,
     "metadata": {},
     "output_type": "execute_result"
    },
    {
     "data": {
      "text/plain": [
       "(0.0, 1.0)"
      ]
     },
     "execution_count": 186,
     "metadata": {},
     "output_type": "execute_result"
    },
    {
     "data": {
      "text/plain": [
       "Text(0.5, 1.0, 'ROC curve for Decision Tree')"
      ]
     },
     "execution_count": 186,
     "metadata": {},
     "output_type": "execute_result"
    },
    {
     "data": {
      "text/plain": [
       "Text(0.5, 0, 'False Positive Rate (1 - Specificity)')"
      ]
     },
     "execution_count": 186,
     "metadata": {},
     "output_type": "execute_result"
    },
    {
     "data": {
      "text/plain": [
       "Text(0, 0.5, 'True Positive Rate (Sensitivity)')"
      ]
     },
     "execution_count": 186,
     "metadata": {},
     "output_type": "execute_result"
    },
    {
     "data": {
      "text/plain": [
       "<matplotlib.legend.Legend at 0x1a30e61710>"
      ]
     },
     "execution_count": 186,
     "metadata": {},
     "output_type": "execute_result"
    },
    {
     "data": {
      "image/png": "[encoded data removed]",
      "text/plain": [
       "<Figure size 576x576 with 1 Axes>"
      ]
     },
     "metadata": {
      "needs_background": "light"
     },
     "output_type": "display_data"
    }
   ],
   "source": [
    "plt.figure(figsize=(8,8))\n",
    "fpr, tpr, thresholds = metrics.roc_curve(Y_test, dt_y_pred_test_proba)\n",
    "plt.plot(fpr, tpr, label='Decision Tree (area = %0.2f)' % metrics.roc_auc_score(Y_test, dt_y_pred_test_proba))\n",
    "plt.plot([0, 1], [0, 1],'r--')\n",
    "plt.xlim([0.0, 1.0])\n",
    "plt.ylim([0.0, 1.0])\n",
    "plt.rcParams['font.size'] = 12\n",
    "plt.title('ROC curve for Decision Tree')\n",
    "plt.xlabel('False Positive Rate (1 - Specificity)')\n",
    "plt.ylabel('True Positive Rate (Sensitivity)')\n",
    "plt.legend(loc=\"lower right\")\n",
    "plt.grid(True)\n",
    "plt.show()"
   ]
  },
  {
   "cell_type": "markdown",
   "metadata": {},
   "source": [
    "## Random Forest"
   ]
  },
  {
   "cell_type": "code",
   "execution_count": 187,
   "metadata": {},
   "outputs": [
    {
     "data": {
      "text/plain": [
       "RandomForestClassifier(bootstrap=True, class_weight=None, criterion='gini',\n",
       "            max_depth=None, max_features='auto', max_leaf_nodes=None,\n",
       "            min_impurity_decrease=0.0, min_impurity_split=None,\n",
       "            min_samples_leaf=1, min_samples_split=2,\n",
       "            min_weight_fraction_leaf=0.0, n_estimators=1, n_jobs=-1,\n",
       "            oob_score=False, random_state=None, verbose=0,\n",
       "            warm_start=False)"
      ]
     },
     "execution_count": 187,
     "metadata": {},
     "output_type": "execute_result"
    },
    {
     "data": {
      "text/plain": [
       "RandomForestClassifier(bootstrap=True, class_weight=None, criterion='gini',\n",
       "            max_depth=None, max_features='auto', max_leaf_nodes=None,\n",
       "            min_impurity_decrease=0.0, min_impurity_split=None,\n",
       "            min_samples_leaf=1, min_samples_split=2,\n",
       "            min_weight_fraction_leaf=0.0, n_estimators=3, n_jobs=-1,\n",
       "            oob_score=False, random_state=None, verbose=0,\n",
       "            warm_start=False)"
      ]
     },
     "execution_count": 187,
     "metadata": {},
     "output_type": "execute_result"
    },
    {
     "data": {
      "text/plain": [
       "RandomForestClassifier(bootstrap=True, class_weight=None, criterion='gini',\n",
       "            max_depth=None, max_features='auto', max_leaf_nodes=None,\n",
       "            min_impurity_decrease=0.0, min_impurity_split=None,\n",
       "            min_samples_leaf=1, min_samples_split=2,\n",
       "            min_weight_fraction_leaf=0.0, n_estimators=5, n_jobs=-1,\n",
       "            oob_score=False, random_state=None, verbose=0,\n",
       "            warm_start=False)"
      ]
     },
     "execution_count": 187,
     "metadata": {},
     "output_type": "execute_result"
    },
    {
     "data": {
      "text/plain": [
       "RandomForestClassifier(bootstrap=True, class_weight=None, criterion='gini',\n",
       "            max_depth=None, max_features='auto', max_leaf_nodes=None,\n",
       "            min_impurity_decrease=0.0, min_impurity_split=None,\n",
       "            min_samples_leaf=1, min_samples_split=2,\n",
       "            min_weight_fraction_leaf=0.0, n_estimators=7, n_jobs=-1,\n",
       "            oob_score=False, random_state=None, verbose=0,\n",
       "            warm_start=False)"
      ]
     },
     "execution_count": 187,
     "metadata": {},
     "output_type": "execute_result"
    },
    {
     "data": {
      "text/plain": [
       "RandomForestClassifier(bootstrap=True, class_weight=None, criterion='gini',\n",
       "            max_depth=None, max_features='auto', max_leaf_nodes=None,\n",
       "            min_impurity_decrease=0.0, min_impurity_split=None,\n",
       "            min_samples_leaf=1, min_samples_split=2,\n",
       "            min_weight_fraction_leaf=0.0, n_estimators=9, n_jobs=-1,\n",
       "            oob_score=False, random_state=None, verbose=0,\n",
       "            warm_start=False)"
      ]
     },
     "execution_count": 187,
     "metadata": {},
     "output_type": "execute_result"
    },
    {
     "data": {
      "text/plain": [
       "RandomForestClassifier(bootstrap=True, class_weight=None, criterion='gini',\n",
       "            max_depth=None, max_features='auto', max_leaf_nodes=None,\n",
       "            min_impurity_decrease=0.0, min_impurity_split=None,\n",
       "            min_samples_leaf=1, min_samples_split=2,\n",
       "            min_weight_fraction_leaf=0.0, n_estimators=11, n_jobs=-1,\n",
       "            oob_score=False, random_state=None, verbose=0,\n",
       "            warm_start=False)"
      ]
     },
     "execution_count": 187,
     "metadata": {},
     "output_type": "execute_result"
    },
    {
     "data": {
      "text/plain": [
       "RandomForestClassifier(bootstrap=True, class_weight=None, criterion='gini',\n",
       "            max_depth=None, max_features='auto', max_leaf_nodes=None,\n",
       "            min_impurity_decrease=0.0, min_impurity_split=None,\n",
       "            min_samples_leaf=1, min_samples_split=2,\n",
       "            min_weight_fraction_leaf=0.0, n_estimators=13, n_jobs=-1,\n",
       "            oob_score=False, random_state=None, verbose=0,\n",
       "            warm_start=False)"
      ]
     },
     "execution_count": 187,
     "metadata": {},
     "output_type": "execute_result"
    },
    {
     "data": {
      "text/plain": [
       "RandomForestClassifier(bootstrap=True, class_weight=None, criterion='gini',\n",
       "            max_depth=None, max_features='auto', max_leaf_nodes=None,\n",
       "            min_impurity_decrease=0.0, min_impurity_split=None,\n",
       "            min_samples_leaf=1, min_samples_split=2,\n",
       "            min_weight_fraction_leaf=0.0, n_estimators=15, n_jobs=-1,\n",
       "            oob_score=False, random_state=None, verbose=0,\n",
       "            warm_start=False)"
      ]
     },
     "execution_count": 187,
     "metadata": {},
     "output_type": "execute_result"
    },
    {
     "data": {
      "text/plain": [
       "RandomForestClassifier(bootstrap=True, class_weight=None, criterion='gini',\n",
       "            max_depth=None, max_features='auto', max_leaf_nodes=None,\n",
       "            min_impurity_decrease=0.0, min_impurity_split=None,\n",
       "            min_samples_leaf=1, min_samples_split=2,\n",
       "            min_weight_fraction_leaf=0.0, n_estimators=17, n_jobs=-1,\n",
       "            oob_score=False, random_state=None, verbose=0,\n",
       "            warm_start=False)"
      ]
     },
     "execution_count": 187,
     "metadata": {},
     "output_type": "execute_result"
    },
    {
     "data": {
      "text/plain": [
       "RandomForestClassifier(bootstrap=True, class_weight=None, criterion='gini',\n",
       "            max_depth=None, max_features='auto', max_leaf_nodes=None,\n",
       "            min_impurity_decrease=0.0, min_impurity_split=None,\n",
       "            min_samples_leaf=1, min_samples_split=2,\n",
       "            min_weight_fraction_leaf=0.0, n_estimators=19, n_jobs=-1,\n",
       "            oob_score=False, random_state=None, verbose=0,\n",
       "            warm_start=False)"
      ]
     },
     "execution_count": 187,
     "metadata": {},
     "output_type": "execute_result"
    },
    {
     "data": {
      "text/plain": [
       "RandomForestClassifier(bootstrap=True, class_weight=None, criterion='gini',\n",
       "            max_depth=None, max_features='auto', max_leaf_nodes=None,\n",
       "            min_impurity_decrease=0.0, min_impurity_split=None,\n",
       "            min_samples_leaf=1, min_samples_split=2,\n",
       "            min_weight_fraction_leaf=0.0, n_estimators=21, n_jobs=-1,\n",
       "            oob_score=False, random_state=None, verbose=0,\n",
       "            warm_start=False)"
      ]
     },
     "execution_count": 187,
     "metadata": {},
     "output_type": "execute_result"
    },
    {
     "data": {
      "text/plain": [
       "RandomForestClassifier(bootstrap=True, class_weight=None, criterion='gini',\n",
       "            max_depth=None, max_features='auto', max_leaf_nodes=None,\n",
       "            min_impurity_decrease=0.0, min_impurity_split=None,\n",
       "            min_samples_leaf=1, min_samples_split=2,\n",
       "            min_weight_fraction_leaf=0.0, n_estimators=23, n_jobs=-1,\n",
       "            oob_score=False, random_state=None, verbose=0,\n",
       "            warm_start=False)"
      ]
     },
     "execution_count": 187,
     "metadata": {},
     "output_type": "execute_result"
    },
    {
     "data": {
      "text/plain": [
       "RandomForestClassifier(bootstrap=True, class_weight=None, criterion='gini',\n",
       "            max_depth=None, max_features='auto', max_leaf_nodes=None,\n",
       "            min_impurity_decrease=0.0, min_impurity_split=None,\n",
       "            min_samples_leaf=1, min_samples_split=2,\n",
       "            min_weight_fraction_leaf=0.0, n_estimators=25, n_jobs=-1,\n",
       "            oob_score=False, random_state=None, verbose=0,\n",
       "            warm_start=False)"
      ]
     },
     "execution_count": 187,
     "metadata": {},
     "output_type": "execute_result"
    },
    {
     "data": {
      "text/plain": [
       "RandomForestClassifier(bootstrap=True, class_weight=None, criterion='gini',\n",
       "            max_depth=None, max_features='auto', max_leaf_nodes=None,\n",
       "            min_impurity_decrease=0.0, min_impurity_split=None,\n",
       "            min_samples_leaf=1, min_samples_split=2,\n",
       "            min_weight_fraction_leaf=0.0, n_estimators=27, n_jobs=-1,\n",
       "            oob_score=False, random_state=None, verbose=0,\n",
       "            warm_start=False)"
      ]
     },
     "execution_count": 187,
     "metadata": {},
     "output_type": "execute_result"
    },
    {
     "data": {
      "text/plain": [
       "RandomForestClassifier(bootstrap=True, class_weight=None, criterion='gini',\n",
       "            max_depth=None, max_features='auto', max_leaf_nodes=None,\n",
       "            min_impurity_decrease=0.0, min_impurity_split=None,\n",
       "            min_samples_leaf=1, min_samples_split=2,\n",
       "            min_weight_fraction_leaf=0.0, n_estimators=29, n_jobs=-1,\n",
       "            oob_score=False, random_state=None, verbose=0,\n",
       "            warm_start=False)"
      ]
     },
     "execution_count": 187,
     "metadata": {},
     "output_type": "execute_result"
    },
    {
     "data": {
      "text/plain": [
       "RandomForestClassifier(bootstrap=True, class_weight=None, criterion='gini',\n",
       "            max_depth=None, max_features='auto', max_leaf_nodes=None,\n",
       "            min_impurity_decrease=0.0, min_impurity_split=None,\n",
       "            min_samples_leaf=1, min_samples_split=2,\n",
       "            min_weight_fraction_leaf=0.0, n_estimators=31, n_jobs=-1,\n",
       "            oob_score=False, random_state=None, verbose=0,\n",
       "            warm_start=False)"
      ]
     },
     "execution_count": 187,
     "metadata": {},
     "output_type": "execute_result"
    },
    {
     "data": {
      "text/plain": [
       "RandomForestClassifier(bootstrap=True, class_weight=None, criterion='gini',\n",
       "            max_depth=None, max_features='auto', max_leaf_nodes=None,\n",
       "            min_impurity_decrease=0.0, min_impurity_split=None,\n",
       "            min_samples_leaf=1, min_samples_split=2,\n",
       "            min_weight_fraction_leaf=0.0, n_estimators=33, n_jobs=-1,\n",
       "            oob_score=False, random_state=None, verbose=0,\n",
       "            warm_start=False)"
      ]
     },
     "execution_count": 187,
     "metadata": {},
     "output_type": "execute_result"
    },
    {
     "data": {
      "text/plain": [
       "RandomForestClassifier(bootstrap=True, class_weight=None, criterion='gini',\n",
       "            max_depth=None, max_features='auto', max_leaf_nodes=None,\n",
       "            min_impurity_decrease=0.0, min_impurity_split=None,\n",
       "            min_samples_leaf=1, min_samples_split=2,\n",
       "            min_weight_fraction_leaf=0.0, n_estimators=35, n_jobs=-1,\n",
       "            oob_score=False, random_state=None, verbose=0,\n",
       "            warm_start=False)"
      ]
     },
     "execution_count": 187,
     "metadata": {},
     "output_type": "execute_result"
    },
    {
     "data": {
      "text/plain": [
       "RandomForestClassifier(bootstrap=True, class_weight=None, criterion='gini',\n",
       "            max_depth=None, max_features='auto', max_leaf_nodes=None,\n",
       "            min_impurity_decrease=0.0, min_impurity_split=None,\n",
       "            min_samples_leaf=1, min_samples_split=2,\n",
       "            min_weight_fraction_leaf=0.0, n_estimators=37, n_jobs=-1,\n",
       "            oob_score=False, random_state=None, verbose=0,\n",
       "            warm_start=False)"
      ]
     },
     "execution_count": 187,
     "metadata": {},
     "output_type": "execute_result"
    },
    {
     "data": {
      "text/plain": [
       "RandomForestClassifier(bootstrap=True, class_weight=None, criterion='gini',\n",
       "            max_depth=None, max_features='auto', max_leaf_nodes=None,\n",
       "            min_impurity_decrease=0.0, min_impurity_split=None,\n",
       "            min_samples_leaf=1, min_samples_split=2,\n",
       "            min_weight_fraction_leaf=0.0, n_estimators=39, n_jobs=-1,\n",
       "            oob_score=False, random_state=None, verbose=0,\n",
       "            warm_start=False)"
      ]
     },
     "execution_count": 187,
     "metadata": {},
     "output_type": "execute_result"
    },
    {
     "data": {
      "text/plain": [
       "RandomForestClassifier(bootstrap=True, class_weight=None, criterion='gini',\n",
       "            max_depth=None, max_features='auto', max_leaf_nodes=None,\n",
       "            min_impurity_decrease=0.0, min_impurity_split=None,\n",
       "            min_samples_leaf=1, min_samples_split=2,\n",
       "            min_weight_fraction_leaf=0.0, n_estimators=41, n_jobs=-1,\n",
       "            oob_score=False, random_state=None, verbose=0,\n",
       "            warm_start=False)"
      ]
     },
     "execution_count": 187,
     "metadata": {},
     "output_type": "execute_result"
    },
    {
     "data": {
      "text/plain": [
       "RandomForestClassifier(bootstrap=True, class_weight=None, criterion='gini',\n",
       "            max_depth=None, max_features='auto', max_leaf_nodes=None,\n",
       "            min_impurity_decrease=0.0, min_impurity_split=None,\n",
       "            min_samples_leaf=1, min_samples_split=2,\n",
       "            min_weight_fraction_leaf=0.0, n_estimators=43, n_jobs=-1,\n",
       "            oob_score=False, random_state=None, verbose=0,\n",
       "            warm_start=False)"
      ]
     },
     "execution_count": 187,
     "metadata": {},
     "output_type": "execute_result"
    },
    {
     "data": {
      "text/plain": [
       "RandomForestClassifier(bootstrap=True, class_weight=None, criterion='gini',\n",
       "            max_depth=None, max_features='auto', max_leaf_nodes=None,\n",
       "            min_impurity_decrease=0.0, min_impurity_split=None,\n",
       "            min_samples_leaf=1, min_samples_split=2,\n",
       "            min_weight_fraction_leaf=0.0, n_estimators=45, n_jobs=-1,\n",
       "            oob_score=False, random_state=None, verbose=0,\n",
       "            warm_start=False)"
      ]
     },
     "execution_count": 187,
     "metadata": {},
     "output_type": "execute_result"
    },
    {
     "data": {
      "text/plain": [
       "RandomForestClassifier(bootstrap=True, class_weight=None, criterion='gini',\n",
       "            max_depth=None, max_features='auto', max_leaf_nodes=None,\n",
       "            min_impurity_decrease=0.0, min_impurity_split=None,\n",
       "            min_samples_leaf=1, min_samples_split=2,\n",
       "            min_weight_fraction_leaf=0.0, n_estimators=47, n_jobs=-1,\n",
       "            oob_score=False, random_state=None, verbose=0,\n",
       "            warm_start=False)"
      ]
     },
     "execution_count": 187,
     "metadata": {},
     "output_type": "execute_result"
    },
    {
     "data": {
      "text/plain": [
       "RandomForestClassifier(bootstrap=True, class_weight=None, criterion='gini',\n",
       "            max_depth=None, max_features='auto', max_leaf_nodes=None,\n",
       "            min_impurity_decrease=0.0, min_impurity_split=None,\n",
       "            min_samples_leaf=1, min_samples_split=2,\n",
       "            min_weight_fraction_leaf=0.0, n_estimators=49, n_jobs=-1,\n",
       "            oob_score=False, random_state=None, verbose=0,\n",
       "            warm_start=False)"
      ]
     },
     "execution_count": 187,
     "metadata": {},
     "output_type": "execute_result"
    },
    {
     "data": {
      "text/plain": [
       "RandomForestClassifier(bootstrap=True, class_weight=None, criterion='gini',\n",
       "            max_depth=None, max_features='auto', max_leaf_nodes=None,\n",
       "            min_impurity_decrease=0.0, min_impurity_split=None,\n",
       "            min_samples_leaf=1, min_samples_split=2,\n",
       "            min_weight_fraction_leaf=0.0, n_estimators=51, n_jobs=-1,\n",
       "            oob_score=False, random_state=None, verbose=0,\n",
       "            warm_start=False)"
      ]
     },
     "execution_count": 187,
     "metadata": {},
     "output_type": "execute_result"
    },
    {
     "data": {
      "text/plain": [
       "RandomForestClassifier(bootstrap=True, class_weight=None, criterion='gini',\n",
       "            max_depth=None, max_features='auto', max_leaf_nodes=None,\n",
       "            min_impurity_decrease=0.0, min_impurity_split=None,\n",
       "            min_samples_leaf=1, min_samples_split=2,\n",
       "            min_weight_fraction_leaf=0.0, n_estimators=53, n_jobs=-1,\n",
       "            oob_score=False, random_state=None, verbose=0,\n",
       "            warm_start=False)"
      ]
     },
     "execution_count": 187,
     "metadata": {},
     "output_type": "execute_result"
    },
    {
     "data": {
      "text/plain": [
       "RandomForestClassifier(bootstrap=True, class_weight=None, criterion='gini',\n",
       "            max_depth=None, max_features='auto', max_leaf_nodes=None,\n",
       "            min_impurity_decrease=0.0, min_impurity_split=None,\n",
       "            min_samples_leaf=1, min_samples_split=2,\n",
       "            min_weight_fraction_leaf=0.0, n_estimators=55, n_jobs=-1,\n",
       "            oob_score=False, random_state=None, verbose=0,\n",
       "            warm_start=False)"
      ]
     },
     "execution_count": 187,
     "metadata": {},
     "output_type": "execute_result"
    },
    {
     "data": {
      "text/plain": [
       "RandomForestClassifier(bootstrap=True, class_weight=None, criterion='gini',\n",
       "            max_depth=None, max_features='auto', max_leaf_nodes=None,\n",
       "            min_impurity_decrease=0.0, min_impurity_split=None,\n",
       "            min_samples_leaf=1, min_samples_split=2,\n",
       "            min_weight_fraction_leaf=0.0, n_estimators=57, n_jobs=-1,\n",
       "            oob_score=False, random_state=None, verbose=0,\n",
       "            warm_start=False)"
      ]
     },
     "execution_count": 187,
     "metadata": {},
     "output_type": "execute_result"
    },
    {
     "data": {
      "text/plain": [
       "RandomForestClassifier(bootstrap=True, class_weight=None, criterion='gini',\n",
       "            max_depth=None, max_features='auto', max_leaf_nodes=None,\n",
       "            min_impurity_decrease=0.0, min_impurity_split=None,\n",
       "            min_samples_leaf=1, min_samples_split=2,\n",
       "            min_weight_fraction_leaf=0.0, n_estimators=59, n_jobs=-1,\n",
       "            oob_score=False, random_state=None, verbose=0,\n",
       "            warm_start=False)"
      ]
     },
     "execution_count": 187,
     "metadata": {},
     "output_type": "execute_result"
    },
    {
     "data": {
      "text/plain": [
       "RandomForestClassifier(bootstrap=True, class_weight=None, criterion='gini',\n",
       "            max_depth=None, max_features='auto', max_leaf_nodes=None,\n",
       "            min_impurity_decrease=0.0, min_impurity_split=None,\n",
       "            min_samples_leaf=1, min_samples_split=2,\n",
       "            min_weight_fraction_leaf=0.0, n_estimators=61, n_jobs=-1,\n",
       "            oob_score=False, random_state=None, verbose=0,\n",
       "            warm_start=False)"
      ]
     },
     "execution_count": 187,
     "metadata": {},
     "output_type": "execute_result"
    },
    {
     "data": {
      "text/plain": [
       "RandomForestClassifier(bootstrap=True, class_weight=None, criterion='gini',\n",
       "            max_depth=None, max_features='auto', max_leaf_nodes=None,\n",
       "            min_impurity_decrease=0.0, min_impurity_split=None,\n",
       "            min_samples_leaf=1, min_samples_split=2,\n",
       "            min_weight_fraction_leaf=0.0, n_estimators=63, n_jobs=-1,\n",
       "            oob_score=False, random_state=None, verbose=0,\n",
       "            warm_start=False)"
      ]
     },
     "execution_count": 187,
     "metadata": {},
     "output_type": "execute_result"
    },
    {
     "data": {
      "text/plain": [
       "RandomForestClassifier(bootstrap=True, class_weight=None, criterion='gini',\n",
       "            max_depth=None, max_features='auto', max_leaf_nodes=None,\n",
       "            min_impurity_decrease=0.0, min_impurity_split=None,\n",
       "            min_samples_leaf=1, min_samples_split=2,\n",
       "            min_weight_fraction_leaf=0.0, n_estimators=65, n_jobs=-1,\n",
       "            oob_score=False, random_state=None, verbose=0,\n",
       "            warm_start=False)"
      ]
     },
     "execution_count": 187,
     "metadata": {},
     "output_type": "execute_result"
    },
    {
     "data": {
      "text/plain": [
       "RandomForestClassifier(bootstrap=True, class_weight=None, criterion='gini',\n",
       "            max_depth=None, max_features='auto', max_leaf_nodes=None,\n",
       "            min_impurity_decrease=0.0, min_impurity_split=None,\n",
       "            min_samples_leaf=1, min_samples_split=2,\n",
       "            min_weight_fraction_leaf=0.0, n_estimators=67, n_jobs=-1,\n",
       "            oob_score=False, random_state=None, verbose=0,\n",
       "            warm_start=False)"
      ]
     },
     "execution_count": 187,
     "metadata": {},
     "output_type": "execute_result"
    },
    {
     "data": {
      "text/plain": [
       "RandomForestClassifier(bootstrap=True, class_weight=None, criterion='gini',\n",
       "            max_depth=None, max_features='auto', max_leaf_nodes=None,\n",
       "            min_impurity_decrease=0.0, min_impurity_split=None,\n",
       "            min_samples_leaf=1, min_samples_split=2,\n",
       "            min_weight_fraction_leaf=0.0, n_estimators=69, n_jobs=-1,\n",
       "            oob_score=False, random_state=None, verbose=0,\n",
       "            warm_start=False)"
      ]
     },
     "execution_count": 187,
     "metadata": {},
     "output_type": "execute_result"
    },
    {
     "data": {
      "text/plain": [
       "RandomForestClassifier(bootstrap=True, class_weight=None, criterion='gini',\n",
       "            max_depth=None, max_features='auto', max_leaf_nodes=None,\n",
       "            min_impurity_decrease=0.0, min_impurity_split=None,\n",
       "            min_samples_leaf=1, min_samples_split=2,\n",
       "            min_weight_fraction_leaf=0.0, n_estimators=71, n_jobs=-1,\n",
       "            oob_score=False, random_state=None, verbose=0,\n",
       "            warm_start=False)"
      ]
     },
     "execution_count": 187,
     "metadata": {},
     "output_type": "execute_result"
    },
    {
     "data": {
      "text/plain": [
       "RandomForestClassifier(bootstrap=True, class_weight=None, criterion='gini',\n",
       "            max_depth=None, max_features='auto', max_leaf_nodes=None,\n",
       "            min_impurity_decrease=0.0, min_impurity_split=None,\n",
       "            min_samples_leaf=1, min_samples_split=2,\n",
       "            min_weight_fraction_leaf=0.0, n_estimators=73, n_jobs=-1,\n",
       "            oob_score=False, random_state=None, verbose=0,\n",
       "            warm_start=False)"
      ]
     },
     "execution_count": 187,
     "metadata": {},
     "output_type": "execute_result"
    },
    {
     "data": {
      "text/plain": [
       "RandomForestClassifier(bootstrap=True, class_weight=None, criterion='gini',\n",
       "            max_depth=None, max_features='auto', max_leaf_nodes=None,\n",
       "            min_impurity_decrease=0.0, min_impurity_split=None,\n",
       "            min_samples_leaf=1, min_samples_split=2,\n",
       "            min_weight_fraction_leaf=0.0, n_estimators=75, n_jobs=-1,\n",
       "            oob_score=False, random_state=None, verbose=0,\n",
       "            warm_start=False)"
      ]
     },
     "execution_count": 187,
     "metadata": {},
     "output_type": "execute_result"
    },
    {
     "data": {
      "text/plain": [
       "RandomForestClassifier(bootstrap=True, class_weight=None, criterion='gini',\n",
       "            max_depth=None, max_features='auto', max_leaf_nodes=None,\n",
       "            min_impurity_decrease=0.0, min_impurity_split=None,\n",
       "            min_samples_leaf=1, min_samples_split=2,\n",
       "            min_weight_fraction_leaf=0.0, n_estimators=77, n_jobs=-1,\n",
       "            oob_score=False, random_state=None, verbose=0,\n",
       "            warm_start=False)"
      ]
     },
     "execution_count": 187,
     "metadata": {},
     "output_type": "execute_result"
    },
    {
     "data": {
      "text/plain": [
       "RandomForestClassifier(bootstrap=True, class_weight=None, criterion='gini',\n",
       "            max_depth=None, max_features='auto', max_leaf_nodes=None,\n",
       "            min_impurity_decrease=0.0, min_impurity_split=None,\n",
       "            min_samples_leaf=1, min_samples_split=2,\n",
       "            min_weight_fraction_leaf=0.0, n_estimators=79, n_jobs=-1,\n",
       "            oob_score=False, random_state=None, verbose=0,\n",
       "            warm_start=False)"
      ]
     },
     "execution_count": 187,
     "metadata": {},
     "output_type": "execute_result"
    },
    {
     "data": {
      "text/plain": [
       "RandomForestClassifier(bootstrap=True, class_weight=None, criterion='gini',\n",
       "            max_depth=None, max_features='auto', max_leaf_nodes=None,\n",
       "            min_impurity_decrease=0.0, min_impurity_split=None,\n",
       "            min_samples_leaf=1, min_samples_split=2,\n",
       "            min_weight_fraction_leaf=0.0, n_estimators=81, n_jobs=-1,\n",
       "            oob_score=False, random_state=None, verbose=0,\n",
       "            warm_start=False)"
      ]
     },
     "execution_count": 187,
     "metadata": {},
     "output_type": "execute_result"
    },
    {
     "data": {
      "text/plain": [
       "RandomForestClassifier(bootstrap=True, class_weight=None, criterion='gini',\n",
       "            max_depth=None, max_features='auto', max_leaf_nodes=None,\n",
       "            min_impurity_decrease=0.0, min_impurity_split=None,\n",
       "            min_samples_leaf=1, min_samples_split=2,\n",
       "            min_weight_fraction_leaf=0.0, n_estimators=83, n_jobs=-1,\n",
       "            oob_score=False, random_state=None, verbose=0,\n",
       "            warm_start=False)"
      ]
     },
     "execution_count": 187,
     "metadata": {},
     "output_type": "execute_result"
    },
    {
     "data": {
      "text/plain": [
       "RandomForestClassifier(bootstrap=True, class_weight=None, criterion='gini',\n",
       "            max_depth=None, max_features='auto', max_leaf_nodes=None,\n",
       "            min_impurity_decrease=0.0, min_impurity_split=None,\n",
       "            min_samples_leaf=1, min_samples_split=2,\n",
       "            min_weight_fraction_leaf=0.0, n_estimators=85, n_jobs=-1,\n",
       "            oob_score=False, random_state=None, verbose=0,\n",
       "            warm_start=False)"
      ]
     },
     "execution_count": 187,
     "metadata": {},
     "output_type": "execute_result"
    },
    {
     "data": {
      "text/plain": [
       "RandomForestClassifier(bootstrap=True, class_weight=None, criterion='gini',\n",
       "            max_depth=None, max_features='auto', max_leaf_nodes=None,\n",
       "            min_impurity_decrease=0.0, min_impurity_split=None,\n",
       "            min_samples_leaf=1, min_samples_split=2,\n",
       "            min_weight_fraction_leaf=0.0, n_estimators=87, n_jobs=-1,\n",
       "            oob_score=False, random_state=None, verbose=0,\n",
       "            warm_start=False)"
      ]
     },
     "execution_count": 187,
     "metadata": {},
     "output_type": "execute_result"
    },
    {
     "data": {
      "text/plain": [
       "RandomForestClassifier(bootstrap=True, class_weight=None, criterion='gini',\n",
       "            max_depth=None, max_features='auto', max_leaf_nodes=None,\n",
       "            min_impurity_decrease=0.0, min_impurity_split=None,\n",
       "            min_samples_leaf=1, min_samples_split=2,\n",
       "            min_weight_fraction_leaf=0.0, n_estimators=89, n_jobs=-1,\n",
       "            oob_score=False, random_state=None, verbose=0,\n",
       "            warm_start=False)"
      ]
     },
     "execution_count": 187,
     "metadata": {},
     "output_type": "execute_result"
    },
    {
     "data": {
      "text/plain": [
       "RandomForestClassifier(bootstrap=True, class_weight=None, criterion='gini',\n",
       "            max_depth=None, max_features='auto', max_leaf_nodes=None,\n",
       "            min_impurity_decrease=0.0, min_impurity_split=None,\n",
       "            min_samples_leaf=1, min_samples_split=2,\n",
       "            min_weight_fraction_leaf=0.0, n_estimators=91, n_jobs=-1,\n",
       "            oob_score=False, random_state=None, verbose=0,\n",
       "            warm_start=False)"
      ]
     },
     "execution_count": 187,
     "metadata": {},
     "output_type": "execute_result"
    },
    {
     "data": {
      "text/plain": [
       "RandomForestClassifier(bootstrap=True, class_weight=None, criterion='gini',\n",
       "            max_depth=None, max_features='auto', max_leaf_nodes=None,\n",
       "            min_impurity_decrease=0.0, min_impurity_split=None,\n",
       "            min_samples_leaf=1, min_samples_split=2,\n",
       "            min_weight_fraction_leaf=0.0, n_estimators=93, n_jobs=-1,\n",
       "            oob_score=False, random_state=None, verbose=0,\n",
       "            warm_start=False)"
      ]
     },
     "execution_count": 187,
     "metadata": {},
     "output_type": "execute_result"
    },
    {
     "data": {
      "text/plain": [
       "RandomForestClassifier(bootstrap=True, class_weight=None, criterion='gini',\n",
       "            max_depth=None, max_features='auto', max_leaf_nodes=None,\n",
       "            min_impurity_decrease=0.0, min_impurity_split=None,\n",
       "            min_samples_leaf=1, min_samples_split=2,\n",
       "            min_weight_fraction_leaf=0.0, n_estimators=95, n_jobs=-1,\n",
       "            oob_score=False, random_state=None, verbose=0,\n",
       "            warm_start=False)"
      ]
     },
     "execution_count": 187,
     "metadata": {},
     "output_type": "execute_result"
    },
    {
     "data": {
      "text/plain": [
       "RandomForestClassifier(bootstrap=True, class_weight=None, criterion='gini',\n",
       "            max_depth=None, max_features='auto', max_leaf_nodes=None,\n",
       "            min_impurity_decrease=0.0, min_impurity_split=None,\n",
       "            min_samples_leaf=1, min_samples_split=2,\n",
       "            min_weight_fraction_leaf=0.0, n_estimators=97, n_jobs=-1,\n",
       "            oob_score=False, random_state=None, verbose=0,\n",
       "            warm_start=False)"
      ]
     },
     "execution_count": 187,
     "metadata": {},
     "output_type": "execute_result"
    },
    {
     "data": {
      "text/plain": [
       "RandomForestClassifier(bootstrap=True, class_weight=None, criterion='gini',\n",
       "            max_depth=None, max_features='auto', max_leaf_nodes=None,\n",
       "            min_impurity_decrease=0.0, min_impurity_split=None,\n",
       "            min_samples_leaf=1, min_samples_split=2,\n",
       "            min_weight_fraction_leaf=0.0, n_estimators=99, n_jobs=-1,\n",
       "            oob_score=False, random_state=None, verbose=0,\n",
       "            warm_start=False)"
      ]
     },
     "execution_count": 187,
     "metadata": {},
     "output_type": "execute_result"
    },
    {
     "data": {
      "text/plain": [
       "<matplotlib.legend.Legend at 0x1a30e3ef60>"
      ]
     },
     "execution_count": 187,
     "metadata": {},
     "output_type": "execute_result"
    },
    {
     "data": {
      "text/plain": [
       "Text(0, 0.5, 'AUC score')"
      ]
     },
     "execution_count": 187,
     "metadata": {},
     "output_type": "execute_result"
    },
    {
     "data": {
      "text/plain": [
       "Text(0.5, 0, 'n_estimators')"
      ]
     },
     "execution_count": 187,
     "metadata": {},
     "output_type": "execute_result"
    },
    {
     "data": {
      "image/png": "[encoded data removed]",
      "text/plain": [
       "<Figure size 864x360 with 1 Axes>"
      ]
     },
     "metadata": {
      "needs_background": "light"
     },
     "output_type": "display_data"
    }
   ],
   "source": [
    "n_estimators = np.arange(1, 100, 2)\n",
    "train_results = []\n",
    "test_results = []\n",
    "for estimator in n_estimators:\n",
    "   rf = RandomForestClassifier(n_estimators=estimator, n_jobs=-1)\n",
    "   rf.fit(X_train, Y_train)\n",
    "   train_pred_proba = rf.predict_proba(X_train)[:, 1]\n",
    "   false_positive_rate, true_positive_rate, thresholds = roc_curve(Y_train, train_pred_proba)\n",
    "   roc_auc = metrics.roc_auc_score(Y_train, train_pred_proba)\n",
    "   train_results.append(roc_auc)\n",
    "   y_pred_proba = rf.predict_proba(X_test)[:, 1]\n",
    "   false_positive_rate, true_positive_rate, thresholds = roc_curve(Y_test, y_pred_proba)\n",
    "   roc_auc = metrics.roc_auc_score(Y_test, y_pred_proba)\n",
    "   test_results.append(roc_auc)\n",
    "from matplotlib.legend_handler import HandlerLine2D\n",
    "line1, = plt.plot(n_estimators, train_results, 'b', label= 'Train AUC')\n",
    "line2, = plt.plot(n_estimators, test_results, 'r', label= 'Test AUC')\n",
    "plt.legend(handler_map={line1: HandlerLine2D(numpoints=2)})\n",
    "plt.ylabel(\"AUC score\")\n",
    "plt.xlabel(\"n_estimators\")\n",
    "plt.show()"
   ]
  },
  {
   "cell_type": "code",
   "execution_count": 188,
   "metadata": {},
   "outputs": [
    {
     "name": "stdout",
     "output_type": "stream",
     "text": [
      "Accuracy = 0.7506601282534893 \n",
      "F1-Score = 0.8523564887201253 \n",
      "Confusion Matrix\n",
      "[[  82  408]\n",
      " [ 253 1908]]\n"
     ]
    }
   ],
   "source": [
    "clf = RandomForestClassifier(n_estimators = 7)\n",
    "clf = clf.fit(X_train, Y_train)\n",
    "y_pred_rf = clf.predict(X_test)\n",
    "# calculate accuracy\n",
    "print(\"Accuracy = %s \" %metrics.accuracy_score(Y_test, y_pred_rf))\n",
    "print(\"F1-Score = %s \" %metrics.f1_score(Y_test, y_pred_rf))\n",
    "print(\"Confusion Matrix\")\n",
    "print(metrics.confusion_matrix(Y_test, y_pred_rf))"
   ]
  },
  {
   "cell_type": "code",
   "execution_count": 182,
   "metadata": {},
   "outputs": [
    {
     "data": {
      "text/plain": [
       "<matplotlib.axes._subplots.AxesSubplot at 0x1a30f2a710>"
      ]
     },
     "execution_count": 182,
     "metadata": {},
     "output_type": "execute_result"
    },
    {
     "data": {
      "text/plain": [
       "Text(0.5, 0, 'Feature Importance Score')"
      ]
     },
     "execution_count": 182,
     "metadata": {},
     "output_type": "execute_result"
    },
    {
     "data": {
      "image/png": "[encoded data removed]",
      "text/plain": [
       "<Figure size 432x432 with 1 Axes>"
      ]
     },
     "metadata": {
      "needs_background": "light"
     },
     "output_type": "display_data"
    }
   ],
   "source": [
    "feat_imp = pd.DataFrame({'importance':clf.feature_importances_})    \n",
    "feat_imp['feature'] = X_train.columns\n",
    "feat_imp.sort_values(by='importance', ascending=False, inplace=True)\n",
    "feat_imp = feat_imp.iloc[:12]\n",
    "feat_imp.sort_values(by='importance', inplace=True)\n",
    "feat_imp = feat_imp.set_index('feature', drop=True)\n",
    "feat_imp.plot.barh(title=\"Feature Importance\", figsize=(6, 6))\n",
    "plt.xlabel('Feature Importance Score')\n",
    "plt.show()"
   ]
  },
  {
   "cell_type": "code",
   "execution_count": null,
   "metadata": {},
   "outputs": [],
   "source": []
  }
 ],
 "metadata": {
  "kernelspec": {
   "display_name": "Python 3",
   "language": "python",
   "name": "python3"
  },
  "language_info": {
   "codemirror_mode": {
    "name": "ipython",
    "version": 3
   },
   "file_extension": ".py",
   "mimetype": "text/x-python",
   "name": "python",
   "nbconvert_exporter": "python",
   "pygments_lexer": "ipython3",
   "version": "3.7.2"
  }
 },
 "nbformat": 4,
 "nbformat_minor": 2
}
